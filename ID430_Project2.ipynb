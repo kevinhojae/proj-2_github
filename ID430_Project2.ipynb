{
 "cells": [
  {
   "cell_type": "markdown",
   "id": "3d7075a4-7bb6-49a8-81f8-eefd9c965871",
   "metadata": {
    "tags": []
   },
   "source": [
    "# Project 2. Data Visualization and Storytelling\n",
    "The goal is to practice the entire process of EDA and Data Storytelling. You will pick an existing dataset (or create your own), run EDA, and propose a data story.   \n",
    "\n",
    "You might need to attach some images in this notebook. To embed an image in Notebook, \n",
    "1. Create a new cell and set the cell's mode to Markdown\n",
    "2. Drag and drop your image into the cell. It will create command like `![image.png](attachement:image.png)`\n",
    "3. Execute/Run the cell and the image will show up\n",
    "Now the image is actuall embedded in the Notebook and you don't need to worry about separate files."
   ]
  },
  {
   "cell_type": "code",
   "execution_count": 48,
   "id": "01059a0e-67f8-425a-9d2d-e9bd4ddd46a7",
   "metadata": {},
   "outputs": [],
   "source": [
    "# Let's begin with basic information of your project \n",
    "\n",
    "STUDENT_NAME = \"HoJae Lee\"\n",
    "STUDENT_ID = \"20180529\"\n",
    "PROJECT_TITLE = \"Analysis of Data Science Field\""
   ]
  },
  {
   "cell_type": "markdown",
   "id": "dc9d43bf-8523-42ca-8226-5ce08ba125dd",
   "metadata": {
    "tags": []
   },
   "source": [
    "---\n",
    "## PART 1. DATASET"
   ]
  },
  {
   "cell_type": "markdown",
   "id": "b0f2717b-c9d9-4479-8ba8-b3ba37cf2356",
   "metadata": {},
   "source": [
    "## Instruction (You may delete this cell before submission)\n",
    "Find a dataset for the project, which could be\n",
    "- Public dataset (e.g. [Kaggle](https://www.kaggle.com/datasets), [DataQuest](https://www.dataquest.io/blog/free-datasets-for-projects/), [ODSC](https://opendatascience.com/12-excellent-datasets-for-data-visualization-in-2022/), or simply search \"public dataset for visualization project\" on Google\")\n",
    "- Private dataset\n",
    "    - E.g. Data collected from a research project\n",
    "    - E.g. Personal records (e.g. Your own email / calendar / smartwatch dump)\n",
    "    \n",
    "An ideal dataset would have some of the following characteristics:\n",
    "- Containing a good amount of information \n",
    "    - If the dataset contains very few columns (e.g. 2) or rows (e.g. <100), you may not find anything interesting\n",
    "    - Some datasets contain multiple files (i.e. tables) related to each other. You can combine them to get richer information.    \n",
    "- Not too large or complicated \n",
    "    - Some datasets are too large (>1gb) to run most types of analysis. You'd better pass them or focus on part of it. \n",
    "    - Most private datasets are not tendered yet, and thus require preprocessing. For instance, if you have a private dataset containing audio data only, you might spend a lot of time to extract features from it. I recommed to avoid such dataset.   \n",
    "- Not explored yet by too many predecesors\n",
    "    - Iris, Penguine, Titanic datasets are NOT good, because you might not be able find anything new\n",
    "    - Nevertheless, popular datasets have advantages (e.g. prior arts make it easier to jump start). If you choose to use a popular dataset, you must summarize what previous arts have discovered and which part of your work is novel\n",
    "- Findings must be connected to the specific purpose of your storytelling\n",
    "    - You will create a data story of a specific genre (e.g. infographics, dashboard, product, video). Findings from your dataset should be beneficial to the audience. \n",
    "        - E.g. Audiences of your infographics can understand a new subject matter\n",
    "        - E.g. Users of your product can find interesting patterns and take appropriate actions\n",
    "        - E.g. People who watch your data video got engaged to make certain decisions (that you intended)\n",
    "\n",
    "In this section, introduce the dataset you selected with the following details (around 300 words). \n",
    "- Where / How did you get it? \n",
    "- Why is it interesting to you and the target audience/users?    "
   ]
  },
  {
   "cell_type": "markdown",
   "id": "39a47243",
   "metadata": {},
   "source": [
    "### Introducing Dataset\n",
    "\n",
    "Where / How did you get it?\n",
    "- From Kaggle\n",
    "\n",
    "Why is it interesting to you and the target audience/users?  \n",
    "- For students who are interested in entering Data science field"
   ]
  },
  {
   "cell_type": "markdown",
   "id": "957b6799-e1c0-4c0c-a9ed-817b20ff8c56",
   "metadata": {
    "tags": []
   },
   "source": [
    "---\n",
    "## PART 2. PREPROCESSING"
   ]
  },
  {
   "cell_type": "markdown",
   "id": "2c23eb16-1a43-40db-96fc-57ea81b820b3",
   "metadata": {},
   "source": [
    "## Instruction (You may delete this cell before submission)\n",
    "In this section you report details of the dataset you chose. \n",
    "- Tables and Columns\n",
    "    - Briefly describe every table and column in the dataset \n",
    "- Dataset size (# records)\n",
    "- Quality Issues and how you fixed them\n",
    "- How you transformed the dataset into a suitable form for visualization \n",
    "    - Briefly describe (~ 300 words)\n",
    "\n",
    "    \n",
    "__This notebook is for reporting only. You might want to do actual work on a separate notebook (or Python code). Nevertheless you need to submit the zip file of the entire source code.__\n",
    "    \n",
    "    "
   ]
  },
  {
   "cell_type": "code",
   "execution_count": 49,
   "id": "1474bacb",
   "metadata": {},
   "outputs": [
    {
     "data": {
      "text/html": [
       "<div>\n",
       "<style scoped>\n",
       "    .dataframe tbody tr th:only-of-type {\n",
       "        vertical-align: middle;\n",
       "    }\n",
       "\n",
       "    .dataframe tbody tr th {\n",
       "        vertical-align: top;\n",
       "    }\n",
       "\n",
       "    .dataframe thead th {\n",
       "        text-align: right;\n",
       "    }\n",
       "</style>\n",
       "<table border=\"1\" class=\"dataframe\">\n",
       "  <thead>\n",
       "    <tr style=\"text-align: right;\">\n",
       "      <th></th>\n",
       "      <th>index</th>\n",
       "      <th>Job Title</th>\n",
       "      <th>Salary Estimate</th>\n",
       "      <th>Job Description</th>\n",
       "      <th>Rating</th>\n",
       "      <th>Company Name</th>\n",
       "      <th>Location</th>\n",
       "      <th>Headquarters</th>\n",
       "      <th>Size</th>\n",
       "      <th>Founded</th>\n",
       "      <th>Type of ownership</th>\n",
       "      <th>Industry</th>\n",
       "      <th>Sector</th>\n",
       "      <th>Revenue</th>\n",
       "      <th>Competitors</th>\n",
       "      <th>Hourly</th>\n",
       "      <th>Employer provided</th>\n",
       "      <th>Lower Salary</th>\n",
       "      <th>Upper Salary</th>\n",
       "      <th>Avg Salary(K)</th>\n",
       "      <th>company_txt</th>\n",
       "      <th>Job Location</th>\n",
       "      <th>Age</th>\n",
       "      <th>Python</th>\n",
       "      <th>spark</th>\n",
       "      <th>aws</th>\n",
       "      <th>excel</th>\n",
       "      <th>sql</th>\n",
       "      <th>sas</th>\n",
       "      <th>keras</th>\n",
       "      <th>pytorch</th>\n",
       "      <th>scikit</th>\n",
       "      <th>tensor</th>\n",
       "      <th>hadoop</th>\n",
       "      <th>tableau</th>\n",
       "      <th>bi</th>\n",
       "      <th>flink</th>\n",
       "      <th>mongo</th>\n",
       "      <th>google_an</th>\n",
       "      <th>job_title_sim</th>\n",
       "      <th>seniority_by_title</th>\n",
       "      <th>Degree</th>\n",
       "    </tr>\n",
       "  </thead>\n",
       "  <tbody>\n",
       "    <tr>\n",
       "      <th>0</th>\n",
       "      <td>0</td>\n",
       "      <td>Data Scientist</td>\n",
       "      <td>$53K-$91K (Glassdoor est.)</td>\n",
       "      <td>Data Scientist\\nLocation: Albuquerque, NM\\nEdu...</td>\n",
       "      <td>3.8</td>\n",
       "      <td>Tecolote Research\\n3.8</td>\n",
       "      <td>Albuquerque, NM</td>\n",
       "      <td>Goleta, CA</td>\n",
       "      <td>501 - 1000</td>\n",
       "      <td>1973</td>\n",
       "      <td>Company - Private</td>\n",
       "      <td>Aerospace &amp; Defense</td>\n",
       "      <td>Aerospace &amp; Defense</td>\n",
       "      <td>$50 to $100 million (USD)</td>\n",
       "      <td>-1</td>\n",
       "      <td>0</td>\n",
       "      <td>0</td>\n",
       "      <td>53</td>\n",
       "      <td>91</td>\n",
       "      <td>72.0</td>\n",
       "      <td>Tecolote Research</td>\n",
       "      <td>NM</td>\n",
       "      <td>48</td>\n",
       "      <td>1</td>\n",
       "      <td>0</td>\n",
       "      <td>0</td>\n",
       "      <td>1</td>\n",
       "      <td>0</td>\n",
       "      <td>1</td>\n",
       "      <td>0</td>\n",
       "      <td>0</td>\n",
       "      <td>0</td>\n",
       "      <td>0</td>\n",
       "      <td>0</td>\n",
       "      <td>1</td>\n",
       "      <td>1</td>\n",
       "      <td>0</td>\n",
       "      <td>0</td>\n",
       "      <td>0</td>\n",
       "      <td>data scientist</td>\n",
       "      <td>na</td>\n",
       "      <td>M</td>\n",
       "    </tr>\n",
       "    <tr>\n",
       "      <th>1</th>\n",
       "      <td>1</td>\n",
       "      <td>Healthcare Data Scientist</td>\n",
       "      <td>$63K-$112K (Glassdoor est.)</td>\n",
       "      <td>What You Will Do:\\n\\nI. General Summary\\n\\nThe...</td>\n",
       "      <td>3.4</td>\n",
       "      <td>University of Maryland Medical System\\n3.4</td>\n",
       "      <td>Linthicum, MD</td>\n",
       "      <td>Baltimore, MD</td>\n",
       "      <td>10000+</td>\n",
       "      <td>1984</td>\n",
       "      <td>Other Organization</td>\n",
       "      <td>Health Care Services &amp; Hospitals</td>\n",
       "      <td>Health Care</td>\n",
       "      <td>$2 to $5 billion (USD)</td>\n",
       "      <td>-1</td>\n",
       "      <td>0</td>\n",
       "      <td>0</td>\n",
       "      <td>63</td>\n",
       "      <td>112</td>\n",
       "      <td>87.5</td>\n",
       "      <td>University of Maryland Medical System</td>\n",
       "      <td>MD</td>\n",
       "      <td>37</td>\n",
       "      <td>1</td>\n",
       "      <td>0</td>\n",
       "      <td>0</td>\n",
       "      <td>0</td>\n",
       "      <td>0</td>\n",
       "      <td>0</td>\n",
       "      <td>0</td>\n",
       "      <td>0</td>\n",
       "      <td>0</td>\n",
       "      <td>0</td>\n",
       "      <td>0</td>\n",
       "      <td>0</td>\n",
       "      <td>0</td>\n",
       "      <td>0</td>\n",
       "      <td>0</td>\n",
       "      <td>0</td>\n",
       "      <td>data scientist</td>\n",
       "      <td>na</td>\n",
       "      <td>M</td>\n",
       "    </tr>\n",
       "    <tr>\n",
       "      <th>2</th>\n",
       "      <td>2</td>\n",
       "      <td>Data Scientist</td>\n",
       "      <td>$80K-$90K (Glassdoor est.)</td>\n",
       "      <td>KnowBe4, Inc. is a high growth information sec...</td>\n",
       "      <td>4.8</td>\n",
       "      <td>KnowBe4\\n4.8</td>\n",
       "      <td>Clearwater, FL</td>\n",
       "      <td>Clearwater, FL</td>\n",
       "      <td>501 - 1000</td>\n",
       "      <td>2010</td>\n",
       "      <td>Company - Private</td>\n",
       "      <td>Security Services</td>\n",
       "      <td>Business Services</td>\n",
       "      <td>$100 to $500 million (USD)</td>\n",
       "      <td>-1</td>\n",
       "      <td>0</td>\n",
       "      <td>0</td>\n",
       "      <td>80</td>\n",
       "      <td>90</td>\n",
       "      <td>85.0</td>\n",
       "      <td>KnowBe4</td>\n",
       "      <td>FL</td>\n",
       "      <td>11</td>\n",
       "      <td>1</td>\n",
       "      <td>1</td>\n",
       "      <td>0</td>\n",
       "      <td>1</td>\n",
       "      <td>1</td>\n",
       "      <td>1</td>\n",
       "      <td>0</td>\n",
       "      <td>0</td>\n",
       "      <td>0</td>\n",
       "      <td>0</td>\n",
       "      <td>0</td>\n",
       "      <td>0</td>\n",
       "      <td>0</td>\n",
       "      <td>0</td>\n",
       "      <td>0</td>\n",
       "      <td>0</td>\n",
       "      <td>data scientist</td>\n",
       "      <td>na</td>\n",
       "      <td>M</td>\n",
       "    </tr>\n",
       "    <tr>\n",
       "      <th>3</th>\n",
       "      <td>3</td>\n",
       "      <td>Data Scientist</td>\n",
       "      <td>$56K-$97K (Glassdoor est.)</td>\n",
       "      <td>*Organization and Job ID**\\nJob ID: 310709\\n\\n...</td>\n",
       "      <td>3.8</td>\n",
       "      <td>PNNL\\n3.8</td>\n",
       "      <td>Richland, WA</td>\n",
       "      <td>Richland, WA</td>\n",
       "      <td>1001 - 5000</td>\n",
       "      <td>1965</td>\n",
       "      <td>Government</td>\n",
       "      <td>Energy</td>\n",
       "      <td>Oil, Gas, Energy &amp; Utilities</td>\n",
       "      <td>$500 million to $1 billion (USD)</td>\n",
       "      <td>Oak Ridge National Laboratory, National Renewa...</td>\n",
       "      <td>0</td>\n",
       "      <td>0</td>\n",
       "      <td>56</td>\n",
       "      <td>97</td>\n",
       "      <td>76.5</td>\n",
       "      <td>PNNL</td>\n",
       "      <td>WA</td>\n",
       "      <td>56</td>\n",
       "      <td>1</td>\n",
       "      <td>0</td>\n",
       "      <td>0</td>\n",
       "      <td>0</td>\n",
       "      <td>0</td>\n",
       "      <td>0</td>\n",
       "      <td>0</td>\n",
       "      <td>0</td>\n",
       "      <td>0</td>\n",
       "      <td>0</td>\n",
       "      <td>0</td>\n",
       "      <td>0</td>\n",
       "      <td>0</td>\n",
       "      <td>0</td>\n",
       "      <td>0</td>\n",
       "      <td>0</td>\n",
       "      <td>data scientist</td>\n",
       "      <td>na</td>\n",
       "      <td>na</td>\n",
       "    </tr>\n",
       "    <tr>\n",
       "      <th>4</th>\n",
       "      <td>4</td>\n",
       "      <td>Data Scientist</td>\n",
       "      <td>$86K-$143K (Glassdoor est.)</td>\n",
       "      <td>Data Scientist\\nAffinity Solutions / Marketing...</td>\n",
       "      <td>2.9</td>\n",
       "      <td>Affinity Solutions\\n2.9</td>\n",
       "      <td>New York, NY</td>\n",
       "      <td>New York, NY</td>\n",
       "      <td>51 - 200</td>\n",
       "      <td>1998</td>\n",
       "      <td>Company - Private</td>\n",
       "      <td>Advertising &amp; Marketing</td>\n",
       "      <td>Business Services</td>\n",
       "      <td>Unknown / Non-Applicable</td>\n",
       "      <td>Commerce Signals, Cardlytics, Yodlee</td>\n",
       "      <td>0</td>\n",
       "      <td>0</td>\n",
       "      <td>86</td>\n",
       "      <td>143</td>\n",
       "      <td>114.5</td>\n",
       "      <td>Affinity Solutions</td>\n",
       "      <td>NY</td>\n",
       "      <td>23</td>\n",
       "      <td>1</td>\n",
       "      <td>0</td>\n",
       "      <td>0</td>\n",
       "      <td>1</td>\n",
       "      <td>1</td>\n",
       "      <td>1</td>\n",
       "      <td>0</td>\n",
       "      <td>0</td>\n",
       "      <td>0</td>\n",
       "      <td>0</td>\n",
       "      <td>0</td>\n",
       "      <td>0</td>\n",
       "      <td>0</td>\n",
       "      <td>0</td>\n",
       "      <td>0</td>\n",
       "      <td>0</td>\n",
       "      <td>data scientist</td>\n",
       "      <td>na</td>\n",
       "      <td>na</td>\n",
       "    </tr>\n",
       "  </tbody>\n",
       "</table>\n",
       "</div>"
      ],
      "text/plain": [
       "   index                  Job Title              Salary Estimate  \\\n",
       "0      0             Data Scientist   $53K-$91K (Glassdoor est.)   \n",
       "1      1  Healthcare Data Scientist  $63K-$112K (Glassdoor est.)   \n",
       "2      2             Data Scientist   $80K-$90K (Glassdoor est.)   \n",
       "3      3             Data Scientist   $56K-$97K (Glassdoor est.)   \n",
       "4      4             Data Scientist  $86K-$143K (Glassdoor est.)   \n",
       "\n",
       "                                     Job Description  Rating  \\\n",
       "0  Data Scientist\\nLocation: Albuquerque, NM\\nEdu...     3.8   \n",
       "1  What You Will Do:\\n\\nI. General Summary\\n\\nThe...     3.4   \n",
       "2  KnowBe4, Inc. is a high growth information sec...     4.8   \n",
       "3  *Organization and Job ID**\\nJob ID: 310709\\n\\n...     3.8   \n",
       "4  Data Scientist\\nAffinity Solutions / Marketing...     2.9   \n",
       "\n",
       "                                 Company Name         Location  \\\n",
       "0                      Tecolote Research\\n3.8  Albuquerque, NM   \n",
       "1  University of Maryland Medical System\\n3.4    Linthicum, MD   \n",
       "2                                KnowBe4\\n4.8   Clearwater, FL   \n",
       "3                                   PNNL\\n3.8     Richland, WA   \n",
       "4                     Affinity Solutions\\n2.9     New York, NY   \n",
       "\n",
       "     Headquarters          Size  Founded   Type of ownership  \\\n",
       "0      Goleta, CA   501 - 1000      1973   Company - Private   \n",
       "1   Baltimore, MD       10000+      1984  Other Organization   \n",
       "2  Clearwater, FL   501 - 1000      2010   Company - Private   \n",
       "3    Richland, WA  1001 - 5000      1965          Government   \n",
       "4    New York, NY     51 - 200      1998   Company - Private   \n",
       "\n",
       "                           Industry                        Sector  \\\n",
       "0               Aerospace & Defense           Aerospace & Defense   \n",
       "1  Health Care Services & Hospitals                   Health Care   \n",
       "2                 Security Services             Business Services   \n",
       "3                            Energy  Oil, Gas, Energy & Utilities   \n",
       "4           Advertising & Marketing             Business Services   \n",
       "\n",
       "                            Revenue  \\\n",
       "0         $50 to $100 million (USD)   \n",
       "1            $2 to $5 billion (USD)   \n",
       "2        $100 to $500 million (USD)   \n",
       "3  $500 million to $1 billion (USD)   \n",
       "4          Unknown / Non-Applicable   \n",
       "\n",
       "                                         Competitors  Hourly  \\\n",
       "0                                                 -1       0   \n",
       "1                                                 -1       0   \n",
       "2                                                 -1       0   \n",
       "3  Oak Ridge National Laboratory, National Renewa...       0   \n",
       "4               Commerce Signals, Cardlytics, Yodlee       0   \n",
       "\n",
       "   Employer provided  Lower Salary  Upper Salary  Avg Salary(K)  \\\n",
       "0                  0            53            91           72.0   \n",
       "1                  0            63           112           87.5   \n",
       "2                  0            80            90           85.0   \n",
       "3                  0            56            97           76.5   \n",
       "4                  0            86           143          114.5   \n",
       "\n",
       "                             company_txt Job Location  Age  Python  spark  \\\n",
       "0                      Tecolote Research           NM   48       1      0   \n",
       "1  University of Maryland Medical System           MD   37       1      0   \n",
       "2                                KnowBe4           FL   11       1      1   \n",
       "3                                   PNNL           WA   56       1      0   \n",
       "4                     Affinity Solutions           NY   23       1      0   \n",
       "\n",
       "   aws  excel  sql  sas  keras  pytorch  scikit  tensor  hadoop  tableau  bi  \\\n",
       "0    0      1    0    1      0        0       0       0       0        1   1   \n",
       "1    0      0    0    0      0        0       0       0       0        0   0   \n",
       "2    0      1    1    1      0        0       0       0       0        0   0   \n",
       "3    0      0    0    0      0        0       0       0       0        0   0   \n",
       "4    0      1    1    1      0        0       0       0       0        0   0   \n",
       "\n",
       "   flink  mongo  google_an   job_title_sim seniority_by_title Degree  \n",
       "0      0      0          0  data scientist                 na      M  \n",
       "1      0      0          0  data scientist                 na      M  \n",
       "2      0      0          0  data scientist                 na      M  \n",
       "3      0      0          0  data scientist                 na     na  \n",
       "4      0      0          0  data scientist                 na     na  "
      ]
     },
     "execution_count": 49,
     "metadata": {},
     "output_type": "execute_result"
    }
   ],
   "source": [
    "import pandas as pd\n",
    "df = pd.read_csv('data_datascience.csv')\n",
    "\n",
    "pd.set_option('display.max_columns', None)\n",
    "df.head()"
   ]
  },
  {
   "cell_type": "markdown",
   "id": "0b627990",
   "metadata": {},
   "source": [
    "### Tables and Columns"
   ]
  },
  {
   "cell_type": "code",
   "execution_count": 50,
   "id": "de4bb626",
   "metadata": {},
   "outputs": [
    {
     "data": {
      "text/plain": [
       "Index(['index', 'Job Title', 'Salary Estimate', 'Job Description', 'Rating',\n",
       "       'Company Name', 'Location', 'Headquarters', 'Size', 'Founded',\n",
       "       'Type of ownership', 'Industry', 'Sector', 'Revenue', 'Competitors',\n",
       "       'Hourly', 'Employer provided', 'Lower Salary', 'Upper Salary',\n",
       "       'Avg Salary(K)', 'company_txt', 'Job Location', 'Age', 'Python',\n",
       "       'spark', 'aws', 'excel', 'sql', 'sas', 'keras', 'pytorch', 'scikit',\n",
       "       'tensor', 'hadoop', 'tableau', 'bi', 'flink', 'mongo', 'google_an',\n",
       "       'job_title_sim', 'seniority_by_title', 'Degree'],\n",
       "      dtype='object')"
      ]
     },
     "execution_count": 50,
     "metadata": {},
     "output_type": "execute_result"
    }
   ],
   "source": [
    "df.columns"
   ]
  },
  {
   "cell_type": "markdown",
   "id": "d7f74636",
   "metadata": {},
   "source": [
    "_'Job Title'_  \n",
    ": 직업명  \n",
    "e.g. Data scientist, junior data scientist, senior data scientist etc\n",
    "\n",
    "_'Salary Estimate'_  \n",
    ": Range of salary (str)  \n",
    "e.g. $74K-$126K (Glassdoor est.), $79K-$136K (Glassdoor est.) etc\n",
    "\n",
    "_'Rating'_  \n",
    ": 회사 평점  \n",
    "e.g. 3.4, 4.0 etc\n",
    "\n",
    "_'Size'_  \n",
    ": 회사의 규모 - Range of number of employee working in the company  \n",
    "e.g. 1001-5000, 501-1000, 10000+ etc\n",
    "\n",
    "_'Industry'_  \n",
    ": 산업 분야  \n",
    "e.g. Biotech & Pharmaceuticals, Insurance Carriers etc  \n",
    "\n",
    "_'Lower Salary'_  \n",
    ": 해당 회사의 최저 Salary (int)  \n",
    "e.g. 74, 79 etc\n",
    "\n",
    "_'Upper Salary'_  \n",
    ": 해당 회사의 최대 Salary (int)  \n",
    "e.g. 126, 136 etc\n",
    "\n",
    "_'Avg Salary'_  \n",
    ": 해당 회사의 평균 Salary (int)  \n",
    "e.g. 100, 107.5 etc\n",
    "\n",
    "_'job_title_sim'_  \n",
    ": 축약된 job title  \n",
    "e.g. data scientist, analyst, data engineer, machine learning engineer\n",
    "\n",
    "_'seniority_by_title'_  \n",
    ": Seniority in title  \n",
    "e.g. na, sr\n",
    "\n",
    "_'Python', 'spark', 'aws', 'excel', 'sql', 'sas', 'keras', 'pytorch', 'scikit', 'tensor', 'hadoop', 'tableau', 'bi', 'flink', 'mongo', 'google_an'_  \n",
    ": 보유 스킬  \n",
    "e.g. 1 or 0\n"
   ]
  },
  {
   "cell_type": "markdown",
   "id": "7fcb79aa",
   "metadata": {},
   "source": [
    "### Dataset size (# of records)"
   ]
  },
  {
   "cell_type": "code",
   "execution_count": 51,
   "id": "f249c72b",
   "metadata": {},
   "outputs": [
    {
     "data": {
      "text/plain": [
       "(742, 42)"
      ]
     },
     "execution_count": 51,
     "metadata": {},
     "output_type": "execute_result"
    }
   ],
   "source": [
    "df.shape"
   ]
  },
  {
   "cell_type": "markdown",
   "id": "a66930d7",
   "metadata": {},
   "source": [
    "### Quality Issues and how you fixed them"
   ]
  },
  {
   "cell_type": "code",
   "execution_count": 52,
   "id": "ca03f8f6",
   "metadata": {},
   "outputs": [],
   "source": [
    "# 관련 없는 행 drop\n",
    "df = df.drop(columns = ['Company Name', 'Founded', 'Job Location'])"
   ]
  },
  {
   "cell_type": "code",
   "execution_count": 53,
   "id": "f297c092",
   "metadata": {},
   "outputs": [
    {
     "name": "stdout",
     "output_type": "stream",
     "text": [
      "(742, 38) (467, 38)\n"
     ]
    }
   ],
   "source": [
    "# 중복 행 drop\n",
    "df = df.drop(\"index\",axis=1)\n",
    "print(df.shape, df.drop_duplicates().shape)\n",
    "df_dropped = df.drop_duplicates()"
   ]
  },
  {
   "cell_type": "code",
   "execution_count": 54,
   "id": "d649ef1c",
   "metadata": {},
   "outputs": [
    {
     "name": "stdout",
     "output_type": "stream",
     "text": [
      "0\n"
     ]
    }
   ],
   "source": [
    "# NaN 값 체크\n",
    "df_dropped.head()\n",
    "nullCheck = 0\n",
    "for col in df_dropped:\n",
    "    nullCheck+= sum(df_dropped[col].isnull())\n",
    "print(nullCheck)"
   ]
  },
  {
   "cell_type": "code",
   "execution_count": 55,
   "id": "7346d7e1",
   "metadata": {},
   "outputs": [
    {
     "name": "stdout",
     "output_type": "stream",
     "text": [
      "Job Title : 0\n",
      "Salary Estimate : 0\n",
      "Job Description : 0\n",
      "Rating : 7\n",
      "Location : 0\n",
      "Headquarters : 0\n",
      "Size : 0\n",
      "Type of ownership : 0\n",
      "Industry : 0\n",
      "Sector : 0\n",
      "Revenue : 0\n",
      "Competitors : 0\n",
      "Hourly : 0\n",
      "Employer provided : 0\n",
      "Lower Salary : 0\n",
      "Upper Salary : 0\n",
      "Avg Salary(K) : 0\n",
      "company_txt : 0\n",
      "Age : 33\n",
      "Python : 0\n",
      "spark : 0\n",
      "aws : 0\n",
      "excel : 0\n",
      "sql : 0\n",
      "sas : 0\n",
      "keras : 0\n",
      "pytorch : 0\n",
      "scikit : 0\n",
      "tensor : 0\n",
      "hadoop : 0\n",
      "tableau : 0\n",
      "bi : 0\n",
      "flink : 0\n",
      "mongo : 0\n",
      "google_an : 0\n",
      "job_title_sim : 0\n",
      "seniority_by_title : 0\n",
      "Degree : 0\n"
     ]
    }
   ],
   "source": [
    "for col in df_dropped:\n",
    "    print(str(col) + \" : \" + str(sum(df_dropped[col] == -1)))"
   ]
  },
  {
   "cell_type": "markdown",
   "id": "7d711ac6",
   "metadata": {},
   "source": [
    "### How you transformed dataset into a suitable form for visualization"
   ]
  },
  {
   "cell_type": "code",
   "execution_count": null,
   "id": "521af1ca",
   "metadata": {},
   "outputs": [],
   "source": []
  },
  {
   "cell_type": "markdown",
   "id": "53f01f08",
   "metadata": {},
   "source": [
    "> Key Question\n",
    "1. Age에 따른 Salary 변화\n",
    "    - 직업별 Age에 따른 Salary 변화\n",
    "2. 직종별 Salary\n",
    "3. 보유 스킬에 따른 Salary\n",
    "    - 어떤 스킬이 Salary를 가장 좌우하는가?\n",
    "4. 회사 Rating, Size에 따른 Salary 분포\n",
    "5. Industry에 따른 Salary 분포"
   ]
  },
  {
   "cell_type": "markdown",
   "id": "b5ae352d-58fb-4a99-a466-9a562d5ce6a7",
   "metadata": {
    "tags": []
   },
   "source": [
    "---\n",
    "## PART 3. EDA"
   ]
  },
  {
   "cell_type": "markdown",
   "id": "09a162dc-c40f-4904-bd05-800176b26c54",
   "metadata": {},
   "source": [
    "## Instruction (You may delete this cell before submission)\n",
    "In this section you report details of the dataset you chose. \n",
    "- 1D\n",
    "    - Visualize and describe basic characteristics of key columns individually\n",
    "    - Report important findings (e.g. distribution, outliers, max/min, centrality)\n",
    "- 2D\n",
    "    - Visualize important combinations of columns \n",
    "    - Report interesting findings (e.g. strong associations between columns)\n",
    "- High-Dimensional\n",
    "    - Develop further the most interesting combinations from 2D analysis\n",
    "    - Report conclusive findings (e.g. explanations of strong associations between two columns)\n",
    "    \n",
    "__Notes__\n",
    "- The order of your analysis does not need to strictly follow the above list. For instance, you may pick a key column and draw 1D->2D->3D, and then start analyzing another column. \n",
    "- As you move up to high-dimensional analysis, you might need to narrow down to the fewer number of columns (otherwise your EDA might get too long). Explore widely, and choose the best direction to proceed. \n",
    "    \n",
    "__This notebook is for reporting only. You might want to do actual work on a separate notebook (or Python code). Nevertheless you need to submit the zip file of the entire source code.__\n",
    "    \n",
    "    "
   ]
  },
  {
   "cell_type": "markdown",
   "id": "5f2545e9-4a4c-401b-b859-2093919630dd",
   "metadata": {
    "tags": []
   },
   "source": [
    "---\n",
    "## PART 4. Design Proposal of Data Storytelling"
   ]
  },
  {
   "cell_type": "markdown",
   "id": "0f0debea-c300-43e6-a429-0783202a63fd",
   "metadata": {},
   "source": [
    "## Instruction (You may delete this cell before submission)\n",
    "In this section you propose a data story based on your findings from EDA. You may choose one of the following types:\n",
    "\n",
    "- Infographics\n",
    "    - You can create an illustrative poster of any size (preferrable larger than A3) that contains multiple static charts. Those charts do not need to be directly drawn with Plotly. Instead, you might want to redraw them with graphic tools (e.g. Illustrator, Figma) A good infographic should communicate not only factual findings but also a specific message for a specific group of people.  \n",
    "- Dashboard\n",
    "    - Since interactivity is the key element of dashboard, your proposal should be clear about target user (who will use it), and task (types of findings they will get from your dashboard). \n",
    "- Data Video\n",
    "    - Like infographics, data videos might have clear communication goals. However, you may focus on animated chart elements and transitions between scenes.\n",
    "- Product\n",
    "    - You may propose a new product or a feature of an existing product(s) that employs charts that you create. To propose a product, you should design UI, which will be used by specific target users in a specific context.\n",
    "    \n",
    "You describe your design proposal in any form (e.g. text, hand-drawn sketch, Figma layout)"
   ]
  },
  {
   "cell_type": "markdown",
   "id": "cd7cfab8-3780-4e08-a9b6-e61274352442",
   "metadata": {},
   "source": [
    "## Title of your story (REPLACE ME)"
   ]
  },
  {
   "cell_type": "markdown",
   "id": "e53cb907-c8b2-43f2-b89b-21a66edd4aad",
   "metadata": {},
   "source": [
    "Introduce your data story here"
   ]
  },
  {
   "cell_type": "markdown",
   "id": "6288b17c-c493-4cdf-9e39-b726e0cdbc38",
   "metadata": {},
   "source": [
    "### Target User / Audience"
   ]
  },
  {
   "cell_type": "markdown",
   "id": "c18562ec-4864-4644-833d-3180c29680f1",
   "metadata": {},
   "source": [
    "Describe who will use / read / watch your story here"
   ]
  },
  {
   "cell_type": "markdown",
   "id": "8e5a4530-7bc5-4bf0-b207-bd946b76f504",
   "metadata": {},
   "source": [
    "### Design Goal"
   ]
  },
  {
   "cell_type": "markdown",
   "id": "6a4e26ae-093a-4da2-be7b-e0d7fdec9c98",
   "metadata": {},
   "source": [
    "Describe communication goals, intended messages, usecases, or any other form of goal that you want to achieve with your story here  "
   ]
  },
  {
   "cell_type": "markdown",
   "id": "09510377-2de6-4782-bd31-584c706bd093",
   "metadata": {},
   "source": [
    "### Rough Sketch"
   ]
  },
  {
   "cell_type": "markdown",
   "id": "c96bbac2-2d72-40be-9165-a3d6501802a1",
   "metadata": {},
   "source": [
    "Describe details; Add hand-drawn rough sketches or whatever materials here to preview details of your story here"
   ]
  },
  {
   "cell_type": "markdown",
   "id": "61587750-7ec0-40a0-95e1-36f7ae937d9f",
   "metadata": {},
   "source": [
    "---\n",
    "# Well done! Submit completed notebook on KLMS. You will be asked to present your notebook to other students during a class. "
   ]
  }
 ],
 "metadata": {
  "kernelspec": {
   "display_name": "Python 3 (ipykernel)",
   "language": "python",
   "name": "python3"
  },
  "language_info": {
   "codemirror_mode": {
    "name": "ipython",
    "version": 3
   },
   "file_extension": ".py",
   "mimetype": "text/x-python",
   "name": "python",
   "nbconvert_exporter": "python",
   "pygments_lexer": "ipython3",
   "version": "3.9.6"
  }
 },
 "nbformat": 4,
 "nbformat_minor": 5
}
