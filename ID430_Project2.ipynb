{
 "cells": [
  {
   "cell_type": "markdown",
   "id": "3d7075a4-7bb6-49a8-81f8-eefd9c965871",
   "metadata": {
    "tags": []
   },
   "source": [
    "# Project 2. Data Visualization and Storytelling\n",
    "The goal is to practice the entire process of EDA and Data Storytelling. You will pick an existing dataset (or create your own), run EDA, and propose a data story.   \n",
    "\n",
    "You might need to attach some images in this notebook. To embed an image in Notebook, \n",
    "1. Create a new cell and set the cell's mode to Markdown\n",
    "2. Drag and drop your image into the cell. It will create command like `![image.png](attachement:image.png)`\n",
    "3. Execute/Run the cell and the image will show up\n",
    "Now the image is actuall embedded in the Notebook and you don't need to worry about separate files."
   ]
  },
  {
   "cell_type": "code",
   "execution_count": 209,
   "id": "01059a0e-67f8-425a-9d2d-e9bd4ddd46a7",
   "metadata": {},
   "outputs": [],
   "source": [
    "# Let's begin with basic information of your project \n",
    "\n",
    "STUDENT_NAME = \"HoJae Lee\"\n",
    "STUDENT_ID = \"20180529\"\n",
    "PROJECT_TITLE = \"Analysis of Data Sciencist Job market\""
   ]
  },
  {
   "cell_type": "markdown",
   "id": "dc9d43bf-8523-42ca-8226-5ce08ba125dd",
   "metadata": {
    "tags": []
   },
   "source": [
    "---\n",
    "## PART 1. DATASET"
   ]
  },
  {
   "cell_type": "markdown",
   "id": "b0f2717b-c9d9-4479-8ba8-b3ba37cf2356",
   "metadata": {},
   "source": [
    "## Instruction (You may delete this cell before submission)\n",
    "Find a dataset for the project, which could be\n",
    "- Public dataset (e.g. [Kaggle](https://www.kaggle.com/datasets), [DataQuest](https://www.dataquest.io/blog/free-datasets-for-projects/), [ODSC](https://opendatascience.com/12-excellent-datasets-for-data-visualization-in-2022/), or simply search \"public dataset for visualization project\" on Google\")\n",
    "- Private dataset\n",
    "    - E.g. Data collected from a research project\n",
    "    - E.g. Personal records (e.g. Your own email / calendar / smartwatch dump)\n",
    "    \n",
    "An ideal dataset would have some of the following characteristics:\n",
    "- Containing a good amount of information \n",
    "    - If the dataset contains very few columns (e.g. 2) or rows (e.g. <100), you may not find anything interesting\n",
    "    - Some datasets contain multiple files (i.e. tables) related to each other. You can combine them to get richer information.    \n",
    "- Not too large or complicated \n",
    "    - Some datasets are too large (>1gb) to run most types of analysis. You'd better pass them or focus on part of it. \n",
    "    - Most private datasets are not tendered yet, and thus require preprocessing. For instance, if you have a private dataset containing audio data only, you might spend a lot of time to extract features from it. I recommed to avoid such dataset.   \n",
    "- Not explored yet by too many predecesors\n",
    "    - Iris, Penguine, Titanic datasets are NOT good, because you might not be able find anything new\n",
    "    - Nevertheless, popular datasets have advantages (e.g. prior arts make it easier to jump start). If you choose to use a popular dataset, you must summarize what previous arts have discovered and which part of your work is novel\n",
    "- Findings must be connected to the specific purpose of your storytelling\n",
    "    - You will create a data story of a specific genre (e.g. infographics, dashboard, product, video). Findings from your dataset should be beneficial to the audience. \n",
    "        - E.g. Audiences of your infographics can understand a new subject matter\n",
    "        - E.g. Users of your product can find interesting patterns and take appropriate actions\n",
    "        - E.g. People who watch your data video got engaged to make certain decisions (that you intended)\n",
    "\n",
    "In this section, introduce the dataset you selected with the following details (around 300 words). \n",
    "- Where / How did you get it? \n",
    "- Why is it interesting to you and the target audience/users?    "
   ]
  },
  {
   "cell_type": "markdown",
   "id": "39a47243",
   "metadata": {},
   "source": [
    "### Introducing Dataset\n",
    "\n",
    "_Where / How did you get it?_  \n",
    "- From Kaggle, https://www.kaggle.com/datasets/nikhilbhathi/data-scientist-salary-us-glassdoor\n",
    "\n",
    "_Why is it interesting to you and the target audience/users?_  \n",
    "For people..\n",
    "- who are interested in entering Data science field.\n",
    "- who are curious about Data Scientist's salary\n",
    "- who are desired to know what skill is required for Data Scientist.\n",
    "- who don't know exact distinction detweeen Data engineer, Analyst, Machine learning data engineer."
   ]
  },
  {
   "cell_type": "markdown",
   "id": "957b6799-e1c0-4c0c-a9ed-817b20ff8c56",
   "metadata": {
    "tags": []
   },
   "source": [
    "---\n",
    "## PART 2. PREPROCESSING"
   ]
  },
  {
   "cell_type": "markdown",
   "id": "2c23eb16-1a43-40db-96fc-57ea81b820b3",
   "metadata": {},
   "source": [
    "## Instruction (You may delete this cell before submission)\n",
    "In this section you report details of the dataset you chose. \n",
    "- Tables and Columns\n",
    "    - Briefly describe every table and column in the dataset \n",
    "- Dataset size (# records)\n",
    "- Quality Issues and how you fixed them\n",
    "- How you transformed the dataset into a suitable form for visualization \n",
    "    - Briefly describe (~ 300 words)\n",
    "\n",
    "    \n",
    "__This notebook is for reporting only. You might want to do actual work on a separate notebook (or Python code). Nevertheless you need to submit the zip file of the entire source code.__\n",
    "    \n",
    "    "
   ]
  },
  {
   "cell_type": "markdown",
   "id": "0b627990",
   "metadata": {},
   "source": [
    "### Tables and Columns"
   ]
  },
  {
   "cell_type": "code",
   "execution_count": 210,
   "id": "1474bacb",
   "metadata": {},
   "outputs": [
    {
     "data": {
      "text/html": [
       "<div>\n",
       "<style scoped>\n",
       "    .dataframe tbody tr th:only-of-type {\n",
       "        vertical-align: middle;\n",
       "    }\n",
       "\n",
       "    .dataframe tbody tr th {\n",
       "        vertical-align: top;\n",
       "    }\n",
       "\n",
       "    .dataframe thead th {\n",
       "        text-align: right;\n",
       "    }\n",
       "</style>\n",
       "<table border=\"1\" class=\"dataframe\">\n",
       "  <thead>\n",
       "    <tr style=\"text-align: right;\">\n",
       "      <th></th>\n",
       "      <th>index</th>\n",
       "      <th>Job Title</th>\n",
       "      <th>Salary Estimate</th>\n",
       "      <th>Job Description</th>\n",
       "      <th>Rating</th>\n",
       "      <th>Company Name</th>\n",
       "      <th>Location</th>\n",
       "      <th>Headquarters</th>\n",
       "      <th>Size</th>\n",
       "      <th>Founded</th>\n",
       "      <th>Type of ownership</th>\n",
       "      <th>Industry</th>\n",
       "      <th>Sector</th>\n",
       "      <th>Revenue</th>\n",
       "      <th>Competitors</th>\n",
       "      <th>Hourly</th>\n",
       "      <th>Employer provided</th>\n",
       "      <th>Lower Salary</th>\n",
       "      <th>Upper Salary</th>\n",
       "      <th>Avg Salary(K)</th>\n",
       "      <th>company_txt</th>\n",
       "      <th>Job Location</th>\n",
       "      <th>Age</th>\n",
       "      <th>Python</th>\n",
       "      <th>spark</th>\n",
       "      <th>aws</th>\n",
       "      <th>excel</th>\n",
       "      <th>sql</th>\n",
       "      <th>sas</th>\n",
       "      <th>keras</th>\n",
       "      <th>pytorch</th>\n",
       "      <th>scikit</th>\n",
       "      <th>tensor</th>\n",
       "      <th>hadoop</th>\n",
       "      <th>tableau</th>\n",
       "      <th>bi</th>\n",
       "      <th>flink</th>\n",
       "      <th>mongo</th>\n",
       "      <th>google_an</th>\n",
       "      <th>job_title_sim</th>\n",
       "      <th>seniority_by_title</th>\n",
       "      <th>Degree</th>\n",
       "    </tr>\n",
       "  </thead>\n",
       "  <tbody>\n",
       "    <tr>\n",
       "      <th>0</th>\n",
       "      <td>0</td>\n",
       "      <td>Data Scientist</td>\n",
       "      <td>$53K-$91K (Glassdoor est.)</td>\n",
       "      <td>Data Scientist\\nLocation: Albuquerque, NM\\nEdu...</td>\n",
       "      <td>3.8</td>\n",
       "      <td>Tecolote Research\\n3.8</td>\n",
       "      <td>Albuquerque, NM</td>\n",
       "      <td>Goleta, CA</td>\n",
       "      <td>501 - 1000</td>\n",
       "      <td>1973</td>\n",
       "      <td>Company - Private</td>\n",
       "      <td>Aerospace &amp; Defense</td>\n",
       "      <td>Aerospace &amp; Defense</td>\n",
       "      <td>$50 to $100 million (USD)</td>\n",
       "      <td>-1</td>\n",
       "      <td>0</td>\n",
       "      <td>0</td>\n",
       "      <td>53</td>\n",
       "      <td>91</td>\n",
       "      <td>72.0</td>\n",
       "      <td>Tecolote Research</td>\n",
       "      <td>NM</td>\n",
       "      <td>48</td>\n",
       "      <td>1</td>\n",
       "      <td>0</td>\n",
       "      <td>0</td>\n",
       "      <td>1</td>\n",
       "      <td>0</td>\n",
       "      <td>1</td>\n",
       "      <td>0</td>\n",
       "      <td>0</td>\n",
       "      <td>0</td>\n",
       "      <td>0</td>\n",
       "      <td>0</td>\n",
       "      <td>1</td>\n",
       "      <td>1</td>\n",
       "      <td>0</td>\n",
       "      <td>0</td>\n",
       "      <td>0</td>\n",
       "      <td>data scientist</td>\n",
       "      <td>na</td>\n",
       "      <td>M</td>\n",
       "    </tr>\n",
       "    <tr>\n",
       "      <th>1</th>\n",
       "      <td>1</td>\n",
       "      <td>Healthcare Data Scientist</td>\n",
       "      <td>$63K-$112K (Glassdoor est.)</td>\n",
       "      <td>What You Will Do:\\n\\nI. General Summary\\n\\nThe...</td>\n",
       "      <td>3.4</td>\n",
       "      <td>University of Maryland Medical System\\n3.4</td>\n",
       "      <td>Linthicum, MD</td>\n",
       "      <td>Baltimore, MD</td>\n",
       "      <td>10000+</td>\n",
       "      <td>1984</td>\n",
       "      <td>Other Organization</td>\n",
       "      <td>Health Care Services &amp; Hospitals</td>\n",
       "      <td>Health Care</td>\n",
       "      <td>$2 to $5 billion (USD)</td>\n",
       "      <td>-1</td>\n",
       "      <td>0</td>\n",
       "      <td>0</td>\n",
       "      <td>63</td>\n",
       "      <td>112</td>\n",
       "      <td>87.5</td>\n",
       "      <td>University of Maryland Medical System</td>\n",
       "      <td>MD</td>\n",
       "      <td>37</td>\n",
       "      <td>1</td>\n",
       "      <td>0</td>\n",
       "      <td>0</td>\n",
       "      <td>0</td>\n",
       "      <td>0</td>\n",
       "      <td>0</td>\n",
       "      <td>0</td>\n",
       "      <td>0</td>\n",
       "      <td>0</td>\n",
       "      <td>0</td>\n",
       "      <td>0</td>\n",
       "      <td>0</td>\n",
       "      <td>0</td>\n",
       "      <td>0</td>\n",
       "      <td>0</td>\n",
       "      <td>0</td>\n",
       "      <td>data scientist</td>\n",
       "      <td>na</td>\n",
       "      <td>M</td>\n",
       "    </tr>\n",
       "    <tr>\n",
       "      <th>2</th>\n",
       "      <td>2</td>\n",
       "      <td>Data Scientist</td>\n",
       "      <td>$80K-$90K (Glassdoor est.)</td>\n",
       "      <td>KnowBe4, Inc. is a high growth information sec...</td>\n",
       "      <td>4.8</td>\n",
       "      <td>KnowBe4\\n4.8</td>\n",
       "      <td>Clearwater, FL</td>\n",
       "      <td>Clearwater, FL</td>\n",
       "      <td>501 - 1000</td>\n",
       "      <td>2010</td>\n",
       "      <td>Company - Private</td>\n",
       "      <td>Security Services</td>\n",
       "      <td>Business Services</td>\n",
       "      <td>$100 to $500 million (USD)</td>\n",
       "      <td>-1</td>\n",
       "      <td>0</td>\n",
       "      <td>0</td>\n",
       "      <td>80</td>\n",
       "      <td>90</td>\n",
       "      <td>85.0</td>\n",
       "      <td>KnowBe4</td>\n",
       "      <td>FL</td>\n",
       "      <td>11</td>\n",
       "      <td>1</td>\n",
       "      <td>1</td>\n",
       "      <td>0</td>\n",
       "      <td>1</td>\n",
       "      <td>1</td>\n",
       "      <td>1</td>\n",
       "      <td>0</td>\n",
       "      <td>0</td>\n",
       "      <td>0</td>\n",
       "      <td>0</td>\n",
       "      <td>0</td>\n",
       "      <td>0</td>\n",
       "      <td>0</td>\n",
       "      <td>0</td>\n",
       "      <td>0</td>\n",
       "      <td>0</td>\n",
       "      <td>data scientist</td>\n",
       "      <td>na</td>\n",
       "      <td>M</td>\n",
       "    </tr>\n",
       "    <tr>\n",
       "      <th>3</th>\n",
       "      <td>3</td>\n",
       "      <td>Data Scientist</td>\n",
       "      <td>$56K-$97K (Glassdoor est.)</td>\n",
       "      <td>*Organization and Job ID**\\nJob ID: 310709\\n\\n...</td>\n",
       "      <td>3.8</td>\n",
       "      <td>PNNL\\n3.8</td>\n",
       "      <td>Richland, WA</td>\n",
       "      <td>Richland, WA</td>\n",
       "      <td>1001 - 5000</td>\n",
       "      <td>1965</td>\n",
       "      <td>Government</td>\n",
       "      <td>Energy</td>\n",
       "      <td>Oil, Gas, Energy &amp; Utilities</td>\n",
       "      <td>$500 million to $1 billion (USD)</td>\n",
       "      <td>Oak Ridge National Laboratory, National Renewa...</td>\n",
       "      <td>0</td>\n",
       "      <td>0</td>\n",
       "      <td>56</td>\n",
       "      <td>97</td>\n",
       "      <td>76.5</td>\n",
       "      <td>PNNL</td>\n",
       "      <td>WA</td>\n",
       "      <td>56</td>\n",
       "      <td>1</td>\n",
       "      <td>0</td>\n",
       "      <td>0</td>\n",
       "      <td>0</td>\n",
       "      <td>0</td>\n",
       "      <td>0</td>\n",
       "      <td>0</td>\n",
       "      <td>0</td>\n",
       "      <td>0</td>\n",
       "      <td>0</td>\n",
       "      <td>0</td>\n",
       "      <td>0</td>\n",
       "      <td>0</td>\n",
       "      <td>0</td>\n",
       "      <td>0</td>\n",
       "      <td>0</td>\n",
       "      <td>data scientist</td>\n",
       "      <td>na</td>\n",
       "      <td>na</td>\n",
       "    </tr>\n",
       "    <tr>\n",
       "      <th>4</th>\n",
       "      <td>4</td>\n",
       "      <td>Data Scientist</td>\n",
       "      <td>$86K-$143K (Glassdoor est.)</td>\n",
       "      <td>Data Scientist\\nAffinity Solutions / Marketing...</td>\n",
       "      <td>2.9</td>\n",
       "      <td>Affinity Solutions\\n2.9</td>\n",
       "      <td>New York, NY</td>\n",
       "      <td>New York, NY</td>\n",
       "      <td>51 - 200</td>\n",
       "      <td>1998</td>\n",
       "      <td>Company - Private</td>\n",
       "      <td>Advertising &amp; Marketing</td>\n",
       "      <td>Business Services</td>\n",
       "      <td>Unknown / Non-Applicable</td>\n",
       "      <td>Commerce Signals, Cardlytics, Yodlee</td>\n",
       "      <td>0</td>\n",
       "      <td>0</td>\n",
       "      <td>86</td>\n",
       "      <td>143</td>\n",
       "      <td>114.5</td>\n",
       "      <td>Affinity Solutions</td>\n",
       "      <td>NY</td>\n",
       "      <td>23</td>\n",
       "      <td>1</td>\n",
       "      <td>0</td>\n",
       "      <td>0</td>\n",
       "      <td>1</td>\n",
       "      <td>1</td>\n",
       "      <td>1</td>\n",
       "      <td>0</td>\n",
       "      <td>0</td>\n",
       "      <td>0</td>\n",
       "      <td>0</td>\n",
       "      <td>0</td>\n",
       "      <td>0</td>\n",
       "      <td>0</td>\n",
       "      <td>0</td>\n",
       "      <td>0</td>\n",
       "      <td>0</td>\n",
       "      <td>data scientist</td>\n",
       "      <td>na</td>\n",
       "      <td>na</td>\n",
       "    </tr>\n",
       "  </tbody>\n",
       "</table>\n",
       "</div>"
      ],
      "text/plain": [
       "   index                  Job Title              Salary Estimate  \\\n",
       "0      0             Data Scientist   $53K-$91K (Glassdoor est.)   \n",
       "1      1  Healthcare Data Scientist  $63K-$112K (Glassdoor est.)   \n",
       "2      2             Data Scientist   $80K-$90K (Glassdoor est.)   \n",
       "3      3             Data Scientist   $56K-$97K (Glassdoor est.)   \n",
       "4      4             Data Scientist  $86K-$143K (Glassdoor est.)   \n",
       "\n",
       "                                     Job Description  Rating  \\\n",
       "0  Data Scientist\\nLocation: Albuquerque, NM\\nEdu...     3.8   \n",
       "1  What You Will Do:\\n\\nI. General Summary\\n\\nThe...     3.4   \n",
       "2  KnowBe4, Inc. is a high growth information sec...     4.8   \n",
       "3  *Organization and Job ID**\\nJob ID: 310709\\n\\n...     3.8   \n",
       "4  Data Scientist\\nAffinity Solutions / Marketing...     2.9   \n",
       "\n",
       "                                 Company Name         Location  \\\n",
       "0                      Tecolote Research\\n3.8  Albuquerque, NM   \n",
       "1  University of Maryland Medical System\\n3.4    Linthicum, MD   \n",
       "2                                KnowBe4\\n4.8   Clearwater, FL   \n",
       "3                                   PNNL\\n3.8     Richland, WA   \n",
       "4                     Affinity Solutions\\n2.9     New York, NY   \n",
       "\n",
       "     Headquarters          Size  Founded   Type of ownership  \\\n",
       "0      Goleta, CA   501 - 1000      1973   Company - Private   \n",
       "1   Baltimore, MD       10000+      1984  Other Organization   \n",
       "2  Clearwater, FL   501 - 1000      2010   Company - Private   \n",
       "3    Richland, WA  1001 - 5000      1965          Government   \n",
       "4    New York, NY     51 - 200      1998   Company - Private   \n",
       "\n",
       "                           Industry                        Sector  \\\n",
       "0               Aerospace & Defense           Aerospace & Defense   \n",
       "1  Health Care Services & Hospitals                   Health Care   \n",
       "2                 Security Services             Business Services   \n",
       "3                            Energy  Oil, Gas, Energy & Utilities   \n",
       "4           Advertising & Marketing             Business Services   \n",
       "\n",
       "                            Revenue  \\\n",
       "0         $50 to $100 million (USD)   \n",
       "1            $2 to $5 billion (USD)   \n",
       "2        $100 to $500 million (USD)   \n",
       "3  $500 million to $1 billion (USD)   \n",
       "4          Unknown / Non-Applicable   \n",
       "\n",
       "                                         Competitors  Hourly  \\\n",
       "0                                                 -1       0   \n",
       "1                                                 -1       0   \n",
       "2                                                 -1       0   \n",
       "3  Oak Ridge National Laboratory, National Renewa...       0   \n",
       "4               Commerce Signals, Cardlytics, Yodlee       0   \n",
       "\n",
       "   Employer provided  Lower Salary  Upper Salary  Avg Salary(K)  \\\n",
       "0                  0            53            91           72.0   \n",
       "1                  0            63           112           87.5   \n",
       "2                  0            80            90           85.0   \n",
       "3                  0            56            97           76.5   \n",
       "4                  0            86           143          114.5   \n",
       "\n",
       "                             company_txt Job Location  Age  Python  spark  \\\n",
       "0                      Tecolote Research           NM   48       1      0   \n",
       "1  University of Maryland Medical System           MD   37       1      0   \n",
       "2                                KnowBe4           FL   11       1      1   \n",
       "3                                   PNNL           WA   56       1      0   \n",
       "4                     Affinity Solutions           NY   23       1      0   \n",
       "\n",
       "   aws  excel  sql  sas  keras  pytorch  scikit  tensor  hadoop  tableau  bi  \\\n",
       "0    0      1    0    1      0        0       0       0       0        1   1   \n",
       "1    0      0    0    0      0        0       0       0       0        0   0   \n",
       "2    0      1    1    1      0        0       0       0       0        0   0   \n",
       "3    0      0    0    0      0        0       0       0       0        0   0   \n",
       "4    0      1    1    1      0        0       0       0       0        0   0   \n",
       "\n",
       "   flink  mongo  google_an   job_title_sim seniority_by_title Degree  \n",
       "0      0      0          0  data scientist                 na      M  \n",
       "1      0      0          0  data scientist                 na      M  \n",
       "2      0      0          0  data scientist                 na      M  \n",
       "3      0      0          0  data scientist                 na     na  \n",
       "4      0      0          0  data scientist                 na     na  "
      ]
     },
     "execution_count": 210,
     "metadata": {},
     "output_type": "execute_result"
    }
   ],
   "source": [
    "import pandas as pd\n",
    "df = pd.read_csv('data_datascience.csv')\n",
    "\n",
    "pd.set_option('display.max_columns', None)\n",
    "df.head()"
   ]
  },
  {
   "cell_type": "code",
   "execution_count": 211,
   "id": "de4bb626",
   "metadata": {},
   "outputs": [
    {
     "data": {
      "text/plain": [
       "Index(['index', 'Job Title', 'Salary Estimate', 'Job Description', 'Rating',\n",
       "       'Company Name', 'Location', 'Headquarters', 'Size', 'Founded',\n",
       "       'Type of ownership', 'Industry', 'Sector', 'Revenue', 'Competitors',\n",
       "       'Hourly', 'Employer provided', 'Lower Salary', 'Upper Salary',\n",
       "       'Avg Salary(K)', 'company_txt', 'Job Location', 'Age', 'Python',\n",
       "       'spark', 'aws', 'excel', 'sql', 'sas', 'keras', 'pytorch', 'scikit',\n",
       "       'tensor', 'hadoop', 'tableau', 'bi', 'flink', 'mongo', 'google_an',\n",
       "       'job_title_sim', 'seniority_by_title', 'Degree'],\n",
       "      dtype='object')"
      ]
     },
     "execution_count": 211,
     "metadata": {},
     "output_type": "execute_result"
    }
   ],
   "source": [
    "df.columns"
   ]
  },
  {
   "cell_type": "markdown",
   "id": "573f979a",
   "metadata": {},
   "source": [
    "### Key Column Description"
   ]
  },
  {
   "cell_type": "markdown",
   "id": "d7f74636",
   "metadata": {},
   "source": [
    "_'Rating'_  \n",
    ": 회사 평점  \n",
    "e.g. 3.4, 4.0 etc\n",
    "\n",
    "_'Size'_  \n",
    ": 회사의 규모 - Range of number of employee working in the company  \n",
    "e.g. 1001-5000, 501-1000, 10000+ etc\n",
    "\n",
    "_'Industry'_  \n",
    ": 산업 분야  \n",
    "e.g. Biotech & Pharmaceuticals, Insurance Carriers etc  \n",
    "\n",
    "_'Lower Salary'_  \n",
    ": 해당 회사의 최저 Salary (int)  \n",
    "e.g. 74, 79 etc\n",
    "\n",
    "_'Upper Salary'_  \n",
    ": 해당 회사의 최대 Salary (int)  \n",
    "e.g. 126, 136 etc\n",
    "\n",
    "_'Avg Salary'_  \n",
    ": 해당 회사의 평균 Salary (int)  \n",
    "e.g. 100, 107.5 etc\n",
    "\n",
    "_'job_title_sim'_  \n",
    ": 축약된 job title  \n",
    "e.g. data scientist, analyst, data engineer, machine learning engineer\n",
    "\n",
    "_'seniority_by_title'_  \n",
    ": Seniority in title  \n",
    "e.g. na, sr\n",
    "\n",
    "_'Python', 'spark', 'aws', 'excel', 'sql', 'sas', 'keras', 'pytorch', 'scikit', 'tensor', 'hadoop', 'tableau', 'bi', 'flink', 'mongo', 'google_an'_  \n",
    ": 보유 스킬  \n",
    "e.g. 1 or 0\n"
   ]
  },
  {
   "cell_type": "markdown",
   "id": "4672b50c",
   "metadata": {},
   "source": [
    "#### ✔️ Working Column\n",
    "'Rating'  \n",
    "'Size'  \n",
    "'Industry'  \n",
    "'Upper Salary'  \n",
    "'Avg Salary'  \n",
    "'job_title_sim'  \n",
    "'seniority_by_title'  \n",
    "'Python', 'spark', 'aws', 'excel', 'sql', 'sas', 'keras', 'pytorch', 'scikit', 'tensor', 'hadoop', 'tableau', 'bi', 'flink', 'mongo', 'google_an'"
   ]
  },
  {
   "cell_type": "markdown",
   "id": "7fcb79aa",
   "metadata": {},
   "source": [
    "### Dataset size (# of records)"
   ]
  },
  {
   "cell_type": "code",
   "execution_count": 212,
   "id": "f249c72b",
   "metadata": {},
   "outputs": [
    {
     "data": {
      "text/plain": [
       "(742, 42)"
      ]
     },
     "execution_count": 212,
     "metadata": {},
     "output_type": "execute_result"
    }
   ],
   "source": [
    "df.shape"
   ]
  },
  {
   "cell_type": "markdown",
   "id": "a66930d7",
   "metadata": {},
   "source": [
    "### Quality Issues and how you fixed them"
   ]
  },
  {
   "cell_type": "code",
   "execution_count": 213,
   "id": "ca03f8f6",
   "metadata": {},
   "outputs": [],
   "source": [
    "# 관련 없는 행 drop\n",
    "df = df[['Rating', 'Size', 'Industry','Upper Salary','Avg Salary(K)','job_title_sim','seniority_by_title','Python', 'spark', 'aws', 'excel', 'sql', 'sas', 'keras', 'pytorch', 'scikit', 'tensor', 'hadoop', 'tableau', 'bi', 'flink', 'mongo', 'google_an']]"
   ]
  },
  {
   "cell_type": "code",
   "execution_count": 243,
   "id": "f297c092",
   "metadata": {},
   "outputs": [
    {
     "name": "stdout",
     "output_type": "stream",
     "text": [
      "(742, 23)\n",
      "after drop..\n",
      "(461, 23)\n"
     ]
    }
   ],
   "source": [
    "# 중복 행 drop\n",
    "print(df.shape)\n",
    "print('after drop..')\n",
    "print(df.drop_duplicates().shape)\n",
    "df_dropped = df.drop_duplicates()\n",
    "df_dropped.reset_index(inplace=True)"
   ]
  },
  {
   "cell_type": "code",
   "execution_count": 244,
   "id": "9d222877",
   "metadata": {},
   "outputs": [
    {
     "data": {
      "text/plain": [
       "Index(['index', 'Rating', 'Size', 'Industry', 'Upper Salary', 'Avg Salary(K)',\n",
       "       'job_title_sim', 'seniority_by_title', 'Python', 'spark', 'aws',\n",
       "       'excel', 'sql', 'sas', 'keras', 'pytorch', 'scikit', 'tensor', 'hadoop',\n",
       "       'tableau', 'bi', 'flink', 'mongo', 'google_an'],\n",
       "      dtype='object')"
      ]
     },
     "execution_count": 244,
     "metadata": {},
     "output_type": "execute_result"
    }
   ],
   "source": [
    "df_dropped.columns"
   ]
  },
  {
   "cell_type": "code",
   "execution_count": 216,
   "id": "d649ef1c",
   "metadata": {},
   "outputs": [
    {
     "name": "stdout",
     "output_type": "stream",
     "text": [
      "7\n"
     ]
    }
   ],
   "source": [
    "# NaN 값(-1) 체크\n",
    "df_dropped.head()\n",
    "nullCheck = 0\n",
    "for col in df_dropped:\n",
    "    nullCheck+= sum(df_dropped[col]==-1)\n",
    "print(nullCheck)"
   ]
  },
  {
   "cell_type": "code",
   "execution_count": 217,
   "id": "7346d7e1",
   "metadata": {},
   "outputs": [
    {
     "name": "stdout",
     "output_type": "stream",
     "text": [
      "index : 00\n",
      "Rating : 70\n",
      "Size : 00\n",
      "Industry : 00\n",
      "Upper Salary : 00\n",
      "Avg Salary(K) : 00\n",
      "job_title_sim : 06\n",
      "seniority_by_title : 0336\n",
      "Python : 00\n",
      "spark : 00\n",
      "aws : 00\n",
      "excel : 00\n",
      "sql : 00\n",
      "sas : 00\n",
      "keras : 00\n",
      "pytorch : 00\n",
      "scikit : 00\n",
      "tensor : 00\n",
      "hadoop : 00\n",
      "tableau : 00\n",
      "bi : 00\n",
      "flink : 00\n",
      "mongo : 00\n",
      "google_an : 00\n"
     ]
    }
   ],
   "source": [
    "# col별 NaN 값(na) 체크\n",
    "for col in df_dropped:\n",
    "    print(str(col) + \" : \" + str(sum(df_dropped[col] == -1))+ str(sum(df_dropped[col] == 'na')))"
   ]
  },
  {
   "cell_type": "code",
   "execution_count": 218,
   "id": "afb08432",
   "metadata": {},
   "outputs": [],
   "source": [
    "df_dropped = df_dropped.drop(columns = ['flink', 'google_an'])"
   ]
  },
  {
   "cell_type": "markdown",
   "id": "7d711ac6",
   "metadata": {},
   "source": [
    "### How you transformed dataset into a suitable form for visualization"
   ]
  },
  {
   "cell_type": "code",
   "execution_count": 219,
   "id": "7e2b4510",
   "metadata": {},
   "outputs": [],
   "source": [
    "df_dropped = df_dropped.rename(columns={'job_title_sim':'Job'})"
   ]
  },
  {
   "cell_type": "markdown",
   "id": "6a407978",
   "metadata": {},
   "source": [
    "↓ Visualization에 용이하도록 데이터셋에 포함된 Job들 중 Data Scientist, Data Engineer, Analyst, Machine learning engineer만 존재하는 부분 데이터셋을 생성한다.  \n",
    "(이미 데이터 타입, 집계 등의 전처리는 완료된 상태)"
   ]
  },
  {
   "cell_type": "code",
   "execution_count": 220,
   "id": "58065b22",
   "metadata": {},
   "outputs": [],
   "source": [
    "df_dsc = df_dropped[\n",
    "    (df_dropped['Job'] == 'data scientist') | \n",
    "    (df_dropped['Job'] == 'data engineer') | \n",
    "    (df_dropped['Job'] == 'analyst') |\n",
    "    (df_dropped['Job'] == 'machine learning engineer')\n",
    "]"
   ]
  },
  {
   "cell_type": "markdown",
   "id": "d1a412a7",
   "metadata": {},
   "source": [
    "↓ Visualization에 용이하도록 데이터셋에 포함된 Job들 중 Data Engineer, Analyst, Machine learning engineer만 존재하는 부분 데이터셋을 생성한다.  \n",
    "세 직업을 집중적으로 비교할 때 사용되는 목적의 데이터셋이다.  \n",
    "(이미 데이터 타입, 집계 등의 전처리는 완료된 상태)"
   ]
  },
  {
   "cell_type": "code",
   "execution_count": 221,
   "id": "6baa028f",
   "metadata": {},
   "outputs": [],
   "source": [
    "df_sub = df_dropped[\n",
    "    (df_dropped['Job'] == 'data engineer') | \n",
    "    (df_dropped['Job'] == 'analyst') |\n",
    "    (df_dropped['Job'] == 'machine learning engineer')\n",
    "]"
   ]
  },
  {
   "cell_type": "markdown",
   "id": "9ddffb12",
   "metadata": {},
   "source": [
    "#### ✔️ Working Column (Narrowed-down)\n",
    "(str) 'Industry'  \n",
    "(int) 'Avg Salary'  \n",
    "(str) 'Job'  \n",
    "(bool) 'Python', 'spark', 'aws', 'excel', 'sql', 'sas', 'keras', 'pytorch', 'scikit', 'tensor', 'hadoop', 'tableau', 'bi', 'mongo'\n",
    "\n",
    "#### ✔️ Additionally Dropped Column\n",
    "- Rating : contains too many nan values  \n",
    "- flink : contains very few -only onedigit- data, so judged as meaningless  \n",
    "- google_an : contains very few -only onedigit- data, so judged as meaningless  \n",
    "- Size : difficult to extract creative insight from this column  \n",
    "- Upper Salary, Lower Salary : meaning of these columns is duplicated to Avg Salary.  "
   ]
  },
  {
   "cell_type": "markdown",
   "id": "53f01f08",
   "metadata": {},
   "source": [
    "> Key Question\n",
    "1. Age에 따른 Salary 변화\n",
    "    - 직업별 Age에 따른 Salary 변화\n",
    "2. 직종별 Salary\n",
    "3. 보유 스킬에 따른 Salary\n",
    "    - 어떤 스킬이 Salary를 가장 좌우하는가?\n",
    "4. 회사 Rating, Size에 따른 Salary 분포\n",
    "5. Industry에 따른 Salary 분포"
   ]
  },
  {
   "cell_type": "markdown",
   "id": "b5ae352d-58fb-4a99-a466-9a562d5ce6a7",
   "metadata": {
    "tags": []
   },
   "source": [
    "---\n",
    "## PART 3. EDA"
   ]
  },
  {
   "cell_type": "markdown",
   "id": "09a162dc-c40f-4904-bd05-800176b26c54",
   "metadata": {},
   "source": [
    "## Instruction (You may delete this cell before submission)\n",
    "In this section you report details of the dataset you chose. \n",
    "- 1D\n",
    "    - Visualize and describe basic characteristics of key columns individually\n",
    "    - Report important findings (e.g. distribution, outliers, max/min, centrality)\n",
    "- 2D\n",
    "    - Visualize important combinations of columns \n",
    "    - Report interesting findings (e.g. strong associations between columns)\n",
    "- High-Dimensional\n",
    "    - Develop further the most interesting combinations from 2D analysis\n",
    "    - Report conclusive findings (e.g. explanations of strong associations between two columns)\n",
    "    \n",
    "__Notes__\n",
    "- The order of your analysis does not need to strictly follow the above list. For instance, you may pick a key column and draw 1D->2D->3D, and then start analyzing another column. \n",
    "- As you move up to high-dimensional analysis, you might need to narrow down to the fewer number of columns (otherwise your EDA might get too long). Explore widely, and choose the best direction to proceed. \n",
    "    \n",
    "__This notebook is for reporting only. You might want to do actual work on a separate notebook (or Python code). Nevertheless you need to submit the zip file of the entire source code.__\n",
    "    \n",
    "    "
   ]
  },
  {
   "cell_type": "code",
   "execution_count": 222,
   "id": "2fcccad4",
   "metadata": {},
   "outputs": [],
   "source": [
    "import plotly.express as px\n",
    "import plotly.graph_objects as go\n",
    "from plotly.subplots import make_subplots\n",
    "import plotly.graph_objects as go"
   ]
  },
  {
   "cell_type": "markdown",
   "id": "3f34afa2",
   "metadata": {},
   "source": [
    "### 1D"
   ]
  },
  {
   "cell_type": "markdown",
   "id": "28843544",
   "metadata": {},
   "source": [
    "✔︎ Job 컬럼"
   ]
  },
  {
   "cell_type": "code",
   "execution_count": 223,
   "id": "d14e3971",
   "metadata": {},
   "outputs": [
    {
     "name": "stdout",
     "output_type": "stream",
     "text": [
      "0\n"
     ]
    },
    {
     "data": {
      "application/vnd.plotly.v1+json": {
       "config": {
        "plotlyServerURL": "https://plot.ly"
       },
       "data": [
        {
         "alignmentgroup": "True",
         "bingroup": "x",
         "hovertemplate": "variable=Job<br>value=%{x}<br>count=%{y}<extra></extra>",
         "legendgroup": "Job",
         "marker": {
          "color": "#636efa",
          "pattern": {
           "shape": ""
          }
         },
         "name": "Job",
         "offsetgroup": "Job",
         "orientation": "v",
         "showlegend": true,
         "type": "histogram",
         "x": [
          "data scientist",
          "data scientist",
          "data scientist",
          "data scientist",
          "data scientist",
          "data scientist",
          "data scientist",
          "data scientist",
          "data scientist",
          "data scientist",
          "data scientist",
          "data scientist",
          "analyst",
          "data scientist",
          "data engineer",
          "data scientist",
          "data scientist",
          "data scientist",
          "data scientist",
          "data scientist",
          "data scientist",
          "data scientist",
          "data scientist",
          "data scientist",
          "data scientist",
          "analyst",
          "data scientist",
          "data scientist",
          "data scientist",
          "data scientist",
          "data scientist",
          "analyst",
          "data scientist",
          "data scientist",
          "data scientist",
          "data engineer",
          "analyst",
          "data engineer",
          "data scientist",
          "data scientist",
          "data scientist",
          "data scientist",
          "analyst",
          "data scientist",
          "data scientist",
          "data scientist",
          "data scientist",
          "data scientist",
          "data scientist",
          "data scientist",
          "data scientist",
          "data scientist",
          "data scientist",
          "data scientist",
          "data scientist",
          "data scientist",
          "data scientist",
          "data scientist",
          "data scientist",
          "data scientist",
          "data scientist",
          "data scientist",
          "data scientist",
          "data scientist",
          "data scientist",
          "data scientist",
          "data scientist",
          "data scientist",
          "data scientist",
          "analyst",
          "data scientist",
          "analyst",
          "data engineer",
          "analyst",
          "data scientist",
          "analyst",
          "data scientist",
          "analyst",
          "data scientist",
          "data scientist",
          "analyst",
          "data scientist",
          "data scientist",
          "data scientist",
          "data scientist",
          "data scientist",
          "data engineer",
          "data scientist",
          "analyst",
          "analyst",
          "data scientist",
          "data engineer",
          "data scientist",
          "data engineer",
          "data scientist",
          "data scientist",
          "data engineer",
          "data scientist",
          "data engineer",
          "data scientist",
          "data scientist",
          "data engineer",
          "data engineer",
          "analyst",
          "data scientist",
          "data scientist",
          "data scientist",
          "data scientist",
          "data scientist",
          "machine learning engineer",
          "data scientist",
          "data engineer",
          "data engineer",
          "data scientist",
          "data engineer",
          "analyst",
          "data scientist",
          "data engineer",
          "data scientist",
          "data scientist",
          "data engineer",
          "data scientist",
          "analyst",
          "data scientist",
          "data engineer",
          "data scientist",
          "data scientist",
          "data scientist",
          "data scientist",
          "data scientist",
          "data engineer",
          "analyst",
          "data scientist",
          "data scientist",
          "data engineer",
          "analyst",
          "analyst",
          "data scientist",
          "data scientist",
          "data scientist",
          "analyst",
          "machine learning engineer",
          "data scientist",
          "data scientist",
          "analyst",
          "data scientist",
          "machine learning engineer",
          "data scientist",
          "data engineer",
          "machine learning engineer",
          "data engineer",
          "analyst",
          "machine learning engineer",
          "data engineer",
          "data engineer",
          "data scientist",
          "data scientist",
          "analyst",
          "data scientist",
          "data scientist",
          "analyst",
          "data scientist",
          "analyst",
          "analyst",
          "analyst",
          "analyst",
          "analyst",
          "data scientist",
          "data engineer",
          "data engineer",
          "data scientist",
          "analyst",
          "data scientist",
          "data scientist",
          "data scientist",
          "analyst",
          "analyst",
          "data engineer",
          "data scientist",
          "data scientist",
          "data scientist",
          "data scientist",
          "analyst",
          "data scientist",
          "data scientist",
          "data engineer",
          "data engineer",
          "data scientist",
          "analyst",
          "data scientist",
          "data scientist",
          "data scientist",
          "data scientist",
          "data engineer",
          "data scientist",
          "data engineer",
          "analyst",
          "analyst",
          "data engineer",
          "data scientist",
          "data engineer",
          "data engineer",
          "data scientist",
          "analyst",
          "data engineer",
          "data scientist",
          "data scientist",
          "analyst",
          "data engineer",
          "data engineer",
          "data engineer",
          "data scientist",
          "data engineer",
          "analyst",
          "analyst",
          "analyst",
          "data engineer",
          "machine learning engineer",
          "data engineer",
          "data engineer",
          "data scientist",
          "data scientist",
          "data engineer",
          "data scientist",
          "data engineer",
          "data scientist",
          "analyst",
          "data engineer",
          "data scientist",
          "data scientist",
          "data engineer",
          "data scientist",
          "analyst",
          "data scientist",
          "analyst",
          "data engineer",
          "analyst",
          "data scientist",
          "data engineer",
          "data engineer",
          "data scientist",
          "data engineer",
          "data scientist",
          "data engineer",
          "data scientist",
          "data scientist",
          "data engineer",
          "data scientist",
          "analyst",
          "analyst",
          "data engineer",
          "data scientist",
          "analyst",
          "data scientist",
          "data scientist",
          "analyst",
          "data scientist",
          "analyst",
          "data engineer",
          "data engineer",
          "data scientist",
          "data scientist",
          "data scientist",
          "machine learning engineer",
          "data scientist",
          "data scientist",
          "data scientist",
          "data scientist",
          "data scientist",
          "data scientist",
          "data engineer",
          "data engineer",
          "data scientist",
          "data scientist",
          "data scientist",
          "data scientist",
          "data scientist",
          "analyst",
          "data scientist",
          "data scientist",
          "data scientist",
          "data scientist",
          "data scientist",
          "data scientist",
          "data scientist",
          "data engineer",
          "data scientist",
          "data scientist",
          "data engineer",
          "data scientist",
          "analyst",
          "analyst",
          "data scientist",
          "machine learning engineer",
          "data scientist",
          "data scientist",
          "data scientist",
          "data engineer",
          "data scientist",
          "data engineer",
          "data scientist",
          "data scientist",
          "data scientist",
          "data scientist",
          "data scientist",
          "data scientist",
          "data engineer",
          "analyst",
          "data engineer",
          "data scientist",
          "analyst",
          "analyst",
          "data scientist",
          "data scientist",
          "data engineer",
          "machine learning engineer",
          "data scientist",
          "analyst",
          "analyst",
          "analyst",
          "data scientist",
          "analyst",
          "data scientist",
          "data scientist",
          "data engineer",
          "data scientist",
          "analyst",
          "analyst",
          "data engineer",
          "analyst",
          "data engineer",
          "data scientist",
          "analyst",
          "data engineer",
          "data engineer",
          "data engineer",
          "data scientist",
          "data scientist",
          "data engineer",
          "data engineer",
          "data scientist",
          "data engineer",
          "analyst",
          "data scientist",
          "data engineer",
          "analyst",
          "analyst",
          "machine learning engineer",
          "analyst",
          "analyst",
          "analyst",
          "data scientist",
          "data engineer",
          "data scientist",
          "data scientist",
          "data scientist",
          "data scientist",
          "data scientist",
          "data scientist",
          "data scientist",
          "data scientist",
          "data scientist",
          "machine learning engineer",
          "data engineer"
         ],
         "xaxis": "x",
         "yaxis": "y"
        }
       ],
       "layout": {
        "barmode": "relative",
        "legend": {
         "title": {
          "text": "variable"
         },
         "tracegroupgap": 0
        },
        "margin": {
         "t": 60
        },
        "template": {
         "data": {
          "bar": [
           {
            "error_x": {
             "color": "#2a3f5f"
            },
            "error_y": {
             "color": "#2a3f5f"
            },
            "marker": {
             "line": {
              "color": "#E5ECF6",
              "width": 0.5
             },
             "pattern": {
              "fillmode": "overlay",
              "size": 10,
              "solidity": 0.2
             }
            },
            "type": "bar"
           }
          ],
          "barpolar": [
           {
            "marker": {
             "line": {
              "color": "#E5ECF6",
              "width": 0.5
             },
             "pattern": {
              "fillmode": "overlay",
              "size": 10,
              "solidity": 0.2
             }
            },
            "type": "barpolar"
           }
          ],
          "carpet": [
           {
            "aaxis": {
             "endlinecolor": "#2a3f5f",
             "gridcolor": "white",
             "linecolor": "white",
             "minorgridcolor": "white",
             "startlinecolor": "#2a3f5f"
            },
            "baxis": {
             "endlinecolor": "#2a3f5f",
             "gridcolor": "white",
             "linecolor": "white",
             "minorgridcolor": "white",
             "startlinecolor": "#2a3f5f"
            },
            "type": "carpet"
           }
          ],
          "choropleth": [
           {
            "colorbar": {
             "outlinewidth": 0,
             "ticks": ""
            },
            "type": "choropleth"
           }
          ],
          "contour": [
           {
            "colorbar": {
             "outlinewidth": 0,
             "ticks": ""
            },
            "colorscale": [
             [
              0,
              "#0d0887"
             ],
             [
              0.1111111111111111,
              "#46039f"
             ],
             [
              0.2222222222222222,
              "#7201a8"
             ],
             [
              0.3333333333333333,
              "#9c179e"
             ],
             [
              0.4444444444444444,
              "#bd3786"
             ],
             [
              0.5555555555555556,
              "#d8576b"
             ],
             [
              0.6666666666666666,
              "#ed7953"
             ],
             [
              0.7777777777777778,
              "#fb9f3a"
             ],
             [
              0.8888888888888888,
              "#fdca26"
             ],
             [
              1,
              "#f0f921"
             ]
            ],
            "type": "contour"
           }
          ],
          "contourcarpet": [
           {
            "colorbar": {
             "outlinewidth": 0,
             "ticks": ""
            },
            "type": "contourcarpet"
           }
          ],
          "heatmap": [
           {
            "colorbar": {
             "outlinewidth": 0,
             "ticks": ""
            },
            "colorscale": [
             [
              0,
              "#0d0887"
             ],
             [
              0.1111111111111111,
              "#46039f"
             ],
             [
              0.2222222222222222,
              "#7201a8"
             ],
             [
              0.3333333333333333,
              "#9c179e"
             ],
             [
              0.4444444444444444,
              "#bd3786"
             ],
             [
              0.5555555555555556,
              "#d8576b"
             ],
             [
              0.6666666666666666,
              "#ed7953"
             ],
             [
              0.7777777777777778,
              "#fb9f3a"
             ],
             [
              0.8888888888888888,
              "#fdca26"
             ],
             [
              1,
              "#f0f921"
             ]
            ],
            "type": "heatmap"
           }
          ],
          "heatmapgl": [
           {
            "colorbar": {
             "outlinewidth": 0,
             "ticks": ""
            },
            "colorscale": [
             [
              0,
              "#0d0887"
             ],
             [
              0.1111111111111111,
              "#46039f"
             ],
             [
              0.2222222222222222,
              "#7201a8"
             ],
             [
              0.3333333333333333,
              "#9c179e"
             ],
             [
              0.4444444444444444,
              "#bd3786"
             ],
             [
              0.5555555555555556,
              "#d8576b"
             ],
             [
              0.6666666666666666,
              "#ed7953"
             ],
             [
              0.7777777777777778,
              "#fb9f3a"
             ],
             [
              0.8888888888888888,
              "#fdca26"
             ],
             [
              1,
              "#f0f921"
             ]
            ],
            "type": "heatmapgl"
           }
          ],
          "histogram": [
           {
            "marker": {
             "pattern": {
              "fillmode": "overlay",
              "size": 10,
              "solidity": 0.2
             }
            },
            "type": "histogram"
           }
          ],
          "histogram2d": [
           {
            "colorbar": {
             "outlinewidth": 0,
             "ticks": ""
            },
            "colorscale": [
             [
              0,
              "#0d0887"
             ],
             [
              0.1111111111111111,
              "#46039f"
             ],
             [
              0.2222222222222222,
              "#7201a8"
             ],
             [
              0.3333333333333333,
              "#9c179e"
             ],
             [
              0.4444444444444444,
              "#bd3786"
             ],
             [
              0.5555555555555556,
              "#d8576b"
             ],
             [
              0.6666666666666666,
              "#ed7953"
             ],
             [
              0.7777777777777778,
              "#fb9f3a"
             ],
             [
              0.8888888888888888,
              "#fdca26"
             ],
             [
              1,
              "#f0f921"
             ]
            ],
            "type": "histogram2d"
           }
          ],
          "histogram2dcontour": [
           {
            "colorbar": {
             "outlinewidth": 0,
             "ticks": ""
            },
            "colorscale": [
             [
              0,
              "#0d0887"
             ],
             [
              0.1111111111111111,
              "#46039f"
             ],
             [
              0.2222222222222222,
              "#7201a8"
             ],
             [
              0.3333333333333333,
              "#9c179e"
             ],
             [
              0.4444444444444444,
              "#bd3786"
             ],
             [
              0.5555555555555556,
              "#d8576b"
             ],
             [
              0.6666666666666666,
              "#ed7953"
             ],
             [
              0.7777777777777778,
              "#fb9f3a"
             ],
             [
              0.8888888888888888,
              "#fdca26"
             ],
             [
              1,
              "#f0f921"
             ]
            ],
            "type": "histogram2dcontour"
           }
          ],
          "mesh3d": [
           {
            "colorbar": {
             "outlinewidth": 0,
             "ticks": ""
            },
            "type": "mesh3d"
           }
          ],
          "parcoords": [
           {
            "line": {
             "colorbar": {
              "outlinewidth": 0,
              "ticks": ""
             }
            },
            "type": "parcoords"
           }
          ],
          "pie": [
           {
            "automargin": true,
            "type": "pie"
           }
          ],
          "scatter": [
           {
            "fillpattern": {
             "fillmode": "overlay",
             "size": 10,
             "solidity": 0.2
            },
            "type": "scatter"
           }
          ],
          "scatter3d": [
           {
            "line": {
             "colorbar": {
              "outlinewidth": 0,
              "ticks": ""
             }
            },
            "marker": {
             "colorbar": {
              "outlinewidth": 0,
              "ticks": ""
             }
            },
            "type": "scatter3d"
           }
          ],
          "scattercarpet": [
           {
            "marker": {
             "colorbar": {
              "outlinewidth": 0,
              "ticks": ""
             }
            },
            "type": "scattercarpet"
           }
          ],
          "scattergeo": [
           {
            "marker": {
             "colorbar": {
              "outlinewidth": 0,
              "ticks": ""
             }
            },
            "type": "scattergeo"
           }
          ],
          "scattergl": [
           {
            "marker": {
             "colorbar": {
              "outlinewidth": 0,
              "ticks": ""
             }
            },
            "type": "scattergl"
           }
          ],
          "scattermapbox": [
           {
            "marker": {
             "colorbar": {
              "outlinewidth": 0,
              "ticks": ""
             }
            },
            "type": "scattermapbox"
           }
          ],
          "scatterpolar": [
           {
            "marker": {
             "colorbar": {
              "outlinewidth": 0,
              "ticks": ""
             }
            },
            "type": "scatterpolar"
           }
          ],
          "scatterpolargl": [
           {
            "marker": {
             "colorbar": {
              "outlinewidth": 0,
              "ticks": ""
             }
            },
            "type": "scatterpolargl"
           }
          ],
          "scatterternary": [
           {
            "marker": {
             "colorbar": {
              "outlinewidth": 0,
              "ticks": ""
             }
            },
            "type": "scatterternary"
           }
          ],
          "surface": [
           {
            "colorbar": {
             "outlinewidth": 0,
             "ticks": ""
            },
            "colorscale": [
             [
              0,
              "#0d0887"
             ],
             [
              0.1111111111111111,
              "#46039f"
             ],
             [
              0.2222222222222222,
              "#7201a8"
             ],
             [
              0.3333333333333333,
              "#9c179e"
             ],
             [
              0.4444444444444444,
              "#bd3786"
             ],
             [
              0.5555555555555556,
              "#d8576b"
             ],
             [
              0.6666666666666666,
              "#ed7953"
             ],
             [
              0.7777777777777778,
              "#fb9f3a"
             ],
             [
              0.8888888888888888,
              "#fdca26"
             ],
             [
              1,
              "#f0f921"
             ]
            ],
            "type": "surface"
           }
          ],
          "table": [
           {
            "cells": {
             "fill": {
              "color": "#EBF0F8"
             },
             "line": {
              "color": "white"
             }
            },
            "header": {
             "fill": {
              "color": "#C8D4E3"
             },
             "line": {
              "color": "white"
             }
            },
            "type": "table"
           }
          ]
         },
         "layout": {
          "annotationdefaults": {
           "arrowcolor": "#2a3f5f",
           "arrowhead": 0,
           "arrowwidth": 1
          },
          "autotypenumbers": "strict",
          "coloraxis": {
           "colorbar": {
            "outlinewidth": 0,
            "ticks": ""
           }
          },
          "colorscale": {
           "diverging": [
            [
             0,
             "#8e0152"
            ],
            [
             0.1,
             "#c51b7d"
            ],
            [
             0.2,
             "#de77ae"
            ],
            [
             0.3,
             "#f1b6da"
            ],
            [
             0.4,
             "#fde0ef"
            ],
            [
             0.5,
             "#f7f7f7"
            ],
            [
             0.6,
             "#e6f5d0"
            ],
            [
             0.7,
             "#b8e186"
            ],
            [
             0.8,
             "#7fbc41"
            ],
            [
             0.9,
             "#4d9221"
            ],
            [
             1,
             "#276419"
            ]
           ],
           "sequential": [
            [
             0,
             "#0d0887"
            ],
            [
             0.1111111111111111,
             "#46039f"
            ],
            [
             0.2222222222222222,
             "#7201a8"
            ],
            [
             0.3333333333333333,
             "#9c179e"
            ],
            [
             0.4444444444444444,
             "#bd3786"
            ],
            [
             0.5555555555555556,
             "#d8576b"
            ],
            [
             0.6666666666666666,
             "#ed7953"
            ],
            [
             0.7777777777777778,
             "#fb9f3a"
            ],
            [
             0.8888888888888888,
             "#fdca26"
            ],
            [
             1,
             "#f0f921"
            ]
           ],
           "sequentialminus": [
            [
             0,
             "#0d0887"
            ],
            [
             0.1111111111111111,
             "#46039f"
            ],
            [
             0.2222222222222222,
             "#7201a8"
            ],
            [
             0.3333333333333333,
             "#9c179e"
            ],
            [
             0.4444444444444444,
             "#bd3786"
            ],
            [
             0.5555555555555556,
             "#d8576b"
            ],
            [
             0.6666666666666666,
             "#ed7953"
            ],
            [
             0.7777777777777778,
             "#fb9f3a"
            ],
            [
             0.8888888888888888,
             "#fdca26"
            ],
            [
             1,
             "#f0f921"
            ]
           ]
          },
          "colorway": [
           "#636efa",
           "#EF553B",
           "#00cc96",
           "#ab63fa",
           "#FFA15A",
           "#19d3f3",
           "#FF6692",
           "#B6E880",
           "#FF97FF",
           "#FECB52"
          ],
          "font": {
           "color": "#2a3f5f"
          },
          "geo": {
           "bgcolor": "white",
           "lakecolor": "white",
           "landcolor": "#E5ECF6",
           "showlakes": true,
           "showland": true,
           "subunitcolor": "white"
          },
          "hoverlabel": {
           "align": "left"
          },
          "hovermode": "closest",
          "mapbox": {
           "style": "light"
          },
          "paper_bgcolor": "white",
          "plot_bgcolor": "#E5ECF6",
          "polar": {
           "angularaxis": {
            "gridcolor": "white",
            "linecolor": "white",
            "ticks": ""
           },
           "bgcolor": "#E5ECF6",
           "radialaxis": {
            "gridcolor": "white",
            "linecolor": "white",
            "ticks": ""
           }
          },
          "scene": {
           "xaxis": {
            "backgroundcolor": "#E5ECF6",
            "gridcolor": "white",
            "gridwidth": 2,
            "linecolor": "white",
            "showbackground": true,
            "ticks": "",
            "zerolinecolor": "white"
           },
           "yaxis": {
            "backgroundcolor": "#E5ECF6",
            "gridcolor": "white",
            "gridwidth": 2,
            "linecolor": "white",
            "showbackground": true,
            "ticks": "",
            "zerolinecolor": "white"
           },
           "zaxis": {
            "backgroundcolor": "#E5ECF6",
            "gridcolor": "white",
            "gridwidth": 2,
            "linecolor": "white",
            "showbackground": true,
            "ticks": "",
            "zerolinecolor": "white"
           }
          },
          "shapedefaults": {
           "line": {
            "color": "#2a3f5f"
           }
          },
          "ternary": {
           "aaxis": {
            "gridcolor": "white",
            "linecolor": "white",
            "ticks": ""
           },
           "baxis": {
            "gridcolor": "white",
            "linecolor": "white",
            "ticks": ""
           },
           "bgcolor": "#E5ECF6",
           "caxis": {
            "gridcolor": "white",
            "linecolor": "white",
            "ticks": ""
           }
          },
          "title": {
           "x": 0.05
          },
          "xaxis": {
           "automargin": true,
           "gridcolor": "white",
           "linecolor": "white",
           "ticks": "",
           "title": {
            "standoff": 15
           },
           "zerolinecolor": "white",
           "zerolinewidth": 2
          },
          "yaxis": {
           "automargin": true,
           "gridcolor": "white",
           "linecolor": "white",
           "ticks": "",
           "title": {
            "standoff": 15
           },
           "zerolinecolor": "white",
           "zerolinewidth": 2
          }
         }
        },
        "xaxis": {
         "anchor": "y",
         "categoryorder": "total descending",
         "domain": [
          0,
          1
         ],
         "title": {
          "text": "value"
         }
        },
        "yaxis": {
         "anchor": "x",
         "domain": [
          0,
          1
         ],
         "title": {
          "text": "count"
         }
        }
       }
      },
      "text/html": [
       "<div>                            <div id=\"c9396f5b-ed38-48d3-bd1e-ab2903b07896\" class=\"plotly-graph-div\" style=\"height:525px; width:100%;\"></div>            <script type=\"text/javascript\">                require([\"plotly\"], function(Plotly) {                    window.PLOTLYENV=window.PLOTLYENV || {};                                    if (document.getElementById(\"c9396f5b-ed38-48d3-bd1e-ab2903b07896\")) {                    Plotly.newPlot(                        \"c9396f5b-ed38-48d3-bd1e-ab2903b07896\",                        [{\"alignmentgroup\":\"True\",\"bingroup\":\"x\",\"hovertemplate\":\"variable=Job<br>value=%{x}<br>count=%{y}<extra></extra>\",\"legendgroup\":\"Job\",\"marker\":{\"color\":\"#636efa\",\"pattern\":{\"shape\":\"\"}},\"name\":\"Job\",\"offsetgroup\":\"Job\",\"orientation\":\"v\",\"showlegend\":true,\"x\":[\"data scientist\",\"data scientist\",\"data scientist\",\"data scientist\",\"data scientist\",\"data scientist\",\"data scientist\",\"data scientist\",\"data scientist\",\"data scientist\",\"data scientist\",\"data scientist\",\"analyst\",\"data scientist\",\"data engineer\",\"data scientist\",\"data scientist\",\"data scientist\",\"data scientist\",\"data scientist\",\"data scientist\",\"data scientist\",\"data scientist\",\"data scientist\",\"data scientist\",\"analyst\",\"data scientist\",\"data scientist\",\"data scientist\",\"data scientist\",\"data scientist\",\"analyst\",\"data scientist\",\"data scientist\",\"data scientist\",\"data engineer\",\"analyst\",\"data engineer\",\"data scientist\",\"data scientist\",\"data scientist\",\"data scientist\",\"analyst\",\"data scientist\",\"data scientist\",\"data scientist\",\"data scientist\",\"data scientist\",\"data scientist\",\"data scientist\",\"data scientist\",\"data scientist\",\"data scientist\",\"data scientist\",\"data scientist\",\"data scientist\",\"data scientist\",\"data scientist\",\"data scientist\",\"data scientist\",\"data scientist\",\"data scientist\",\"data scientist\",\"data scientist\",\"data scientist\",\"data scientist\",\"data scientist\",\"data scientist\",\"data scientist\",\"analyst\",\"data scientist\",\"analyst\",\"data engineer\",\"analyst\",\"data scientist\",\"analyst\",\"data scientist\",\"analyst\",\"data scientist\",\"data scientist\",\"analyst\",\"data scientist\",\"data scientist\",\"data scientist\",\"data scientist\",\"data scientist\",\"data engineer\",\"data scientist\",\"analyst\",\"analyst\",\"data scientist\",\"data engineer\",\"data scientist\",\"data engineer\",\"data scientist\",\"data scientist\",\"data engineer\",\"data scientist\",\"data engineer\",\"data scientist\",\"data scientist\",\"data engineer\",\"data engineer\",\"analyst\",\"data scientist\",\"data scientist\",\"data scientist\",\"data scientist\",\"data scientist\",\"machine learning engineer\",\"data scientist\",\"data engineer\",\"data engineer\",\"data scientist\",\"data engineer\",\"analyst\",\"data scientist\",\"data engineer\",\"data scientist\",\"data scientist\",\"data engineer\",\"data scientist\",\"analyst\",\"data scientist\",\"data engineer\",\"data scientist\",\"data scientist\",\"data scientist\",\"data scientist\",\"data scientist\",\"data engineer\",\"analyst\",\"data scientist\",\"data scientist\",\"data engineer\",\"analyst\",\"analyst\",\"data scientist\",\"data scientist\",\"data scientist\",\"analyst\",\"machine learning engineer\",\"data scientist\",\"data scientist\",\"analyst\",\"data scientist\",\"machine learning engineer\",\"data scientist\",\"data engineer\",\"machine learning engineer\",\"data engineer\",\"analyst\",\"machine learning engineer\",\"data engineer\",\"data engineer\",\"data scientist\",\"data scientist\",\"analyst\",\"data scientist\",\"data scientist\",\"analyst\",\"data scientist\",\"analyst\",\"analyst\",\"analyst\",\"analyst\",\"analyst\",\"data scientist\",\"data engineer\",\"data engineer\",\"data scientist\",\"analyst\",\"data scientist\",\"data scientist\",\"data scientist\",\"analyst\",\"analyst\",\"data engineer\",\"data scientist\",\"data scientist\",\"data scientist\",\"data scientist\",\"analyst\",\"data scientist\",\"data scientist\",\"data engineer\",\"data engineer\",\"data scientist\",\"analyst\",\"data scientist\",\"data scientist\",\"data scientist\",\"data scientist\",\"data engineer\",\"data scientist\",\"data engineer\",\"analyst\",\"analyst\",\"data engineer\",\"data scientist\",\"data engineer\",\"data engineer\",\"data scientist\",\"analyst\",\"data engineer\",\"data scientist\",\"data scientist\",\"analyst\",\"data engineer\",\"data engineer\",\"data engineer\",\"data scientist\",\"data engineer\",\"analyst\",\"analyst\",\"analyst\",\"data engineer\",\"machine learning engineer\",\"data engineer\",\"data engineer\",\"data scientist\",\"data scientist\",\"data engineer\",\"data scientist\",\"data engineer\",\"data scientist\",\"analyst\",\"data engineer\",\"data scientist\",\"data scientist\",\"data engineer\",\"data scientist\",\"analyst\",\"data scientist\",\"analyst\",\"data engineer\",\"analyst\",\"data scientist\",\"data engineer\",\"data engineer\",\"data scientist\",\"data engineer\",\"data scientist\",\"data engineer\",\"data scientist\",\"data scientist\",\"data engineer\",\"data scientist\",\"analyst\",\"analyst\",\"data engineer\",\"data scientist\",\"analyst\",\"data scientist\",\"data scientist\",\"analyst\",\"data scientist\",\"analyst\",\"data engineer\",\"data engineer\",\"data scientist\",\"data scientist\",\"data scientist\",\"machine learning engineer\",\"data scientist\",\"data scientist\",\"data scientist\",\"data scientist\",\"data scientist\",\"data scientist\",\"data engineer\",\"data engineer\",\"data scientist\",\"data scientist\",\"data scientist\",\"data scientist\",\"data scientist\",\"analyst\",\"data scientist\",\"data scientist\",\"data scientist\",\"data scientist\",\"data scientist\",\"data scientist\",\"data scientist\",\"data engineer\",\"data scientist\",\"data scientist\",\"data engineer\",\"data scientist\",\"analyst\",\"analyst\",\"data scientist\",\"machine learning engineer\",\"data scientist\",\"data scientist\",\"data scientist\",\"data engineer\",\"data scientist\",\"data engineer\",\"data scientist\",\"data scientist\",\"data scientist\",\"data scientist\",\"data scientist\",\"data scientist\",\"data engineer\",\"analyst\",\"data engineer\",\"data scientist\",\"analyst\",\"analyst\",\"data scientist\",\"data scientist\",\"data engineer\",\"machine learning engineer\",\"data scientist\",\"analyst\",\"analyst\",\"analyst\",\"data scientist\",\"analyst\",\"data scientist\",\"data scientist\",\"data engineer\",\"data scientist\",\"analyst\",\"analyst\",\"data engineer\",\"analyst\",\"data engineer\",\"data scientist\",\"analyst\",\"data engineer\",\"data engineer\",\"data engineer\",\"data scientist\",\"data scientist\",\"data engineer\",\"data engineer\",\"data scientist\",\"data engineer\",\"analyst\",\"data scientist\",\"data engineer\",\"analyst\",\"analyst\",\"machine learning engineer\",\"analyst\",\"analyst\",\"analyst\",\"data scientist\",\"data engineer\",\"data scientist\",\"data scientist\",\"data scientist\",\"data scientist\",\"data scientist\",\"data scientist\",\"data scientist\",\"data scientist\",\"data scientist\",\"machine learning engineer\",\"data engineer\"],\"xaxis\":\"x\",\"yaxis\":\"y\",\"type\":\"histogram\"}],                        {\"template\":{\"data\":{\"histogram2dcontour\":[{\"type\":\"histogram2dcontour\",\"colorbar\":{\"outlinewidth\":0,\"ticks\":\"\"},\"colorscale\":[[0.0,\"#0d0887\"],[0.1111111111111111,\"#46039f\"],[0.2222222222222222,\"#7201a8\"],[0.3333333333333333,\"#9c179e\"],[0.4444444444444444,\"#bd3786\"],[0.5555555555555556,\"#d8576b\"],[0.6666666666666666,\"#ed7953\"],[0.7777777777777778,\"#fb9f3a\"],[0.8888888888888888,\"#fdca26\"],[1.0,\"#f0f921\"]]}],\"choropleth\":[{\"type\":\"choropleth\",\"colorbar\":{\"outlinewidth\":0,\"ticks\":\"\"}}],\"histogram2d\":[{\"type\":\"histogram2d\",\"colorbar\":{\"outlinewidth\":0,\"ticks\":\"\"},\"colorscale\":[[0.0,\"#0d0887\"],[0.1111111111111111,\"#46039f\"],[0.2222222222222222,\"#7201a8\"],[0.3333333333333333,\"#9c179e\"],[0.4444444444444444,\"#bd3786\"],[0.5555555555555556,\"#d8576b\"],[0.6666666666666666,\"#ed7953\"],[0.7777777777777778,\"#fb9f3a\"],[0.8888888888888888,\"#fdca26\"],[1.0,\"#f0f921\"]]}],\"heatmap\":[{\"type\":\"heatmap\",\"colorbar\":{\"outlinewidth\":0,\"ticks\":\"\"},\"colorscale\":[[0.0,\"#0d0887\"],[0.1111111111111111,\"#46039f\"],[0.2222222222222222,\"#7201a8\"],[0.3333333333333333,\"#9c179e\"],[0.4444444444444444,\"#bd3786\"],[0.5555555555555556,\"#d8576b\"],[0.6666666666666666,\"#ed7953\"],[0.7777777777777778,\"#fb9f3a\"],[0.8888888888888888,\"#fdca26\"],[1.0,\"#f0f921\"]]}],\"heatmapgl\":[{\"type\":\"heatmapgl\",\"colorbar\":{\"outlinewidth\":0,\"ticks\":\"\"},\"colorscale\":[[0.0,\"#0d0887\"],[0.1111111111111111,\"#46039f\"],[0.2222222222222222,\"#7201a8\"],[0.3333333333333333,\"#9c179e\"],[0.4444444444444444,\"#bd3786\"],[0.5555555555555556,\"#d8576b\"],[0.6666666666666666,\"#ed7953\"],[0.7777777777777778,\"#fb9f3a\"],[0.8888888888888888,\"#fdca26\"],[1.0,\"#f0f921\"]]}],\"contourcarpet\":[{\"type\":\"contourcarpet\",\"colorbar\":{\"outlinewidth\":0,\"ticks\":\"\"}}],\"contour\":[{\"type\":\"contour\",\"colorbar\":{\"outlinewidth\":0,\"ticks\":\"\"},\"colorscale\":[[0.0,\"#0d0887\"],[0.1111111111111111,\"#46039f\"],[0.2222222222222222,\"#7201a8\"],[0.3333333333333333,\"#9c179e\"],[0.4444444444444444,\"#bd3786\"],[0.5555555555555556,\"#d8576b\"],[0.6666666666666666,\"#ed7953\"],[0.7777777777777778,\"#fb9f3a\"],[0.8888888888888888,\"#fdca26\"],[1.0,\"#f0f921\"]]}],\"surface\":[{\"type\":\"surface\",\"colorbar\":{\"outlinewidth\":0,\"ticks\":\"\"},\"colorscale\":[[0.0,\"#0d0887\"],[0.1111111111111111,\"#46039f\"],[0.2222222222222222,\"#7201a8\"],[0.3333333333333333,\"#9c179e\"],[0.4444444444444444,\"#bd3786\"],[0.5555555555555556,\"#d8576b\"],[0.6666666666666666,\"#ed7953\"],[0.7777777777777778,\"#fb9f3a\"],[0.8888888888888888,\"#fdca26\"],[1.0,\"#f0f921\"]]}],\"mesh3d\":[{\"type\":\"mesh3d\",\"colorbar\":{\"outlinewidth\":0,\"ticks\":\"\"}}],\"scatter\":[{\"fillpattern\":{\"fillmode\":\"overlay\",\"size\":10,\"solidity\":0.2},\"type\":\"scatter\"}],\"parcoords\":[{\"type\":\"parcoords\",\"line\":{\"colorbar\":{\"outlinewidth\":0,\"ticks\":\"\"}}}],\"scatterpolargl\":[{\"type\":\"scatterpolargl\",\"marker\":{\"colorbar\":{\"outlinewidth\":0,\"ticks\":\"\"}}}],\"bar\":[{\"error_x\":{\"color\":\"#2a3f5f\"},\"error_y\":{\"color\":\"#2a3f5f\"},\"marker\":{\"line\":{\"color\":\"#E5ECF6\",\"width\":0.5},\"pattern\":{\"fillmode\":\"overlay\",\"size\":10,\"solidity\":0.2}},\"type\":\"bar\"}],\"scattergeo\":[{\"type\":\"scattergeo\",\"marker\":{\"colorbar\":{\"outlinewidth\":0,\"ticks\":\"\"}}}],\"scatterpolar\":[{\"type\":\"scatterpolar\",\"marker\":{\"colorbar\":{\"outlinewidth\":0,\"ticks\":\"\"}}}],\"histogram\":[{\"marker\":{\"pattern\":{\"fillmode\":\"overlay\",\"size\":10,\"solidity\":0.2}},\"type\":\"histogram\"}],\"scattergl\":[{\"type\":\"scattergl\",\"marker\":{\"colorbar\":{\"outlinewidth\":0,\"ticks\":\"\"}}}],\"scatter3d\":[{\"type\":\"scatter3d\",\"line\":{\"colorbar\":{\"outlinewidth\":0,\"ticks\":\"\"}},\"marker\":{\"colorbar\":{\"outlinewidth\":0,\"ticks\":\"\"}}}],\"scattermapbox\":[{\"type\":\"scattermapbox\",\"marker\":{\"colorbar\":{\"outlinewidth\":0,\"ticks\":\"\"}}}],\"scatterternary\":[{\"type\":\"scatterternary\",\"marker\":{\"colorbar\":{\"outlinewidth\":0,\"ticks\":\"\"}}}],\"scattercarpet\":[{\"type\":\"scattercarpet\",\"marker\":{\"colorbar\":{\"outlinewidth\":0,\"ticks\":\"\"}}}],\"carpet\":[{\"aaxis\":{\"endlinecolor\":\"#2a3f5f\",\"gridcolor\":\"white\",\"linecolor\":\"white\",\"minorgridcolor\":\"white\",\"startlinecolor\":\"#2a3f5f\"},\"baxis\":{\"endlinecolor\":\"#2a3f5f\",\"gridcolor\":\"white\",\"linecolor\":\"white\",\"minorgridcolor\":\"white\",\"startlinecolor\":\"#2a3f5f\"},\"type\":\"carpet\"}],\"table\":[{\"cells\":{\"fill\":{\"color\":\"#EBF0F8\"},\"line\":{\"color\":\"white\"}},\"header\":{\"fill\":{\"color\":\"#C8D4E3\"},\"line\":{\"color\":\"white\"}},\"type\":\"table\"}],\"barpolar\":[{\"marker\":{\"line\":{\"color\":\"#E5ECF6\",\"width\":0.5},\"pattern\":{\"fillmode\":\"overlay\",\"size\":10,\"solidity\":0.2}},\"type\":\"barpolar\"}],\"pie\":[{\"automargin\":true,\"type\":\"pie\"}]},\"layout\":{\"autotypenumbers\":\"strict\",\"colorway\":[\"#636efa\",\"#EF553B\",\"#00cc96\",\"#ab63fa\",\"#FFA15A\",\"#19d3f3\",\"#FF6692\",\"#B6E880\",\"#FF97FF\",\"#FECB52\"],\"font\":{\"color\":\"#2a3f5f\"},\"hovermode\":\"closest\",\"hoverlabel\":{\"align\":\"left\"},\"paper_bgcolor\":\"white\",\"plot_bgcolor\":\"#E5ECF6\",\"polar\":{\"bgcolor\":\"#E5ECF6\",\"angularaxis\":{\"gridcolor\":\"white\",\"linecolor\":\"white\",\"ticks\":\"\"},\"radialaxis\":{\"gridcolor\":\"white\",\"linecolor\":\"white\",\"ticks\":\"\"}},\"ternary\":{\"bgcolor\":\"#E5ECF6\",\"aaxis\":{\"gridcolor\":\"white\",\"linecolor\":\"white\",\"ticks\":\"\"},\"baxis\":{\"gridcolor\":\"white\",\"linecolor\":\"white\",\"ticks\":\"\"},\"caxis\":{\"gridcolor\":\"white\",\"linecolor\":\"white\",\"ticks\":\"\"}},\"coloraxis\":{\"colorbar\":{\"outlinewidth\":0,\"ticks\":\"\"}},\"colorscale\":{\"sequential\":[[0.0,\"#0d0887\"],[0.1111111111111111,\"#46039f\"],[0.2222222222222222,\"#7201a8\"],[0.3333333333333333,\"#9c179e\"],[0.4444444444444444,\"#bd3786\"],[0.5555555555555556,\"#d8576b\"],[0.6666666666666666,\"#ed7953\"],[0.7777777777777778,\"#fb9f3a\"],[0.8888888888888888,\"#fdca26\"],[1.0,\"#f0f921\"]],\"sequentialminus\":[[0.0,\"#0d0887\"],[0.1111111111111111,\"#46039f\"],[0.2222222222222222,\"#7201a8\"],[0.3333333333333333,\"#9c179e\"],[0.4444444444444444,\"#bd3786\"],[0.5555555555555556,\"#d8576b\"],[0.6666666666666666,\"#ed7953\"],[0.7777777777777778,\"#fb9f3a\"],[0.8888888888888888,\"#fdca26\"],[1.0,\"#f0f921\"]],\"diverging\":[[0,\"#8e0152\"],[0.1,\"#c51b7d\"],[0.2,\"#de77ae\"],[0.3,\"#f1b6da\"],[0.4,\"#fde0ef\"],[0.5,\"#f7f7f7\"],[0.6,\"#e6f5d0\"],[0.7,\"#b8e186\"],[0.8,\"#7fbc41\"],[0.9,\"#4d9221\"],[1,\"#276419\"]]},\"xaxis\":{\"gridcolor\":\"white\",\"linecolor\":\"white\",\"ticks\":\"\",\"title\":{\"standoff\":15},\"zerolinecolor\":\"white\",\"automargin\":true,\"zerolinewidth\":2},\"yaxis\":{\"gridcolor\":\"white\",\"linecolor\":\"white\",\"ticks\":\"\",\"title\":{\"standoff\":15},\"zerolinecolor\":\"white\",\"automargin\":true,\"zerolinewidth\":2},\"scene\":{\"xaxis\":{\"backgroundcolor\":\"#E5ECF6\",\"gridcolor\":\"white\",\"linecolor\":\"white\",\"showbackground\":true,\"ticks\":\"\",\"zerolinecolor\":\"white\",\"gridwidth\":2},\"yaxis\":{\"backgroundcolor\":\"#E5ECF6\",\"gridcolor\":\"white\",\"linecolor\":\"white\",\"showbackground\":true,\"ticks\":\"\",\"zerolinecolor\":\"white\",\"gridwidth\":2},\"zaxis\":{\"backgroundcolor\":\"#E5ECF6\",\"gridcolor\":\"white\",\"linecolor\":\"white\",\"showbackground\":true,\"ticks\":\"\",\"zerolinecolor\":\"white\",\"gridwidth\":2}},\"shapedefaults\":{\"line\":{\"color\":\"#2a3f5f\"}},\"annotationdefaults\":{\"arrowcolor\":\"#2a3f5f\",\"arrowhead\":0,\"arrowwidth\":1},\"geo\":{\"bgcolor\":\"white\",\"landcolor\":\"#E5ECF6\",\"subunitcolor\":\"white\",\"showland\":true,\"showlakes\":true,\"lakecolor\":\"white\"},\"title\":{\"x\":0.05},\"mapbox\":{\"style\":\"light\"}}},\"xaxis\":{\"anchor\":\"y\",\"domain\":[0.0,1.0],\"title\":{\"text\":\"value\"},\"categoryorder\":\"total descending\"},\"yaxis\":{\"anchor\":\"x\",\"domain\":[0.0,1.0],\"title\":{\"text\":\"count\"}},\"legend\":{\"title\":{\"text\":\"variable\"},\"tracegroupgap\":0},\"margin\":{\"t\":60},\"barmode\":\"relative\"},                        {\"responsive\": true}                    ).then(function(){\n",
       "                            \n",
       "var gd = document.getElementById('c9396f5b-ed38-48d3-bd1e-ab2903b07896');\n",
       "var x = new MutationObserver(function (mutations, observer) {{\n",
       "        var display = window.getComputedStyle(gd).display;\n",
       "        if (!display || display === 'none') {{\n",
       "            console.log([gd, 'removed!']);\n",
       "            Plotly.purge(gd);\n",
       "            observer.disconnect();\n",
       "        }}\n",
       "}});\n",
       "\n",
       "// Listen for the removal of the full notebook cells\n",
       "var notebookContainer = gd.closest('#notebook-container');\n",
       "if (notebookContainer) {{\n",
       "    x.observe(notebookContainer, {childList: true});\n",
       "}}\n",
       "\n",
       "// Listen for the clearing of the current output cell\n",
       "var outputEl = gd.closest('.output');\n",
       "if (outputEl) {{\n",
       "    x.observe(outputEl, {childList: true});\n",
       "}}\n",
       "\n",
       "                        })                };                });            </script>        </div>"
      ]
     },
     "metadata": {},
     "output_type": "display_data"
    }
   ],
   "source": [
    "print(sum(df_dsc['Job']=='na'))\n",
    "df_job = df_dsc.drop(df_dsc.loc[df_dsc['Job']=='na'].index)\n",
    "fig = px.histogram(df_job['Job'])\n",
    "fig.update_layout(xaxis={'categoryorder':'total descending'})\n",
    "fig.show()"
   ]
  },
  {
   "cell_type": "markdown",
   "id": "d7a2e5d0",
   "metadata": {},
   "source": [
    "✔︎ Industry 컬럼"
   ]
  },
  {
   "cell_type": "code",
   "execution_count": 224,
   "id": "6bce1c85",
   "metadata": {},
   "outputs": [
    {
     "data": {
      "application/vnd.plotly.v1+json": {
       "config": {
        "plotlyServerURL": "https://plot.ly"
       },
       "data": [
        {
         "alignmentgroup": "True",
         "bingroup": "x",
         "hovertemplate": "Industry=%{x}<br>count=%{y}<extra></extra>",
         "legendgroup": "",
         "marker": {
          "color": "#636efa",
          "pattern": {
           "shape": ""
          }
         },
         "name": "",
         "offsetgroup": "",
         "orientation": "v",
         "showlegend": false,
         "type": "histogram",
         "x": [
          "Aerospace & Defense",
          "Health Care Services & Hospitals",
          "Security Services",
          "Energy",
          "Advertising & Marketing",
          "Real Estate",
          "Banks & Credit Unions",
          "Consulting",
          "Internet",
          "Other Retail Stores",
          "Research & Development",
          "Department, Clothing, & Shoe Stores",
          "Advertising & Marketing",
          "Biotech & Pharmaceuticals",
          "Motion Picture Production & Distribution",
          "Enterprise Software & Network Solutions",
          "Enterprise Software & Network Solutions",
          "Insurance Carriers",
          "Internet",
          "Insurance Agencies & Brokerages",
          "Logistics & Supply Chain",
          "Logistics & Supply Chain",
          "Enterprise Software & Network Solutions",
          "Biotech & Pharmaceuticals",
          "Banks & Credit Unions",
          "Insurance Carriers",
          "Biotech & Pharmaceuticals",
          "Real Estate",
          "Biotech & Pharmaceuticals",
          "Telecommunications Services",
          "Biotech & Pharmaceuticals",
          "IT Services",
          "Computer Hardware & Software",
          "Aerospace & Defense",
          "Biotech & Pharmaceuticals",
          "Insurance Carriers",
          "IT Services",
          "Enterprise Software & Network Solutions",
          "Real Estate",
          "Enterprise Software & Network Solutions",
          "IT Services",
          "Enterprise Software & Network Solutions",
          "Industrial Manufacturing",
          "Advertising & Marketing",
          "Insurance Carriers",
          "Aerospace & Defense",
          "Insurance Agencies & Brokerages",
          "Aerospace & Defense",
          "Biotech & Pharmaceuticals",
          "Enterprise Software & Network Solutions",
          "IT Services",
          "Metals Brokers",
          "Consulting",
          "Financial Transaction Processing",
          "Energy",
          "Sporting Goods Stores",
          "Biotech & Pharmaceuticals",
          "Computer Hardware & Software",
          "Advertising & Marketing",
          "Staffing & Outsourcing",
          "Wholesale",
          "IT Services",
          "Mining",
          "Computer Hardware & Software",
          "Enterprise Software & Network Solutions",
          "Aerospace & Defense",
          "IT Services",
          "Health Care Services & Hospitals",
          "Advertising & Marketing",
          "Aerospace & Defense",
          "Computer Hardware & Software",
          "Consulting",
          "Wholesale",
          "Enterprise Software & Network Solutions",
          "Enterprise Software & Network Solutions",
          "Financial Analytics & Research",
          "IT Services",
          "Federal Agencies",
          "IT Services",
          "Insurance Carriers",
          "IT Services",
          "Research & Development",
          "Security Services",
          "Education Training Services",
          "Consulting",
          "IT Services",
          "Transportation Equipment Manufacturing",
          "Computer Hardware & Software",
          "Enterprise Software & Network Solutions",
          "Computer Hardware & Software",
          "Internet",
          "Enterprise Software & Network Solutions",
          "Computer Hardware & Software",
          "Farm Support Services",
          "Health Care Services & Hospitals",
          "Consulting",
          "Health Care Services & Hospitals",
          "Advertising & Marketing",
          "Enterprise Software & Network Solutions",
          "TV Broadcast & Cable Networks",
          "Internet",
          "Real Estate",
          "Research & Development",
          "Industrial Manufacturing",
          "IT Services",
          "Consulting",
          "Enterprise Software & Network Solutions",
          "Brokerage Services",
          "Aerospace & Defense",
          "Consulting",
          "IT Services",
          "Computer Hardware & Software",
          "Travel Agencies",
          "Religious Organizations",
          "Real Estate",
          "Energy",
          "IT Services",
          "Enterprise Software & Network Solutions",
          "Advertising & Marketing",
          "Insurance Carriers",
          "Energy",
          "Security Services",
          "Consulting",
          "Internet",
          "Insurance Carriers",
          "Biotech & Pharmaceuticals",
          "Telecommunications Services",
          "Insurance Carriers",
          "Computer Hardware & Software",
          "Religious Organizations",
          "Colleges & Universities",
          "Investment Banking & Asset Management",
          "Computer Hardware & Software",
          "Advertising & Marketing",
          "Department, Clothing, & Shoe Stores",
          "IT Services",
          "Insurance Carriers",
          "IT Services",
          "Insurance Carriers",
          "Energy",
          "Colleges & Universities",
          "Lending",
          "Financial Analytics & Research",
          "Aerospace & Defense",
          "Insurance Carriers",
          "Biotech & Pharmaceuticals",
          "Biotech & Pharmaceuticals",
          "Computer Hardware & Software",
          "Internet",
          "Internet",
          "Gambling",
          "Colleges & Universities",
          "Gas Stations",
          "Transportation Management",
          "Aerospace & Defense",
          "Insurance Carriers",
          "Travel Agencies",
          "Consulting",
          "Advertising & Marketing",
          "Video Games",
          "Federal Agencies",
          "Trucking",
          "Social Assistance",
          "Enterprise Software & Network Solutions",
          "Computer Hardware & Software",
          "Enterprise Software & Network Solutions",
          "IT Services",
          "Internet",
          "Internet",
          "Advertising & Marketing",
          "Consulting",
          "Research & Development",
          "Advertising & Marketing",
          "Biotech & Pharmaceuticals",
          "Insurance Carriers",
          "Health Care Services & Hospitals",
          "Consulting",
          "Insurance Agencies & Brokerages",
          "Insurance Carriers",
          "Staffing & Outsourcing",
          "Insurance Carriers",
          "Investment Banking & Asset Management",
          "IT Services",
          "Aerospace & Defense",
          "Lending",
          "Industrial Manufacturing",
          "IT Services",
          "Banks & Credit Unions",
          "Auctions & Galleries",
          "Biotech & Pharmaceuticals",
          "Enterprise Software & Network Solutions",
          "K-12 Education",
          "IT Services",
          "Insurance Agencies & Brokerages",
          "Biotech & Pharmaceuticals",
          "Insurance Carriers",
          "IT Services",
          "Research & Development",
          "Biotech & Pharmaceuticals",
          "Computer Hardware & Software",
          "Enterprise Software & Network Solutions",
          "Advertising & Marketing",
          "Research & Development",
          "Insurance Carriers",
          "Computer Hardware & Software",
          "Advertising & Marketing",
          "Telecommunications Manufacturing",
          "Enterprise Software & Network Solutions",
          "Computer Hardware & Software",
          "Research & Development",
          "Insurance Carriers",
          "Advertising & Marketing",
          "Banks & Credit Unions",
          "IT Services",
          "Computer Hardware & Software",
          "Health Care Services & Hospitals",
          "Stock Exchanges",
          "Research & Development",
          "Biotech & Pharmaceuticals",
          "Consulting",
          "Biotech & Pharmaceuticals",
          "Insurance Carriers",
          "Computer Hardware & Software",
          "IT Services",
          "Insurance Carriers",
          "Insurance Carriers",
          "Consulting",
          "Financial Analytics & Research",
          "Federal Agencies",
          "Insurance Carriers",
          "Biotech & Pharmaceuticals",
          "Banks & Credit Unions",
          "Financial Analytics & Research",
          "Travel Agencies",
          "Computer Hardware & Software",
          "Department, Clothing, & Shoe Stores",
          "Banks & Credit Unions",
          "Health Care Services & Hospitals",
          "IT Services",
          "Computer Hardware & Software",
          "Security Services",
          "Consulting",
          "Internet",
          "Computer Hardware & Software",
          "Insurance Carriers",
          "Insurance Carriers",
          "Energy",
          "Lending",
          "Insurance Carriers",
          "Staffing & Outsourcing",
          "Energy",
          "Financial Transaction Processing",
          "Insurance Carriers",
          "Colleges & Universities",
          "Aerospace & Defense",
          "Advertising & Marketing",
          "Biotech & Pharmaceuticals",
          "Computer Hardware & Software",
          "Internet",
          "Travel Agencies",
          "Aerospace & Defense",
          "Investment Banking & Asset Management",
          "Computer Hardware & Software",
          "Enterprise Software & Network Solutions",
          "IT Services",
          "Internet",
          "Computer Hardware & Software",
          "Wholesale",
          "TV Broadcast & Cable Networks",
          "Staffing & Outsourcing",
          "Computer Hardware & Software",
          "Aerospace & Defense",
          "Accounting",
          "Biotech & Pharmaceuticals",
          "IT Services",
          "Aerospace & Defense",
          "Health Care Products Manufacturing",
          "Consulting",
          "Health, Beauty, & Fitness",
          "IT Services",
          "Lending",
          "Banks & Credit Unions",
          "Enterprise Software & Network Solutions",
          "Insurance Carriers",
          "Consulting",
          "Enterprise Software & Network Solutions",
          "Computer Hardware & Software",
          "Enterprise Software & Network Solutions",
          "K-12 Education",
          "Health Care Services & Hospitals",
          "Education Training Services",
          "Aerospace & Defense",
          "Biotech & Pharmaceuticals",
          "IT Services",
          "Internet",
          "IT Services",
          "Aerospace & Defense",
          "Biotech & Pharmaceuticals",
          "Investment Banking & Asset Management",
          "Federal Agencies",
          "Consumer Product Rental",
          "Health Care Services & Hospitals",
          "Enterprise Software & Network Solutions",
          "Advertising & Marketing",
          "IT Services",
          "Religious Organizations",
          "Video Games",
          "Computer Hardware & Software",
          "Consulting",
          "Internet",
          "Computer Hardware & Software",
          "Biotech & Pharmaceuticals",
          "Health Care Services & Hospitals",
          "Computer Hardware & Software",
          "Biotech & Pharmaceuticals",
          "Insurance Carriers",
          "Enterprise Software & Network Solutions",
          "Travel Agencies",
          "Computer Hardware & Software",
          "Computer Hardware & Software",
          "Biotech & Pharmaceuticals",
          "Insurance Carriers",
          "Internet",
          "Staffing & Outsourcing",
          "Religious Organizations",
          "Consumer Products Manufacturing",
          "Consumer Product Rental",
          "Enterprise Software & Network Solutions",
          "Enterprise Software & Network Solutions",
          "Biotech & Pharmaceuticals",
          "Computer Hardware & Software",
          "IT Services",
          "Aerospace & Defense",
          "Insurance Carriers",
          "Internet",
          "Computer Hardware & Software",
          "Aerospace & Defense",
          "Insurance Carriers",
          "Health Care Services & Hospitals",
          "Consulting",
          "Brokerage Services",
          "Biotech & Pharmaceuticals",
          "Health Care Services & Hospitals",
          "Internet",
          "Beauty & Personal Accessories Stores",
          "Colleges & Universities",
          "Social Assistance",
          "Health Care Services & Hospitals",
          "Health Care Services & Hospitals",
          "Insurance Carriers",
          "Enterprise Software & Network Solutions",
          "Advertising & Marketing",
          "K-12 Education",
          "Consulting",
          "IT Services",
          "Colleges & Universities",
          "Consumer Products Manufacturing",
          "Federal Agencies",
          "Computer Hardware & Software",
          "IT Services",
          "K-12 Education",
          "Internet"
         ],
         "xaxis": "x",
         "yaxis": "y"
        }
       ],
       "layout": {
        "barmode": "relative",
        "legend": {
         "tracegroupgap": 0
        },
        "margin": {
         "t": 60
        },
        "template": {
         "data": {
          "bar": [
           {
            "error_x": {
             "color": "#2a3f5f"
            },
            "error_y": {
             "color": "#2a3f5f"
            },
            "marker": {
             "line": {
              "color": "#E5ECF6",
              "width": 0.5
             },
             "pattern": {
              "fillmode": "overlay",
              "size": 10,
              "solidity": 0.2
             }
            },
            "type": "bar"
           }
          ],
          "barpolar": [
           {
            "marker": {
             "line": {
              "color": "#E5ECF6",
              "width": 0.5
             },
             "pattern": {
              "fillmode": "overlay",
              "size": 10,
              "solidity": 0.2
             }
            },
            "type": "barpolar"
           }
          ],
          "carpet": [
           {
            "aaxis": {
             "endlinecolor": "#2a3f5f",
             "gridcolor": "white",
             "linecolor": "white",
             "minorgridcolor": "white",
             "startlinecolor": "#2a3f5f"
            },
            "baxis": {
             "endlinecolor": "#2a3f5f",
             "gridcolor": "white",
             "linecolor": "white",
             "minorgridcolor": "white",
             "startlinecolor": "#2a3f5f"
            },
            "type": "carpet"
           }
          ],
          "choropleth": [
           {
            "colorbar": {
             "outlinewidth": 0,
             "ticks": ""
            },
            "type": "choropleth"
           }
          ],
          "contour": [
           {
            "colorbar": {
             "outlinewidth": 0,
             "ticks": ""
            },
            "colorscale": [
             [
              0,
              "#0d0887"
             ],
             [
              0.1111111111111111,
              "#46039f"
             ],
             [
              0.2222222222222222,
              "#7201a8"
             ],
             [
              0.3333333333333333,
              "#9c179e"
             ],
             [
              0.4444444444444444,
              "#bd3786"
             ],
             [
              0.5555555555555556,
              "#d8576b"
             ],
             [
              0.6666666666666666,
              "#ed7953"
             ],
             [
              0.7777777777777778,
              "#fb9f3a"
             ],
             [
              0.8888888888888888,
              "#fdca26"
             ],
             [
              1,
              "#f0f921"
             ]
            ],
            "type": "contour"
           }
          ],
          "contourcarpet": [
           {
            "colorbar": {
             "outlinewidth": 0,
             "ticks": ""
            },
            "type": "contourcarpet"
           }
          ],
          "heatmap": [
           {
            "colorbar": {
             "outlinewidth": 0,
             "ticks": ""
            },
            "colorscale": [
             [
              0,
              "#0d0887"
             ],
             [
              0.1111111111111111,
              "#46039f"
             ],
             [
              0.2222222222222222,
              "#7201a8"
             ],
             [
              0.3333333333333333,
              "#9c179e"
             ],
             [
              0.4444444444444444,
              "#bd3786"
             ],
             [
              0.5555555555555556,
              "#d8576b"
             ],
             [
              0.6666666666666666,
              "#ed7953"
             ],
             [
              0.7777777777777778,
              "#fb9f3a"
             ],
             [
              0.8888888888888888,
              "#fdca26"
             ],
             [
              1,
              "#f0f921"
             ]
            ],
            "type": "heatmap"
           }
          ],
          "heatmapgl": [
           {
            "colorbar": {
             "outlinewidth": 0,
             "ticks": ""
            },
            "colorscale": [
             [
              0,
              "#0d0887"
             ],
             [
              0.1111111111111111,
              "#46039f"
             ],
             [
              0.2222222222222222,
              "#7201a8"
             ],
             [
              0.3333333333333333,
              "#9c179e"
             ],
             [
              0.4444444444444444,
              "#bd3786"
             ],
             [
              0.5555555555555556,
              "#d8576b"
             ],
             [
              0.6666666666666666,
              "#ed7953"
             ],
             [
              0.7777777777777778,
              "#fb9f3a"
             ],
             [
              0.8888888888888888,
              "#fdca26"
             ],
             [
              1,
              "#f0f921"
             ]
            ],
            "type": "heatmapgl"
           }
          ],
          "histogram": [
           {
            "marker": {
             "pattern": {
              "fillmode": "overlay",
              "size": 10,
              "solidity": 0.2
             }
            },
            "type": "histogram"
           }
          ],
          "histogram2d": [
           {
            "colorbar": {
             "outlinewidth": 0,
             "ticks": ""
            },
            "colorscale": [
             [
              0,
              "#0d0887"
             ],
             [
              0.1111111111111111,
              "#46039f"
             ],
             [
              0.2222222222222222,
              "#7201a8"
             ],
             [
              0.3333333333333333,
              "#9c179e"
             ],
             [
              0.4444444444444444,
              "#bd3786"
             ],
             [
              0.5555555555555556,
              "#d8576b"
             ],
             [
              0.6666666666666666,
              "#ed7953"
             ],
             [
              0.7777777777777778,
              "#fb9f3a"
             ],
             [
              0.8888888888888888,
              "#fdca26"
             ],
             [
              1,
              "#f0f921"
             ]
            ],
            "type": "histogram2d"
           }
          ],
          "histogram2dcontour": [
           {
            "colorbar": {
             "outlinewidth": 0,
             "ticks": ""
            },
            "colorscale": [
             [
              0,
              "#0d0887"
             ],
             [
              0.1111111111111111,
              "#46039f"
             ],
             [
              0.2222222222222222,
              "#7201a8"
             ],
             [
              0.3333333333333333,
              "#9c179e"
             ],
             [
              0.4444444444444444,
              "#bd3786"
             ],
             [
              0.5555555555555556,
              "#d8576b"
             ],
             [
              0.6666666666666666,
              "#ed7953"
             ],
             [
              0.7777777777777778,
              "#fb9f3a"
             ],
             [
              0.8888888888888888,
              "#fdca26"
             ],
             [
              1,
              "#f0f921"
             ]
            ],
            "type": "histogram2dcontour"
           }
          ],
          "mesh3d": [
           {
            "colorbar": {
             "outlinewidth": 0,
             "ticks": ""
            },
            "type": "mesh3d"
           }
          ],
          "parcoords": [
           {
            "line": {
             "colorbar": {
              "outlinewidth": 0,
              "ticks": ""
             }
            },
            "type": "parcoords"
           }
          ],
          "pie": [
           {
            "automargin": true,
            "type": "pie"
           }
          ],
          "scatter": [
           {
            "fillpattern": {
             "fillmode": "overlay",
             "size": 10,
             "solidity": 0.2
            },
            "type": "scatter"
           }
          ],
          "scatter3d": [
           {
            "line": {
             "colorbar": {
              "outlinewidth": 0,
              "ticks": ""
             }
            },
            "marker": {
             "colorbar": {
              "outlinewidth": 0,
              "ticks": ""
             }
            },
            "type": "scatter3d"
           }
          ],
          "scattercarpet": [
           {
            "marker": {
             "colorbar": {
              "outlinewidth": 0,
              "ticks": ""
             }
            },
            "type": "scattercarpet"
           }
          ],
          "scattergeo": [
           {
            "marker": {
             "colorbar": {
              "outlinewidth": 0,
              "ticks": ""
             }
            },
            "type": "scattergeo"
           }
          ],
          "scattergl": [
           {
            "marker": {
             "colorbar": {
              "outlinewidth": 0,
              "ticks": ""
             }
            },
            "type": "scattergl"
           }
          ],
          "scattermapbox": [
           {
            "marker": {
             "colorbar": {
              "outlinewidth": 0,
              "ticks": ""
             }
            },
            "type": "scattermapbox"
           }
          ],
          "scatterpolar": [
           {
            "marker": {
             "colorbar": {
              "outlinewidth": 0,
              "ticks": ""
             }
            },
            "type": "scatterpolar"
           }
          ],
          "scatterpolargl": [
           {
            "marker": {
             "colorbar": {
              "outlinewidth": 0,
              "ticks": ""
             }
            },
            "type": "scatterpolargl"
           }
          ],
          "scatterternary": [
           {
            "marker": {
             "colorbar": {
              "outlinewidth": 0,
              "ticks": ""
             }
            },
            "type": "scatterternary"
           }
          ],
          "surface": [
           {
            "colorbar": {
             "outlinewidth": 0,
             "ticks": ""
            },
            "colorscale": [
             [
              0,
              "#0d0887"
             ],
             [
              0.1111111111111111,
              "#46039f"
             ],
             [
              0.2222222222222222,
              "#7201a8"
             ],
             [
              0.3333333333333333,
              "#9c179e"
             ],
             [
              0.4444444444444444,
              "#bd3786"
             ],
             [
              0.5555555555555556,
              "#d8576b"
             ],
             [
              0.6666666666666666,
              "#ed7953"
             ],
             [
              0.7777777777777778,
              "#fb9f3a"
             ],
             [
              0.8888888888888888,
              "#fdca26"
             ],
             [
              1,
              "#f0f921"
             ]
            ],
            "type": "surface"
           }
          ],
          "table": [
           {
            "cells": {
             "fill": {
              "color": "#EBF0F8"
             },
             "line": {
              "color": "white"
             }
            },
            "header": {
             "fill": {
              "color": "#C8D4E3"
             },
             "line": {
              "color": "white"
             }
            },
            "type": "table"
           }
          ]
         },
         "layout": {
          "annotationdefaults": {
           "arrowcolor": "#2a3f5f",
           "arrowhead": 0,
           "arrowwidth": 1
          },
          "autotypenumbers": "strict",
          "coloraxis": {
           "colorbar": {
            "outlinewidth": 0,
            "ticks": ""
           }
          },
          "colorscale": {
           "diverging": [
            [
             0,
             "#8e0152"
            ],
            [
             0.1,
             "#c51b7d"
            ],
            [
             0.2,
             "#de77ae"
            ],
            [
             0.3,
             "#f1b6da"
            ],
            [
             0.4,
             "#fde0ef"
            ],
            [
             0.5,
             "#f7f7f7"
            ],
            [
             0.6,
             "#e6f5d0"
            ],
            [
             0.7,
             "#b8e186"
            ],
            [
             0.8,
             "#7fbc41"
            ],
            [
             0.9,
             "#4d9221"
            ],
            [
             1,
             "#276419"
            ]
           ],
           "sequential": [
            [
             0,
             "#0d0887"
            ],
            [
             0.1111111111111111,
             "#46039f"
            ],
            [
             0.2222222222222222,
             "#7201a8"
            ],
            [
             0.3333333333333333,
             "#9c179e"
            ],
            [
             0.4444444444444444,
             "#bd3786"
            ],
            [
             0.5555555555555556,
             "#d8576b"
            ],
            [
             0.6666666666666666,
             "#ed7953"
            ],
            [
             0.7777777777777778,
             "#fb9f3a"
            ],
            [
             0.8888888888888888,
             "#fdca26"
            ],
            [
             1,
             "#f0f921"
            ]
           ],
           "sequentialminus": [
            [
             0,
             "#0d0887"
            ],
            [
             0.1111111111111111,
             "#46039f"
            ],
            [
             0.2222222222222222,
             "#7201a8"
            ],
            [
             0.3333333333333333,
             "#9c179e"
            ],
            [
             0.4444444444444444,
             "#bd3786"
            ],
            [
             0.5555555555555556,
             "#d8576b"
            ],
            [
             0.6666666666666666,
             "#ed7953"
            ],
            [
             0.7777777777777778,
             "#fb9f3a"
            ],
            [
             0.8888888888888888,
             "#fdca26"
            ],
            [
             1,
             "#f0f921"
            ]
           ]
          },
          "colorway": [
           "#636efa",
           "#EF553B",
           "#00cc96",
           "#ab63fa",
           "#FFA15A",
           "#19d3f3",
           "#FF6692",
           "#B6E880",
           "#FF97FF",
           "#FECB52"
          ],
          "font": {
           "color": "#2a3f5f"
          },
          "geo": {
           "bgcolor": "white",
           "lakecolor": "white",
           "landcolor": "#E5ECF6",
           "showlakes": true,
           "showland": true,
           "subunitcolor": "white"
          },
          "hoverlabel": {
           "align": "left"
          },
          "hovermode": "closest",
          "mapbox": {
           "style": "light"
          },
          "paper_bgcolor": "white",
          "plot_bgcolor": "#E5ECF6",
          "polar": {
           "angularaxis": {
            "gridcolor": "white",
            "linecolor": "white",
            "ticks": ""
           },
           "bgcolor": "#E5ECF6",
           "radialaxis": {
            "gridcolor": "white",
            "linecolor": "white",
            "ticks": ""
           }
          },
          "scene": {
           "xaxis": {
            "backgroundcolor": "#E5ECF6",
            "gridcolor": "white",
            "gridwidth": 2,
            "linecolor": "white",
            "showbackground": true,
            "ticks": "",
            "zerolinecolor": "white"
           },
           "yaxis": {
            "backgroundcolor": "#E5ECF6",
            "gridcolor": "white",
            "gridwidth": 2,
            "linecolor": "white",
            "showbackground": true,
            "ticks": "",
            "zerolinecolor": "white"
           },
           "zaxis": {
            "backgroundcolor": "#E5ECF6",
            "gridcolor": "white",
            "gridwidth": 2,
            "linecolor": "white",
            "showbackground": true,
            "ticks": "",
            "zerolinecolor": "white"
           }
          },
          "shapedefaults": {
           "line": {
            "color": "#2a3f5f"
           }
          },
          "ternary": {
           "aaxis": {
            "gridcolor": "white",
            "linecolor": "white",
            "ticks": ""
           },
           "baxis": {
            "gridcolor": "white",
            "linecolor": "white",
            "ticks": ""
           },
           "bgcolor": "#E5ECF6",
           "caxis": {
            "gridcolor": "white",
            "linecolor": "white",
            "ticks": ""
           }
          },
          "title": {
           "x": 0.05
          },
          "xaxis": {
           "automargin": true,
           "gridcolor": "white",
           "linecolor": "white",
           "ticks": "",
           "title": {
            "standoff": 15
           },
           "zerolinecolor": "white",
           "zerolinewidth": 2
          },
          "yaxis": {
           "automargin": true,
           "gridcolor": "white",
           "linecolor": "white",
           "ticks": "",
           "title": {
            "standoff": 15
           },
           "zerolinecolor": "white",
           "zerolinewidth": 2
          }
         }
        },
        "width": 2000,
        "xaxis": {
         "anchor": "y",
         "categoryorder": "total descending",
         "domain": [
          0,
          1
         ],
         "title": {
          "text": "Industry"
         }
        },
        "yaxis": {
         "anchor": "x",
         "domain": [
          0,
          1
         ],
         "title": {
          "text": "count"
         }
        }
       }
      },
      "text/html": [
       "<div>                            <div id=\"3c9e02ff-a817-4d88-862a-cc9046804dc2\" class=\"plotly-graph-div\" style=\"height:525px; width:2000px;\"></div>            <script type=\"text/javascript\">                require([\"plotly\"], function(Plotly) {                    window.PLOTLYENV=window.PLOTLYENV || {};                                    if (document.getElementById(\"3c9e02ff-a817-4d88-862a-cc9046804dc2\")) {                    Plotly.newPlot(                        \"3c9e02ff-a817-4d88-862a-cc9046804dc2\",                        [{\"alignmentgroup\":\"True\",\"bingroup\":\"x\",\"hovertemplate\":\"Industry=%{x}<br>count=%{y}<extra></extra>\",\"legendgroup\":\"\",\"marker\":{\"color\":\"#636efa\",\"pattern\":{\"shape\":\"\"}},\"name\":\"\",\"offsetgroup\":\"\",\"orientation\":\"v\",\"showlegend\":false,\"x\":[\"Aerospace & Defense\",\"Health Care Services & Hospitals\",\"Security Services\",\"Energy\",\"Advertising & Marketing\",\"Real Estate\",\"Banks & Credit Unions\",\"Consulting\",\"Internet\",\"Other Retail Stores\",\"Research & Development\",\"Department, Clothing, & Shoe Stores\",\"Advertising & Marketing\",\"Biotech & Pharmaceuticals\",\"Motion Picture Production & Distribution\",\"Enterprise Software & Network Solutions\",\"Enterprise Software & Network Solutions\",\"Insurance Carriers\",\"Internet\",\"Insurance Agencies & Brokerages\",\"Logistics & Supply Chain\",\"Logistics & Supply Chain\",\"Enterprise Software & Network Solutions\",\"Biotech & Pharmaceuticals\",\"Banks & Credit Unions\",\"Insurance Carriers\",\"Biotech & Pharmaceuticals\",\"Real Estate\",\"Biotech & Pharmaceuticals\",\"Telecommunications Services\",\"Biotech & Pharmaceuticals\",\"IT Services\",\"Computer Hardware & Software\",\"Aerospace & Defense\",\"Biotech & Pharmaceuticals\",\"Insurance Carriers\",\"IT Services\",\"Enterprise Software & Network Solutions\",\"Real Estate\",\"Enterprise Software & Network Solutions\",\"IT Services\",\"Enterprise Software & Network Solutions\",\"Industrial Manufacturing\",\"Advertising & Marketing\",\"Insurance Carriers\",\"Aerospace & Defense\",\"Insurance Agencies & Brokerages\",\"Aerospace & Defense\",\"Biotech & Pharmaceuticals\",\"Enterprise Software & Network Solutions\",\"IT Services\",\"Metals Brokers\",\"Consulting\",\"Financial Transaction Processing\",\"Energy\",\"Sporting Goods Stores\",\"Biotech & Pharmaceuticals\",\"Computer Hardware & Software\",\"Advertising & Marketing\",\"Staffing & Outsourcing\",\"Wholesale\",\"IT Services\",\"Mining\",\"Computer Hardware & Software\",\"Enterprise Software & Network Solutions\",\"Aerospace & Defense\",\"IT Services\",\"Health Care Services & Hospitals\",\"Advertising & Marketing\",\"Aerospace & Defense\",\"Computer Hardware & Software\",\"Consulting\",\"Wholesale\",\"Enterprise Software & Network Solutions\",\"Enterprise Software & Network Solutions\",\"Financial Analytics & Research\",\"IT Services\",\"Federal Agencies\",\"IT Services\",\"Insurance Carriers\",\"IT Services\",\"Research & Development\",\"Security Services\",\"Education Training Services\",\"Consulting\",\"IT Services\",\"Transportation Equipment Manufacturing\",\"Computer Hardware & Software\",\"Enterprise Software & Network Solutions\",\"Computer Hardware & Software\",\"Internet\",\"Enterprise Software & Network Solutions\",\"Computer Hardware & Software\",\"Farm Support Services\",\"Health Care Services & Hospitals\",\"Consulting\",\"Health Care Services & Hospitals\",\"Advertising & Marketing\",\"Enterprise Software & Network Solutions\",\"TV Broadcast & Cable Networks\",\"Internet\",\"Real Estate\",\"Research & Development\",\"Industrial Manufacturing\",\"IT Services\",\"Consulting\",\"Enterprise Software & Network Solutions\",\"Brokerage Services\",\"Aerospace & Defense\",\"Consulting\",\"IT Services\",\"Computer Hardware & Software\",\"Travel Agencies\",\"Religious Organizations\",\"Real Estate\",\"Energy\",\"IT Services\",\"Enterprise Software & Network Solutions\",\"Advertising & Marketing\",\"Insurance Carriers\",\"Energy\",\"Security Services\",\"Consulting\",\"Internet\",\"Insurance Carriers\",\"Biotech & Pharmaceuticals\",\"Telecommunications Services\",\"Insurance Carriers\",\"Computer Hardware & Software\",\"Religious Organizations\",\"Colleges & Universities\",\"Investment Banking & Asset Management\",\"Computer Hardware & Software\",\"Advertising & Marketing\",\"Department, Clothing, & Shoe Stores\",\"IT Services\",\"Insurance Carriers\",\"IT Services\",\"Insurance Carriers\",\"Energy\",\"Colleges & Universities\",\"Lending\",\"Financial Analytics & Research\",\"Aerospace & Defense\",\"Insurance Carriers\",\"Biotech & Pharmaceuticals\",\"Biotech & Pharmaceuticals\",\"Computer Hardware & Software\",\"Internet\",\"Internet\",\"Gambling\",\"Colleges & Universities\",\"Gas Stations\",\"Transportation Management\",\"Aerospace & Defense\",\"Insurance Carriers\",\"Travel Agencies\",\"Consulting\",\"Advertising & Marketing\",\"Video Games\",\"Federal Agencies\",\"Trucking\",\"Social Assistance\",\"Enterprise Software & Network Solutions\",\"Computer Hardware & Software\",\"Enterprise Software & Network Solutions\",\"IT Services\",\"Internet\",\"Internet\",\"Advertising & Marketing\",\"Consulting\",\"Research & Development\",\"Advertising & Marketing\",\"Biotech & Pharmaceuticals\",\"Insurance Carriers\",\"Health Care Services & Hospitals\",\"Consulting\",\"Insurance Agencies & Brokerages\",\"Insurance Carriers\",\"Staffing & Outsourcing\",\"Insurance Carriers\",\"Investment Banking & Asset Management\",\"IT Services\",\"Aerospace & Defense\",\"Lending\",\"Industrial Manufacturing\",\"IT Services\",\"Banks & Credit Unions\",\"Auctions & Galleries\",\"Biotech & Pharmaceuticals\",\"Enterprise Software & Network Solutions\",\"K-12 Education\",\"IT Services\",\"Insurance Agencies & Brokerages\",\"Biotech & Pharmaceuticals\",\"Insurance Carriers\",\"IT Services\",\"Research & Development\",\"Biotech & Pharmaceuticals\",\"Computer Hardware & Software\",\"Enterprise Software & Network Solutions\",\"Advertising & Marketing\",\"Research & Development\",\"Insurance Carriers\",\"Computer Hardware & Software\",\"Advertising & Marketing\",\"Telecommunications Manufacturing\",\"Enterprise Software & Network Solutions\",\"Computer Hardware & Software\",\"Research & Development\",\"Insurance Carriers\",\"Advertising & Marketing\",\"Banks & Credit Unions\",\"IT Services\",\"Computer Hardware & Software\",\"Health Care Services & Hospitals\",\"Stock Exchanges\",\"Research & Development\",\"Biotech & Pharmaceuticals\",\"Consulting\",\"Biotech & Pharmaceuticals\",\"Insurance Carriers\",\"Computer Hardware & Software\",\"IT Services\",\"Insurance Carriers\",\"Insurance Carriers\",\"Consulting\",\"Financial Analytics & Research\",\"Federal Agencies\",\"Insurance Carriers\",\"Biotech & Pharmaceuticals\",\"Banks & Credit Unions\",\"Financial Analytics & Research\",\"Travel Agencies\",\"Computer Hardware & Software\",\"Department, Clothing, & Shoe Stores\",\"Banks & Credit Unions\",\"Health Care Services & Hospitals\",\"IT Services\",\"Computer Hardware & Software\",\"Security Services\",\"Consulting\",\"Internet\",\"Computer Hardware & Software\",\"Insurance Carriers\",\"Insurance Carriers\",\"Energy\",\"Lending\",\"Insurance Carriers\",\"Staffing & Outsourcing\",\"Energy\",\"Financial Transaction Processing\",\"Insurance Carriers\",\"Colleges & Universities\",\"Aerospace & Defense\",\"Advertising & Marketing\",\"Biotech & Pharmaceuticals\",\"Computer Hardware & Software\",\"Internet\",\"Travel Agencies\",\"Aerospace & Defense\",\"Investment Banking & Asset Management\",\"Computer Hardware & Software\",\"Enterprise Software & Network Solutions\",\"IT Services\",\"Internet\",\"Computer Hardware & Software\",\"Wholesale\",\"TV Broadcast & Cable Networks\",\"Staffing & Outsourcing\",\"Computer Hardware & Software\",\"Aerospace & Defense\",\"Accounting\",\"Biotech & Pharmaceuticals\",\"IT Services\",\"Aerospace & Defense\",\"Health Care Products Manufacturing\",\"Consulting\",\"Health, Beauty, & Fitness\",\"IT Services\",\"Lending\",\"Banks & Credit Unions\",\"Enterprise Software & Network Solutions\",\"Insurance Carriers\",\"Consulting\",\"Enterprise Software & Network Solutions\",\"Computer Hardware & Software\",\"Enterprise Software & Network Solutions\",\"K-12 Education\",\"Health Care Services & Hospitals\",\"Education Training Services\",\"Aerospace & Defense\",\"Biotech & Pharmaceuticals\",\"IT Services\",\"Internet\",\"IT Services\",\"Aerospace & Defense\",\"Biotech & Pharmaceuticals\",\"Investment Banking & Asset Management\",\"Federal Agencies\",\"Consumer Product Rental\",\"Health Care Services & Hospitals\",\"Enterprise Software & Network Solutions\",\"Advertising & Marketing\",\"IT Services\",\"Religious Organizations\",\"Video Games\",\"Computer Hardware & Software\",\"Consulting\",\"Internet\",\"Computer Hardware & Software\",\"Biotech & Pharmaceuticals\",\"Health Care Services & Hospitals\",\"Computer Hardware & Software\",\"Biotech & Pharmaceuticals\",\"Insurance Carriers\",\"Enterprise Software & Network Solutions\",\"Travel Agencies\",\"Computer Hardware & Software\",\"Computer Hardware & Software\",\"Biotech & Pharmaceuticals\",\"Insurance Carriers\",\"Internet\",\"Staffing & Outsourcing\",\"Religious Organizations\",\"Consumer Products Manufacturing\",\"Consumer Product Rental\",\"Enterprise Software & Network Solutions\",\"Enterprise Software & Network Solutions\",\"Biotech & Pharmaceuticals\",\"Computer Hardware & Software\",\"IT Services\",\"Aerospace & Defense\",\"Insurance Carriers\",\"Internet\",\"Computer Hardware & Software\",\"Aerospace & Defense\",\"Insurance Carriers\",\"Health Care Services & Hospitals\",\"Consulting\",\"Brokerage Services\",\"Biotech & Pharmaceuticals\",\"Health Care Services & Hospitals\",\"Internet\",\"Beauty & Personal Accessories Stores\",\"Colleges & Universities\",\"Social Assistance\",\"Health Care Services & Hospitals\",\"Health Care Services & Hospitals\",\"Insurance Carriers\",\"Enterprise Software & Network Solutions\",\"Advertising & Marketing\",\"K-12 Education\",\"Consulting\",\"IT Services\",\"Colleges & Universities\",\"Consumer Products Manufacturing\",\"Federal Agencies\",\"Computer Hardware & Software\",\"IT Services\",\"K-12 Education\",\"Internet\"],\"xaxis\":\"x\",\"yaxis\":\"y\",\"type\":\"histogram\"}],                        {\"template\":{\"data\":{\"histogram2dcontour\":[{\"type\":\"histogram2dcontour\",\"colorbar\":{\"outlinewidth\":0,\"ticks\":\"\"},\"colorscale\":[[0.0,\"#0d0887\"],[0.1111111111111111,\"#46039f\"],[0.2222222222222222,\"#7201a8\"],[0.3333333333333333,\"#9c179e\"],[0.4444444444444444,\"#bd3786\"],[0.5555555555555556,\"#d8576b\"],[0.6666666666666666,\"#ed7953\"],[0.7777777777777778,\"#fb9f3a\"],[0.8888888888888888,\"#fdca26\"],[1.0,\"#f0f921\"]]}],\"choropleth\":[{\"type\":\"choropleth\",\"colorbar\":{\"outlinewidth\":0,\"ticks\":\"\"}}],\"histogram2d\":[{\"type\":\"histogram2d\",\"colorbar\":{\"outlinewidth\":0,\"ticks\":\"\"},\"colorscale\":[[0.0,\"#0d0887\"],[0.1111111111111111,\"#46039f\"],[0.2222222222222222,\"#7201a8\"],[0.3333333333333333,\"#9c179e\"],[0.4444444444444444,\"#bd3786\"],[0.5555555555555556,\"#d8576b\"],[0.6666666666666666,\"#ed7953\"],[0.7777777777777778,\"#fb9f3a\"],[0.8888888888888888,\"#fdca26\"],[1.0,\"#f0f921\"]]}],\"heatmap\":[{\"type\":\"heatmap\",\"colorbar\":{\"outlinewidth\":0,\"ticks\":\"\"},\"colorscale\":[[0.0,\"#0d0887\"],[0.1111111111111111,\"#46039f\"],[0.2222222222222222,\"#7201a8\"],[0.3333333333333333,\"#9c179e\"],[0.4444444444444444,\"#bd3786\"],[0.5555555555555556,\"#d8576b\"],[0.6666666666666666,\"#ed7953\"],[0.7777777777777778,\"#fb9f3a\"],[0.8888888888888888,\"#fdca26\"],[1.0,\"#f0f921\"]]}],\"heatmapgl\":[{\"type\":\"heatmapgl\",\"colorbar\":{\"outlinewidth\":0,\"ticks\":\"\"},\"colorscale\":[[0.0,\"#0d0887\"],[0.1111111111111111,\"#46039f\"],[0.2222222222222222,\"#7201a8\"],[0.3333333333333333,\"#9c179e\"],[0.4444444444444444,\"#bd3786\"],[0.5555555555555556,\"#d8576b\"],[0.6666666666666666,\"#ed7953\"],[0.7777777777777778,\"#fb9f3a\"],[0.8888888888888888,\"#fdca26\"],[1.0,\"#f0f921\"]]}],\"contourcarpet\":[{\"type\":\"contourcarpet\",\"colorbar\":{\"outlinewidth\":0,\"ticks\":\"\"}}],\"contour\":[{\"type\":\"contour\",\"colorbar\":{\"outlinewidth\":0,\"ticks\":\"\"},\"colorscale\":[[0.0,\"#0d0887\"],[0.1111111111111111,\"#46039f\"],[0.2222222222222222,\"#7201a8\"],[0.3333333333333333,\"#9c179e\"],[0.4444444444444444,\"#bd3786\"],[0.5555555555555556,\"#d8576b\"],[0.6666666666666666,\"#ed7953\"],[0.7777777777777778,\"#fb9f3a\"],[0.8888888888888888,\"#fdca26\"],[1.0,\"#f0f921\"]]}],\"surface\":[{\"type\":\"surface\",\"colorbar\":{\"outlinewidth\":0,\"ticks\":\"\"},\"colorscale\":[[0.0,\"#0d0887\"],[0.1111111111111111,\"#46039f\"],[0.2222222222222222,\"#7201a8\"],[0.3333333333333333,\"#9c179e\"],[0.4444444444444444,\"#bd3786\"],[0.5555555555555556,\"#d8576b\"],[0.6666666666666666,\"#ed7953\"],[0.7777777777777778,\"#fb9f3a\"],[0.8888888888888888,\"#fdca26\"],[1.0,\"#f0f921\"]]}],\"mesh3d\":[{\"type\":\"mesh3d\",\"colorbar\":{\"outlinewidth\":0,\"ticks\":\"\"}}],\"scatter\":[{\"fillpattern\":{\"fillmode\":\"overlay\",\"size\":10,\"solidity\":0.2},\"type\":\"scatter\"}],\"parcoords\":[{\"type\":\"parcoords\",\"line\":{\"colorbar\":{\"outlinewidth\":0,\"ticks\":\"\"}}}],\"scatterpolargl\":[{\"type\":\"scatterpolargl\",\"marker\":{\"colorbar\":{\"outlinewidth\":0,\"ticks\":\"\"}}}],\"bar\":[{\"error_x\":{\"color\":\"#2a3f5f\"},\"error_y\":{\"color\":\"#2a3f5f\"},\"marker\":{\"line\":{\"color\":\"#E5ECF6\",\"width\":0.5},\"pattern\":{\"fillmode\":\"overlay\",\"size\":10,\"solidity\":0.2}},\"type\":\"bar\"}],\"scattergeo\":[{\"type\":\"scattergeo\",\"marker\":{\"colorbar\":{\"outlinewidth\":0,\"ticks\":\"\"}}}],\"scatterpolar\":[{\"type\":\"scatterpolar\",\"marker\":{\"colorbar\":{\"outlinewidth\":0,\"ticks\":\"\"}}}],\"histogram\":[{\"marker\":{\"pattern\":{\"fillmode\":\"overlay\",\"size\":10,\"solidity\":0.2}},\"type\":\"histogram\"}],\"scattergl\":[{\"type\":\"scattergl\",\"marker\":{\"colorbar\":{\"outlinewidth\":0,\"ticks\":\"\"}}}],\"scatter3d\":[{\"type\":\"scatter3d\",\"line\":{\"colorbar\":{\"outlinewidth\":0,\"ticks\":\"\"}},\"marker\":{\"colorbar\":{\"outlinewidth\":0,\"ticks\":\"\"}}}],\"scattermapbox\":[{\"type\":\"scattermapbox\",\"marker\":{\"colorbar\":{\"outlinewidth\":0,\"ticks\":\"\"}}}],\"scatterternary\":[{\"type\":\"scatterternary\",\"marker\":{\"colorbar\":{\"outlinewidth\":0,\"ticks\":\"\"}}}],\"scattercarpet\":[{\"type\":\"scattercarpet\",\"marker\":{\"colorbar\":{\"outlinewidth\":0,\"ticks\":\"\"}}}],\"carpet\":[{\"aaxis\":{\"endlinecolor\":\"#2a3f5f\",\"gridcolor\":\"white\",\"linecolor\":\"white\",\"minorgridcolor\":\"white\",\"startlinecolor\":\"#2a3f5f\"},\"baxis\":{\"endlinecolor\":\"#2a3f5f\",\"gridcolor\":\"white\",\"linecolor\":\"white\",\"minorgridcolor\":\"white\",\"startlinecolor\":\"#2a3f5f\"},\"type\":\"carpet\"}],\"table\":[{\"cells\":{\"fill\":{\"color\":\"#EBF0F8\"},\"line\":{\"color\":\"white\"}},\"header\":{\"fill\":{\"color\":\"#C8D4E3\"},\"line\":{\"color\":\"white\"}},\"type\":\"table\"}],\"barpolar\":[{\"marker\":{\"line\":{\"color\":\"#E5ECF6\",\"width\":0.5},\"pattern\":{\"fillmode\":\"overlay\",\"size\":10,\"solidity\":0.2}},\"type\":\"barpolar\"}],\"pie\":[{\"automargin\":true,\"type\":\"pie\"}]},\"layout\":{\"autotypenumbers\":\"strict\",\"colorway\":[\"#636efa\",\"#EF553B\",\"#00cc96\",\"#ab63fa\",\"#FFA15A\",\"#19d3f3\",\"#FF6692\",\"#B6E880\",\"#FF97FF\",\"#FECB52\"],\"font\":{\"color\":\"#2a3f5f\"},\"hovermode\":\"closest\",\"hoverlabel\":{\"align\":\"left\"},\"paper_bgcolor\":\"white\",\"plot_bgcolor\":\"#E5ECF6\",\"polar\":{\"bgcolor\":\"#E5ECF6\",\"angularaxis\":{\"gridcolor\":\"white\",\"linecolor\":\"white\",\"ticks\":\"\"},\"radialaxis\":{\"gridcolor\":\"white\",\"linecolor\":\"white\",\"ticks\":\"\"}},\"ternary\":{\"bgcolor\":\"#E5ECF6\",\"aaxis\":{\"gridcolor\":\"white\",\"linecolor\":\"white\",\"ticks\":\"\"},\"baxis\":{\"gridcolor\":\"white\",\"linecolor\":\"white\",\"ticks\":\"\"},\"caxis\":{\"gridcolor\":\"white\",\"linecolor\":\"white\",\"ticks\":\"\"}},\"coloraxis\":{\"colorbar\":{\"outlinewidth\":0,\"ticks\":\"\"}},\"colorscale\":{\"sequential\":[[0.0,\"#0d0887\"],[0.1111111111111111,\"#46039f\"],[0.2222222222222222,\"#7201a8\"],[0.3333333333333333,\"#9c179e\"],[0.4444444444444444,\"#bd3786\"],[0.5555555555555556,\"#d8576b\"],[0.6666666666666666,\"#ed7953\"],[0.7777777777777778,\"#fb9f3a\"],[0.8888888888888888,\"#fdca26\"],[1.0,\"#f0f921\"]],\"sequentialminus\":[[0.0,\"#0d0887\"],[0.1111111111111111,\"#46039f\"],[0.2222222222222222,\"#7201a8\"],[0.3333333333333333,\"#9c179e\"],[0.4444444444444444,\"#bd3786\"],[0.5555555555555556,\"#d8576b\"],[0.6666666666666666,\"#ed7953\"],[0.7777777777777778,\"#fb9f3a\"],[0.8888888888888888,\"#fdca26\"],[1.0,\"#f0f921\"]],\"diverging\":[[0,\"#8e0152\"],[0.1,\"#c51b7d\"],[0.2,\"#de77ae\"],[0.3,\"#f1b6da\"],[0.4,\"#fde0ef\"],[0.5,\"#f7f7f7\"],[0.6,\"#e6f5d0\"],[0.7,\"#b8e186\"],[0.8,\"#7fbc41\"],[0.9,\"#4d9221\"],[1,\"#276419\"]]},\"xaxis\":{\"gridcolor\":\"white\",\"linecolor\":\"white\",\"ticks\":\"\",\"title\":{\"standoff\":15},\"zerolinecolor\":\"white\",\"automargin\":true,\"zerolinewidth\":2},\"yaxis\":{\"gridcolor\":\"white\",\"linecolor\":\"white\",\"ticks\":\"\",\"title\":{\"standoff\":15},\"zerolinecolor\":\"white\",\"automargin\":true,\"zerolinewidth\":2},\"scene\":{\"xaxis\":{\"backgroundcolor\":\"#E5ECF6\",\"gridcolor\":\"white\",\"linecolor\":\"white\",\"showbackground\":true,\"ticks\":\"\",\"zerolinecolor\":\"white\",\"gridwidth\":2},\"yaxis\":{\"backgroundcolor\":\"#E5ECF6\",\"gridcolor\":\"white\",\"linecolor\":\"white\",\"showbackground\":true,\"ticks\":\"\",\"zerolinecolor\":\"white\",\"gridwidth\":2},\"zaxis\":{\"backgroundcolor\":\"#E5ECF6\",\"gridcolor\":\"white\",\"linecolor\":\"white\",\"showbackground\":true,\"ticks\":\"\",\"zerolinecolor\":\"white\",\"gridwidth\":2}},\"shapedefaults\":{\"line\":{\"color\":\"#2a3f5f\"}},\"annotationdefaults\":{\"arrowcolor\":\"#2a3f5f\",\"arrowhead\":0,\"arrowwidth\":1},\"geo\":{\"bgcolor\":\"white\",\"landcolor\":\"#E5ECF6\",\"subunitcolor\":\"white\",\"showland\":true,\"showlakes\":true,\"lakecolor\":\"white\"},\"title\":{\"x\":0.05},\"mapbox\":{\"style\":\"light\"}}},\"xaxis\":{\"anchor\":\"y\",\"domain\":[0.0,1.0],\"title\":{\"text\":\"Industry\"},\"categoryorder\":\"total descending\"},\"yaxis\":{\"anchor\":\"x\",\"domain\":[0.0,1.0],\"title\":{\"text\":\"count\"}},\"legend\":{\"tracegroupgap\":0},\"margin\":{\"t\":60},\"barmode\":\"relative\",\"width\":2000},                        {\"responsive\": true}                    ).then(function(){\n",
       "                            \n",
       "var gd = document.getElementById('3c9e02ff-a817-4d88-862a-cc9046804dc2');\n",
       "var x = new MutationObserver(function (mutations, observer) {{\n",
       "        var display = window.getComputedStyle(gd).display;\n",
       "        if (!display || display === 'none') {{\n",
       "            console.log([gd, 'removed!']);\n",
       "            Plotly.purge(gd);\n",
       "            observer.disconnect();\n",
       "        }}\n",
       "}});\n",
       "\n",
       "// Listen for the removal of the full notebook cells\n",
       "var notebookContainer = gd.closest('#notebook-container');\n",
       "if (notebookContainer) {{\n",
       "    x.observe(notebookContainer, {childList: true});\n",
       "}}\n",
       "\n",
       "// Listen for the clearing of the current output cell\n",
       "var outputEl = gd.closest('.output');\n",
       "if (outputEl) {{\n",
       "    x.observe(outputEl, {childList: true});\n",
       "}}\n",
       "\n",
       "                        })                };                });            </script>        </div>"
      ]
     },
     "metadata": {},
     "output_type": "display_data"
    },
    {
     "name": "stdout",
     "output_type": "stream",
     "text": [
      "['Computer Hardware & Software', 'Insurance Carriers', 'IT Services', 'Internet', 'Enterprise Software & Network Solutions', 'Health Care Services & Hospitals']\n"
     ]
    }
   ],
   "source": [
    "df_ind = df_dsc.drop(df_dsc.loc[df_dropped['Industry']=='-1'].index)\n",
    "fig = px.histogram(df_ind['Industry'], x='Industry', width = 2000)\n",
    "fig.update_layout(xaxis={'categoryorder':'total descending'})\n",
    "fig.show()\n",
    "\n",
    "industryDict = {}\n",
    "for row in df_sub['Industry']:\n",
    "    if row not in industryDict:\n",
    "        industryDict[row]=1\n",
    "    else:\n",
    "        industryDict[row]+=1\n",
    "        \n",
    "industryDict = dict(sorted(industryDict.items(), key = lambda row : row[1], reverse=True ))\n",
    "\n",
    "top_Industry = list(industryDict.keys())[:6]\n",
    "\n",
    "print(top_Industry)"
   ]
  },
  {
   "cell_type": "markdown",
   "id": "963cd2e9",
   "metadata": {},
   "source": [
    "✔︎ Avg Salary 컬럼"
   ]
  },
  {
   "cell_type": "code",
   "execution_count": 225,
   "id": "1ed3fd08",
   "metadata": {},
   "outputs": [
    {
     "name": "stdout",
     "output_type": "stream",
     "text": [
      "     Avg Salary(K)\n",
      "211           15.5\n",
      "324           27.5\n",
      "45            29.5\n",
      "396           37.5\n",
      "317           43.0\n",
      "..             ...\n",
      "426          221.5\n",
      "164          225.0\n",
      "339          232.5\n",
      "97           237.5\n",
      "277          254.0\n",
      "\n",
      "[364 rows x 1 columns]\n"
     ]
    },
    {
     "data": {
      "application/vnd.plotly.v1+json": {
       "config": {
        "plotlyServerURL": "https://plot.ly"
       },
       "data": [
        {
         "alignmentgroup": "True",
         "hovertemplate": "x=%{x}<br>y=%{y}<extra></extra>",
         "legendgroup": "",
         "marker": {
          "color": "#636efa",
          "pattern": {
           "shape": ""
          }
         },
         "name": "",
         "offsetgroup": "",
         "orientation": "v",
         "showlegend": false,
         "textposition": "auto",
         "type": "bar",
         "x": [
          0,
          1,
          2,
          3,
          4,
          5,
          6,
          7,
          8,
          9,
          10,
          11,
          12,
          13,
          14,
          15,
          16,
          17,
          18,
          19,
          20,
          21,
          22,
          23,
          24,
          25,
          26,
          27,
          28,
          29,
          30,
          31,
          32,
          33,
          34,
          35,
          36,
          37,
          38,
          39,
          40,
          41,
          42,
          43,
          44,
          45,
          46,
          47,
          48,
          49,
          50,
          51,
          52,
          53,
          54,
          55,
          56,
          57,
          58,
          59,
          60,
          61,
          62,
          63,
          64,
          65,
          66,
          67,
          68,
          69,
          70,
          71,
          72,
          73,
          74,
          75,
          76,
          77,
          78,
          79,
          80,
          81,
          82,
          83,
          84,
          85,
          86,
          87,
          88,
          89,
          90,
          91,
          92,
          93,
          94,
          95,
          96,
          97,
          98,
          99,
          100,
          101,
          102,
          103,
          104,
          105,
          106,
          107,
          108,
          109,
          110,
          111,
          112,
          113,
          114,
          115,
          116,
          117,
          118,
          119,
          120,
          121,
          122,
          123,
          124,
          125,
          126,
          127,
          128,
          129,
          130,
          131,
          132,
          133,
          134,
          135,
          136,
          137,
          138,
          139,
          140,
          141,
          142,
          143,
          144,
          145,
          146,
          147,
          148,
          149,
          150,
          151,
          152,
          153,
          154,
          155,
          156,
          157,
          158,
          159,
          160,
          161,
          162,
          163,
          164,
          165,
          166,
          167,
          168,
          169,
          170,
          171,
          172,
          173,
          174,
          175,
          176,
          177,
          178,
          179,
          180,
          181,
          182,
          183,
          184,
          185,
          186,
          187,
          188,
          189,
          190,
          191,
          192,
          193,
          194,
          195,
          196,
          197,
          198,
          199,
          200,
          201,
          202,
          203,
          204,
          205,
          206,
          207,
          208,
          209,
          210,
          211,
          212,
          213,
          214,
          215,
          216,
          217,
          218,
          219,
          220,
          221,
          222,
          223,
          224,
          225,
          226,
          227,
          228,
          229,
          230,
          231,
          232,
          233,
          234,
          235,
          236,
          237,
          238,
          239,
          240,
          241,
          242,
          243,
          244,
          245,
          246,
          247,
          248,
          249,
          250,
          251,
          252,
          253,
          254,
          255,
          256,
          257,
          258,
          259,
          260,
          261,
          262,
          263,
          264,
          265,
          266,
          267,
          268,
          269,
          270,
          271,
          272,
          273,
          274,
          275,
          276,
          277,
          278,
          279,
          280,
          281,
          282,
          283,
          284,
          285,
          286,
          287,
          288,
          289,
          290,
          291,
          292,
          293,
          294,
          295,
          296,
          297,
          298,
          299,
          300,
          301,
          302,
          303,
          304,
          305,
          306,
          307,
          308,
          309,
          310,
          311,
          312,
          313,
          314,
          315,
          316,
          317,
          318,
          319,
          320,
          321,
          322,
          323,
          324,
          325,
          326,
          327,
          328,
          329,
          330,
          331,
          332,
          333,
          334,
          335,
          336,
          337,
          338,
          339,
          340,
          341,
          342,
          343,
          344,
          345,
          346,
          347,
          348,
          349,
          350,
          351,
          352,
          353,
          354,
          355,
          356,
          357,
          358,
          359,
          360,
          361,
          362,
          363
         ],
         "xaxis": "x",
         "y": [
          15.5,
          27.5,
          29.5,
          37.5,
          43,
          44,
          44.5,
          45.5,
          47,
          47,
          47.5,
          47.5,
          48,
          48.5,
          49,
          49,
          50,
          50,
          51.5,
          53,
          53.5,
          53.5,
          54,
          55,
          56.5,
          56.5,
          56.5,
          56.5,
          58,
          58.5,
          59,
          59,
          59.5,
          60,
          60.5,
          61,
          61,
          61,
          61.5,
          62,
          62.5,
          62.5,
          63.5,
          63.5,
          64.5,
          65,
          65,
          65,
          65.5,
          65.5,
          66,
          66.5,
          67,
          67,
          68,
          68.5,
          68.5,
          68.5,
          69,
          69.5,
          69.5,
          69.5,
          70.5,
          70.5,
          71,
          71.5,
          72,
          72,
          72.5,
          72.5,
          72.5,
          73,
          73,
          73.5,
          74.5,
          75.5,
          75.5,
          75.5,
          76,
          76.5,
          76.5,
          77,
          77.5,
          77.5,
          77.5,
          77.5,
          78,
          79,
          79.5,
          80,
          80.5,
          80.5,
          80.5,
          81,
          81,
          81,
          81,
          81.5,
          82,
          83,
          83,
          83.5,
          84,
          84,
          84.5,
          85,
          85,
          85,
          85,
          85,
          85,
          85.5,
          85.5,
          85.5,
          85.5,
          85.5,
          86,
          86.5,
          87,
          87,
          87,
          87,
          87,
          87,
          87.5,
          87.5,
          87.5,
          87.5,
          87.5,
          87.5,
          88,
          88,
          88.5,
          89,
          89,
          89.5,
          90,
          90,
          90.5,
          91,
          91.5,
          92,
          92,
          92.5,
          92.5,
          93,
          94,
          94,
          94.5,
          94.5,
          94.5,
          95,
          95,
          95,
          95.5,
          95.5,
          96,
          96,
          96,
          96,
          96.5,
          96.5,
          97,
          97,
          97.5,
          97.5,
          98,
          98,
          98.5,
          98.5,
          98.5,
          99,
          99,
          99.5,
          100,
          100,
          100,
          100,
          100,
          100.5,
          100.5,
          100.5,
          100.5,
          101,
          101,
          101,
          101.5,
          102,
          102.5,
          102.5,
          103,
          103,
          103.5,
          104.5,
          104.5,
          105,
          105.5,
          105.5,
          105.5,
          106,
          106,
          106.5,
          106.5,
          106.5,
          106.5,
          107,
          107,
          107,
          107,
          107,
          107,
          107.5,
          107.5,
          107.5,
          107.5,
          107.5,
          107.5,
          107.5,
          108,
          108,
          109,
          109,
          109,
          109,
          109.5,
          110,
          110,
          110,
          110.5,
          110.5,
          110.5,
          111,
          111.5,
          112,
          112.5,
          112.5,
          112.5,
          113,
          113.5,
          113.5,
          113.5,
          113.5,
          114,
          114,
          114,
          114.5,
          114.5,
          114.5,
          114.5,
          115,
          115,
          115.5,
          116.5,
          116.5,
          118,
          118.5,
          119,
          119.5,
          120,
          120,
          120.5,
          121,
          121,
          121,
          121,
          121.5,
          122,
          122,
          122.5,
          123.5,
          123.5,
          124,
          124,
          124.5,
          124.5,
          125,
          127,
          127.5,
          128,
          128,
          128,
          128.5,
          128.5,
          130,
          130,
          130,
          132.5,
          132.5,
          133,
          133,
          133.5,
          134,
          136.5,
          137,
          137.5,
          138.5,
          138.5,
          139,
          139,
          139,
          139.5,
          139.5,
          139.5,
          140,
          140,
          140,
          140.5,
          142,
          142,
          142.5,
          142.5,
          143,
          143.5,
          143.5,
          145.5,
          146,
          146.5,
          147,
          147,
          147,
          147.5,
          147.5,
          148,
          149.5,
          150.5,
          150.5,
          153,
          153,
          153.5,
          154.5,
          154.5,
          155,
          155,
          157,
          161.5,
          162,
          162,
          162.5,
          163,
          163.5,
          164,
          164.5,
          165,
          167.5,
          168,
          169,
          169,
          171.5,
          172,
          173,
          173,
          177,
          179.5,
          180,
          181,
          184.5,
          194,
          194.5,
          205,
          221.5,
          225,
          232.5,
          237.5,
          254
         ],
         "yaxis": "y"
        }
       ],
       "layout": {
        "barmode": "relative",
        "legend": {
         "tracegroupgap": 0
        },
        "margin": {
         "t": 60
        },
        "template": {
         "data": {
          "bar": [
           {
            "error_x": {
             "color": "#2a3f5f"
            },
            "error_y": {
             "color": "#2a3f5f"
            },
            "marker": {
             "line": {
              "color": "#E5ECF6",
              "width": 0.5
             },
             "pattern": {
              "fillmode": "overlay",
              "size": 10,
              "solidity": 0.2
             }
            },
            "type": "bar"
           }
          ],
          "barpolar": [
           {
            "marker": {
             "line": {
              "color": "#E5ECF6",
              "width": 0.5
             },
             "pattern": {
              "fillmode": "overlay",
              "size": 10,
              "solidity": 0.2
             }
            },
            "type": "barpolar"
           }
          ],
          "carpet": [
           {
            "aaxis": {
             "endlinecolor": "#2a3f5f",
             "gridcolor": "white",
             "linecolor": "white",
             "minorgridcolor": "white",
             "startlinecolor": "#2a3f5f"
            },
            "baxis": {
             "endlinecolor": "#2a3f5f",
             "gridcolor": "white",
             "linecolor": "white",
             "minorgridcolor": "white",
             "startlinecolor": "#2a3f5f"
            },
            "type": "carpet"
           }
          ],
          "choropleth": [
           {
            "colorbar": {
             "outlinewidth": 0,
             "ticks": ""
            },
            "type": "choropleth"
           }
          ],
          "contour": [
           {
            "colorbar": {
             "outlinewidth": 0,
             "ticks": ""
            },
            "colorscale": [
             [
              0,
              "#0d0887"
             ],
             [
              0.1111111111111111,
              "#46039f"
             ],
             [
              0.2222222222222222,
              "#7201a8"
             ],
             [
              0.3333333333333333,
              "#9c179e"
             ],
             [
              0.4444444444444444,
              "#bd3786"
             ],
             [
              0.5555555555555556,
              "#d8576b"
             ],
             [
              0.6666666666666666,
              "#ed7953"
             ],
             [
              0.7777777777777778,
              "#fb9f3a"
             ],
             [
              0.8888888888888888,
              "#fdca26"
             ],
             [
              1,
              "#f0f921"
             ]
            ],
            "type": "contour"
           }
          ],
          "contourcarpet": [
           {
            "colorbar": {
             "outlinewidth": 0,
             "ticks": ""
            },
            "type": "contourcarpet"
           }
          ],
          "heatmap": [
           {
            "colorbar": {
             "outlinewidth": 0,
             "ticks": ""
            },
            "colorscale": [
             [
              0,
              "#0d0887"
             ],
             [
              0.1111111111111111,
              "#46039f"
             ],
             [
              0.2222222222222222,
              "#7201a8"
             ],
             [
              0.3333333333333333,
              "#9c179e"
             ],
             [
              0.4444444444444444,
              "#bd3786"
             ],
             [
              0.5555555555555556,
              "#d8576b"
             ],
             [
              0.6666666666666666,
              "#ed7953"
             ],
             [
              0.7777777777777778,
              "#fb9f3a"
             ],
             [
              0.8888888888888888,
              "#fdca26"
             ],
             [
              1,
              "#f0f921"
             ]
            ],
            "type": "heatmap"
           }
          ],
          "heatmapgl": [
           {
            "colorbar": {
             "outlinewidth": 0,
             "ticks": ""
            },
            "colorscale": [
             [
              0,
              "#0d0887"
             ],
             [
              0.1111111111111111,
              "#46039f"
             ],
             [
              0.2222222222222222,
              "#7201a8"
             ],
             [
              0.3333333333333333,
              "#9c179e"
             ],
             [
              0.4444444444444444,
              "#bd3786"
             ],
             [
              0.5555555555555556,
              "#d8576b"
             ],
             [
              0.6666666666666666,
              "#ed7953"
             ],
             [
              0.7777777777777778,
              "#fb9f3a"
             ],
             [
              0.8888888888888888,
              "#fdca26"
             ],
             [
              1,
              "#f0f921"
             ]
            ],
            "type": "heatmapgl"
           }
          ],
          "histogram": [
           {
            "marker": {
             "pattern": {
              "fillmode": "overlay",
              "size": 10,
              "solidity": 0.2
             }
            },
            "type": "histogram"
           }
          ],
          "histogram2d": [
           {
            "colorbar": {
             "outlinewidth": 0,
             "ticks": ""
            },
            "colorscale": [
             [
              0,
              "#0d0887"
             ],
             [
              0.1111111111111111,
              "#46039f"
             ],
             [
              0.2222222222222222,
              "#7201a8"
             ],
             [
              0.3333333333333333,
              "#9c179e"
             ],
             [
              0.4444444444444444,
              "#bd3786"
             ],
             [
              0.5555555555555556,
              "#d8576b"
             ],
             [
              0.6666666666666666,
              "#ed7953"
             ],
             [
              0.7777777777777778,
              "#fb9f3a"
             ],
             [
              0.8888888888888888,
              "#fdca26"
             ],
             [
              1,
              "#f0f921"
             ]
            ],
            "type": "histogram2d"
           }
          ],
          "histogram2dcontour": [
           {
            "colorbar": {
             "outlinewidth": 0,
             "ticks": ""
            },
            "colorscale": [
             [
              0,
              "#0d0887"
             ],
             [
              0.1111111111111111,
              "#46039f"
             ],
             [
              0.2222222222222222,
              "#7201a8"
             ],
             [
              0.3333333333333333,
              "#9c179e"
             ],
             [
              0.4444444444444444,
              "#bd3786"
             ],
             [
              0.5555555555555556,
              "#d8576b"
             ],
             [
              0.6666666666666666,
              "#ed7953"
             ],
             [
              0.7777777777777778,
              "#fb9f3a"
             ],
             [
              0.8888888888888888,
              "#fdca26"
             ],
             [
              1,
              "#f0f921"
             ]
            ],
            "type": "histogram2dcontour"
           }
          ],
          "mesh3d": [
           {
            "colorbar": {
             "outlinewidth": 0,
             "ticks": ""
            },
            "type": "mesh3d"
           }
          ],
          "parcoords": [
           {
            "line": {
             "colorbar": {
              "outlinewidth": 0,
              "ticks": ""
             }
            },
            "type": "parcoords"
           }
          ],
          "pie": [
           {
            "automargin": true,
            "type": "pie"
           }
          ],
          "scatter": [
           {
            "fillpattern": {
             "fillmode": "overlay",
             "size": 10,
             "solidity": 0.2
            },
            "type": "scatter"
           }
          ],
          "scatter3d": [
           {
            "line": {
             "colorbar": {
              "outlinewidth": 0,
              "ticks": ""
             }
            },
            "marker": {
             "colorbar": {
              "outlinewidth": 0,
              "ticks": ""
             }
            },
            "type": "scatter3d"
           }
          ],
          "scattercarpet": [
           {
            "marker": {
             "colorbar": {
              "outlinewidth": 0,
              "ticks": ""
             }
            },
            "type": "scattercarpet"
           }
          ],
          "scattergeo": [
           {
            "marker": {
             "colorbar": {
              "outlinewidth": 0,
              "ticks": ""
             }
            },
            "type": "scattergeo"
           }
          ],
          "scattergl": [
           {
            "marker": {
             "colorbar": {
              "outlinewidth": 0,
              "ticks": ""
             }
            },
            "type": "scattergl"
           }
          ],
          "scattermapbox": [
           {
            "marker": {
             "colorbar": {
              "outlinewidth": 0,
              "ticks": ""
             }
            },
            "type": "scattermapbox"
           }
          ],
          "scatterpolar": [
           {
            "marker": {
             "colorbar": {
              "outlinewidth": 0,
              "ticks": ""
             }
            },
            "type": "scatterpolar"
           }
          ],
          "scatterpolargl": [
           {
            "marker": {
             "colorbar": {
              "outlinewidth": 0,
              "ticks": ""
             }
            },
            "type": "scatterpolargl"
           }
          ],
          "scatterternary": [
           {
            "marker": {
             "colorbar": {
              "outlinewidth": 0,
              "ticks": ""
             }
            },
            "type": "scatterternary"
           }
          ],
          "surface": [
           {
            "colorbar": {
             "outlinewidth": 0,
             "ticks": ""
            },
            "colorscale": [
             [
              0,
              "#0d0887"
             ],
             [
              0.1111111111111111,
              "#46039f"
             ],
             [
              0.2222222222222222,
              "#7201a8"
             ],
             [
              0.3333333333333333,
              "#9c179e"
             ],
             [
              0.4444444444444444,
              "#bd3786"
             ],
             [
              0.5555555555555556,
              "#d8576b"
             ],
             [
              0.6666666666666666,
              "#ed7953"
             ],
             [
              0.7777777777777778,
              "#fb9f3a"
             ],
             [
              0.8888888888888888,
              "#fdca26"
             ],
             [
              1,
              "#f0f921"
             ]
            ],
            "type": "surface"
           }
          ],
          "table": [
           {
            "cells": {
             "fill": {
              "color": "#EBF0F8"
             },
             "line": {
              "color": "white"
             }
            },
            "header": {
             "fill": {
              "color": "#C8D4E3"
             },
             "line": {
              "color": "white"
             }
            },
            "type": "table"
           }
          ]
         },
         "layout": {
          "annotationdefaults": {
           "arrowcolor": "#2a3f5f",
           "arrowhead": 0,
           "arrowwidth": 1
          },
          "autotypenumbers": "strict",
          "coloraxis": {
           "colorbar": {
            "outlinewidth": 0,
            "ticks": ""
           }
          },
          "colorscale": {
           "diverging": [
            [
             0,
             "#8e0152"
            ],
            [
             0.1,
             "#c51b7d"
            ],
            [
             0.2,
             "#de77ae"
            ],
            [
             0.3,
             "#f1b6da"
            ],
            [
             0.4,
             "#fde0ef"
            ],
            [
             0.5,
             "#f7f7f7"
            ],
            [
             0.6,
             "#e6f5d0"
            ],
            [
             0.7,
             "#b8e186"
            ],
            [
             0.8,
             "#7fbc41"
            ],
            [
             0.9,
             "#4d9221"
            ],
            [
             1,
             "#276419"
            ]
           ],
           "sequential": [
            [
             0,
             "#0d0887"
            ],
            [
             0.1111111111111111,
             "#46039f"
            ],
            [
             0.2222222222222222,
             "#7201a8"
            ],
            [
             0.3333333333333333,
             "#9c179e"
            ],
            [
             0.4444444444444444,
             "#bd3786"
            ],
            [
             0.5555555555555556,
             "#d8576b"
            ],
            [
             0.6666666666666666,
             "#ed7953"
            ],
            [
             0.7777777777777778,
             "#fb9f3a"
            ],
            [
             0.8888888888888888,
             "#fdca26"
            ],
            [
             1,
             "#f0f921"
            ]
           ],
           "sequentialminus": [
            [
             0,
             "#0d0887"
            ],
            [
             0.1111111111111111,
             "#46039f"
            ],
            [
             0.2222222222222222,
             "#7201a8"
            ],
            [
             0.3333333333333333,
             "#9c179e"
            ],
            [
             0.4444444444444444,
             "#bd3786"
            ],
            [
             0.5555555555555556,
             "#d8576b"
            ],
            [
             0.6666666666666666,
             "#ed7953"
            ],
            [
             0.7777777777777778,
             "#fb9f3a"
            ],
            [
             0.8888888888888888,
             "#fdca26"
            ],
            [
             1,
             "#f0f921"
            ]
           ]
          },
          "colorway": [
           "#636efa",
           "#EF553B",
           "#00cc96",
           "#ab63fa",
           "#FFA15A",
           "#19d3f3",
           "#FF6692",
           "#B6E880",
           "#FF97FF",
           "#FECB52"
          ],
          "font": {
           "color": "#2a3f5f"
          },
          "geo": {
           "bgcolor": "white",
           "lakecolor": "white",
           "landcolor": "#E5ECF6",
           "showlakes": true,
           "showland": true,
           "subunitcolor": "white"
          },
          "hoverlabel": {
           "align": "left"
          },
          "hovermode": "closest",
          "mapbox": {
           "style": "light"
          },
          "paper_bgcolor": "white",
          "plot_bgcolor": "#E5ECF6",
          "polar": {
           "angularaxis": {
            "gridcolor": "white",
            "linecolor": "white",
            "ticks": ""
           },
           "bgcolor": "#E5ECF6",
           "radialaxis": {
            "gridcolor": "white",
            "linecolor": "white",
            "ticks": ""
           }
          },
          "scene": {
           "xaxis": {
            "backgroundcolor": "#E5ECF6",
            "gridcolor": "white",
            "gridwidth": 2,
            "linecolor": "white",
            "showbackground": true,
            "ticks": "",
            "zerolinecolor": "white"
           },
           "yaxis": {
            "backgroundcolor": "#E5ECF6",
            "gridcolor": "white",
            "gridwidth": 2,
            "linecolor": "white",
            "showbackground": true,
            "ticks": "",
            "zerolinecolor": "white"
           },
           "zaxis": {
            "backgroundcolor": "#E5ECF6",
            "gridcolor": "white",
            "gridwidth": 2,
            "linecolor": "white",
            "showbackground": true,
            "ticks": "",
            "zerolinecolor": "white"
           }
          },
          "shapedefaults": {
           "line": {
            "color": "#2a3f5f"
           }
          },
          "ternary": {
           "aaxis": {
            "gridcolor": "white",
            "linecolor": "white",
            "ticks": ""
           },
           "baxis": {
            "gridcolor": "white",
            "linecolor": "white",
            "ticks": ""
           },
           "bgcolor": "#E5ECF6",
           "caxis": {
            "gridcolor": "white",
            "linecolor": "white",
            "ticks": ""
           }
          },
          "title": {
           "x": 0.05
          },
          "xaxis": {
           "automargin": true,
           "gridcolor": "white",
           "linecolor": "white",
           "ticks": "",
           "title": {
            "standoff": 15
           },
           "zerolinecolor": "white",
           "zerolinewidth": 2
          },
          "yaxis": {
           "automargin": true,
           "gridcolor": "white",
           "linecolor": "white",
           "ticks": "",
           "title": {
            "standoff": 15
           },
           "zerolinecolor": "white",
           "zerolinewidth": 2
          }
         }
        },
        "xaxis": {
         "anchor": "y",
         "domain": [
          0,
          1
         ],
         "title": {
          "text": "Person"
         }
        },
        "yaxis": {
         "anchor": "x",
         "domain": [
          0,
          1
         ],
         "title": {
          "text": "Avg Salary(K)"
         }
        }
       }
      },
      "text/html": [
       "<div>                            <div id=\"d8554b6d-e092-4943-a99f-d6125b439092\" class=\"plotly-graph-div\" style=\"height:525px; width:100%;\"></div>            <script type=\"text/javascript\">                require([\"plotly\"], function(Plotly) {                    window.PLOTLYENV=window.PLOTLYENV || {};                                    if (document.getElementById(\"d8554b6d-e092-4943-a99f-d6125b439092\")) {                    Plotly.newPlot(                        \"d8554b6d-e092-4943-a99f-d6125b439092\",                        [{\"alignmentgroup\":\"True\",\"hovertemplate\":\"x=%{x}<br>y=%{y}<extra></extra>\",\"legendgroup\":\"\",\"marker\":{\"color\":\"#636efa\",\"pattern\":{\"shape\":\"\"}},\"name\":\"\",\"offsetgroup\":\"\",\"orientation\":\"v\",\"showlegend\":false,\"textposition\":\"auto\",\"x\":[0,1,2,3,4,5,6,7,8,9,10,11,12,13,14,15,16,17,18,19,20,21,22,23,24,25,26,27,28,29,30,31,32,33,34,35,36,37,38,39,40,41,42,43,44,45,46,47,48,49,50,51,52,53,54,55,56,57,58,59,60,61,62,63,64,65,66,67,68,69,70,71,72,73,74,75,76,77,78,79,80,81,82,83,84,85,86,87,88,89,90,91,92,93,94,95,96,97,98,99,100,101,102,103,104,105,106,107,108,109,110,111,112,113,114,115,116,117,118,119,120,121,122,123,124,125,126,127,128,129,130,131,132,133,134,135,136,137,138,139,140,141,142,143,144,145,146,147,148,149,150,151,152,153,154,155,156,157,158,159,160,161,162,163,164,165,166,167,168,169,170,171,172,173,174,175,176,177,178,179,180,181,182,183,184,185,186,187,188,189,190,191,192,193,194,195,196,197,198,199,200,201,202,203,204,205,206,207,208,209,210,211,212,213,214,215,216,217,218,219,220,221,222,223,224,225,226,227,228,229,230,231,232,233,234,235,236,237,238,239,240,241,242,243,244,245,246,247,248,249,250,251,252,253,254,255,256,257,258,259,260,261,262,263,264,265,266,267,268,269,270,271,272,273,274,275,276,277,278,279,280,281,282,283,284,285,286,287,288,289,290,291,292,293,294,295,296,297,298,299,300,301,302,303,304,305,306,307,308,309,310,311,312,313,314,315,316,317,318,319,320,321,322,323,324,325,326,327,328,329,330,331,332,333,334,335,336,337,338,339,340,341,342,343,344,345,346,347,348,349,350,351,352,353,354,355,356,357,358,359,360,361,362,363],\"xaxis\":\"x\",\"y\":[15.5,27.5,29.5,37.5,43.0,44.0,44.5,45.5,47.0,47.0,47.5,47.5,48.0,48.5,49.0,49.0,50.0,50.0,51.5,53.0,53.5,53.5,54.0,55.0,56.5,56.5,56.5,56.5,58.0,58.5,59.0,59.0,59.5,60.0,60.5,61.0,61.0,61.0,61.5,62.0,62.5,62.5,63.5,63.5,64.5,65.0,65.0,65.0,65.5,65.5,66.0,66.5,67.0,67.0,68.0,68.5,68.5,68.5,69.0,69.5,69.5,69.5,70.5,70.5,71.0,71.5,72.0,72.0,72.5,72.5,72.5,73.0,73.0,73.5,74.5,75.5,75.5,75.5,76.0,76.5,76.5,77.0,77.5,77.5,77.5,77.5,78.0,79.0,79.5,80.0,80.5,80.5,80.5,81.0,81.0,81.0,81.0,81.5,82.0,83.0,83.0,83.5,84.0,84.0,84.5,85.0,85.0,85.0,85.0,85.0,85.0,85.5,85.5,85.5,85.5,85.5,86.0,86.5,87.0,87.0,87.0,87.0,87.0,87.0,87.5,87.5,87.5,87.5,87.5,87.5,88.0,88.0,88.5,89.0,89.0,89.5,90.0,90.0,90.5,91.0,91.5,92.0,92.0,92.5,92.5,93.0,94.0,94.0,94.5,94.5,94.5,95.0,95.0,95.0,95.5,95.5,96.0,96.0,96.0,96.0,96.5,96.5,97.0,97.0,97.5,97.5,98.0,98.0,98.5,98.5,98.5,99.0,99.0,99.5,100.0,100.0,100.0,100.0,100.0,100.5,100.5,100.5,100.5,101.0,101.0,101.0,101.5,102.0,102.5,102.5,103.0,103.0,103.5,104.5,104.5,105.0,105.5,105.5,105.5,106.0,106.0,106.5,106.5,106.5,106.5,107.0,107.0,107.0,107.0,107.0,107.0,107.5,107.5,107.5,107.5,107.5,107.5,107.5,108.0,108.0,109.0,109.0,109.0,109.0,109.5,110.0,110.0,110.0,110.5,110.5,110.5,111.0,111.5,112.0,112.5,112.5,112.5,113.0,113.5,113.5,113.5,113.5,114.0,114.0,114.0,114.5,114.5,114.5,114.5,115.0,115.0,115.5,116.5,116.5,118.0,118.5,119.0,119.5,120.0,120.0,120.5,121.0,121.0,121.0,121.0,121.5,122.0,122.0,122.5,123.5,123.5,124.0,124.0,124.5,124.5,125.0,127.0,127.5,128.0,128.0,128.0,128.5,128.5,130.0,130.0,130.0,132.5,132.5,133.0,133.0,133.5,134.0,136.5,137.0,137.5,138.5,138.5,139.0,139.0,139.0,139.5,139.5,139.5,140.0,140.0,140.0,140.5,142.0,142.0,142.5,142.5,143.0,143.5,143.5,145.5,146.0,146.5,147.0,147.0,147.0,147.5,147.5,148.0,149.5,150.5,150.5,153.0,153.0,153.5,154.5,154.5,155.0,155.0,157.0,161.5,162.0,162.0,162.5,163.0,163.5,164.0,164.5,165.0,167.5,168.0,169.0,169.0,171.5,172.0,173.0,173.0,177.0,179.5,180.0,181.0,184.5,194.0,194.5,205.0,221.5,225.0,232.5,237.5,254.0],\"yaxis\":\"y\",\"type\":\"bar\"}],                        {\"template\":{\"data\":{\"histogram2dcontour\":[{\"type\":\"histogram2dcontour\",\"colorbar\":{\"outlinewidth\":0,\"ticks\":\"\"},\"colorscale\":[[0.0,\"#0d0887\"],[0.1111111111111111,\"#46039f\"],[0.2222222222222222,\"#7201a8\"],[0.3333333333333333,\"#9c179e\"],[0.4444444444444444,\"#bd3786\"],[0.5555555555555556,\"#d8576b\"],[0.6666666666666666,\"#ed7953\"],[0.7777777777777778,\"#fb9f3a\"],[0.8888888888888888,\"#fdca26\"],[1.0,\"#f0f921\"]]}],\"choropleth\":[{\"type\":\"choropleth\",\"colorbar\":{\"outlinewidth\":0,\"ticks\":\"\"}}],\"histogram2d\":[{\"type\":\"histogram2d\",\"colorbar\":{\"outlinewidth\":0,\"ticks\":\"\"},\"colorscale\":[[0.0,\"#0d0887\"],[0.1111111111111111,\"#46039f\"],[0.2222222222222222,\"#7201a8\"],[0.3333333333333333,\"#9c179e\"],[0.4444444444444444,\"#bd3786\"],[0.5555555555555556,\"#d8576b\"],[0.6666666666666666,\"#ed7953\"],[0.7777777777777778,\"#fb9f3a\"],[0.8888888888888888,\"#fdca26\"],[1.0,\"#f0f921\"]]}],\"heatmap\":[{\"type\":\"heatmap\",\"colorbar\":{\"outlinewidth\":0,\"ticks\":\"\"},\"colorscale\":[[0.0,\"#0d0887\"],[0.1111111111111111,\"#46039f\"],[0.2222222222222222,\"#7201a8\"],[0.3333333333333333,\"#9c179e\"],[0.4444444444444444,\"#bd3786\"],[0.5555555555555556,\"#d8576b\"],[0.6666666666666666,\"#ed7953\"],[0.7777777777777778,\"#fb9f3a\"],[0.8888888888888888,\"#fdca26\"],[1.0,\"#f0f921\"]]}],\"heatmapgl\":[{\"type\":\"heatmapgl\",\"colorbar\":{\"outlinewidth\":0,\"ticks\":\"\"},\"colorscale\":[[0.0,\"#0d0887\"],[0.1111111111111111,\"#46039f\"],[0.2222222222222222,\"#7201a8\"],[0.3333333333333333,\"#9c179e\"],[0.4444444444444444,\"#bd3786\"],[0.5555555555555556,\"#d8576b\"],[0.6666666666666666,\"#ed7953\"],[0.7777777777777778,\"#fb9f3a\"],[0.8888888888888888,\"#fdca26\"],[1.0,\"#f0f921\"]]}],\"contourcarpet\":[{\"type\":\"contourcarpet\",\"colorbar\":{\"outlinewidth\":0,\"ticks\":\"\"}}],\"contour\":[{\"type\":\"contour\",\"colorbar\":{\"outlinewidth\":0,\"ticks\":\"\"},\"colorscale\":[[0.0,\"#0d0887\"],[0.1111111111111111,\"#46039f\"],[0.2222222222222222,\"#7201a8\"],[0.3333333333333333,\"#9c179e\"],[0.4444444444444444,\"#bd3786\"],[0.5555555555555556,\"#d8576b\"],[0.6666666666666666,\"#ed7953\"],[0.7777777777777778,\"#fb9f3a\"],[0.8888888888888888,\"#fdca26\"],[1.0,\"#f0f921\"]]}],\"surface\":[{\"type\":\"surface\",\"colorbar\":{\"outlinewidth\":0,\"ticks\":\"\"},\"colorscale\":[[0.0,\"#0d0887\"],[0.1111111111111111,\"#46039f\"],[0.2222222222222222,\"#7201a8\"],[0.3333333333333333,\"#9c179e\"],[0.4444444444444444,\"#bd3786\"],[0.5555555555555556,\"#d8576b\"],[0.6666666666666666,\"#ed7953\"],[0.7777777777777778,\"#fb9f3a\"],[0.8888888888888888,\"#fdca26\"],[1.0,\"#f0f921\"]]}],\"mesh3d\":[{\"type\":\"mesh3d\",\"colorbar\":{\"outlinewidth\":0,\"ticks\":\"\"}}],\"scatter\":[{\"fillpattern\":{\"fillmode\":\"overlay\",\"size\":10,\"solidity\":0.2},\"type\":\"scatter\"}],\"parcoords\":[{\"type\":\"parcoords\",\"line\":{\"colorbar\":{\"outlinewidth\":0,\"ticks\":\"\"}}}],\"scatterpolargl\":[{\"type\":\"scatterpolargl\",\"marker\":{\"colorbar\":{\"outlinewidth\":0,\"ticks\":\"\"}}}],\"bar\":[{\"error_x\":{\"color\":\"#2a3f5f\"},\"error_y\":{\"color\":\"#2a3f5f\"},\"marker\":{\"line\":{\"color\":\"#E5ECF6\",\"width\":0.5},\"pattern\":{\"fillmode\":\"overlay\",\"size\":10,\"solidity\":0.2}},\"type\":\"bar\"}],\"scattergeo\":[{\"type\":\"scattergeo\",\"marker\":{\"colorbar\":{\"outlinewidth\":0,\"ticks\":\"\"}}}],\"scatterpolar\":[{\"type\":\"scatterpolar\",\"marker\":{\"colorbar\":{\"outlinewidth\":0,\"ticks\":\"\"}}}],\"histogram\":[{\"marker\":{\"pattern\":{\"fillmode\":\"overlay\",\"size\":10,\"solidity\":0.2}},\"type\":\"histogram\"}],\"scattergl\":[{\"type\":\"scattergl\",\"marker\":{\"colorbar\":{\"outlinewidth\":0,\"ticks\":\"\"}}}],\"scatter3d\":[{\"type\":\"scatter3d\",\"line\":{\"colorbar\":{\"outlinewidth\":0,\"ticks\":\"\"}},\"marker\":{\"colorbar\":{\"outlinewidth\":0,\"ticks\":\"\"}}}],\"scattermapbox\":[{\"type\":\"scattermapbox\",\"marker\":{\"colorbar\":{\"outlinewidth\":0,\"ticks\":\"\"}}}],\"scatterternary\":[{\"type\":\"scatterternary\",\"marker\":{\"colorbar\":{\"outlinewidth\":0,\"ticks\":\"\"}}}],\"scattercarpet\":[{\"type\":\"scattercarpet\",\"marker\":{\"colorbar\":{\"outlinewidth\":0,\"ticks\":\"\"}}}],\"carpet\":[{\"aaxis\":{\"endlinecolor\":\"#2a3f5f\",\"gridcolor\":\"white\",\"linecolor\":\"white\",\"minorgridcolor\":\"white\",\"startlinecolor\":\"#2a3f5f\"},\"baxis\":{\"endlinecolor\":\"#2a3f5f\",\"gridcolor\":\"white\",\"linecolor\":\"white\",\"minorgridcolor\":\"white\",\"startlinecolor\":\"#2a3f5f\"},\"type\":\"carpet\"}],\"table\":[{\"cells\":{\"fill\":{\"color\":\"#EBF0F8\"},\"line\":{\"color\":\"white\"}},\"header\":{\"fill\":{\"color\":\"#C8D4E3\"},\"line\":{\"color\":\"white\"}},\"type\":\"table\"}],\"barpolar\":[{\"marker\":{\"line\":{\"color\":\"#E5ECF6\",\"width\":0.5},\"pattern\":{\"fillmode\":\"overlay\",\"size\":10,\"solidity\":0.2}},\"type\":\"barpolar\"}],\"pie\":[{\"automargin\":true,\"type\":\"pie\"}]},\"layout\":{\"autotypenumbers\":\"strict\",\"colorway\":[\"#636efa\",\"#EF553B\",\"#00cc96\",\"#ab63fa\",\"#FFA15A\",\"#19d3f3\",\"#FF6692\",\"#B6E880\",\"#FF97FF\",\"#FECB52\"],\"font\":{\"color\":\"#2a3f5f\"},\"hovermode\":\"closest\",\"hoverlabel\":{\"align\":\"left\"},\"paper_bgcolor\":\"white\",\"plot_bgcolor\":\"#E5ECF6\",\"polar\":{\"bgcolor\":\"#E5ECF6\",\"angularaxis\":{\"gridcolor\":\"white\",\"linecolor\":\"white\",\"ticks\":\"\"},\"radialaxis\":{\"gridcolor\":\"white\",\"linecolor\":\"white\",\"ticks\":\"\"}},\"ternary\":{\"bgcolor\":\"#E5ECF6\",\"aaxis\":{\"gridcolor\":\"white\",\"linecolor\":\"white\",\"ticks\":\"\"},\"baxis\":{\"gridcolor\":\"white\",\"linecolor\":\"white\",\"ticks\":\"\"},\"caxis\":{\"gridcolor\":\"white\",\"linecolor\":\"white\",\"ticks\":\"\"}},\"coloraxis\":{\"colorbar\":{\"outlinewidth\":0,\"ticks\":\"\"}},\"colorscale\":{\"sequential\":[[0.0,\"#0d0887\"],[0.1111111111111111,\"#46039f\"],[0.2222222222222222,\"#7201a8\"],[0.3333333333333333,\"#9c179e\"],[0.4444444444444444,\"#bd3786\"],[0.5555555555555556,\"#d8576b\"],[0.6666666666666666,\"#ed7953\"],[0.7777777777777778,\"#fb9f3a\"],[0.8888888888888888,\"#fdca26\"],[1.0,\"#f0f921\"]],\"sequentialminus\":[[0.0,\"#0d0887\"],[0.1111111111111111,\"#46039f\"],[0.2222222222222222,\"#7201a8\"],[0.3333333333333333,\"#9c179e\"],[0.4444444444444444,\"#bd3786\"],[0.5555555555555556,\"#d8576b\"],[0.6666666666666666,\"#ed7953\"],[0.7777777777777778,\"#fb9f3a\"],[0.8888888888888888,\"#fdca26\"],[1.0,\"#f0f921\"]],\"diverging\":[[0,\"#8e0152\"],[0.1,\"#c51b7d\"],[0.2,\"#de77ae\"],[0.3,\"#f1b6da\"],[0.4,\"#fde0ef\"],[0.5,\"#f7f7f7\"],[0.6,\"#e6f5d0\"],[0.7,\"#b8e186\"],[0.8,\"#7fbc41\"],[0.9,\"#4d9221\"],[1,\"#276419\"]]},\"xaxis\":{\"gridcolor\":\"white\",\"linecolor\":\"white\",\"ticks\":\"\",\"title\":{\"standoff\":15},\"zerolinecolor\":\"white\",\"automargin\":true,\"zerolinewidth\":2},\"yaxis\":{\"gridcolor\":\"white\",\"linecolor\":\"white\",\"ticks\":\"\",\"title\":{\"standoff\":15},\"zerolinecolor\":\"white\",\"automargin\":true,\"zerolinewidth\":2},\"scene\":{\"xaxis\":{\"backgroundcolor\":\"#E5ECF6\",\"gridcolor\":\"white\",\"linecolor\":\"white\",\"showbackground\":true,\"ticks\":\"\",\"zerolinecolor\":\"white\",\"gridwidth\":2},\"yaxis\":{\"backgroundcolor\":\"#E5ECF6\",\"gridcolor\":\"white\",\"linecolor\":\"white\",\"showbackground\":true,\"ticks\":\"\",\"zerolinecolor\":\"white\",\"gridwidth\":2},\"zaxis\":{\"backgroundcolor\":\"#E5ECF6\",\"gridcolor\":\"white\",\"linecolor\":\"white\",\"showbackground\":true,\"ticks\":\"\",\"zerolinecolor\":\"white\",\"gridwidth\":2}},\"shapedefaults\":{\"line\":{\"color\":\"#2a3f5f\"}},\"annotationdefaults\":{\"arrowcolor\":\"#2a3f5f\",\"arrowhead\":0,\"arrowwidth\":1},\"geo\":{\"bgcolor\":\"white\",\"landcolor\":\"#E5ECF6\",\"subunitcolor\":\"white\",\"showland\":true,\"showlakes\":true,\"lakecolor\":\"white\"},\"title\":{\"x\":0.05},\"mapbox\":{\"style\":\"light\"}}},\"xaxis\":{\"anchor\":\"y\",\"domain\":[0.0,1.0],\"title\":{\"text\":\"Person\"}},\"yaxis\":{\"anchor\":\"x\",\"domain\":[0.0,1.0],\"title\":{\"text\":\"Avg Salary(K)\"}},\"legend\":{\"tracegroupgap\":0},\"margin\":{\"t\":60},\"barmode\":\"relative\"},                        {\"responsive\": true}                    ).then(function(){\n",
       "                            \n",
       "var gd = document.getElementById('d8554b6d-e092-4943-a99f-d6125b439092');\n",
       "var x = new MutationObserver(function (mutations, observer) {{\n",
       "        var display = window.getComputedStyle(gd).display;\n",
       "        if (!display || display === 'none') {{\n",
       "            console.log([gd, 'removed!']);\n",
       "            Plotly.purge(gd);\n",
       "            observer.disconnect();\n",
       "        }}\n",
       "}});\n",
       "\n",
       "// Listen for the removal of the full notebook cells\n",
       "var notebookContainer = gd.closest('#notebook-container');\n",
       "if (notebookContainer) {{\n",
       "    x.observe(notebookContainer, {childList: true});\n",
       "}}\n",
       "\n",
       "// Listen for the clearing of the current output cell\n",
       "var outputEl = gd.closest('.output');\n",
       "if (outputEl) {{\n",
       "    x.observe(outputEl, {childList: true});\n",
       "}}\n",
       "\n",
       "                        })                };                });            </script>        </div>"
      ]
     },
     "metadata": {},
     "output_type": "display_data"
    }
   ],
   "source": [
    "df_dropAvgsal = df_dsc[['Avg Salary(K)']].sort_values(by='Avg Salary(K)')\n",
    "print(df_dropAvgsal)\n",
    "\n",
    "\n",
    "fig = px.bar(y = df_dropAvgsal['Avg Salary(K)'])\n",
    "fig.update_layout(xaxis_title='Person', yaxis_title='Avg Salary(K)')\n",
    "\n",
    "# fig.update_layout(xaxis={'categoryorder':'total descending'})\n",
    "fig.show()"
   ]
  },
  {
   "cell_type": "markdown",
   "id": "bac1249a",
   "metadata": {},
   "source": [
    "✔︎ Skill 컬럼들"
   ]
  },
  {
   "cell_type": "code",
   "execution_count": 226,
   "id": "2252ff7f",
   "metadata": {},
   "outputs": [
    {
     "data": {
      "application/vnd.plotly.v1+json": {
       "config": {
        "plotlyServerURL": "https://plot.ly"
       },
       "data": [
        {
         "type": "bar",
         "x": [
          "Python X",
          "Python O"
         ],
         "y": [
          123,
          241
         ]
        },
        {
         "type": "bar",
         "x": [
          "spark X",
          "spark O"
         ],
         "y": [
          258,
          106
         ]
        },
        {
         "type": "bar",
         "x": [
          "aws X",
          "aws O"
         ],
         "y": [
          268,
          96
         ]
        },
        {
         "type": "bar",
         "x": [
          "excel X",
          "excel O"
         ],
         "y": [
          167,
          197
         ]
        },
        {
         "type": "bar",
         "x": [
          "sql X",
          "sql O"
         ],
         "y": [
          127,
          237
         ]
        },
        {
         "type": "bar",
         "x": [
          "sas X",
          "sas O"
         ],
         "y": [
          324,
          40
         ]
        },
        {
         "type": "bar",
         "x": [
          "keras X",
          "keras O"
         ],
         "y": [
          345,
          19
         ]
        },
        {
         "type": "bar",
         "x": [
          "pytorch X",
          "pytorch O"
         ],
         "y": [
          341,
          23
         ]
        },
        {
         "type": "bar",
         "x": [
          "scikit X",
          "scikit O"
         ],
         "y": [
          327,
          37
         ]
        },
        {
         "type": "bar",
         "x": [
          "tensor X",
          "tensor O"
         ],
         "y": [
          318,
          46
         ]
        },
        {
         "type": "bar",
         "x": [
          "hadoop X",
          "hadoop O"
         ],
         "y": [
          287,
          77
         ]
        },
        {
         "type": "bar",
         "x": [
          "tableau X",
          "tableau O"
         ],
         "y": [
          276,
          88
         ]
        },
        {
         "type": "bar",
         "x": [
          "bi X",
          "bi O"
         ],
         "y": [
          329,
          35
         ]
        },
        {
         "type": "bar",
         "x": [
          "mongo X",
          "mongo O"
         ],
         "y": [
          341,
          23
         ]
        }
       ],
       "layout": {
        "bargap": 0.2,
        "bargroupgap": 0.1,
        "template": {
         "data": {
          "bar": [
           {
            "error_x": {
             "color": "#2a3f5f"
            },
            "error_y": {
             "color": "#2a3f5f"
            },
            "marker": {
             "line": {
              "color": "#E5ECF6",
              "width": 0.5
             },
             "pattern": {
              "fillmode": "overlay",
              "size": 10,
              "solidity": 0.2
             }
            },
            "type": "bar"
           }
          ],
          "barpolar": [
           {
            "marker": {
             "line": {
              "color": "#E5ECF6",
              "width": 0.5
             },
             "pattern": {
              "fillmode": "overlay",
              "size": 10,
              "solidity": 0.2
             }
            },
            "type": "barpolar"
           }
          ],
          "carpet": [
           {
            "aaxis": {
             "endlinecolor": "#2a3f5f",
             "gridcolor": "white",
             "linecolor": "white",
             "minorgridcolor": "white",
             "startlinecolor": "#2a3f5f"
            },
            "baxis": {
             "endlinecolor": "#2a3f5f",
             "gridcolor": "white",
             "linecolor": "white",
             "minorgridcolor": "white",
             "startlinecolor": "#2a3f5f"
            },
            "type": "carpet"
           }
          ],
          "choropleth": [
           {
            "colorbar": {
             "outlinewidth": 0,
             "ticks": ""
            },
            "type": "choropleth"
           }
          ],
          "contour": [
           {
            "colorbar": {
             "outlinewidth": 0,
             "ticks": ""
            },
            "colorscale": [
             [
              0,
              "#0d0887"
             ],
             [
              0.1111111111111111,
              "#46039f"
             ],
             [
              0.2222222222222222,
              "#7201a8"
             ],
             [
              0.3333333333333333,
              "#9c179e"
             ],
             [
              0.4444444444444444,
              "#bd3786"
             ],
             [
              0.5555555555555556,
              "#d8576b"
             ],
             [
              0.6666666666666666,
              "#ed7953"
             ],
             [
              0.7777777777777778,
              "#fb9f3a"
             ],
             [
              0.8888888888888888,
              "#fdca26"
             ],
             [
              1,
              "#f0f921"
             ]
            ],
            "type": "contour"
           }
          ],
          "contourcarpet": [
           {
            "colorbar": {
             "outlinewidth": 0,
             "ticks": ""
            },
            "type": "contourcarpet"
           }
          ],
          "heatmap": [
           {
            "colorbar": {
             "outlinewidth": 0,
             "ticks": ""
            },
            "colorscale": [
             [
              0,
              "#0d0887"
             ],
             [
              0.1111111111111111,
              "#46039f"
             ],
             [
              0.2222222222222222,
              "#7201a8"
             ],
             [
              0.3333333333333333,
              "#9c179e"
             ],
             [
              0.4444444444444444,
              "#bd3786"
             ],
             [
              0.5555555555555556,
              "#d8576b"
             ],
             [
              0.6666666666666666,
              "#ed7953"
             ],
             [
              0.7777777777777778,
              "#fb9f3a"
             ],
             [
              0.8888888888888888,
              "#fdca26"
             ],
             [
              1,
              "#f0f921"
             ]
            ],
            "type": "heatmap"
           }
          ],
          "heatmapgl": [
           {
            "colorbar": {
             "outlinewidth": 0,
             "ticks": ""
            },
            "colorscale": [
             [
              0,
              "#0d0887"
             ],
             [
              0.1111111111111111,
              "#46039f"
             ],
             [
              0.2222222222222222,
              "#7201a8"
             ],
             [
              0.3333333333333333,
              "#9c179e"
             ],
             [
              0.4444444444444444,
              "#bd3786"
             ],
             [
              0.5555555555555556,
              "#d8576b"
             ],
             [
              0.6666666666666666,
              "#ed7953"
             ],
             [
              0.7777777777777778,
              "#fb9f3a"
             ],
             [
              0.8888888888888888,
              "#fdca26"
             ],
             [
              1,
              "#f0f921"
             ]
            ],
            "type": "heatmapgl"
           }
          ],
          "histogram": [
           {
            "marker": {
             "pattern": {
              "fillmode": "overlay",
              "size": 10,
              "solidity": 0.2
             }
            },
            "type": "histogram"
           }
          ],
          "histogram2d": [
           {
            "colorbar": {
             "outlinewidth": 0,
             "ticks": ""
            },
            "colorscale": [
             [
              0,
              "#0d0887"
             ],
             [
              0.1111111111111111,
              "#46039f"
             ],
             [
              0.2222222222222222,
              "#7201a8"
             ],
             [
              0.3333333333333333,
              "#9c179e"
             ],
             [
              0.4444444444444444,
              "#bd3786"
             ],
             [
              0.5555555555555556,
              "#d8576b"
             ],
             [
              0.6666666666666666,
              "#ed7953"
             ],
             [
              0.7777777777777778,
              "#fb9f3a"
             ],
             [
              0.8888888888888888,
              "#fdca26"
             ],
             [
              1,
              "#f0f921"
             ]
            ],
            "type": "histogram2d"
           }
          ],
          "histogram2dcontour": [
           {
            "colorbar": {
             "outlinewidth": 0,
             "ticks": ""
            },
            "colorscale": [
             [
              0,
              "#0d0887"
             ],
             [
              0.1111111111111111,
              "#46039f"
             ],
             [
              0.2222222222222222,
              "#7201a8"
             ],
             [
              0.3333333333333333,
              "#9c179e"
             ],
             [
              0.4444444444444444,
              "#bd3786"
             ],
             [
              0.5555555555555556,
              "#d8576b"
             ],
             [
              0.6666666666666666,
              "#ed7953"
             ],
             [
              0.7777777777777778,
              "#fb9f3a"
             ],
             [
              0.8888888888888888,
              "#fdca26"
             ],
             [
              1,
              "#f0f921"
             ]
            ],
            "type": "histogram2dcontour"
           }
          ],
          "mesh3d": [
           {
            "colorbar": {
             "outlinewidth": 0,
             "ticks": ""
            },
            "type": "mesh3d"
           }
          ],
          "parcoords": [
           {
            "line": {
             "colorbar": {
              "outlinewidth": 0,
              "ticks": ""
             }
            },
            "type": "parcoords"
           }
          ],
          "pie": [
           {
            "automargin": true,
            "type": "pie"
           }
          ],
          "scatter": [
           {
            "fillpattern": {
             "fillmode": "overlay",
             "size": 10,
             "solidity": 0.2
            },
            "type": "scatter"
           }
          ],
          "scatter3d": [
           {
            "line": {
             "colorbar": {
              "outlinewidth": 0,
              "ticks": ""
             }
            },
            "marker": {
             "colorbar": {
              "outlinewidth": 0,
              "ticks": ""
             }
            },
            "type": "scatter3d"
           }
          ],
          "scattercarpet": [
           {
            "marker": {
             "colorbar": {
              "outlinewidth": 0,
              "ticks": ""
             }
            },
            "type": "scattercarpet"
           }
          ],
          "scattergeo": [
           {
            "marker": {
             "colorbar": {
              "outlinewidth": 0,
              "ticks": ""
             }
            },
            "type": "scattergeo"
           }
          ],
          "scattergl": [
           {
            "marker": {
             "colorbar": {
              "outlinewidth": 0,
              "ticks": ""
             }
            },
            "type": "scattergl"
           }
          ],
          "scattermapbox": [
           {
            "marker": {
             "colorbar": {
              "outlinewidth": 0,
              "ticks": ""
             }
            },
            "type": "scattermapbox"
           }
          ],
          "scatterpolar": [
           {
            "marker": {
             "colorbar": {
              "outlinewidth": 0,
              "ticks": ""
             }
            },
            "type": "scatterpolar"
           }
          ],
          "scatterpolargl": [
           {
            "marker": {
             "colorbar": {
              "outlinewidth": 0,
              "ticks": ""
             }
            },
            "type": "scatterpolargl"
           }
          ],
          "scatterternary": [
           {
            "marker": {
             "colorbar": {
              "outlinewidth": 0,
              "ticks": ""
             }
            },
            "type": "scatterternary"
           }
          ],
          "surface": [
           {
            "colorbar": {
             "outlinewidth": 0,
             "ticks": ""
            },
            "colorscale": [
             [
              0,
              "#0d0887"
             ],
             [
              0.1111111111111111,
              "#46039f"
             ],
             [
              0.2222222222222222,
              "#7201a8"
             ],
             [
              0.3333333333333333,
              "#9c179e"
             ],
             [
              0.4444444444444444,
              "#bd3786"
             ],
             [
              0.5555555555555556,
              "#d8576b"
             ],
             [
              0.6666666666666666,
              "#ed7953"
             ],
             [
              0.7777777777777778,
              "#fb9f3a"
             ],
             [
              0.8888888888888888,
              "#fdca26"
             ],
             [
              1,
              "#f0f921"
             ]
            ],
            "type": "surface"
           }
          ],
          "table": [
           {
            "cells": {
             "fill": {
              "color": "#EBF0F8"
             },
             "line": {
              "color": "white"
             }
            },
            "header": {
             "fill": {
              "color": "#C8D4E3"
             },
             "line": {
              "color": "white"
             }
            },
            "type": "table"
           }
          ]
         },
         "layout": {
          "annotationdefaults": {
           "arrowcolor": "#2a3f5f",
           "arrowhead": 0,
           "arrowwidth": 1
          },
          "autotypenumbers": "strict",
          "coloraxis": {
           "colorbar": {
            "outlinewidth": 0,
            "ticks": ""
           }
          },
          "colorscale": {
           "diverging": [
            [
             0,
             "#8e0152"
            ],
            [
             0.1,
             "#c51b7d"
            ],
            [
             0.2,
             "#de77ae"
            ],
            [
             0.3,
             "#f1b6da"
            ],
            [
             0.4,
             "#fde0ef"
            ],
            [
             0.5,
             "#f7f7f7"
            ],
            [
             0.6,
             "#e6f5d0"
            ],
            [
             0.7,
             "#b8e186"
            ],
            [
             0.8,
             "#7fbc41"
            ],
            [
             0.9,
             "#4d9221"
            ],
            [
             1,
             "#276419"
            ]
           ],
           "sequential": [
            [
             0,
             "#0d0887"
            ],
            [
             0.1111111111111111,
             "#46039f"
            ],
            [
             0.2222222222222222,
             "#7201a8"
            ],
            [
             0.3333333333333333,
             "#9c179e"
            ],
            [
             0.4444444444444444,
             "#bd3786"
            ],
            [
             0.5555555555555556,
             "#d8576b"
            ],
            [
             0.6666666666666666,
             "#ed7953"
            ],
            [
             0.7777777777777778,
             "#fb9f3a"
            ],
            [
             0.8888888888888888,
             "#fdca26"
            ],
            [
             1,
             "#f0f921"
            ]
           ],
           "sequentialminus": [
            [
             0,
             "#0d0887"
            ],
            [
             0.1111111111111111,
             "#46039f"
            ],
            [
             0.2222222222222222,
             "#7201a8"
            ],
            [
             0.3333333333333333,
             "#9c179e"
            ],
            [
             0.4444444444444444,
             "#bd3786"
            ],
            [
             0.5555555555555556,
             "#d8576b"
            ],
            [
             0.6666666666666666,
             "#ed7953"
            ],
            [
             0.7777777777777778,
             "#fb9f3a"
            ],
            [
             0.8888888888888888,
             "#fdca26"
            ],
            [
             1,
             "#f0f921"
            ]
           ]
          },
          "colorway": [
           "#636efa",
           "#EF553B",
           "#00cc96",
           "#ab63fa",
           "#FFA15A",
           "#19d3f3",
           "#FF6692",
           "#B6E880",
           "#FF97FF",
           "#FECB52"
          ],
          "font": {
           "color": "#2a3f5f"
          },
          "geo": {
           "bgcolor": "white",
           "lakecolor": "white",
           "landcolor": "#E5ECF6",
           "showlakes": true,
           "showland": true,
           "subunitcolor": "white"
          },
          "hoverlabel": {
           "align": "left"
          },
          "hovermode": "closest",
          "mapbox": {
           "style": "light"
          },
          "paper_bgcolor": "white",
          "plot_bgcolor": "#E5ECF6",
          "polar": {
           "angularaxis": {
            "gridcolor": "white",
            "linecolor": "white",
            "ticks": ""
           },
           "bgcolor": "#E5ECF6",
           "radialaxis": {
            "gridcolor": "white",
            "linecolor": "white",
            "ticks": ""
           }
          },
          "scene": {
           "xaxis": {
            "backgroundcolor": "#E5ECF6",
            "gridcolor": "white",
            "gridwidth": 2,
            "linecolor": "white",
            "showbackground": true,
            "ticks": "",
            "zerolinecolor": "white"
           },
           "yaxis": {
            "backgroundcolor": "#E5ECF6",
            "gridcolor": "white",
            "gridwidth": 2,
            "linecolor": "white",
            "showbackground": true,
            "ticks": "",
            "zerolinecolor": "white"
           },
           "zaxis": {
            "backgroundcolor": "#E5ECF6",
            "gridcolor": "white",
            "gridwidth": 2,
            "linecolor": "white",
            "showbackground": true,
            "ticks": "",
            "zerolinecolor": "white"
           }
          },
          "shapedefaults": {
           "line": {
            "color": "#2a3f5f"
           }
          },
          "ternary": {
           "aaxis": {
            "gridcolor": "white",
            "linecolor": "white",
            "ticks": ""
           },
           "baxis": {
            "gridcolor": "white",
            "linecolor": "white",
            "ticks": ""
           },
           "bgcolor": "#E5ECF6",
           "caxis": {
            "gridcolor": "white",
            "linecolor": "white",
            "ticks": ""
           }
          },
          "title": {
           "x": 0.05
          },
          "xaxis": {
           "automargin": true,
           "gridcolor": "white",
           "linecolor": "white",
           "ticks": "",
           "title": {
            "standoff": 15
           },
           "zerolinecolor": "white",
           "zerolinewidth": 2
          },
          "yaxis": {
           "automargin": true,
           "gridcolor": "white",
           "linecolor": "white",
           "ticks": "",
           "title": {
            "standoff": 15
           },
           "zerolinecolor": "white",
           "zerolinewidth": 2
          }
         }
        },
        "title": {
         "text": "Sampled Results"
        },
        "xaxis": {
         "title": {
          "text": "Value"
         }
        },
        "yaxis": {
         "title": {
          "text": "Count"
         }
        }
       }
      },
      "text/html": [
       "<div>                            <div id=\"3a2fd0d9-2ab4-412d-b309-ef1bc7fec14b\" class=\"plotly-graph-div\" style=\"height:525px; width:100%;\"></div>            <script type=\"text/javascript\">                require([\"plotly\"], function(Plotly) {                    window.PLOTLYENV=window.PLOTLYENV || {};                                    if (document.getElementById(\"3a2fd0d9-2ab4-412d-b309-ef1bc7fec14b\")) {                    Plotly.newPlot(                        \"3a2fd0d9-2ab4-412d-b309-ef1bc7fec14b\",                        [{\"x\":[\"Python X\",\"Python O\"],\"y\":[123,241],\"type\":\"bar\"},{\"x\":[\"spark X\",\"spark O\"],\"y\":[258,106],\"type\":\"bar\"},{\"x\":[\"aws X\",\"aws O\"],\"y\":[268,96],\"type\":\"bar\"},{\"x\":[\"excel X\",\"excel O\"],\"y\":[167,197],\"type\":\"bar\"},{\"x\":[\"sql X\",\"sql O\"],\"y\":[127,237],\"type\":\"bar\"},{\"x\":[\"sas X\",\"sas O\"],\"y\":[324,40],\"type\":\"bar\"},{\"x\":[\"keras X\",\"keras O\"],\"y\":[345,19],\"type\":\"bar\"},{\"x\":[\"pytorch X\",\"pytorch O\"],\"y\":[341,23],\"type\":\"bar\"},{\"x\":[\"scikit X\",\"scikit O\"],\"y\":[327,37],\"type\":\"bar\"},{\"x\":[\"tensor X\",\"tensor O\"],\"y\":[318,46],\"type\":\"bar\"},{\"x\":[\"hadoop X\",\"hadoop O\"],\"y\":[287,77],\"type\":\"bar\"},{\"x\":[\"tableau X\",\"tableau O\"],\"y\":[276,88],\"type\":\"bar\"},{\"x\":[\"bi X\",\"bi O\"],\"y\":[329,35],\"type\":\"bar\"},{\"x\":[\"mongo X\",\"mongo O\"],\"y\":[341,23],\"type\":\"bar\"}],                        {\"template\":{\"data\":{\"histogram2dcontour\":[{\"type\":\"histogram2dcontour\",\"colorbar\":{\"outlinewidth\":0,\"ticks\":\"\"},\"colorscale\":[[0.0,\"#0d0887\"],[0.1111111111111111,\"#46039f\"],[0.2222222222222222,\"#7201a8\"],[0.3333333333333333,\"#9c179e\"],[0.4444444444444444,\"#bd3786\"],[0.5555555555555556,\"#d8576b\"],[0.6666666666666666,\"#ed7953\"],[0.7777777777777778,\"#fb9f3a\"],[0.8888888888888888,\"#fdca26\"],[1.0,\"#f0f921\"]]}],\"choropleth\":[{\"type\":\"choropleth\",\"colorbar\":{\"outlinewidth\":0,\"ticks\":\"\"}}],\"histogram2d\":[{\"type\":\"histogram2d\",\"colorbar\":{\"outlinewidth\":0,\"ticks\":\"\"},\"colorscale\":[[0.0,\"#0d0887\"],[0.1111111111111111,\"#46039f\"],[0.2222222222222222,\"#7201a8\"],[0.3333333333333333,\"#9c179e\"],[0.4444444444444444,\"#bd3786\"],[0.5555555555555556,\"#d8576b\"],[0.6666666666666666,\"#ed7953\"],[0.7777777777777778,\"#fb9f3a\"],[0.8888888888888888,\"#fdca26\"],[1.0,\"#f0f921\"]]}],\"heatmap\":[{\"type\":\"heatmap\",\"colorbar\":{\"outlinewidth\":0,\"ticks\":\"\"},\"colorscale\":[[0.0,\"#0d0887\"],[0.1111111111111111,\"#46039f\"],[0.2222222222222222,\"#7201a8\"],[0.3333333333333333,\"#9c179e\"],[0.4444444444444444,\"#bd3786\"],[0.5555555555555556,\"#d8576b\"],[0.6666666666666666,\"#ed7953\"],[0.7777777777777778,\"#fb9f3a\"],[0.8888888888888888,\"#fdca26\"],[1.0,\"#f0f921\"]]}],\"heatmapgl\":[{\"type\":\"heatmapgl\",\"colorbar\":{\"outlinewidth\":0,\"ticks\":\"\"},\"colorscale\":[[0.0,\"#0d0887\"],[0.1111111111111111,\"#46039f\"],[0.2222222222222222,\"#7201a8\"],[0.3333333333333333,\"#9c179e\"],[0.4444444444444444,\"#bd3786\"],[0.5555555555555556,\"#d8576b\"],[0.6666666666666666,\"#ed7953\"],[0.7777777777777778,\"#fb9f3a\"],[0.8888888888888888,\"#fdca26\"],[1.0,\"#f0f921\"]]}],\"contourcarpet\":[{\"type\":\"contourcarpet\",\"colorbar\":{\"outlinewidth\":0,\"ticks\":\"\"}}],\"contour\":[{\"type\":\"contour\",\"colorbar\":{\"outlinewidth\":0,\"ticks\":\"\"},\"colorscale\":[[0.0,\"#0d0887\"],[0.1111111111111111,\"#46039f\"],[0.2222222222222222,\"#7201a8\"],[0.3333333333333333,\"#9c179e\"],[0.4444444444444444,\"#bd3786\"],[0.5555555555555556,\"#d8576b\"],[0.6666666666666666,\"#ed7953\"],[0.7777777777777778,\"#fb9f3a\"],[0.8888888888888888,\"#fdca26\"],[1.0,\"#f0f921\"]]}],\"surface\":[{\"type\":\"surface\",\"colorbar\":{\"outlinewidth\":0,\"ticks\":\"\"},\"colorscale\":[[0.0,\"#0d0887\"],[0.1111111111111111,\"#46039f\"],[0.2222222222222222,\"#7201a8\"],[0.3333333333333333,\"#9c179e\"],[0.4444444444444444,\"#bd3786\"],[0.5555555555555556,\"#d8576b\"],[0.6666666666666666,\"#ed7953\"],[0.7777777777777778,\"#fb9f3a\"],[0.8888888888888888,\"#fdca26\"],[1.0,\"#f0f921\"]]}],\"mesh3d\":[{\"type\":\"mesh3d\",\"colorbar\":{\"outlinewidth\":0,\"ticks\":\"\"}}],\"scatter\":[{\"fillpattern\":{\"fillmode\":\"overlay\",\"size\":10,\"solidity\":0.2},\"type\":\"scatter\"}],\"parcoords\":[{\"type\":\"parcoords\",\"line\":{\"colorbar\":{\"outlinewidth\":0,\"ticks\":\"\"}}}],\"scatterpolargl\":[{\"type\":\"scatterpolargl\",\"marker\":{\"colorbar\":{\"outlinewidth\":0,\"ticks\":\"\"}}}],\"bar\":[{\"error_x\":{\"color\":\"#2a3f5f\"},\"error_y\":{\"color\":\"#2a3f5f\"},\"marker\":{\"line\":{\"color\":\"#E5ECF6\",\"width\":0.5},\"pattern\":{\"fillmode\":\"overlay\",\"size\":10,\"solidity\":0.2}},\"type\":\"bar\"}],\"scattergeo\":[{\"type\":\"scattergeo\",\"marker\":{\"colorbar\":{\"outlinewidth\":0,\"ticks\":\"\"}}}],\"scatterpolar\":[{\"type\":\"scatterpolar\",\"marker\":{\"colorbar\":{\"outlinewidth\":0,\"ticks\":\"\"}}}],\"histogram\":[{\"marker\":{\"pattern\":{\"fillmode\":\"overlay\",\"size\":10,\"solidity\":0.2}},\"type\":\"histogram\"}],\"scattergl\":[{\"type\":\"scattergl\",\"marker\":{\"colorbar\":{\"outlinewidth\":0,\"ticks\":\"\"}}}],\"scatter3d\":[{\"type\":\"scatter3d\",\"line\":{\"colorbar\":{\"outlinewidth\":0,\"ticks\":\"\"}},\"marker\":{\"colorbar\":{\"outlinewidth\":0,\"ticks\":\"\"}}}],\"scattermapbox\":[{\"type\":\"scattermapbox\",\"marker\":{\"colorbar\":{\"outlinewidth\":0,\"ticks\":\"\"}}}],\"scatterternary\":[{\"type\":\"scatterternary\",\"marker\":{\"colorbar\":{\"outlinewidth\":0,\"ticks\":\"\"}}}],\"scattercarpet\":[{\"type\":\"scattercarpet\",\"marker\":{\"colorbar\":{\"outlinewidth\":0,\"ticks\":\"\"}}}],\"carpet\":[{\"aaxis\":{\"endlinecolor\":\"#2a3f5f\",\"gridcolor\":\"white\",\"linecolor\":\"white\",\"minorgridcolor\":\"white\",\"startlinecolor\":\"#2a3f5f\"},\"baxis\":{\"endlinecolor\":\"#2a3f5f\",\"gridcolor\":\"white\",\"linecolor\":\"white\",\"minorgridcolor\":\"white\",\"startlinecolor\":\"#2a3f5f\"},\"type\":\"carpet\"}],\"table\":[{\"cells\":{\"fill\":{\"color\":\"#EBF0F8\"},\"line\":{\"color\":\"white\"}},\"header\":{\"fill\":{\"color\":\"#C8D4E3\"},\"line\":{\"color\":\"white\"}},\"type\":\"table\"}],\"barpolar\":[{\"marker\":{\"line\":{\"color\":\"#E5ECF6\",\"width\":0.5},\"pattern\":{\"fillmode\":\"overlay\",\"size\":10,\"solidity\":0.2}},\"type\":\"barpolar\"}],\"pie\":[{\"automargin\":true,\"type\":\"pie\"}]},\"layout\":{\"autotypenumbers\":\"strict\",\"colorway\":[\"#636efa\",\"#EF553B\",\"#00cc96\",\"#ab63fa\",\"#FFA15A\",\"#19d3f3\",\"#FF6692\",\"#B6E880\",\"#FF97FF\",\"#FECB52\"],\"font\":{\"color\":\"#2a3f5f\"},\"hovermode\":\"closest\",\"hoverlabel\":{\"align\":\"left\"},\"paper_bgcolor\":\"white\",\"plot_bgcolor\":\"#E5ECF6\",\"polar\":{\"bgcolor\":\"#E5ECF6\",\"angularaxis\":{\"gridcolor\":\"white\",\"linecolor\":\"white\",\"ticks\":\"\"},\"radialaxis\":{\"gridcolor\":\"white\",\"linecolor\":\"white\",\"ticks\":\"\"}},\"ternary\":{\"bgcolor\":\"#E5ECF6\",\"aaxis\":{\"gridcolor\":\"white\",\"linecolor\":\"white\",\"ticks\":\"\"},\"baxis\":{\"gridcolor\":\"white\",\"linecolor\":\"white\",\"ticks\":\"\"},\"caxis\":{\"gridcolor\":\"white\",\"linecolor\":\"white\",\"ticks\":\"\"}},\"coloraxis\":{\"colorbar\":{\"outlinewidth\":0,\"ticks\":\"\"}},\"colorscale\":{\"sequential\":[[0.0,\"#0d0887\"],[0.1111111111111111,\"#46039f\"],[0.2222222222222222,\"#7201a8\"],[0.3333333333333333,\"#9c179e\"],[0.4444444444444444,\"#bd3786\"],[0.5555555555555556,\"#d8576b\"],[0.6666666666666666,\"#ed7953\"],[0.7777777777777778,\"#fb9f3a\"],[0.8888888888888888,\"#fdca26\"],[1.0,\"#f0f921\"]],\"sequentialminus\":[[0.0,\"#0d0887\"],[0.1111111111111111,\"#46039f\"],[0.2222222222222222,\"#7201a8\"],[0.3333333333333333,\"#9c179e\"],[0.4444444444444444,\"#bd3786\"],[0.5555555555555556,\"#d8576b\"],[0.6666666666666666,\"#ed7953\"],[0.7777777777777778,\"#fb9f3a\"],[0.8888888888888888,\"#fdca26\"],[1.0,\"#f0f921\"]],\"diverging\":[[0,\"#8e0152\"],[0.1,\"#c51b7d\"],[0.2,\"#de77ae\"],[0.3,\"#f1b6da\"],[0.4,\"#fde0ef\"],[0.5,\"#f7f7f7\"],[0.6,\"#e6f5d0\"],[0.7,\"#b8e186\"],[0.8,\"#7fbc41\"],[0.9,\"#4d9221\"],[1,\"#276419\"]]},\"xaxis\":{\"gridcolor\":\"white\",\"linecolor\":\"white\",\"ticks\":\"\",\"title\":{\"standoff\":15},\"zerolinecolor\":\"white\",\"automargin\":true,\"zerolinewidth\":2},\"yaxis\":{\"gridcolor\":\"white\",\"linecolor\":\"white\",\"ticks\":\"\",\"title\":{\"standoff\":15},\"zerolinecolor\":\"white\",\"automargin\":true,\"zerolinewidth\":2},\"scene\":{\"xaxis\":{\"backgroundcolor\":\"#E5ECF6\",\"gridcolor\":\"white\",\"linecolor\":\"white\",\"showbackground\":true,\"ticks\":\"\",\"zerolinecolor\":\"white\",\"gridwidth\":2},\"yaxis\":{\"backgroundcolor\":\"#E5ECF6\",\"gridcolor\":\"white\",\"linecolor\":\"white\",\"showbackground\":true,\"ticks\":\"\",\"zerolinecolor\":\"white\",\"gridwidth\":2},\"zaxis\":{\"backgroundcolor\":\"#E5ECF6\",\"gridcolor\":\"white\",\"linecolor\":\"white\",\"showbackground\":true,\"ticks\":\"\",\"zerolinecolor\":\"white\",\"gridwidth\":2}},\"shapedefaults\":{\"line\":{\"color\":\"#2a3f5f\"}},\"annotationdefaults\":{\"arrowcolor\":\"#2a3f5f\",\"arrowhead\":0,\"arrowwidth\":1},\"geo\":{\"bgcolor\":\"white\",\"landcolor\":\"#E5ECF6\",\"subunitcolor\":\"white\",\"showland\":true,\"showlakes\":true,\"lakecolor\":\"white\"},\"title\":{\"x\":0.05},\"mapbox\":{\"style\":\"light\"}}},\"title\":{\"text\":\"Sampled Results\"},\"xaxis\":{\"title\":{\"text\":\"Value\"}},\"yaxis\":{\"title\":{\"text\":\"Count\"}},\"bargap\":0.2,\"bargroupgap\":0.1},                        {\"responsive\": true}                    ).then(function(){\n",
       "                            \n",
       "var gd = document.getElementById('3a2fd0d9-2ab4-412d-b309-ef1bc7fec14b');\n",
       "var x = new MutationObserver(function (mutations, observer) {{\n",
       "        var display = window.getComputedStyle(gd).display;\n",
       "        if (!display || display === 'none') {{\n",
       "            console.log([gd, 'removed!']);\n",
       "            Plotly.purge(gd);\n",
       "            observer.disconnect();\n",
       "        }}\n",
       "}});\n",
       "\n",
       "// Listen for the removal of the full notebook cells\n",
       "var notebookContainer = gd.closest('#notebook-container');\n",
       "if (notebookContainer) {{\n",
       "    x.observe(notebookContainer, {childList: true});\n",
       "}}\n",
       "\n",
       "// Listen for the clearing of the current output cell\n",
       "var outputEl = gd.closest('.output');\n",
       "if (outputEl) {{\n",
       "    x.observe(outputEl, {childList: true});\n",
       "}}\n",
       "\n",
       "                        })                };                });            </script>        </div>"
      ]
     },
     "metadata": {},
     "output_type": "display_data"
    }
   ],
   "source": [
    "df_Skill = df_dsc[['Python', 'spark', 'aws', 'excel', 'sql', 'sas', 'keras', 'pytorch', 'scikit', 'tensor', 'hadoop', 'tableau', 'bi', 'mongo']]\n",
    "px.histogram(df_Skill, barmode='group')\n",
    "\n",
    "fig = go.Figure()\n",
    "for col in df_Skill:\n",
    "    fig.add_trace(go.Bar(\n",
    "        x=[col+' X', col+' O'],\n",
    "        y=[sum(df_Skill[col]==0), sum(df_Skill[col]==1)]\n",
    "    ))\n",
    "\n",
    "fig.update_layout(\n",
    "    title_text='Sampled Results', # title of plot\n",
    "    xaxis_title_text='Value', # xaxis label\n",
    "    yaxis_title_text='Count', # yaxis label\n",
    "    bargap=0.2, # gap between bars of adjacent location coordinates\n",
    "    bargroupgap=0.1 # gap between bars of the same location coordinates\n",
    ")\n",
    "\n",
    "fig.show()"
   ]
  },
  {
   "cell_type": "markdown",
   "id": "bd6c0d77",
   "metadata": {},
   "source": [
    "### 2D"
   ]
  },
  {
   "cell_type": "markdown",
   "id": "e2fc2789",
   "metadata": {},
   "source": [
    "✔︎ Python 스킬 여부에 따른 Avg Salary 분포"
   ]
  },
  {
   "cell_type": "code",
   "execution_count": 233,
   "id": "ef7d4da6",
   "metadata": {},
   "outputs": [
    {
     "data": {
      "application/vnd.plotly.v1+json": {
       "config": {
        "plotlyServerURL": "https://plot.ly"
       },
       "data": [
        {
         "boxpoints": "all",
         "type": "box",
         "x": [
          1,
          1,
          1,
          1,
          1,
          1,
          0,
          1,
          1,
          1,
          0,
          0,
          1,
          1,
          0,
          1,
          0,
          1,
          1,
          0,
          1,
          1,
          1,
          1,
          1,
          0,
          0,
          1,
          1,
          1,
          1,
          1,
          1,
          1,
          1,
          1,
          1,
          0,
          0,
          1,
          0,
          1,
          0,
          0,
          1,
          1,
          1,
          1,
          0,
          1,
          1,
          1,
          1,
          1,
          0,
          0,
          1,
          1,
          1,
          1,
          1,
          1,
          1,
          1,
          0,
          1,
          1,
          1,
          1,
          0,
          1,
          0,
          1,
          0,
          1,
          0,
          1,
          0,
          1,
          1,
          0,
          1,
          1,
          1,
          1,
          1,
          1,
          1,
          0,
          0,
          0,
          1,
          0,
          1,
          0,
          1,
          0,
          1,
          0,
          1,
          1,
          1,
          1,
          0,
          0,
          1,
          1,
          1,
          1,
          1,
          1,
          0,
          0,
          1,
          0,
          0,
          1,
          0,
          1,
          1,
          0,
          0,
          1,
          1,
          1,
          1,
          1,
          1,
          1,
          1,
          0,
          1,
          1,
          1,
          1,
          0,
          1,
          0,
          1,
          1,
          0,
          1,
          1,
          1,
          1,
          1,
          1,
          1,
          0,
          1,
          1,
          0,
          0,
          1,
          0,
          1,
          0,
          0,
          1,
          0,
          1,
          1,
          0,
          0,
          1,
          1,
          0,
          0,
          1,
          1,
          1,
          1,
          0,
          1,
          0,
          0,
          0,
          1,
          1,
          1,
          1,
          1,
          0,
          1,
          1,
          1,
          0,
          1,
          0,
          1,
          1,
          1,
          0,
          0,
          1,
          1,
          1,
          0,
          0,
          0,
          1,
          1,
          0,
          0,
          1,
          1,
          0,
          0,
          1,
          0,
          0,
          1,
          1,
          1,
          0,
          1,
          1,
          1,
          1,
          0,
          1,
          1,
          1,
          1,
          0,
          1,
          0,
          1,
          1,
          0,
          0,
          0,
          0,
          1,
          0,
          1,
          1,
          1,
          0,
          1,
          1,
          1,
          0,
          1,
          1,
          0,
          1,
          0,
          0,
          0,
          1,
          0,
          0,
          1,
          1,
          0,
          1,
          0,
          1,
          0,
          1,
          1,
          0,
          1,
          1,
          1,
          1,
          1,
          1,
          1,
          1,
          1,
          1,
          1,
          1,
          1,
          1,
          0,
          1,
          1,
          1,
          1,
          0,
          0,
          1,
          1,
          1,
          1,
          0,
          1,
          1,
          0,
          1,
          1,
          1,
          1,
          1,
          1,
          1,
          1,
          0,
          1,
          1,
          1,
          0,
          1,
          1,
          0,
          1,
          1,
          0,
          0,
          1,
          1,
          0,
          1,
          1,
          0,
          0,
          1,
          1,
          1,
          0,
          0,
          1,
          0,
          0,
          1,
          1,
          1,
          1,
          0,
          0,
          1,
          1,
          1,
          1,
          1,
          1,
          0,
          1,
          1,
          1,
          1,
          0,
          1,
          0,
          1,
          0,
          0,
          0,
          0,
          0,
          1,
          0,
          1,
          1,
          1,
          1,
          1,
          0,
          0,
          1,
          1
         ],
         "xaxis": "x",
         "y": [
          72,
          87.5,
          85,
          76.5,
          114.5,
          95,
          73.5,
          114,
          140,
          163.5,
          85,
          139,
          65.5,
          113.5,
          146,
          153.5,
          142.5,
          87.5,
          105.5,
          96,
          112.5,
          84,
          143,
          86.5,
          99.5,
          47.5,
          84,
          96,
          114.5,
          121,
          112.5,
          106,
          107,
          110,
          147.5,
          106,
          88,
          98.5,
          142.5,
          130,
          155,
          184.5,
          29.5,
          81,
          91,
          114.5,
          68,
          115,
          109.5,
          75.5,
          154.5,
          143.5,
          107,
          115,
          139.5,
          67,
          85,
          118,
          79.5,
          56.5,
          128.5,
          179.5,
          112,
          98,
          128,
          150.5,
          110,
          113.5,
          124,
          56.5,
          130,
          77.5,
          87,
          53.5,
          85.5,
          48,
          85,
          72.5,
          97.5,
          99,
          56.5,
          133,
          121,
          85.5,
          87.5,
          237.5,
          95.5,
          104.5,
          56.5,
          55,
          157,
          78,
          132.5,
          108,
          80.5,
          107.5,
          95,
          119.5,
          134,
          100.5,
          107.5,
          122,
          92.5,
          62,
          107.5,
          89.5,
          81,
          147,
          85,
          100.5,
          97,
          132.5,
          100,
          105,
          87,
          103.5,
          67,
          87,
          137.5,
          100,
          106.5,
          98.5,
          61,
          106.5,
          84.5,
          164,
          169,
          142,
          107,
          171.5,
          107,
          61.5,
          120,
          150.5,
          71.5,
          51.5,
          77.5,
          98.5,
          225,
          147,
          61,
          120,
          124.5,
          148,
          59,
          146.5,
          133,
          140.5,
          70.5,
          181,
          205,
          48.5,
          124,
          98,
          107.5,
          89,
          100.5,
          65,
          72.5,
          87.5,
          92.5,
          81.5,
          79,
          47.5,
          69,
          49,
          59,
          88.5,
          88,
          100,
          96.5,
          76,
          15.5,
          83.5,
          163,
          100,
          50,
          93,
          94.5,
          102,
          155,
          108,
          63.5,
          109,
          96,
          101,
          77.5,
          90,
          58,
          128,
          101,
          142,
          169,
          75.5,
          139,
          102.5,
          81,
          77,
          92,
          121,
          162.5,
          90.5,
          110,
          70.5,
          92,
          82,
          164.5,
          44,
          109,
          149.5,
          65.5,
          124.5,
          114,
          49,
          71,
          61,
          94.5,
          87,
          64.5,
          154.5,
          128.5,
          137,
          99,
          139.5,
          109,
          254,
          45.5,
          122.5,
          140,
          77.5,
          90,
          167.5,
          60,
          180,
          65,
          112.5,
          87.5,
          62.5,
          100,
          85,
          122,
          138.5,
          107.5,
          162,
          68.5,
          110.5,
          115.5,
          80.5,
          43,
          66.5,
          94.5,
          119,
          27.5,
          194.5,
          105.5,
          62.5,
          161.5,
          72.5,
          139,
          136.5,
          74.5,
          101,
          116.5,
          232.5,
          120.5,
          153,
          127,
          85.5,
          76.5,
          128,
          91.5,
          177,
          107,
          113.5,
          143.5,
          113.5,
          101.5,
          73,
          80.5,
          110.5,
          139.5,
          145.5,
          87,
          100.5,
          147,
          110.5,
          94,
          123.5,
          73,
          165,
          59.5,
          66,
          75.5,
          87,
          140,
          86,
          116.5,
          80,
          173,
          68.5,
          172,
          69.5,
          97.5,
          95,
          194,
          104.5,
          85.5,
          50,
          113,
          153,
          123.5,
          47,
          162,
          133.5,
          109,
          125,
          106.5,
          54,
          37.5,
          53.5,
          168,
          138.5,
          111.5,
          68.5,
          102.5,
          127.5,
          72,
          47,
          65,
          94,
          97,
          114.5,
          121.5,
          60.5,
          118.5,
          58.5,
          63.5,
          107,
          105.5,
          83,
          221.5,
          95.5,
          173,
          147.5,
          81,
          83,
          85.5,
          107.5,
          44.5,
          107.5,
          69.5,
          53,
          103,
          114,
          96,
          96.5,
          69.5,
          121,
          103,
          106.5,
          130,
          89,
          111,
          87.5
         ],
         "yaxis": "y"
        }
       ],
       "layout": {
        "template": {
         "data": {
          "bar": [
           {
            "error_x": {
             "color": "#2a3f5f"
            },
            "error_y": {
             "color": "#2a3f5f"
            },
            "marker": {
             "line": {
              "color": "#E5ECF6",
              "width": 0.5
             },
             "pattern": {
              "fillmode": "overlay",
              "size": 10,
              "solidity": 0.2
             }
            },
            "type": "bar"
           }
          ],
          "barpolar": [
           {
            "marker": {
             "line": {
              "color": "#E5ECF6",
              "width": 0.5
             },
             "pattern": {
              "fillmode": "overlay",
              "size": 10,
              "solidity": 0.2
             }
            },
            "type": "barpolar"
           }
          ],
          "carpet": [
           {
            "aaxis": {
             "endlinecolor": "#2a3f5f",
             "gridcolor": "white",
             "linecolor": "white",
             "minorgridcolor": "white",
             "startlinecolor": "#2a3f5f"
            },
            "baxis": {
             "endlinecolor": "#2a3f5f",
             "gridcolor": "white",
             "linecolor": "white",
             "minorgridcolor": "white",
             "startlinecolor": "#2a3f5f"
            },
            "type": "carpet"
           }
          ],
          "choropleth": [
           {
            "colorbar": {
             "outlinewidth": 0,
             "ticks": ""
            },
            "type": "choropleth"
           }
          ],
          "contour": [
           {
            "colorbar": {
             "outlinewidth": 0,
             "ticks": ""
            },
            "colorscale": [
             [
              0,
              "#0d0887"
             ],
             [
              0.1111111111111111,
              "#46039f"
             ],
             [
              0.2222222222222222,
              "#7201a8"
             ],
             [
              0.3333333333333333,
              "#9c179e"
             ],
             [
              0.4444444444444444,
              "#bd3786"
             ],
             [
              0.5555555555555556,
              "#d8576b"
             ],
             [
              0.6666666666666666,
              "#ed7953"
             ],
             [
              0.7777777777777778,
              "#fb9f3a"
             ],
             [
              0.8888888888888888,
              "#fdca26"
             ],
             [
              1,
              "#f0f921"
             ]
            ],
            "type": "contour"
           }
          ],
          "contourcarpet": [
           {
            "colorbar": {
             "outlinewidth": 0,
             "ticks": ""
            },
            "type": "contourcarpet"
           }
          ],
          "heatmap": [
           {
            "colorbar": {
             "outlinewidth": 0,
             "ticks": ""
            },
            "colorscale": [
             [
              0,
              "#0d0887"
             ],
             [
              0.1111111111111111,
              "#46039f"
             ],
             [
              0.2222222222222222,
              "#7201a8"
             ],
             [
              0.3333333333333333,
              "#9c179e"
             ],
             [
              0.4444444444444444,
              "#bd3786"
             ],
             [
              0.5555555555555556,
              "#d8576b"
             ],
             [
              0.6666666666666666,
              "#ed7953"
             ],
             [
              0.7777777777777778,
              "#fb9f3a"
             ],
             [
              0.8888888888888888,
              "#fdca26"
             ],
             [
              1,
              "#f0f921"
             ]
            ],
            "type": "heatmap"
           }
          ],
          "heatmapgl": [
           {
            "colorbar": {
             "outlinewidth": 0,
             "ticks": ""
            },
            "colorscale": [
             [
              0,
              "#0d0887"
             ],
             [
              0.1111111111111111,
              "#46039f"
             ],
             [
              0.2222222222222222,
              "#7201a8"
             ],
             [
              0.3333333333333333,
              "#9c179e"
             ],
             [
              0.4444444444444444,
              "#bd3786"
             ],
             [
              0.5555555555555556,
              "#d8576b"
             ],
             [
              0.6666666666666666,
              "#ed7953"
             ],
             [
              0.7777777777777778,
              "#fb9f3a"
             ],
             [
              0.8888888888888888,
              "#fdca26"
             ],
             [
              1,
              "#f0f921"
             ]
            ],
            "type": "heatmapgl"
           }
          ],
          "histogram": [
           {
            "marker": {
             "pattern": {
              "fillmode": "overlay",
              "size": 10,
              "solidity": 0.2
             }
            },
            "type": "histogram"
           }
          ],
          "histogram2d": [
           {
            "colorbar": {
             "outlinewidth": 0,
             "ticks": ""
            },
            "colorscale": [
             [
              0,
              "#0d0887"
             ],
             [
              0.1111111111111111,
              "#46039f"
             ],
             [
              0.2222222222222222,
              "#7201a8"
             ],
             [
              0.3333333333333333,
              "#9c179e"
             ],
             [
              0.4444444444444444,
              "#bd3786"
             ],
             [
              0.5555555555555556,
              "#d8576b"
             ],
             [
              0.6666666666666666,
              "#ed7953"
             ],
             [
              0.7777777777777778,
              "#fb9f3a"
             ],
             [
              0.8888888888888888,
              "#fdca26"
             ],
             [
              1,
              "#f0f921"
             ]
            ],
            "type": "histogram2d"
           }
          ],
          "histogram2dcontour": [
           {
            "colorbar": {
             "outlinewidth": 0,
             "ticks": ""
            },
            "colorscale": [
             [
              0,
              "#0d0887"
             ],
             [
              0.1111111111111111,
              "#46039f"
             ],
             [
              0.2222222222222222,
              "#7201a8"
             ],
             [
              0.3333333333333333,
              "#9c179e"
             ],
             [
              0.4444444444444444,
              "#bd3786"
             ],
             [
              0.5555555555555556,
              "#d8576b"
             ],
             [
              0.6666666666666666,
              "#ed7953"
             ],
             [
              0.7777777777777778,
              "#fb9f3a"
             ],
             [
              0.8888888888888888,
              "#fdca26"
             ],
             [
              1,
              "#f0f921"
             ]
            ],
            "type": "histogram2dcontour"
           }
          ],
          "mesh3d": [
           {
            "colorbar": {
             "outlinewidth": 0,
             "ticks": ""
            },
            "type": "mesh3d"
           }
          ],
          "parcoords": [
           {
            "line": {
             "colorbar": {
              "outlinewidth": 0,
              "ticks": ""
             }
            },
            "type": "parcoords"
           }
          ],
          "pie": [
           {
            "automargin": true,
            "type": "pie"
           }
          ],
          "scatter": [
           {
            "fillpattern": {
             "fillmode": "overlay",
             "size": 10,
             "solidity": 0.2
            },
            "type": "scatter"
           }
          ],
          "scatter3d": [
           {
            "line": {
             "colorbar": {
              "outlinewidth": 0,
              "ticks": ""
             }
            },
            "marker": {
             "colorbar": {
              "outlinewidth": 0,
              "ticks": ""
             }
            },
            "type": "scatter3d"
           }
          ],
          "scattercarpet": [
           {
            "marker": {
             "colorbar": {
              "outlinewidth": 0,
              "ticks": ""
             }
            },
            "type": "scattercarpet"
           }
          ],
          "scattergeo": [
           {
            "marker": {
             "colorbar": {
              "outlinewidth": 0,
              "ticks": ""
             }
            },
            "type": "scattergeo"
           }
          ],
          "scattergl": [
           {
            "marker": {
             "colorbar": {
              "outlinewidth": 0,
              "ticks": ""
             }
            },
            "type": "scattergl"
           }
          ],
          "scattermapbox": [
           {
            "marker": {
             "colorbar": {
              "outlinewidth": 0,
              "ticks": ""
             }
            },
            "type": "scattermapbox"
           }
          ],
          "scatterpolar": [
           {
            "marker": {
             "colorbar": {
              "outlinewidth": 0,
              "ticks": ""
             }
            },
            "type": "scatterpolar"
           }
          ],
          "scatterpolargl": [
           {
            "marker": {
             "colorbar": {
              "outlinewidth": 0,
              "ticks": ""
             }
            },
            "type": "scatterpolargl"
           }
          ],
          "scatterternary": [
           {
            "marker": {
             "colorbar": {
              "outlinewidth": 0,
              "ticks": ""
             }
            },
            "type": "scatterternary"
           }
          ],
          "surface": [
           {
            "colorbar": {
             "outlinewidth": 0,
             "ticks": ""
            },
            "colorscale": [
             [
              0,
              "#0d0887"
             ],
             [
              0.1111111111111111,
              "#46039f"
             ],
             [
              0.2222222222222222,
              "#7201a8"
             ],
             [
              0.3333333333333333,
              "#9c179e"
             ],
             [
              0.4444444444444444,
              "#bd3786"
             ],
             [
              0.5555555555555556,
              "#d8576b"
             ],
             [
              0.6666666666666666,
              "#ed7953"
             ],
             [
              0.7777777777777778,
              "#fb9f3a"
             ],
             [
              0.8888888888888888,
              "#fdca26"
             ],
             [
              1,
              "#f0f921"
             ]
            ],
            "type": "surface"
           }
          ],
          "table": [
           {
            "cells": {
             "fill": {
              "color": "#EBF0F8"
             },
             "line": {
              "color": "white"
             }
            },
            "header": {
             "fill": {
              "color": "#C8D4E3"
             },
             "line": {
              "color": "white"
             }
            },
            "type": "table"
           }
          ]
         },
         "layout": {
          "annotationdefaults": {
           "arrowcolor": "#2a3f5f",
           "arrowhead": 0,
           "arrowwidth": 1
          },
          "autotypenumbers": "strict",
          "coloraxis": {
           "colorbar": {
            "outlinewidth": 0,
            "ticks": ""
           }
          },
          "colorscale": {
           "diverging": [
            [
             0,
             "#8e0152"
            ],
            [
             0.1,
             "#c51b7d"
            ],
            [
             0.2,
             "#de77ae"
            ],
            [
             0.3,
             "#f1b6da"
            ],
            [
             0.4,
             "#fde0ef"
            ],
            [
             0.5,
             "#f7f7f7"
            ],
            [
             0.6,
             "#e6f5d0"
            ],
            [
             0.7,
             "#b8e186"
            ],
            [
             0.8,
             "#7fbc41"
            ],
            [
             0.9,
             "#4d9221"
            ],
            [
             1,
             "#276419"
            ]
           ],
           "sequential": [
            [
             0,
             "#0d0887"
            ],
            [
             0.1111111111111111,
             "#46039f"
            ],
            [
             0.2222222222222222,
             "#7201a8"
            ],
            [
             0.3333333333333333,
             "#9c179e"
            ],
            [
             0.4444444444444444,
             "#bd3786"
            ],
            [
             0.5555555555555556,
             "#d8576b"
            ],
            [
             0.6666666666666666,
             "#ed7953"
            ],
            [
             0.7777777777777778,
             "#fb9f3a"
            ],
            [
             0.8888888888888888,
             "#fdca26"
            ],
            [
             1,
             "#f0f921"
            ]
           ],
           "sequentialminus": [
            [
             0,
             "#0d0887"
            ],
            [
             0.1111111111111111,
             "#46039f"
            ],
            [
             0.2222222222222222,
             "#7201a8"
            ],
            [
             0.3333333333333333,
             "#9c179e"
            ],
            [
             0.4444444444444444,
             "#bd3786"
            ],
            [
             0.5555555555555556,
             "#d8576b"
            ],
            [
             0.6666666666666666,
             "#ed7953"
            ],
            [
             0.7777777777777778,
             "#fb9f3a"
            ],
            [
             0.8888888888888888,
             "#fdca26"
            ],
            [
             1,
             "#f0f921"
            ]
           ]
          },
          "colorway": [
           "#636efa",
           "#EF553B",
           "#00cc96",
           "#ab63fa",
           "#FFA15A",
           "#19d3f3",
           "#FF6692",
           "#B6E880",
           "#FF97FF",
           "#FECB52"
          ],
          "font": {
           "color": "#2a3f5f"
          },
          "geo": {
           "bgcolor": "white",
           "lakecolor": "white",
           "landcolor": "#E5ECF6",
           "showlakes": true,
           "showland": true,
           "subunitcolor": "white"
          },
          "hoverlabel": {
           "align": "left"
          },
          "hovermode": "closest",
          "mapbox": {
           "style": "light"
          },
          "paper_bgcolor": "white",
          "plot_bgcolor": "#E5ECF6",
          "polar": {
           "angularaxis": {
            "gridcolor": "white",
            "linecolor": "white",
            "ticks": ""
           },
           "bgcolor": "#E5ECF6",
           "radialaxis": {
            "gridcolor": "white",
            "linecolor": "white",
            "ticks": ""
           }
          },
          "scene": {
           "xaxis": {
            "backgroundcolor": "#E5ECF6",
            "gridcolor": "white",
            "gridwidth": 2,
            "linecolor": "white",
            "showbackground": true,
            "ticks": "",
            "zerolinecolor": "white"
           },
           "yaxis": {
            "backgroundcolor": "#E5ECF6",
            "gridcolor": "white",
            "gridwidth": 2,
            "linecolor": "white",
            "showbackground": true,
            "ticks": "",
            "zerolinecolor": "white"
           },
           "zaxis": {
            "backgroundcolor": "#E5ECF6",
            "gridcolor": "white",
            "gridwidth": 2,
            "linecolor": "white",
            "showbackground": true,
            "ticks": "",
            "zerolinecolor": "white"
           }
          },
          "shapedefaults": {
           "line": {
            "color": "#2a3f5f"
           }
          },
          "ternary": {
           "aaxis": {
            "gridcolor": "white",
            "linecolor": "white",
            "ticks": ""
           },
           "baxis": {
            "gridcolor": "white",
            "linecolor": "white",
            "ticks": ""
           },
           "bgcolor": "#E5ECF6",
           "caxis": {
            "gridcolor": "white",
            "linecolor": "white",
            "ticks": ""
           }
          },
          "title": {
           "x": 0.05
          },
          "xaxis": {
           "automargin": true,
           "gridcolor": "white",
           "linecolor": "white",
           "ticks": "",
           "title": {
            "standoff": 15
           },
           "zerolinecolor": "white",
           "zerolinewidth": 2
          },
          "yaxis": {
           "automargin": true,
           "gridcolor": "white",
           "linecolor": "white",
           "ticks": "",
           "title": {
            "standoff": 15
           },
           "zerolinecolor": "white",
           "zerolinewidth": 2
          }
         }
        },
        "xaxis": {
         "anchor": "y",
         "domain": [
          0,
          1
         ]
        },
        "yaxis": {
         "anchor": "x",
         "domain": [
          0,
          1
         ]
        }
       }
      },
      "text/html": [
       "<div>                            <div id=\"6c486754-1d1e-4b67-a6ac-396f7ca2e9a7\" class=\"plotly-graph-div\" style=\"height:525px; width:100%;\"></div>            <script type=\"text/javascript\">                require([\"plotly\"], function(Plotly) {                    window.PLOTLYENV=window.PLOTLYENV || {};                                    if (document.getElementById(\"6c486754-1d1e-4b67-a6ac-396f7ca2e9a7\")) {                    Plotly.newPlot(                        \"6c486754-1d1e-4b67-a6ac-396f7ca2e9a7\",                        [{\"boxpoints\":\"all\",\"x\":[1,1,1,1,1,1,0,1,1,1,0,0,1,1,0,1,0,1,1,0,1,1,1,1,1,0,0,1,1,1,1,1,1,1,1,1,1,0,0,1,0,1,0,0,1,1,1,1,0,1,1,1,1,1,0,0,1,1,1,1,1,1,1,1,0,1,1,1,1,0,1,0,1,0,1,0,1,0,1,1,0,1,1,1,1,1,1,1,0,0,0,1,0,1,0,1,0,1,0,1,1,1,1,0,0,1,1,1,1,1,1,0,0,1,0,0,1,0,1,1,0,0,1,1,1,1,1,1,1,1,0,1,1,1,1,0,1,0,1,1,0,1,1,1,1,1,1,1,0,1,1,0,0,1,0,1,0,0,1,0,1,1,0,0,1,1,0,0,1,1,1,1,0,1,0,0,0,1,1,1,1,1,0,1,1,1,0,1,0,1,1,1,0,0,1,1,1,0,0,0,1,1,0,0,1,1,0,0,1,0,0,1,1,1,0,1,1,1,1,0,1,1,1,1,0,1,0,1,1,0,0,0,0,1,0,1,1,1,0,1,1,1,0,1,1,0,1,0,0,0,1,0,0,1,1,0,1,0,1,0,1,1,0,1,1,1,1,1,1,1,1,1,1,1,1,1,1,0,1,1,1,1,0,0,1,1,1,1,0,1,1,0,1,1,1,1,1,1,1,1,0,1,1,1,0,1,1,0,1,1,0,0,1,1,0,1,1,0,0,1,1,1,0,0,1,0,0,1,1,1,1,0,0,1,1,1,1,1,1,0,1,1,1,1,0,1,0,1,0,0,0,0,0,1,0,1,1,1,1,1,0,0,1,1],\"y\":[72.0,87.5,85.0,76.5,114.5,95.0,73.5,114.0,140.0,163.5,85.0,139.0,65.5,113.5,146.0,153.5,142.5,87.5,105.5,96.0,112.5,84.0,143.0,86.5,99.5,47.5,84.0,96.0,114.5,121.0,112.5,106.0,107.0,110.0,147.5,106.0,88.0,98.5,142.5,130.0,155.0,184.5,29.5,81.0,91.0,114.5,68.0,115.0,109.5,75.5,154.5,143.5,107.0,115.0,139.5,67.0,85.0,118.0,79.5,56.5,128.5,179.5,112.0,98.0,128.0,150.5,110.0,113.5,124.0,56.5,130.0,77.5,87.0,53.5,85.5,48.0,85.0,72.5,97.5,99.0,56.5,133.0,121.0,85.5,87.5,237.5,95.5,104.5,56.5,55.0,157.0,78.0,132.5,108.0,80.5,107.5,95.0,119.5,134.0,100.5,107.5,122.0,92.5,62.0,107.5,89.5,81.0,147.0,85.0,100.5,97.0,132.5,100.0,105.0,87.0,103.5,67.0,87.0,137.5,100.0,106.5,98.5,61.0,106.5,84.5,164.0,169.0,142.0,107.0,171.5,107.0,61.5,120.0,150.5,71.5,51.5,77.5,98.5,225.0,147.0,61.0,120.0,124.5,148.0,59.0,146.5,133.0,140.5,70.5,181.0,205.0,48.5,124.0,98.0,107.5,89.0,100.5,65.0,72.5,87.5,92.5,81.5,79.0,47.5,69.0,49.0,59.0,88.5,88.0,100.0,96.5,76.0,15.5,83.5,163.0,100.0,50.0,93.0,94.5,102.0,155.0,108.0,63.5,109.0,96.0,101.0,77.5,90.0,58.0,128.0,101.0,142.0,169.0,75.5,139.0,102.5,81.0,77.0,92.0,121.0,162.5,90.5,110.0,70.5,92.0,82.0,164.5,44.0,109.0,149.5,65.5,124.5,114.0,49.0,71.0,61.0,94.5,87.0,64.5,154.5,128.5,137.0,99.0,139.5,109.0,254.0,45.5,122.5,140.0,77.5,90.0,167.5,60.0,180.0,65.0,112.5,87.5,62.5,100.0,85.0,122.0,138.5,107.5,162.0,68.5,110.5,115.5,80.5,43.0,66.5,94.5,119.0,27.5,194.5,105.5,62.5,161.5,72.5,139.0,136.5,74.5,101.0,116.5,232.5,120.5,153.0,127.0,85.5,76.5,128.0,91.5,177.0,107.0,113.5,143.5,113.5,101.5,73.0,80.5,110.5,139.5,145.5,87.0,100.5,147.0,110.5,94.0,123.5,73.0,165.0,59.5,66.0,75.5,87.0,140.0,86.0,116.5,80.0,173.0,68.5,172.0,69.5,97.5,95.0,194.0,104.5,85.5,50.0,113.0,153.0,123.5,47.0,162.0,133.5,109.0,125.0,106.5,54.0,37.5,53.5,168.0,138.5,111.5,68.5,102.5,127.5,72.0,47.0,65.0,94.0,97.0,114.5,121.5,60.5,118.5,58.5,63.5,107.0,105.5,83.0,221.5,95.5,173.0,147.5,81.0,83.0,85.5,107.5,44.5,107.5,69.5,53.0,103.0,114.0,96.0,96.5,69.5,121.0,103.0,106.5,130.0,89.0,111.0,87.5],\"type\":\"box\",\"xaxis\":\"x\",\"yaxis\":\"y\"}],                        {\"template\":{\"data\":{\"histogram2dcontour\":[{\"type\":\"histogram2dcontour\",\"colorbar\":{\"outlinewidth\":0,\"ticks\":\"\"},\"colorscale\":[[0.0,\"#0d0887\"],[0.1111111111111111,\"#46039f\"],[0.2222222222222222,\"#7201a8\"],[0.3333333333333333,\"#9c179e\"],[0.4444444444444444,\"#bd3786\"],[0.5555555555555556,\"#d8576b\"],[0.6666666666666666,\"#ed7953\"],[0.7777777777777778,\"#fb9f3a\"],[0.8888888888888888,\"#fdca26\"],[1.0,\"#f0f921\"]]}],\"choropleth\":[{\"type\":\"choropleth\",\"colorbar\":{\"outlinewidth\":0,\"ticks\":\"\"}}],\"histogram2d\":[{\"type\":\"histogram2d\",\"colorbar\":{\"outlinewidth\":0,\"ticks\":\"\"},\"colorscale\":[[0.0,\"#0d0887\"],[0.1111111111111111,\"#46039f\"],[0.2222222222222222,\"#7201a8\"],[0.3333333333333333,\"#9c179e\"],[0.4444444444444444,\"#bd3786\"],[0.5555555555555556,\"#d8576b\"],[0.6666666666666666,\"#ed7953\"],[0.7777777777777778,\"#fb9f3a\"],[0.8888888888888888,\"#fdca26\"],[1.0,\"#f0f921\"]]}],\"heatmap\":[{\"type\":\"heatmap\",\"colorbar\":{\"outlinewidth\":0,\"ticks\":\"\"},\"colorscale\":[[0.0,\"#0d0887\"],[0.1111111111111111,\"#46039f\"],[0.2222222222222222,\"#7201a8\"],[0.3333333333333333,\"#9c179e\"],[0.4444444444444444,\"#bd3786\"],[0.5555555555555556,\"#d8576b\"],[0.6666666666666666,\"#ed7953\"],[0.7777777777777778,\"#fb9f3a\"],[0.8888888888888888,\"#fdca26\"],[1.0,\"#f0f921\"]]}],\"heatmapgl\":[{\"type\":\"heatmapgl\",\"colorbar\":{\"outlinewidth\":0,\"ticks\":\"\"},\"colorscale\":[[0.0,\"#0d0887\"],[0.1111111111111111,\"#46039f\"],[0.2222222222222222,\"#7201a8\"],[0.3333333333333333,\"#9c179e\"],[0.4444444444444444,\"#bd3786\"],[0.5555555555555556,\"#d8576b\"],[0.6666666666666666,\"#ed7953\"],[0.7777777777777778,\"#fb9f3a\"],[0.8888888888888888,\"#fdca26\"],[1.0,\"#f0f921\"]]}],\"contourcarpet\":[{\"type\":\"contourcarpet\",\"colorbar\":{\"outlinewidth\":0,\"ticks\":\"\"}}],\"contour\":[{\"type\":\"contour\",\"colorbar\":{\"outlinewidth\":0,\"ticks\":\"\"},\"colorscale\":[[0.0,\"#0d0887\"],[0.1111111111111111,\"#46039f\"],[0.2222222222222222,\"#7201a8\"],[0.3333333333333333,\"#9c179e\"],[0.4444444444444444,\"#bd3786\"],[0.5555555555555556,\"#d8576b\"],[0.6666666666666666,\"#ed7953\"],[0.7777777777777778,\"#fb9f3a\"],[0.8888888888888888,\"#fdca26\"],[1.0,\"#f0f921\"]]}],\"surface\":[{\"type\":\"surface\",\"colorbar\":{\"outlinewidth\":0,\"ticks\":\"\"},\"colorscale\":[[0.0,\"#0d0887\"],[0.1111111111111111,\"#46039f\"],[0.2222222222222222,\"#7201a8\"],[0.3333333333333333,\"#9c179e\"],[0.4444444444444444,\"#bd3786\"],[0.5555555555555556,\"#d8576b\"],[0.6666666666666666,\"#ed7953\"],[0.7777777777777778,\"#fb9f3a\"],[0.8888888888888888,\"#fdca26\"],[1.0,\"#f0f921\"]]}],\"mesh3d\":[{\"type\":\"mesh3d\",\"colorbar\":{\"outlinewidth\":0,\"ticks\":\"\"}}],\"scatter\":[{\"fillpattern\":{\"fillmode\":\"overlay\",\"size\":10,\"solidity\":0.2},\"type\":\"scatter\"}],\"parcoords\":[{\"type\":\"parcoords\",\"line\":{\"colorbar\":{\"outlinewidth\":0,\"ticks\":\"\"}}}],\"scatterpolargl\":[{\"type\":\"scatterpolargl\",\"marker\":{\"colorbar\":{\"outlinewidth\":0,\"ticks\":\"\"}}}],\"bar\":[{\"error_x\":{\"color\":\"#2a3f5f\"},\"error_y\":{\"color\":\"#2a3f5f\"},\"marker\":{\"line\":{\"color\":\"#E5ECF6\",\"width\":0.5},\"pattern\":{\"fillmode\":\"overlay\",\"size\":10,\"solidity\":0.2}},\"type\":\"bar\"}],\"scattergeo\":[{\"type\":\"scattergeo\",\"marker\":{\"colorbar\":{\"outlinewidth\":0,\"ticks\":\"\"}}}],\"scatterpolar\":[{\"type\":\"scatterpolar\",\"marker\":{\"colorbar\":{\"outlinewidth\":0,\"ticks\":\"\"}}}],\"histogram\":[{\"marker\":{\"pattern\":{\"fillmode\":\"overlay\",\"size\":10,\"solidity\":0.2}},\"type\":\"histogram\"}],\"scattergl\":[{\"type\":\"scattergl\",\"marker\":{\"colorbar\":{\"outlinewidth\":0,\"ticks\":\"\"}}}],\"scatter3d\":[{\"type\":\"scatter3d\",\"line\":{\"colorbar\":{\"outlinewidth\":0,\"ticks\":\"\"}},\"marker\":{\"colorbar\":{\"outlinewidth\":0,\"ticks\":\"\"}}}],\"scattermapbox\":[{\"type\":\"scattermapbox\",\"marker\":{\"colorbar\":{\"outlinewidth\":0,\"ticks\":\"\"}}}],\"scatterternary\":[{\"type\":\"scatterternary\",\"marker\":{\"colorbar\":{\"outlinewidth\":0,\"ticks\":\"\"}}}],\"scattercarpet\":[{\"type\":\"scattercarpet\",\"marker\":{\"colorbar\":{\"outlinewidth\":0,\"ticks\":\"\"}}}],\"carpet\":[{\"aaxis\":{\"endlinecolor\":\"#2a3f5f\",\"gridcolor\":\"white\",\"linecolor\":\"white\",\"minorgridcolor\":\"white\",\"startlinecolor\":\"#2a3f5f\"},\"baxis\":{\"endlinecolor\":\"#2a3f5f\",\"gridcolor\":\"white\",\"linecolor\":\"white\",\"minorgridcolor\":\"white\",\"startlinecolor\":\"#2a3f5f\"},\"type\":\"carpet\"}],\"table\":[{\"cells\":{\"fill\":{\"color\":\"#EBF0F8\"},\"line\":{\"color\":\"white\"}},\"header\":{\"fill\":{\"color\":\"#C8D4E3\"},\"line\":{\"color\":\"white\"}},\"type\":\"table\"}],\"barpolar\":[{\"marker\":{\"line\":{\"color\":\"#E5ECF6\",\"width\":0.5},\"pattern\":{\"fillmode\":\"overlay\",\"size\":10,\"solidity\":0.2}},\"type\":\"barpolar\"}],\"pie\":[{\"automargin\":true,\"type\":\"pie\"}]},\"layout\":{\"autotypenumbers\":\"strict\",\"colorway\":[\"#636efa\",\"#EF553B\",\"#00cc96\",\"#ab63fa\",\"#FFA15A\",\"#19d3f3\",\"#FF6692\",\"#B6E880\",\"#FF97FF\",\"#FECB52\"],\"font\":{\"color\":\"#2a3f5f\"},\"hovermode\":\"closest\",\"hoverlabel\":{\"align\":\"left\"},\"paper_bgcolor\":\"white\",\"plot_bgcolor\":\"#E5ECF6\",\"polar\":{\"bgcolor\":\"#E5ECF6\",\"angularaxis\":{\"gridcolor\":\"white\",\"linecolor\":\"white\",\"ticks\":\"\"},\"radialaxis\":{\"gridcolor\":\"white\",\"linecolor\":\"white\",\"ticks\":\"\"}},\"ternary\":{\"bgcolor\":\"#E5ECF6\",\"aaxis\":{\"gridcolor\":\"white\",\"linecolor\":\"white\",\"ticks\":\"\"},\"baxis\":{\"gridcolor\":\"white\",\"linecolor\":\"white\",\"ticks\":\"\"},\"caxis\":{\"gridcolor\":\"white\",\"linecolor\":\"white\",\"ticks\":\"\"}},\"coloraxis\":{\"colorbar\":{\"outlinewidth\":0,\"ticks\":\"\"}},\"colorscale\":{\"sequential\":[[0.0,\"#0d0887\"],[0.1111111111111111,\"#46039f\"],[0.2222222222222222,\"#7201a8\"],[0.3333333333333333,\"#9c179e\"],[0.4444444444444444,\"#bd3786\"],[0.5555555555555556,\"#d8576b\"],[0.6666666666666666,\"#ed7953\"],[0.7777777777777778,\"#fb9f3a\"],[0.8888888888888888,\"#fdca26\"],[1.0,\"#f0f921\"]],\"sequentialminus\":[[0.0,\"#0d0887\"],[0.1111111111111111,\"#46039f\"],[0.2222222222222222,\"#7201a8\"],[0.3333333333333333,\"#9c179e\"],[0.4444444444444444,\"#bd3786\"],[0.5555555555555556,\"#d8576b\"],[0.6666666666666666,\"#ed7953\"],[0.7777777777777778,\"#fb9f3a\"],[0.8888888888888888,\"#fdca26\"],[1.0,\"#f0f921\"]],\"diverging\":[[0,\"#8e0152\"],[0.1,\"#c51b7d\"],[0.2,\"#de77ae\"],[0.3,\"#f1b6da\"],[0.4,\"#fde0ef\"],[0.5,\"#f7f7f7\"],[0.6,\"#e6f5d0\"],[0.7,\"#b8e186\"],[0.8,\"#7fbc41\"],[0.9,\"#4d9221\"],[1,\"#276419\"]]},\"xaxis\":{\"gridcolor\":\"white\",\"linecolor\":\"white\",\"ticks\":\"\",\"title\":{\"standoff\":15},\"zerolinecolor\":\"white\",\"automargin\":true,\"zerolinewidth\":2},\"yaxis\":{\"gridcolor\":\"white\",\"linecolor\":\"white\",\"ticks\":\"\",\"title\":{\"standoff\":15},\"zerolinecolor\":\"white\",\"automargin\":true,\"zerolinewidth\":2},\"scene\":{\"xaxis\":{\"backgroundcolor\":\"#E5ECF6\",\"gridcolor\":\"white\",\"linecolor\":\"white\",\"showbackground\":true,\"ticks\":\"\",\"zerolinecolor\":\"white\",\"gridwidth\":2},\"yaxis\":{\"backgroundcolor\":\"#E5ECF6\",\"gridcolor\":\"white\",\"linecolor\":\"white\",\"showbackground\":true,\"ticks\":\"\",\"zerolinecolor\":\"white\",\"gridwidth\":2},\"zaxis\":{\"backgroundcolor\":\"#E5ECF6\",\"gridcolor\":\"white\",\"linecolor\":\"white\",\"showbackground\":true,\"ticks\":\"\",\"zerolinecolor\":\"white\",\"gridwidth\":2}},\"shapedefaults\":{\"line\":{\"color\":\"#2a3f5f\"}},\"annotationdefaults\":{\"arrowcolor\":\"#2a3f5f\",\"arrowhead\":0,\"arrowwidth\":1},\"geo\":{\"bgcolor\":\"white\",\"landcolor\":\"#E5ECF6\",\"subunitcolor\":\"white\",\"showland\":true,\"showlakes\":true,\"lakecolor\":\"white\"},\"title\":{\"x\":0.05},\"mapbox\":{\"style\":\"light\"}}},\"xaxis\":{\"anchor\":\"y\",\"domain\":[0.0,1.0]},\"yaxis\":{\"anchor\":\"x\",\"domain\":[0.0,1.0]}},                        {\"responsive\": true}                    ).then(function(){\n",
       "                            \n",
       "var gd = document.getElementById('6c486754-1d1e-4b67-a6ac-396f7ca2e9a7');\n",
       "var x = new MutationObserver(function (mutations, observer) {{\n",
       "        var display = window.getComputedStyle(gd).display;\n",
       "        if (!display || display === 'none') {{\n",
       "            console.log([gd, 'removed!']);\n",
       "            Plotly.purge(gd);\n",
       "            observer.disconnect();\n",
       "        }}\n",
       "}});\n",
       "\n",
       "// Listen for the removal of the full notebook cells\n",
       "var notebookContainer = gd.closest('#notebook-container');\n",
       "if (notebookContainer) {{\n",
       "    x.observe(notebookContainer, {childList: true});\n",
       "}}\n",
       "\n",
       "// Listen for the clearing of the current output cell\n",
       "var outputEl = gd.closest('.output');\n",
       "if (outputEl) {{\n",
       "    x.observe(outputEl, {childList: true});\n",
       "}}\n",
       "\n",
       "                        })                };                });            </script>        </div>"
      ]
     },
     "metadata": {},
     "output_type": "display_data"
    }
   ],
   "source": [
    "fig = make_subplots(rows=1, cols=1, shared_yaxes=True)\n",
    "\n",
    "fig.add_trace(\n",
    "    go.Box(x=df_dsc['Python'], y=df_dsc['Avg Salary(K)'], boxpoints='all'),\n",
    "    row=1, col=1\n",
    ")"
   ]
  },
  {
   "cell_type": "markdown",
   "id": "e8747631",
   "metadata": {},
   "source": [
    "✔︎ Data Scientist 직업의 Skill 분포"
   ]
  },
  {
   "cell_type": "code",
   "execution_count": 236,
   "id": "34200bd0",
   "metadata": {},
   "outputs": [
    {
     "data": {
      "application/vnd.plotly.v1+json": {
       "config": {
        "plotlyServerURL": "https://plot.ly"
       },
       "data": [
        {
         "marker": {
          "color": [
           "#db5f57",
           "#db9757",
           "#dbd057",
           "#addb57",
           "#75db57",
           "#57db72",
           "#57dbaa",
           "#57d3db",
           "#579bdb",
           "#5762db",
           "#8557db",
           "#bd57db",
           "#db57c0",
           "#db5788"
          ]
         },
         "type": "bar",
         "x": [
          "Python",
          "spark",
          "aws",
          "excel",
          "sql",
          "sas",
          "keras",
          "pytorch",
          "scikit",
          "tensor",
          "hadoop",
          "tableau",
          "bi",
          "mongo"
         ],
         "xaxis": "x",
         "y": [
          161,
          58,
          49,
          104,
          121,
          34,
          19,
          20,
          33,
          40,
          41,
          52,
          19,
          13
         ],
         "yaxis": "y"
        }
       ],
       "layout": {
        "template": {
         "data": {
          "bar": [
           {
            "error_x": {
             "color": "#2a3f5f"
            },
            "error_y": {
             "color": "#2a3f5f"
            },
            "marker": {
             "line": {
              "color": "#E5ECF6",
              "width": 0.5
             },
             "pattern": {
              "fillmode": "overlay",
              "size": 10,
              "solidity": 0.2
             }
            },
            "type": "bar"
           }
          ],
          "barpolar": [
           {
            "marker": {
             "line": {
              "color": "#E5ECF6",
              "width": 0.5
             },
             "pattern": {
              "fillmode": "overlay",
              "size": 10,
              "solidity": 0.2
             }
            },
            "type": "barpolar"
           }
          ],
          "carpet": [
           {
            "aaxis": {
             "endlinecolor": "#2a3f5f",
             "gridcolor": "white",
             "linecolor": "white",
             "minorgridcolor": "white",
             "startlinecolor": "#2a3f5f"
            },
            "baxis": {
             "endlinecolor": "#2a3f5f",
             "gridcolor": "white",
             "linecolor": "white",
             "minorgridcolor": "white",
             "startlinecolor": "#2a3f5f"
            },
            "type": "carpet"
           }
          ],
          "choropleth": [
           {
            "colorbar": {
             "outlinewidth": 0,
             "ticks": ""
            },
            "type": "choropleth"
           }
          ],
          "contour": [
           {
            "colorbar": {
             "outlinewidth": 0,
             "ticks": ""
            },
            "colorscale": [
             [
              0,
              "#0d0887"
             ],
             [
              0.1111111111111111,
              "#46039f"
             ],
             [
              0.2222222222222222,
              "#7201a8"
             ],
             [
              0.3333333333333333,
              "#9c179e"
             ],
             [
              0.4444444444444444,
              "#bd3786"
             ],
             [
              0.5555555555555556,
              "#d8576b"
             ],
             [
              0.6666666666666666,
              "#ed7953"
             ],
             [
              0.7777777777777778,
              "#fb9f3a"
             ],
             [
              0.8888888888888888,
              "#fdca26"
             ],
             [
              1,
              "#f0f921"
             ]
            ],
            "type": "contour"
           }
          ],
          "contourcarpet": [
           {
            "colorbar": {
             "outlinewidth": 0,
             "ticks": ""
            },
            "type": "contourcarpet"
           }
          ],
          "heatmap": [
           {
            "colorbar": {
             "outlinewidth": 0,
             "ticks": ""
            },
            "colorscale": [
             [
              0,
              "#0d0887"
             ],
             [
              0.1111111111111111,
              "#46039f"
             ],
             [
              0.2222222222222222,
              "#7201a8"
             ],
             [
              0.3333333333333333,
              "#9c179e"
             ],
             [
              0.4444444444444444,
              "#bd3786"
             ],
             [
              0.5555555555555556,
              "#d8576b"
             ],
             [
              0.6666666666666666,
              "#ed7953"
             ],
             [
              0.7777777777777778,
              "#fb9f3a"
             ],
             [
              0.8888888888888888,
              "#fdca26"
             ],
             [
              1,
              "#f0f921"
             ]
            ],
            "type": "heatmap"
           }
          ],
          "heatmapgl": [
           {
            "colorbar": {
             "outlinewidth": 0,
             "ticks": ""
            },
            "colorscale": [
             [
              0,
              "#0d0887"
             ],
             [
              0.1111111111111111,
              "#46039f"
             ],
             [
              0.2222222222222222,
              "#7201a8"
             ],
             [
              0.3333333333333333,
              "#9c179e"
             ],
             [
              0.4444444444444444,
              "#bd3786"
             ],
             [
              0.5555555555555556,
              "#d8576b"
             ],
             [
              0.6666666666666666,
              "#ed7953"
             ],
             [
              0.7777777777777778,
              "#fb9f3a"
             ],
             [
              0.8888888888888888,
              "#fdca26"
             ],
             [
              1,
              "#f0f921"
             ]
            ],
            "type": "heatmapgl"
           }
          ],
          "histogram": [
           {
            "marker": {
             "pattern": {
              "fillmode": "overlay",
              "size": 10,
              "solidity": 0.2
             }
            },
            "type": "histogram"
           }
          ],
          "histogram2d": [
           {
            "colorbar": {
             "outlinewidth": 0,
             "ticks": ""
            },
            "colorscale": [
             [
              0,
              "#0d0887"
             ],
             [
              0.1111111111111111,
              "#46039f"
             ],
             [
              0.2222222222222222,
              "#7201a8"
             ],
             [
              0.3333333333333333,
              "#9c179e"
             ],
             [
              0.4444444444444444,
              "#bd3786"
             ],
             [
              0.5555555555555556,
              "#d8576b"
             ],
             [
              0.6666666666666666,
              "#ed7953"
             ],
             [
              0.7777777777777778,
              "#fb9f3a"
             ],
             [
              0.8888888888888888,
              "#fdca26"
             ],
             [
              1,
              "#f0f921"
             ]
            ],
            "type": "histogram2d"
           }
          ],
          "histogram2dcontour": [
           {
            "colorbar": {
             "outlinewidth": 0,
             "ticks": ""
            },
            "colorscale": [
             [
              0,
              "#0d0887"
             ],
             [
              0.1111111111111111,
              "#46039f"
             ],
             [
              0.2222222222222222,
              "#7201a8"
             ],
             [
              0.3333333333333333,
              "#9c179e"
             ],
             [
              0.4444444444444444,
              "#bd3786"
             ],
             [
              0.5555555555555556,
              "#d8576b"
             ],
             [
              0.6666666666666666,
              "#ed7953"
             ],
             [
              0.7777777777777778,
              "#fb9f3a"
             ],
             [
              0.8888888888888888,
              "#fdca26"
             ],
             [
              1,
              "#f0f921"
             ]
            ],
            "type": "histogram2dcontour"
           }
          ],
          "mesh3d": [
           {
            "colorbar": {
             "outlinewidth": 0,
             "ticks": ""
            },
            "type": "mesh3d"
           }
          ],
          "parcoords": [
           {
            "line": {
             "colorbar": {
              "outlinewidth": 0,
              "ticks": ""
             }
            },
            "type": "parcoords"
           }
          ],
          "pie": [
           {
            "automargin": true,
            "type": "pie"
           }
          ],
          "scatter": [
           {
            "fillpattern": {
             "fillmode": "overlay",
             "size": 10,
             "solidity": 0.2
            },
            "type": "scatter"
           }
          ],
          "scatter3d": [
           {
            "line": {
             "colorbar": {
              "outlinewidth": 0,
              "ticks": ""
             }
            },
            "marker": {
             "colorbar": {
              "outlinewidth": 0,
              "ticks": ""
             }
            },
            "type": "scatter3d"
           }
          ],
          "scattercarpet": [
           {
            "marker": {
             "colorbar": {
              "outlinewidth": 0,
              "ticks": ""
             }
            },
            "type": "scattercarpet"
           }
          ],
          "scattergeo": [
           {
            "marker": {
             "colorbar": {
              "outlinewidth": 0,
              "ticks": ""
             }
            },
            "type": "scattergeo"
           }
          ],
          "scattergl": [
           {
            "marker": {
             "colorbar": {
              "outlinewidth": 0,
              "ticks": ""
             }
            },
            "type": "scattergl"
           }
          ],
          "scattermapbox": [
           {
            "marker": {
             "colorbar": {
              "outlinewidth": 0,
              "ticks": ""
             }
            },
            "type": "scattermapbox"
           }
          ],
          "scatterpolar": [
           {
            "marker": {
             "colorbar": {
              "outlinewidth": 0,
              "ticks": ""
             }
            },
            "type": "scatterpolar"
           }
          ],
          "scatterpolargl": [
           {
            "marker": {
             "colorbar": {
              "outlinewidth": 0,
              "ticks": ""
             }
            },
            "type": "scatterpolargl"
           }
          ],
          "scatterternary": [
           {
            "marker": {
             "colorbar": {
              "outlinewidth": 0,
              "ticks": ""
             }
            },
            "type": "scatterternary"
           }
          ],
          "surface": [
           {
            "colorbar": {
             "outlinewidth": 0,
             "ticks": ""
            },
            "colorscale": [
             [
              0,
              "#0d0887"
             ],
             [
              0.1111111111111111,
              "#46039f"
             ],
             [
              0.2222222222222222,
              "#7201a8"
             ],
             [
              0.3333333333333333,
              "#9c179e"
             ],
             [
              0.4444444444444444,
              "#bd3786"
             ],
             [
              0.5555555555555556,
              "#d8576b"
             ],
             [
              0.6666666666666666,
              "#ed7953"
             ],
             [
              0.7777777777777778,
              "#fb9f3a"
             ],
             [
              0.8888888888888888,
              "#fdca26"
             ],
             [
              1,
              "#f0f921"
             ]
            ],
            "type": "surface"
           }
          ],
          "table": [
           {
            "cells": {
             "fill": {
              "color": "#EBF0F8"
             },
             "line": {
              "color": "white"
             }
            },
            "header": {
             "fill": {
              "color": "#C8D4E3"
             },
             "line": {
              "color": "white"
             }
            },
            "type": "table"
           }
          ]
         },
         "layout": {
          "annotationdefaults": {
           "arrowcolor": "#2a3f5f",
           "arrowhead": 0,
           "arrowwidth": 1
          },
          "autotypenumbers": "strict",
          "coloraxis": {
           "colorbar": {
            "outlinewidth": 0,
            "ticks": ""
           }
          },
          "colorscale": {
           "diverging": [
            [
             0,
             "#8e0152"
            ],
            [
             0.1,
             "#c51b7d"
            ],
            [
             0.2,
             "#de77ae"
            ],
            [
             0.3,
             "#f1b6da"
            ],
            [
             0.4,
             "#fde0ef"
            ],
            [
             0.5,
             "#f7f7f7"
            ],
            [
             0.6,
             "#e6f5d0"
            ],
            [
             0.7,
             "#b8e186"
            ],
            [
             0.8,
             "#7fbc41"
            ],
            [
             0.9,
             "#4d9221"
            ],
            [
             1,
             "#276419"
            ]
           ],
           "sequential": [
            [
             0,
             "#0d0887"
            ],
            [
             0.1111111111111111,
             "#46039f"
            ],
            [
             0.2222222222222222,
             "#7201a8"
            ],
            [
             0.3333333333333333,
             "#9c179e"
            ],
            [
             0.4444444444444444,
             "#bd3786"
            ],
            [
             0.5555555555555556,
             "#d8576b"
            ],
            [
             0.6666666666666666,
             "#ed7953"
            ],
            [
             0.7777777777777778,
             "#fb9f3a"
            ],
            [
             0.8888888888888888,
             "#fdca26"
            ],
            [
             1,
             "#f0f921"
            ]
           ],
           "sequentialminus": [
            [
             0,
             "#0d0887"
            ],
            [
             0.1111111111111111,
             "#46039f"
            ],
            [
             0.2222222222222222,
             "#7201a8"
            ],
            [
             0.3333333333333333,
             "#9c179e"
            ],
            [
             0.4444444444444444,
             "#bd3786"
            ],
            [
             0.5555555555555556,
             "#d8576b"
            ],
            [
             0.6666666666666666,
             "#ed7953"
            ],
            [
             0.7777777777777778,
             "#fb9f3a"
            ],
            [
             0.8888888888888888,
             "#fdca26"
            ],
            [
             1,
             "#f0f921"
            ]
           ]
          },
          "colorway": [
           "#636efa",
           "#EF553B",
           "#00cc96",
           "#ab63fa",
           "#FFA15A",
           "#19d3f3",
           "#FF6692",
           "#B6E880",
           "#FF97FF",
           "#FECB52"
          ],
          "font": {
           "color": "#2a3f5f"
          },
          "geo": {
           "bgcolor": "white",
           "lakecolor": "white",
           "landcolor": "#E5ECF6",
           "showlakes": true,
           "showland": true,
           "subunitcolor": "white"
          },
          "hoverlabel": {
           "align": "left"
          },
          "hovermode": "closest",
          "mapbox": {
           "style": "light"
          },
          "paper_bgcolor": "white",
          "plot_bgcolor": "#E5ECF6",
          "polar": {
           "angularaxis": {
            "gridcolor": "white",
            "linecolor": "white",
            "ticks": ""
           },
           "bgcolor": "#E5ECF6",
           "radialaxis": {
            "gridcolor": "white",
            "linecolor": "white",
            "ticks": ""
           }
          },
          "scene": {
           "xaxis": {
            "backgroundcolor": "#E5ECF6",
            "gridcolor": "white",
            "gridwidth": 2,
            "linecolor": "white",
            "showbackground": true,
            "ticks": "",
            "zerolinecolor": "white"
           },
           "yaxis": {
            "backgroundcolor": "#E5ECF6",
            "gridcolor": "white",
            "gridwidth": 2,
            "linecolor": "white",
            "showbackground": true,
            "ticks": "",
            "zerolinecolor": "white"
           },
           "zaxis": {
            "backgroundcolor": "#E5ECF6",
            "gridcolor": "white",
            "gridwidth": 2,
            "linecolor": "white",
            "showbackground": true,
            "ticks": "",
            "zerolinecolor": "white"
           }
          },
          "shapedefaults": {
           "line": {
            "color": "#2a3f5f"
           }
          },
          "ternary": {
           "aaxis": {
            "gridcolor": "white",
            "linecolor": "white",
            "ticks": ""
           },
           "baxis": {
            "gridcolor": "white",
            "linecolor": "white",
            "ticks": ""
           },
           "bgcolor": "#E5ECF6",
           "caxis": {
            "gridcolor": "white",
            "linecolor": "white",
            "ticks": ""
           }
          },
          "title": {
           "x": 0.05
          },
          "xaxis": {
           "automargin": true,
           "gridcolor": "white",
           "linecolor": "white",
           "ticks": "",
           "title": {
            "standoff": 15
           },
           "zerolinecolor": "white",
           "zerolinewidth": 2
          },
          "yaxis": {
           "automargin": true,
           "gridcolor": "white",
           "linecolor": "white",
           "ticks": "",
           "title": {
            "standoff": 15
           },
           "zerolinecolor": "white",
           "zerolinewidth": 2
          }
         }
        },
        "xaxis": {
         "anchor": "y",
         "domain": [
          0,
          1
         ],
         "title": {
          "text": "data scientist"
         }
        },
        "yaxis": {
         "anchor": "x",
         "domain": [
          0,
          1
         ]
        }
       }
      },
      "text/html": [
       "<div>                            <div id=\"c5544e81-0199-4a25-ae47-0a6593cbf446\" class=\"plotly-graph-div\" style=\"height:525px; width:100%;\"></div>            <script type=\"text/javascript\">                require([\"plotly\"], function(Plotly) {                    window.PLOTLYENV=window.PLOTLYENV || {};                                    if (document.getElementById(\"c5544e81-0199-4a25-ae47-0a6593cbf446\")) {                    Plotly.newPlot(                        \"c5544e81-0199-4a25-ae47-0a6593cbf446\",                        [{\"marker\":{\"color\":[\"#db5f57\",\"#db9757\",\"#dbd057\",\"#addb57\",\"#75db57\",\"#57db72\",\"#57dbaa\",\"#57d3db\",\"#579bdb\",\"#5762db\",\"#8557db\",\"#bd57db\",\"#db57c0\",\"#db5788\"]},\"x\":[\"Python\",\"spark\",\"aws\",\"excel\",\"sql\",\"sas\",\"keras\",\"pytorch\",\"scikit\",\"tensor\",\"hadoop\",\"tableau\",\"bi\",\"mongo\"],\"y\":[161,58,49,104,121,34,19,20,33,40,41,52,19,13],\"type\":\"bar\",\"xaxis\":\"x\",\"yaxis\":\"y\"}],                        {\"template\":{\"data\":{\"histogram2dcontour\":[{\"type\":\"histogram2dcontour\",\"colorbar\":{\"outlinewidth\":0,\"ticks\":\"\"},\"colorscale\":[[0.0,\"#0d0887\"],[0.1111111111111111,\"#46039f\"],[0.2222222222222222,\"#7201a8\"],[0.3333333333333333,\"#9c179e\"],[0.4444444444444444,\"#bd3786\"],[0.5555555555555556,\"#d8576b\"],[0.6666666666666666,\"#ed7953\"],[0.7777777777777778,\"#fb9f3a\"],[0.8888888888888888,\"#fdca26\"],[1.0,\"#f0f921\"]]}],\"choropleth\":[{\"type\":\"choropleth\",\"colorbar\":{\"outlinewidth\":0,\"ticks\":\"\"}}],\"histogram2d\":[{\"type\":\"histogram2d\",\"colorbar\":{\"outlinewidth\":0,\"ticks\":\"\"},\"colorscale\":[[0.0,\"#0d0887\"],[0.1111111111111111,\"#46039f\"],[0.2222222222222222,\"#7201a8\"],[0.3333333333333333,\"#9c179e\"],[0.4444444444444444,\"#bd3786\"],[0.5555555555555556,\"#d8576b\"],[0.6666666666666666,\"#ed7953\"],[0.7777777777777778,\"#fb9f3a\"],[0.8888888888888888,\"#fdca26\"],[1.0,\"#f0f921\"]]}],\"heatmap\":[{\"type\":\"heatmap\",\"colorbar\":{\"outlinewidth\":0,\"ticks\":\"\"},\"colorscale\":[[0.0,\"#0d0887\"],[0.1111111111111111,\"#46039f\"],[0.2222222222222222,\"#7201a8\"],[0.3333333333333333,\"#9c179e\"],[0.4444444444444444,\"#bd3786\"],[0.5555555555555556,\"#d8576b\"],[0.6666666666666666,\"#ed7953\"],[0.7777777777777778,\"#fb9f3a\"],[0.8888888888888888,\"#fdca26\"],[1.0,\"#f0f921\"]]}],\"heatmapgl\":[{\"type\":\"heatmapgl\",\"colorbar\":{\"outlinewidth\":0,\"ticks\":\"\"},\"colorscale\":[[0.0,\"#0d0887\"],[0.1111111111111111,\"#46039f\"],[0.2222222222222222,\"#7201a8\"],[0.3333333333333333,\"#9c179e\"],[0.4444444444444444,\"#bd3786\"],[0.5555555555555556,\"#d8576b\"],[0.6666666666666666,\"#ed7953\"],[0.7777777777777778,\"#fb9f3a\"],[0.8888888888888888,\"#fdca26\"],[1.0,\"#f0f921\"]]}],\"contourcarpet\":[{\"type\":\"contourcarpet\",\"colorbar\":{\"outlinewidth\":0,\"ticks\":\"\"}}],\"contour\":[{\"type\":\"contour\",\"colorbar\":{\"outlinewidth\":0,\"ticks\":\"\"},\"colorscale\":[[0.0,\"#0d0887\"],[0.1111111111111111,\"#46039f\"],[0.2222222222222222,\"#7201a8\"],[0.3333333333333333,\"#9c179e\"],[0.4444444444444444,\"#bd3786\"],[0.5555555555555556,\"#d8576b\"],[0.6666666666666666,\"#ed7953\"],[0.7777777777777778,\"#fb9f3a\"],[0.8888888888888888,\"#fdca26\"],[1.0,\"#f0f921\"]]}],\"surface\":[{\"type\":\"surface\",\"colorbar\":{\"outlinewidth\":0,\"ticks\":\"\"},\"colorscale\":[[0.0,\"#0d0887\"],[0.1111111111111111,\"#46039f\"],[0.2222222222222222,\"#7201a8\"],[0.3333333333333333,\"#9c179e\"],[0.4444444444444444,\"#bd3786\"],[0.5555555555555556,\"#d8576b\"],[0.6666666666666666,\"#ed7953\"],[0.7777777777777778,\"#fb9f3a\"],[0.8888888888888888,\"#fdca26\"],[1.0,\"#f0f921\"]]}],\"mesh3d\":[{\"type\":\"mesh3d\",\"colorbar\":{\"outlinewidth\":0,\"ticks\":\"\"}}],\"scatter\":[{\"fillpattern\":{\"fillmode\":\"overlay\",\"size\":10,\"solidity\":0.2},\"type\":\"scatter\"}],\"parcoords\":[{\"type\":\"parcoords\",\"line\":{\"colorbar\":{\"outlinewidth\":0,\"ticks\":\"\"}}}],\"scatterpolargl\":[{\"type\":\"scatterpolargl\",\"marker\":{\"colorbar\":{\"outlinewidth\":0,\"ticks\":\"\"}}}],\"bar\":[{\"error_x\":{\"color\":\"#2a3f5f\"},\"error_y\":{\"color\":\"#2a3f5f\"},\"marker\":{\"line\":{\"color\":\"#E5ECF6\",\"width\":0.5},\"pattern\":{\"fillmode\":\"overlay\",\"size\":10,\"solidity\":0.2}},\"type\":\"bar\"}],\"scattergeo\":[{\"type\":\"scattergeo\",\"marker\":{\"colorbar\":{\"outlinewidth\":0,\"ticks\":\"\"}}}],\"scatterpolar\":[{\"type\":\"scatterpolar\",\"marker\":{\"colorbar\":{\"outlinewidth\":0,\"ticks\":\"\"}}}],\"histogram\":[{\"marker\":{\"pattern\":{\"fillmode\":\"overlay\",\"size\":10,\"solidity\":0.2}},\"type\":\"histogram\"}],\"scattergl\":[{\"type\":\"scattergl\",\"marker\":{\"colorbar\":{\"outlinewidth\":0,\"ticks\":\"\"}}}],\"scatter3d\":[{\"type\":\"scatter3d\",\"line\":{\"colorbar\":{\"outlinewidth\":0,\"ticks\":\"\"}},\"marker\":{\"colorbar\":{\"outlinewidth\":0,\"ticks\":\"\"}}}],\"scattermapbox\":[{\"type\":\"scattermapbox\",\"marker\":{\"colorbar\":{\"outlinewidth\":0,\"ticks\":\"\"}}}],\"scatterternary\":[{\"type\":\"scatterternary\",\"marker\":{\"colorbar\":{\"outlinewidth\":0,\"ticks\":\"\"}}}],\"scattercarpet\":[{\"type\":\"scattercarpet\",\"marker\":{\"colorbar\":{\"outlinewidth\":0,\"ticks\":\"\"}}}],\"carpet\":[{\"aaxis\":{\"endlinecolor\":\"#2a3f5f\",\"gridcolor\":\"white\",\"linecolor\":\"white\",\"minorgridcolor\":\"white\",\"startlinecolor\":\"#2a3f5f\"},\"baxis\":{\"endlinecolor\":\"#2a3f5f\",\"gridcolor\":\"white\",\"linecolor\":\"white\",\"minorgridcolor\":\"white\",\"startlinecolor\":\"#2a3f5f\"},\"type\":\"carpet\"}],\"table\":[{\"cells\":{\"fill\":{\"color\":\"#EBF0F8\"},\"line\":{\"color\":\"white\"}},\"header\":{\"fill\":{\"color\":\"#C8D4E3\"},\"line\":{\"color\":\"white\"}},\"type\":\"table\"}],\"barpolar\":[{\"marker\":{\"line\":{\"color\":\"#E5ECF6\",\"width\":0.5},\"pattern\":{\"fillmode\":\"overlay\",\"size\":10,\"solidity\":0.2}},\"type\":\"barpolar\"}],\"pie\":[{\"automargin\":true,\"type\":\"pie\"}]},\"layout\":{\"autotypenumbers\":\"strict\",\"colorway\":[\"#636efa\",\"#EF553B\",\"#00cc96\",\"#ab63fa\",\"#FFA15A\",\"#19d3f3\",\"#FF6692\",\"#B6E880\",\"#FF97FF\",\"#FECB52\"],\"font\":{\"color\":\"#2a3f5f\"},\"hovermode\":\"closest\",\"hoverlabel\":{\"align\":\"left\"},\"paper_bgcolor\":\"white\",\"plot_bgcolor\":\"#E5ECF6\",\"polar\":{\"bgcolor\":\"#E5ECF6\",\"angularaxis\":{\"gridcolor\":\"white\",\"linecolor\":\"white\",\"ticks\":\"\"},\"radialaxis\":{\"gridcolor\":\"white\",\"linecolor\":\"white\",\"ticks\":\"\"}},\"ternary\":{\"bgcolor\":\"#E5ECF6\",\"aaxis\":{\"gridcolor\":\"white\",\"linecolor\":\"white\",\"ticks\":\"\"},\"baxis\":{\"gridcolor\":\"white\",\"linecolor\":\"white\",\"ticks\":\"\"},\"caxis\":{\"gridcolor\":\"white\",\"linecolor\":\"white\",\"ticks\":\"\"}},\"coloraxis\":{\"colorbar\":{\"outlinewidth\":0,\"ticks\":\"\"}},\"colorscale\":{\"sequential\":[[0.0,\"#0d0887\"],[0.1111111111111111,\"#46039f\"],[0.2222222222222222,\"#7201a8\"],[0.3333333333333333,\"#9c179e\"],[0.4444444444444444,\"#bd3786\"],[0.5555555555555556,\"#d8576b\"],[0.6666666666666666,\"#ed7953\"],[0.7777777777777778,\"#fb9f3a\"],[0.8888888888888888,\"#fdca26\"],[1.0,\"#f0f921\"]],\"sequentialminus\":[[0.0,\"#0d0887\"],[0.1111111111111111,\"#46039f\"],[0.2222222222222222,\"#7201a8\"],[0.3333333333333333,\"#9c179e\"],[0.4444444444444444,\"#bd3786\"],[0.5555555555555556,\"#d8576b\"],[0.6666666666666666,\"#ed7953\"],[0.7777777777777778,\"#fb9f3a\"],[0.8888888888888888,\"#fdca26\"],[1.0,\"#f0f921\"]],\"diverging\":[[0,\"#8e0152\"],[0.1,\"#c51b7d\"],[0.2,\"#de77ae\"],[0.3,\"#f1b6da\"],[0.4,\"#fde0ef\"],[0.5,\"#f7f7f7\"],[0.6,\"#e6f5d0\"],[0.7,\"#b8e186\"],[0.8,\"#7fbc41\"],[0.9,\"#4d9221\"],[1,\"#276419\"]]},\"xaxis\":{\"gridcolor\":\"white\",\"linecolor\":\"white\",\"ticks\":\"\",\"title\":{\"standoff\":15},\"zerolinecolor\":\"white\",\"automargin\":true,\"zerolinewidth\":2},\"yaxis\":{\"gridcolor\":\"white\",\"linecolor\":\"white\",\"ticks\":\"\",\"title\":{\"standoff\":15},\"zerolinecolor\":\"white\",\"automargin\":true,\"zerolinewidth\":2},\"scene\":{\"xaxis\":{\"backgroundcolor\":\"#E5ECF6\",\"gridcolor\":\"white\",\"linecolor\":\"white\",\"showbackground\":true,\"ticks\":\"\",\"zerolinecolor\":\"white\",\"gridwidth\":2},\"yaxis\":{\"backgroundcolor\":\"#E5ECF6\",\"gridcolor\":\"white\",\"linecolor\":\"white\",\"showbackground\":true,\"ticks\":\"\",\"zerolinecolor\":\"white\",\"gridwidth\":2},\"zaxis\":{\"backgroundcolor\":\"#E5ECF6\",\"gridcolor\":\"white\",\"linecolor\":\"white\",\"showbackground\":true,\"ticks\":\"\",\"zerolinecolor\":\"white\",\"gridwidth\":2}},\"shapedefaults\":{\"line\":{\"color\":\"#2a3f5f\"}},\"annotationdefaults\":{\"arrowcolor\":\"#2a3f5f\",\"arrowhead\":0,\"arrowwidth\":1},\"geo\":{\"bgcolor\":\"white\",\"landcolor\":\"#E5ECF6\",\"subunitcolor\":\"white\",\"showland\":true,\"showlakes\":true,\"lakecolor\":\"white\"},\"title\":{\"x\":0.05},\"mapbox\":{\"style\":\"light\"}}},\"xaxis\":{\"anchor\":\"y\",\"domain\":[0.0,1.0],\"title\":{\"text\":\"data scientist\"}},\"yaxis\":{\"anchor\":\"x\",\"domain\":[0.0,1.0]}},                        {\"responsive\": true}                    ).then(function(){\n",
       "                            \n",
       "var gd = document.getElementById('c5544e81-0199-4a25-ae47-0a6593cbf446');\n",
       "var x = new MutationObserver(function (mutations, observer) {{\n",
       "        var display = window.getComputedStyle(gd).display;\n",
       "        if (!display || display === 'none') {{\n",
       "            console.log([gd, 'removed!']);\n",
       "            Plotly.purge(gd);\n",
       "            observer.disconnect();\n",
       "        }}\n",
       "}});\n",
       "\n",
       "// Listen for the removal of the full notebook cells\n",
       "var notebookContainer = gd.closest('#notebook-container');\n",
       "if (notebookContainer) {{\n",
       "    x.observe(notebookContainer, {childList: true});\n",
       "}}\n",
       "\n",
       "// Listen for the clearing of the current output cell\n",
       "var outputEl = gd.closest('.output');\n",
       "if (outputEl) {{\n",
       "    x.observe(outputEl, {childList: true});\n",
       "}}\n",
       "\n",
       "                        })                };                });            </script>        </div>"
      ]
     },
     "metadata": {},
     "output_type": "display_data"
    }
   ],
   "source": [
    "import seaborn as sns\n",
    "\n",
    "fig = make_subplots(rows=1, cols=1, shared_yaxes=False)\n",
    "jobs = list(df_dsc[['Job']].drop_duplicates()['Job'])\n",
    "skills = ['Python', 'spark', 'aws',\n",
    "       'excel', 'sql', 'sas', 'keras', 'pytorch', 'scikit', 'tensor', 'hadoop',\n",
    "       'tableau', 'bi', 'mongo']\n",
    "colors = sns.color_palette('hls', len(skills)).as_hex()\n",
    "dictSkill = {}\n",
    "for job in jobs:\n",
    "    dictSkill[job] = {}\n",
    "    for skill in skills:\n",
    "        dictSkill[job][skill] = df_dsc[df_dsc['Job']==job][skill].sum()\n",
    "        \n",
    "dictSkill = dict(sorted(dictSkill.items(), key= lambda row : sum(list(row[1].values())), reverse=True))\n",
    "\n",
    "dfJob = dictSkill['data scientist']\n",
    "fig.add_trace(\n",
    "    go.Bar(\n",
    "        x=list(dfJob.keys()), y=list(dfJob.values()),\n",
    "        marker = {'color':colors}\n",
    "    ),\n",
    "    row=1, col=1\n",
    ")\n",
    "fig.update_xaxes(title_text='data scientist', row=1, col=1)\n"
   ]
  },
  {
   "cell_type": "markdown",
   "id": "2f051fca",
   "metadata": {},
   "source": [
    "✔︎ Data Scientist 직업의 Avg Salary 분포"
   ]
  },
  {
   "cell_type": "code",
   "execution_count": 241,
   "id": "87d34444",
   "metadata": {},
   "outputs": [
    {
     "data": {
      "application/vnd.plotly.v1+json": {
       "config": {
        "plotlyServerURL": "https://plot.ly"
       },
       "data": [
        {
         "alignmentgroup": "True",
         "box": {
          "visible": true
         },
         "hovertemplate": "Avg Salary(K)=%{y}<extra></extra>",
         "legendgroup": "",
         "marker": {
          "color": "#636efa"
         },
         "name": "",
         "offsetgroup": "",
         "orientation": "v",
         "scalegroup": "True",
         "showlegend": false,
         "type": "violin",
         "x0": " ",
         "xaxis": "x",
         "y": [
          72,
          87.5,
          85,
          76.5,
          114.5,
          95,
          73.5,
          114,
          140,
          163.5,
          85,
          139,
          113.5,
          153.5,
          142.5,
          87.5,
          105.5,
          96,
          112.5,
          84,
          143,
          86.5,
          99.5,
          84,
          96,
          114.5,
          121,
          112.5,
          107,
          110,
          147.5,
          142.5,
          130,
          155,
          184.5,
          81,
          91,
          114.5,
          68,
          115,
          109.5,
          75.5,
          154.5,
          143.5,
          107,
          115,
          139.5,
          67,
          85,
          118,
          79.5,
          56.5,
          128.5,
          179.5,
          112,
          98,
          128,
          150.5,
          110,
          113.5,
          124,
          130,
          85.5,
          85,
          97.5,
          99,
          133,
          121,
          85.5,
          87.5,
          237.5,
          104.5,
          157,
          132.5,
          80.5,
          107.5,
          119.5,
          100.5,
          107.5,
          107.5,
          89.5,
          81,
          147,
          85,
          97,
          105,
          67,
          137.5,
          100,
          98.5,
          106.5,
          164,
          169,
          142,
          107,
          171.5,
          120,
          150.5,
          98.5,
          225,
          147,
          124.5,
          148,
          146.5,
          140.5,
          89,
          100.5,
          72.5,
          87.5,
          81.5,
          88.5,
          96.5,
          15.5,
          83.5,
          163,
          94.5,
          102,
          155,
          108,
          109,
          96,
          90,
          128,
          101,
          142,
          169,
          139,
          121,
          110,
          82,
          164.5,
          124.5,
          128.5,
          137,
          139.5,
          254,
          140,
          77.5,
          167.5,
          180,
          62.5,
          122,
          107.5,
          68.5,
          110.5,
          80.5,
          119,
          194.5,
          105.5,
          161.5,
          74.5,
          101,
          116.5,
          120.5,
          153,
          127,
          85.5,
          76.5,
          128,
          107,
          113.5,
          143.5,
          113.5,
          101.5,
          80.5,
          110.5,
          139.5,
          145.5,
          87,
          100.5,
          147,
          94,
          123.5,
          165,
          75.5,
          140,
          86,
          116.5,
          173,
          172,
          69.5,
          97.5,
          95,
          194,
          104.5,
          153,
          162,
          133.5,
          106.5,
          168,
          111.5,
          68.5,
          127.5,
          114.5,
          63.5,
          107,
          221.5,
          147.5,
          53,
          114,
          96,
          96.5,
          69.5,
          121,
          103,
          106.5,
          130,
          89
         ],
         "y0": " ",
         "yaxis": "y"
        }
       ],
       "layout": {
        "legend": {
         "tracegroupgap": 0
        },
        "margin": {
         "t": 60
        },
        "template": {
         "data": {
          "bar": [
           {
            "error_x": {
             "color": "#2a3f5f"
            },
            "error_y": {
             "color": "#2a3f5f"
            },
            "marker": {
             "line": {
              "color": "#E5ECF6",
              "width": 0.5
             },
             "pattern": {
              "fillmode": "overlay",
              "size": 10,
              "solidity": 0.2
             }
            },
            "type": "bar"
           }
          ],
          "barpolar": [
           {
            "marker": {
             "line": {
              "color": "#E5ECF6",
              "width": 0.5
             },
             "pattern": {
              "fillmode": "overlay",
              "size": 10,
              "solidity": 0.2
             }
            },
            "type": "barpolar"
           }
          ],
          "carpet": [
           {
            "aaxis": {
             "endlinecolor": "#2a3f5f",
             "gridcolor": "white",
             "linecolor": "white",
             "minorgridcolor": "white",
             "startlinecolor": "#2a3f5f"
            },
            "baxis": {
             "endlinecolor": "#2a3f5f",
             "gridcolor": "white",
             "linecolor": "white",
             "minorgridcolor": "white",
             "startlinecolor": "#2a3f5f"
            },
            "type": "carpet"
           }
          ],
          "choropleth": [
           {
            "colorbar": {
             "outlinewidth": 0,
             "ticks": ""
            },
            "type": "choropleth"
           }
          ],
          "contour": [
           {
            "colorbar": {
             "outlinewidth": 0,
             "ticks": ""
            },
            "colorscale": [
             [
              0,
              "#0d0887"
             ],
             [
              0.1111111111111111,
              "#46039f"
             ],
             [
              0.2222222222222222,
              "#7201a8"
             ],
             [
              0.3333333333333333,
              "#9c179e"
             ],
             [
              0.4444444444444444,
              "#bd3786"
             ],
             [
              0.5555555555555556,
              "#d8576b"
             ],
             [
              0.6666666666666666,
              "#ed7953"
             ],
             [
              0.7777777777777778,
              "#fb9f3a"
             ],
             [
              0.8888888888888888,
              "#fdca26"
             ],
             [
              1,
              "#f0f921"
             ]
            ],
            "type": "contour"
           }
          ],
          "contourcarpet": [
           {
            "colorbar": {
             "outlinewidth": 0,
             "ticks": ""
            },
            "type": "contourcarpet"
           }
          ],
          "heatmap": [
           {
            "colorbar": {
             "outlinewidth": 0,
             "ticks": ""
            },
            "colorscale": [
             [
              0,
              "#0d0887"
             ],
             [
              0.1111111111111111,
              "#46039f"
             ],
             [
              0.2222222222222222,
              "#7201a8"
             ],
             [
              0.3333333333333333,
              "#9c179e"
             ],
             [
              0.4444444444444444,
              "#bd3786"
             ],
             [
              0.5555555555555556,
              "#d8576b"
             ],
             [
              0.6666666666666666,
              "#ed7953"
             ],
             [
              0.7777777777777778,
              "#fb9f3a"
             ],
             [
              0.8888888888888888,
              "#fdca26"
             ],
             [
              1,
              "#f0f921"
             ]
            ],
            "type": "heatmap"
           }
          ],
          "heatmapgl": [
           {
            "colorbar": {
             "outlinewidth": 0,
             "ticks": ""
            },
            "colorscale": [
             [
              0,
              "#0d0887"
             ],
             [
              0.1111111111111111,
              "#46039f"
             ],
             [
              0.2222222222222222,
              "#7201a8"
             ],
             [
              0.3333333333333333,
              "#9c179e"
             ],
             [
              0.4444444444444444,
              "#bd3786"
             ],
             [
              0.5555555555555556,
              "#d8576b"
             ],
             [
              0.6666666666666666,
              "#ed7953"
             ],
             [
              0.7777777777777778,
              "#fb9f3a"
             ],
             [
              0.8888888888888888,
              "#fdca26"
             ],
             [
              1,
              "#f0f921"
             ]
            ],
            "type": "heatmapgl"
           }
          ],
          "histogram": [
           {
            "marker": {
             "pattern": {
              "fillmode": "overlay",
              "size": 10,
              "solidity": 0.2
             }
            },
            "type": "histogram"
           }
          ],
          "histogram2d": [
           {
            "colorbar": {
             "outlinewidth": 0,
             "ticks": ""
            },
            "colorscale": [
             [
              0,
              "#0d0887"
             ],
             [
              0.1111111111111111,
              "#46039f"
             ],
             [
              0.2222222222222222,
              "#7201a8"
             ],
             [
              0.3333333333333333,
              "#9c179e"
             ],
             [
              0.4444444444444444,
              "#bd3786"
             ],
             [
              0.5555555555555556,
              "#d8576b"
             ],
             [
              0.6666666666666666,
              "#ed7953"
             ],
             [
              0.7777777777777778,
              "#fb9f3a"
             ],
             [
              0.8888888888888888,
              "#fdca26"
             ],
             [
              1,
              "#f0f921"
             ]
            ],
            "type": "histogram2d"
           }
          ],
          "histogram2dcontour": [
           {
            "colorbar": {
             "outlinewidth": 0,
             "ticks": ""
            },
            "colorscale": [
             [
              0,
              "#0d0887"
             ],
             [
              0.1111111111111111,
              "#46039f"
             ],
             [
              0.2222222222222222,
              "#7201a8"
             ],
             [
              0.3333333333333333,
              "#9c179e"
             ],
             [
              0.4444444444444444,
              "#bd3786"
             ],
             [
              0.5555555555555556,
              "#d8576b"
             ],
             [
              0.6666666666666666,
              "#ed7953"
             ],
             [
              0.7777777777777778,
              "#fb9f3a"
             ],
             [
              0.8888888888888888,
              "#fdca26"
             ],
             [
              1,
              "#f0f921"
             ]
            ],
            "type": "histogram2dcontour"
           }
          ],
          "mesh3d": [
           {
            "colorbar": {
             "outlinewidth": 0,
             "ticks": ""
            },
            "type": "mesh3d"
           }
          ],
          "parcoords": [
           {
            "line": {
             "colorbar": {
              "outlinewidth": 0,
              "ticks": ""
             }
            },
            "type": "parcoords"
           }
          ],
          "pie": [
           {
            "automargin": true,
            "type": "pie"
           }
          ],
          "scatter": [
           {
            "fillpattern": {
             "fillmode": "overlay",
             "size": 10,
             "solidity": 0.2
            },
            "type": "scatter"
           }
          ],
          "scatter3d": [
           {
            "line": {
             "colorbar": {
              "outlinewidth": 0,
              "ticks": ""
             }
            },
            "marker": {
             "colorbar": {
              "outlinewidth": 0,
              "ticks": ""
             }
            },
            "type": "scatter3d"
           }
          ],
          "scattercarpet": [
           {
            "marker": {
             "colorbar": {
              "outlinewidth": 0,
              "ticks": ""
             }
            },
            "type": "scattercarpet"
           }
          ],
          "scattergeo": [
           {
            "marker": {
             "colorbar": {
              "outlinewidth": 0,
              "ticks": ""
             }
            },
            "type": "scattergeo"
           }
          ],
          "scattergl": [
           {
            "marker": {
             "colorbar": {
              "outlinewidth": 0,
              "ticks": ""
             }
            },
            "type": "scattergl"
           }
          ],
          "scattermapbox": [
           {
            "marker": {
             "colorbar": {
              "outlinewidth": 0,
              "ticks": ""
             }
            },
            "type": "scattermapbox"
           }
          ],
          "scatterpolar": [
           {
            "marker": {
             "colorbar": {
              "outlinewidth": 0,
              "ticks": ""
             }
            },
            "type": "scatterpolar"
           }
          ],
          "scatterpolargl": [
           {
            "marker": {
             "colorbar": {
              "outlinewidth": 0,
              "ticks": ""
             }
            },
            "type": "scatterpolargl"
           }
          ],
          "scatterternary": [
           {
            "marker": {
             "colorbar": {
              "outlinewidth": 0,
              "ticks": ""
             }
            },
            "type": "scatterternary"
           }
          ],
          "surface": [
           {
            "colorbar": {
             "outlinewidth": 0,
             "ticks": ""
            },
            "colorscale": [
             [
              0,
              "#0d0887"
             ],
             [
              0.1111111111111111,
              "#46039f"
             ],
             [
              0.2222222222222222,
              "#7201a8"
             ],
             [
              0.3333333333333333,
              "#9c179e"
             ],
             [
              0.4444444444444444,
              "#bd3786"
             ],
             [
              0.5555555555555556,
              "#d8576b"
             ],
             [
              0.6666666666666666,
              "#ed7953"
             ],
             [
              0.7777777777777778,
              "#fb9f3a"
             ],
             [
              0.8888888888888888,
              "#fdca26"
             ],
             [
              1,
              "#f0f921"
             ]
            ],
            "type": "surface"
           }
          ],
          "table": [
           {
            "cells": {
             "fill": {
              "color": "#EBF0F8"
             },
             "line": {
              "color": "white"
             }
            },
            "header": {
             "fill": {
              "color": "#C8D4E3"
             },
             "line": {
              "color": "white"
             }
            },
            "type": "table"
           }
          ]
         },
         "layout": {
          "annotationdefaults": {
           "arrowcolor": "#2a3f5f",
           "arrowhead": 0,
           "arrowwidth": 1
          },
          "autotypenumbers": "strict",
          "coloraxis": {
           "colorbar": {
            "outlinewidth": 0,
            "ticks": ""
           }
          },
          "colorscale": {
           "diverging": [
            [
             0,
             "#8e0152"
            ],
            [
             0.1,
             "#c51b7d"
            ],
            [
             0.2,
             "#de77ae"
            ],
            [
             0.3,
             "#f1b6da"
            ],
            [
             0.4,
             "#fde0ef"
            ],
            [
             0.5,
             "#f7f7f7"
            ],
            [
             0.6,
             "#e6f5d0"
            ],
            [
             0.7,
             "#b8e186"
            ],
            [
             0.8,
             "#7fbc41"
            ],
            [
             0.9,
             "#4d9221"
            ],
            [
             1,
             "#276419"
            ]
           ],
           "sequential": [
            [
             0,
             "#0d0887"
            ],
            [
             0.1111111111111111,
             "#46039f"
            ],
            [
             0.2222222222222222,
             "#7201a8"
            ],
            [
             0.3333333333333333,
             "#9c179e"
            ],
            [
             0.4444444444444444,
             "#bd3786"
            ],
            [
             0.5555555555555556,
             "#d8576b"
            ],
            [
             0.6666666666666666,
             "#ed7953"
            ],
            [
             0.7777777777777778,
             "#fb9f3a"
            ],
            [
             0.8888888888888888,
             "#fdca26"
            ],
            [
             1,
             "#f0f921"
            ]
           ],
           "sequentialminus": [
            [
             0,
             "#0d0887"
            ],
            [
             0.1111111111111111,
             "#46039f"
            ],
            [
             0.2222222222222222,
             "#7201a8"
            ],
            [
             0.3333333333333333,
             "#9c179e"
            ],
            [
             0.4444444444444444,
             "#bd3786"
            ],
            [
             0.5555555555555556,
             "#d8576b"
            ],
            [
             0.6666666666666666,
             "#ed7953"
            ],
            [
             0.7777777777777778,
             "#fb9f3a"
            ],
            [
             0.8888888888888888,
             "#fdca26"
            ],
            [
             1,
             "#f0f921"
            ]
           ]
          },
          "colorway": [
           "#636efa",
           "#EF553B",
           "#00cc96",
           "#ab63fa",
           "#FFA15A",
           "#19d3f3",
           "#FF6692",
           "#B6E880",
           "#FF97FF",
           "#FECB52"
          ],
          "font": {
           "color": "#2a3f5f"
          },
          "geo": {
           "bgcolor": "white",
           "lakecolor": "white",
           "landcolor": "#E5ECF6",
           "showlakes": true,
           "showland": true,
           "subunitcolor": "white"
          },
          "hoverlabel": {
           "align": "left"
          },
          "hovermode": "closest",
          "mapbox": {
           "style": "light"
          },
          "paper_bgcolor": "white",
          "plot_bgcolor": "#E5ECF6",
          "polar": {
           "angularaxis": {
            "gridcolor": "white",
            "linecolor": "white",
            "ticks": ""
           },
           "bgcolor": "#E5ECF6",
           "radialaxis": {
            "gridcolor": "white",
            "linecolor": "white",
            "ticks": ""
           }
          },
          "scene": {
           "xaxis": {
            "backgroundcolor": "#E5ECF6",
            "gridcolor": "white",
            "gridwidth": 2,
            "linecolor": "white",
            "showbackground": true,
            "ticks": "",
            "zerolinecolor": "white"
           },
           "yaxis": {
            "backgroundcolor": "#E5ECF6",
            "gridcolor": "white",
            "gridwidth": 2,
            "linecolor": "white",
            "showbackground": true,
            "ticks": "",
            "zerolinecolor": "white"
           },
           "zaxis": {
            "backgroundcolor": "#E5ECF6",
            "gridcolor": "white",
            "gridwidth": 2,
            "linecolor": "white",
            "showbackground": true,
            "ticks": "",
            "zerolinecolor": "white"
           }
          },
          "shapedefaults": {
           "line": {
            "color": "#2a3f5f"
           }
          },
          "ternary": {
           "aaxis": {
            "gridcolor": "white",
            "linecolor": "white",
            "ticks": ""
           },
           "baxis": {
            "gridcolor": "white",
            "linecolor": "white",
            "ticks": ""
           },
           "bgcolor": "#E5ECF6",
           "caxis": {
            "gridcolor": "white",
            "linecolor": "white",
            "ticks": ""
           }
          },
          "title": {
           "x": 0.05
          },
          "xaxis": {
           "automargin": true,
           "gridcolor": "white",
           "linecolor": "white",
           "ticks": "",
           "title": {
            "standoff": 15
           },
           "zerolinecolor": "white",
           "zerolinewidth": 2
          },
          "yaxis": {
           "automargin": true,
           "gridcolor": "white",
           "linecolor": "white",
           "ticks": "",
           "title": {
            "standoff": 15
           },
           "zerolinecolor": "white",
           "zerolinewidth": 2
          }
         }
        },
        "violinmode": "group",
        "xaxis": {
         "anchor": "y",
         "domain": [
          0,
          1
         ]
        },
        "yaxis": {
         "anchor": "x",
         "domain": [
          0,
          1
         ],
         "title": {
          "text": "Avg Salary(K)"
         }
        }
       }
      },
      "text/html": [
       "<div>                            <div id=\"b566ca8e-a2c7-4a54-8557-11c8bc4d14f4\" class=\"plotly-graph-div\" style=\"height:525px; width:100%;\"></div>            <script type=\"text/javascript\">                require([\"plotly\"], function(Plotly) {                    window.PLOTLYENV=window.PLOTLYENV || {};                                    if (document.getElementById(\"b566ca8e-a2c7-4a54-8557-11c8bc4d14f4\")) {                    Plotly.newPlot(                        \"b566ca8e-a2c7-4a54-8557-11c8bc4d14f4\",                        [{\"alignmentgroup\":\"True\",\"box\":{\"visible\":true},\"hovertemplate\":\"Avg Salary(K)=%{y}<extra></extra>\",\"legendgroup\":\"\",\"marker\":{\"color\":\"#636efa\"},\"name\":\"\",\"offsetgroup\":\"\",\"orientation\":\"v\",\"scalegroup\":\"True\",\"showlegend\":false,\"x0\":\" \",\"xaxis\":\"x\",\"y\":[72.0,87.5,85.0,76.5,114.5,95.0,73.5,114.0,140.0,163.5,85.0,139.0,113.5,153.5,142.5,87.5,105.5,96.0,112.5,84.0,143.0,86.5,99.5,84.0,96.0,114.5,121.0,112.5,107.0,110.0,147.5,142.5,130.0,155.0,184.5,81.0,91.0,114.5,68.0,115.0,109.5,75.5,154.5,143.5,107.0,115.0,139.5,67.0,85.0,118.0,79.5,56.5,128.5,179.5,112.0,98.0,128.0,150.5,110.0,113.5,124.0,130.0,85.5,85.0,97.5,99.0,133.0,121.0,85.5,87.5,237.5,104.5,157.0,132.5,80.5,107.5,119.5,100.5,107.5,107.5,89.5,81.0,147.0,85.0,97.0,105.0,67.0,137.5,100.0,98.5,106.5,164.0,169.0,142.0,107.0,171.5,120.0,150.5,98.5,225.0,147.0,124.5,148.0,146.5,140.5,89.0,100.5,72.5,87.5,81.5,88.5,96.5,15.5,83.5,163.0,94.5,102.0,155.0,108.0,109.0,96.0,90.0,128.0,101.0,142.0,169.0,139.0,121.0,110.0,82.0,164.5,124.5,128.5,137.0,139.5,254.0,140.0,77.5,167.5,180.0,62.5,122.0,107.5,68.5,110.5,80.5,119.0,194.5,105.5,161.5,74.5,101.0,116.5,120.5,153.0,127.0,85.5,76.5,128.0,107.0,113.5,143.5,113.5,101.5,80.5,110.5,139.5,145.5,87.0,100.5,147.0,94.0,123.5,165.0,75.5,140.0,86.0,116.5,173.0,172.0,69.5,97.5,95.0,194.0,104.5,153.0,162.0,133.5,106.5,168.0,111.5,68.5,127.5,114.5,63.5,107.0,221.5,147.5,53.0,114.0,96.0,96.5,69.5,121.0,103.0,106.5,130.0,89.0],\"y0\":\" \",\"yaxis\":\"y\",\"type\":\"violin\"}],                        {\"template\":{\"data\":{\"histogram2dcontour\":[{\"type\":\"histogram2dcontour\",\"colorbar\":{\"outlinewidth\":0,\"ticks\":\"\"},\"colorscale\":[[0.0,\"#0d0887\"],[0.1111111111111111,\"#46039f\"],[0.2222222222222222,\"#7201a8\"],[0.3333333333333333,\"#9c179e\"],[0.4444444444444444,\"#bd3786\"],[0.5555555555555556,\"#d8576b\"],[0.6666666666666666,\"#ed7953\"],[0.7777777777777778,\"#fb9f3a\"],[0.8888888888888888,\"#fdca26\"],[1.0,\"#f0f921\"]]}],\"choropleth\":[{\"type\":\"choropleth\",\"colorbar\":{\"outlinewidth\":0,\"ticks\":\"\"}}],\"histogram2d\":[{\"type\":\"histogram2d\",\"colorbar\":{\"outlinewidth\":0,\"ticks\":\"\"},\"colorscale\":[[0.0,\"#0d0887\"],[0.1111111111111111,\"#46039f\"],[0.2222222222222222,\"#7201a8\"],[0.3333333333333333,\"#9c179e\"],[0.4444444444444444,\"#bd3786\"],[0.5555555555555556,\"#d8576b\"],[0.6666666666666666,\"#ed7953\"],[0.7777777777777778,\"#fb9f3a\"],[0.8888888888888888,\"#fdca26\"],[1.0,\"#f0f921\"]]}],\"heatmap\":[{\"type\":\"heatmap\",\"colorbar\":{\"outlinewidth\":0,\"ticks\":\"\"},\"colorscale\":[[0.0,\"#0d0887\"],[0.1111111111111111,\"#46039f\"],[0.2222222222222222,\"#7201a8\"],[0.3333333333333333,\"#9c179e\"],[0.4444444444444444,\"#bd3786\"],[0.5555555555555556,\"#d8576b\"],[0.6666666666666666,\"#ed7953\"],[0.7777777777777778,\"#fb9f3a\"],[0.8888888888888888,\"#fdca26\"],[1.0,\"#f0f921\"]]}],\"heatmapgl\":[{\"type\":\"heatmapgl\",\"colorbar\":{\"outlinewidth\":0,\"ticks\":\"\"},\"colorscale\":[[0.0,\"#0d0887\"],[0.1111111111111111,\"#46039f\"],[0.2222222222222222,\"#7201a8\"],[0.3333333333333333,\"#9c179e\"],[0.4444444444444444,\"#bd3786\"],[0.5555555555555556,\"#d8576b\"],[0.6666666666666666,\"#ed7953\"],[0.7777777777777778,\"#fb9f3a\"],[0.8888888888888888,\"#fdca26\"],[1.0,\"#f0f921\"]]}],\"contourcarpet\":[{\"type\":\"contourcarpet\",\"colorbar\":{\"outlinewidth\":0,\"ticks\":\"\"}}],\"contour\":[{\"type\":\"contour\",\"colorbar\":{\"outlinewidth\":0,\"ticks\":\"\"},\"colorscale\":[[0.0,\"#0d0887\"],[0.1111111111111111,\"#46039f\"],[0.2222222222222222,\"#7201a8\"],[0.3333333333333333,\"#9c179e\"],[0.4444444444444444,\"#bd3786\"],[0.5555555555555556,\"#d8576b\"],[0.6666666666666666,\"#ed7953\"],[0.7777777777777778,\"#fb9f3a\"],[0.8888888888888888,\"#fdca26\"],[1.0,\"#f0f921\"]]}],\"surface\":[{\"type\":\"surface\",\"colorbar\":{\"outlinewidth\":0,\"ticks\":\"\"},\"colorscale\":[[0.0,\"#0d0887\"],[0.1111111111111111,\"#46039f\"],[0.2222222222222222,\"#7201a8\"],[0.3333333333333333,\"#9c179e\"],[0.4444444444444444,\"#bd3786\"],[0.5555555555555556,\"#d8576b\"],[0.6666666666666666,\"#ed7953\"],[0.7777777777777778,\"#fb9f3a\"],[0.8888888888888888,\"#fdca26\"],[1.0,\"#f0f921\"]]}],\"mesh3d\":[{\"type\":\"mesh3d\",\"colorbar\":{\"outlinewidth\":0,\"ticks\":\"\"}}],\"scatter\":[{\"fillpattern\":{\"fillmode\":\"overlay\",\"size\":10,\"solidity\":0.2},\"type\":\"scatter\"}],\"parcoords\":[{\"type\":\"parcoords\",\"line\":{\"colorbar\":{\"outlinewidth\":0,\"ticks\":\"\"}}}],\"scatterpolargl\":[{\"type\":\"scatterpolargl\",\"marker\":{\"colorbar\":{\"outlinewidth\":0,\"ticks\":\"\"}}}],\"bar\":[{\"error_x\":{\"color\":\"#2a3f5f\"},\"error_y\":{\"color\":\"#2a3f5f\"},\"marker\":{\"line\":{\"color\":\"#E5ECF6\",\"width\":0.5},\"pattern\":{\"fillmode\":\"overlay\",\"size\":10,\"solidity\":0.2}},\"type\":\"bar\"}],\"scattergeo\":[{\"type\":\"scattergeo\",\"marker\":{\"colorbar\":{\"outlinewidth\":0,\"ticks\":\"\"}}}],\"scatterpolar\":[{\"type\":\"scatterpolar\",\"marker\":{\"colorbar\":{\"outlinewidth\":0,\"ticks\":\"\"}}}],\"histogram\":[{\"marker\":{\"pattern\":{\"fillmode\":\"overlay\",\"size\":10,\"solidity\":0.2}},\"type\":\"histogram\"}],\"scattergl\":[{\"type\":\"scattergl\",\"marker\":{\"colorbar\":{\"outlinewidth\":0,\"ticks\":\"\"}}}],\"scatter3d\":[{\"type\":\"scatter3d\",\"line\":{\"colorbar\":{\"outlinewidth\":0,\"ticks\":\"\"}},\"marker\":{\"colorbar\":{\"outlinewidth\":0,\"ticks\":\"\"}}}],\"scattermapbox\":[{\"type\":\"scattermapbox\",\"marker\":{\"colorbar\":{\"outlinewidth\":0,\"ticks\":\"\"}}}],\"scatterternary\":[{\"type\":\"scatterternary\",\"marker\":{\"colorbar\":{\"outlinewidth\":0,\"ticks\":\"\"}}}],\"scattercarpet\":[{\"type\":\"scattercarpet\",\"marker\":{\"colorbar\":{\"outlinewidth\":0,\"ticks\":\"\"}}}],\"carpet\":[{\"aaxis\":{\"endlinecolor\":\"#2a3f5f\",\"gridcolor\":\"white\",\"linecolor\":\"white\",\"minorgridcolor\":\"white\",\"startlinecolor\":\"#2a3f5f\"},\"baxis\":{\"endlinecolor\":\"#2a3f5f\",\"gridcolor\":\"white\",\"linecolor\":\"white\",\"minorgridcolor\":\"white\",\"startlinecolor\":\"#2a3f5f\"},\"type\":\"carpet\"}],\"table\":[{\"cells\":{\"fill\":{\"color\":\"#EBF0F8\"},\"line\":{\"color\":\"white\"}},\"header\":{\"fill\":{\"color\":\"#C8D4E3\"},\"line\":{\"color\":\"white\"}},\"type\":\"table\"}],\"barpolar\":[{\"marker\":{\"line\":{\"color\":\"#E5ECF6\",\"width\":0.5},\"pattern\":{\"fillmode\":\"overlay\",\"size\":10,\"solidity\":0.2}},\"type\":\"barpolar\"}],\"pie\":[{\"automargin\":true,\"type\":\"pie\"}]},\"layout\":{\"autotypenumbers\":\"strict\",\"colorway\":[\"#636efa\",\"#EF553B\",\"#00cc96\",\"#ab63fa\",\"#FFA15A\",\"#19d3f3\",\"#FF6692\",\"#B6E880\",\"#FF97FF\",\"#FECB52\"],\"font\":{\"color\":\"#2a3f5f\"},\"hovermode\":\"closest\",\"hoverlabel\":{\"align\":\"left\"},\"paper_bgcolor\":\"white\",\"plot_bgcolor\":\"#E5ECF6\",\"polar\":{\"bgcolor\":\"#E5ECF6\",\"angularaxis\":{\"gridcolor\":\"white\",\"linecolor\":\"white\",\"ticks\":\"\"},\"radialaxis\":{\"gridcolor\":\"white\",\"linecolor\":\"white\",\"ticks\":\"\"}},\"ternary\":{\"bgcolor\":\"#E5ECF6\",\"aaxis\":{\"gridcolor\":\"white\",\"linecolor\":\"white\",\"ticks\":\"\"},\"baxis\":{\"gridcolor\":\"white\",\"linecolor\":\"white\",\"ticks\":\"\"},\"caxis\":{\"gridcolor\":\"white\",\"linecolor\":\"white\",\"ticks\":\"\"}},\"coloraxis\":{\"colorbar\":{\"outlinewidth\":0,\"ticks\":\"\"}},\"colorscale\":{\"sequential\":[[0.0,\"#0d0887\"],[0.1111111111111111,\"#46039f\"],[0.2222222222222222,\"#7201a8\"],[0.3333333333333333,\"#9c179e\"],[0.4444444444444444,\"#bd3786\"],[0.5555555555555556,\"#d8576b\"],[0.6666666666666666,\"#ed7953\"],[0.7777777777777778,\"#fb9f3a\"],[0.8888888888888888,\"#fdca26\"],[1.0,\"#f0f921\"]],\"sequentialminus\":[[0.0,\"#0d0887\"],[0.1111111111111111,\"#46039f\"],[0.2222222222222222,\"#7201a8\"],[0.3333333333333333,\"#9c179e\"],[0.4444444444444444,\"#bd3786\"],[0.5555555555555556,\"#d8576b\"],[0.6666666666666666,\"#ed7953\"],[0.7777777777777778,\"#fb9f3a\"],[0.8888888888888888,\"#fdca26\"],[1.0,\"#f0f921\"]],\"diverging\":[[0,\"#8e0152\"],[0.1,\"#c51b7d\"],[0.2,\"#de77ae\"],[0.3,\"#f1b6da\"],[0.4,\"#fde0ef\"],[0.5,\"#f7f7f7\"],[0.6,\"#e6f5d0\"],[0.7,\"#b8e186\"],[0.8,\"#7fbc41\"],[0.9,\"#4d9221\"],[1,\"#276419\"]]},\"xaxis\":{\"gridcolor\":\"white\",\"linecolor\":\"white\",\"ticks\":\"\",\"title\":{\"standoff\":15},\"zerolinecolor\":\"white\",\"automargin\":true,\"zerolinewidth\":2},\"yaxis\":{\"gridcolor\":\"white\",\"linecolor\":\"white\",\"ticks\":\"\",\"title\":{\"standoff\":15},\"zerolinecolor\":\"white\",\"automargin\":true,\"zerolinewidth\":2},\"scene\":{\"xaxis\":{\"backgroundcolor\":\"#E5ECF6\",\"gridcolor\":\"white\",\"linecolor\":\"white\",\"showbackground\":true,\"ticks\":\"\",\"zerolinecolor\":\"white\",\"gridwidth\":2},\"yaxis\":{\"backgroundcolor\":\"#E5ECF6\",\"gridcolor\":\"white\",\"linecolor\":\"white\",\"showbackground\":true,\"ticks\":\"\",\"zerolinecolor\":\"white\",\"gridwidth\":2},\"zaxis\":{\"backgroundcolor\":\"#E5ECF6\",\"gridcolor\":\"white\",\"linecolor\":\"white\",\"showbackground\":true,\"ticks\":\"\",\"zerolinecolor\":\"white\",\"gridwidth\":2}},\"shapedefaults\":{\"line\":{\"color\":\"#2a3f5f\"}},\"annotationdefaults\":{\"arrowcolor\":\"#2a3f5f\",\"arrowhead\":0,\"arrowwidth\":1},\"geo\":{\"bgcolor\":\"white\",\"landcolor\":\"#E5ECF6\",\"subunitcolor\":\"white\",\"showland\":true,\"showlakes\":true,\"lakecolor\":\"white\"},\"title\":{\"x\":0.05},\"mapbox\":{\"style\":\"light\"}}},\"xaxis\":{\"anchor\":\"y\",\"domain\":[0.0,1.0]},\"yaxis\":{\"anchor\":\"x\",\"domain\":[0.0,1.0],\"title\":{\"text\":\"Avg Salary(K)\"}},\"legend\":{\"tracegroupgap\":0},\"margin\":{\"t\":60},\"violinmode\":\"group\"},                        {\"responsive\": true}                    ).then(function(){\n",
       "                            \n",
       "var gd = document.getElementById('b566ca8e-a2c7-4a54-8557-11c8bc4d14f4');\n",
       "var x = new MutationObserver(function (mutations, observer) {{\n",
       "        var display = window.getComputedStyle(gd).display;\n",
       "        if (!display || display === 'none') {{\n",
       "            console.log([gd, 'removed!']);\n",
       "            Plotly.purge(gd);\n",
       "            observer.disconnect();\n",
       "        }}\n",
       "}});\n",
       "\n",
       "// Listen for the removal of the full notebook cells\n",
       "var notebookContainer = gd.closest('#notebook-container');\n",
       "if (notebookContainer) {{\n",
       "    x.observe(notebookContainer, {childList: true});\n",
       "}}\n",
       "\n",
       "// Listen for the clearing of the current output cell\n",
       "var outputEl = gd.closest('.output');\n",
       "if (outputEl) {{\n",
       "    x.observe(outputEl, {childList: true});\n",
       "}}\n",
       "\n",
       "                        })                };                });            </script>        </div>"
      ]
     },
     "metadata": {},
     "output_type": "display_data"
    }
   ],
   "source": [
    "px.violin(df_dsc[df_dsc['Job']=='data scientist'], y='Avg Salary(K)', box=True)"
   ]
  },
  {
   "cell_type": "markdown",
   "id": "4f368c5b",
   "metadata": {},
   "source": [
    "### 3D"
   ]
  },
  {
   "cell_type": "markdown",
   "id": "a0bd5a8d",
   "metadata": {},
   "source": [
    "✔︎ Skill별 Avg Salary"
   ]
  },
  {
   "cell_type": "code",
   "execution_count": 227,
   "id": "2323d456",
   "metadata": {},
   "outputs": [
    {
     "data": {
      "application/vnd.plotly.v1+json": {
       "config": {
        "plotlyServerURL": "https://plot.ly"
       },
       "data": [
        {
         "boxpoints": "all",
         "type": "box",
         "x": [
          1,
          1,
          1,
          1,
          1,
          1,
          0,
          1,
          1,
          1,
          0,
          0,
          1,
          1,
          0,
          1,
          0,
          1,
          1,
          0,
          1,
          1,
          1,
          1,
          1,
          0,
          0,
          1,
          1,
          1,
          1,
          1,
          1,
          1,
          1,
          1,
          1,
          0,
          0,
          1,
          0,
          1,
          0,
          0,
          1,
          1,
          1,
          1,
          0,
          1,
          1,
          1,
          1,
          1,
          0,
          0,
          1,
          1,
          1,
          1,
          1,
          1,
          1,
          1,
          0,
          1,
          1,
          1,
          1,
          0,
          1,
          0,
          1,
          0,
          1,
          0,
          1,
          0,
          1,
          1,
          0,
          1,
          1,
          1,
          1,
          1,
          1,
          1,
          0,
          0,
          0,
          1,
          0,
          1,
          0,
          1,
          0,
          1,
          0,
          1,
          1,
          1,
          1,
          0,
          0,
          1,
          1,
          1,
          1,
          1,
          1,
          0,
          0,
          1,
          0,
          0,
          1,
          0,
          1,
          1,
          0,
          0,
          1,
          1,
          1,
          1,
          1,
          1,
          1,
          1,
          0,
          1,
          1,
          1,
          1,
          0,
          1,
          0,
          1,
          1,
          0,
          1,
          1,
          1,
          1,
          1,
          1,
          1,
          0,
          1,
          1,
          0,
          0,
          1,
          0,
          1,
          0,
          0,
          1,
          0,
          1,
          1,
          0,
          0,
          1,
          1,
          0,
          0,
          1,
          1,
          1,
          1,
          0,
          1,
          0,
          0,
          0,
          1,
          1,
          1,
          1,
          1,
          0,
          1,
          1,
          1,
          0,
          1,
          0,
          1,
          1,
          1,
          0,
          0,
          1,
          1,
          1,
          0,
          0,
          0,
          1,
          1,
          0,
          0,
          1,
          1,
          0,
          0,
          1,
          0,
          0,
          1,
          1,
          1,
          0,
          1,
          1,
          1,
          1,
          0,
          1,
          1,
          1,
          1,
          0,
          1,
          0,
          1,
          1,
          0,
          0,
          0,
          0,
          1,
          0,
          1,
          1,
          1,
          0,
          1,
          1,
          1,
          0,
          1,
          1,
          0,
          1,
          0,
          0,
          0,
          1,
          0,
          0,
          1,
          1,
          0,
          1,
          0,
          1,
          0,
          1,
          1,
          0,
          1,
          1,
          1,
          1,
          1,
          1,
          1,
          1,
          1,
          1,
          1,
          1,
          1,
          1,
          0,
          1,
          1,
          1,
          1,
          0,
          0,
          1,
          1,
          1,
          1,
          0,
          1,
          1,
          0,
          1,
          1,
          1,
          1,
          1,
          1,
          1,
          1,
          0,
          1,
          1,
          1,
          0,
          1,
          1,
          0,
          1,
          1,
          0,
          0,
          1,
          1,
          0,
          1,
          1,
          0,
          0,
          1,
          1,
          1,
          0,
          0,
          1,
          0,
          0,
          1,
          1,
          1,
          1,
          0,
          0,
          1,
          1,
          1,
          1,
          1,
          1,
          0,
          1,
          1,
          1,
          1,
          0,
          1,
          0,
          1,
          0,
          0,
          0,
          0,
          0,
          1,
          0,
          1,
          1,
          1,
          1,
          1,
          0,
          0,
          1,
          1
         ],
         "xaxis": "x",
         "y": [
          72,
          87.5,
          85,
          76.5,
          114.5,
          95,
          73.5,
          114,
          140,
          163.5,
          85,
          139,
          65.5,
          113.5,
          146,
          153.5,
          142.5,
          87.5,
          105.5,
          96,
          112.5,
          84,
          143,
          86.5,
          99.5,
          47.5,
          84,
          96,
          114.5,
          121,
          112.5,
          106,
          107,
          110,
          147.5,
          106,
          88,
          98.5,
          142.5,
          130,
          155,
          184.5,
          29.5,
          81,
          91,
          114.5,
          68,
          115,
          109.5,
          75.5,
          154.5,
          143.5,
          107,
          115,
          139.5,
          67,
          85,
          118,
          79.5,
          56.5,
          128.5,
          179.5,
          112,
          98,
          128,
          150.5,
          110,
          113.5,
          124,
          56.5,
          130,
          77.5,
          87,
          53.5,
          85.5,
          48,
          85,
          72.5,
          97.5,
          99,
          56.5,
          133,
          121,
          85.5,
          87.5,
          237.5,
          95.5,
          104.5,
          56.5,
          55,
          157,
          78,
          132.5,
          108,
          80.5,
          107.5,
          95,
          119.5,
          134,
          100.5,
          107.5,
          122,
          92.5,
          62,
          107.5,
          89.5,
          81,
          147,
          85,
          100.5,
          97,
          132.5,
          100,
          105,
          87,
          103.5,
          67,
          87,
          137.5,
          100,
          106.5,
          98.5,
          61,
          106.5,
          84.5,
          164,
          169,
          142,
          107,
          171.5,
          107,
          61.5,
          120,
          150.5,
          71.5,
          51.5,
          77.5,
          98.5,
          225,
          147,
          61,
          120,
          124.5,
          148,
          59,
          146.5,
          133,
          140.5,
          70.5,
          181,
          205,
          48.5,
          124,
          98,
          107.5,
          89,
          100.5,
          65,
          72.5,
          87.5,
          92.5,
          81.5,
          79,
          47.5,
          69,
          49,
          59,
          88.5,
          88,
          100,
          96.5,
          76,
          15.5,
          83.5,
          163,
          100,
          50,
          93,
          94.5,
          102,
          155,
          108,
          63.5,
          109,
          96,
          101,
          77.5,
          90,
          58,
          128,
          101,
          142,
          169,
          75.5,
          139,
          102.5,
          81,
          77,
          92,
          121,
          162.5,
          90.5,
          110,
          70.5,
          92,
          82,
          164.5,
          44,
          109,
          149.5,
          65.5,
          124.5,
          114,
          49,
          71,
          61,
          94.5,
          87,
          64.5,
          154.5,
          128.5,
          137,
          99,
          139.5,
          109,
          254,
          45.5,
          122.5,
          140,
          77.5,
          90,
          167.5,
          60,
          180,
          65,
          112.5,
          87.5,
          62.5,
          100,
          85,
          122,
          138.5,
          107.5,
          162,
          68.5,
          110.5,
          115.5,
          80.5,
          43,
          66.5,
          94.5,
          119,
          27.5,
          194.5,
          105.5,
          62.5,
          161.5,
          72.5,
          139,
          136.5,
          74.5,
          101,
          116.5,
          232.5,
          120.5,
          153,
          127,
          85.5,
          76.5,
          128,
          91.5,
          177,
          107,
          113.5,
          143.5,
          113.5,
          101.5,
          73,
          80.5,
          110.5,
          139.5,
          145.5,
          87,
          100.5,
          147,
          110.5,
          94,
          123.5,
          73,
          165,
          59.5,
          66,
          75.5,
          87,
          140,
          86,
          116.5,
          80,
          173,
          68.5,
          172,
          69.5,
          97.5,
          95,
          194,
          104.5,
          85.5,
          50,
          113,
          153,
          123.5,
          47,
          162,
          133.5,
          109,
          125,
          106.5,
          54,
          37.5,
          53.5,
          168,
          138.5,
          111.5,
          68.5,
          102.5,
          127.5,
          72,
          47,
          65,
          94,
          97,
          114.5,
          121.5,
          60.5,
          118.5,
          58.5,
          63.5,
          107,
          105.5,
          83,
          221.5,
          95.5,
          173,
          147.5,
          81,
          83,
          85.5,
          107.5,
          44.5,
          107.5,
          69.5,
          53,
          103,
          114,
          96,
          96.5,
          69.5,
          121,
          103,
          106.5,
          130,
          89,
          111,
          87.5
         ],
         "yaxis": "y"
        },
        {
         "boxpoints": "all",
         "type": "box",
         "x": [
          0,
          0,
          1,
          0,
          0,
          0,
          0,
          1,
          1,
          0,
          0,
          0,
          1,
          1,
          0,
          1,
          0,
          0,
          1,
          0,
          0,
          0,
          0,
          0,
          1,
          0,
          0,
          0,
          0,
          1,
          0,
          0,
          1,
          1,
          0,
          0,
          0,
          0,
          0,
          1,
          0,
          0,
          0,
          0,
          0,
          0,
          0,
          0,
          0,
          0,
          1,
          1,
          0,
          1,
          0,
          0,
          0,
          0,
          0,
          0,
          1,
          0,
          1,
          0,
          1,
          1,
          0,
          0,
          0,
          0,
          0,
          0,
          0,
          0,
          1,
          0,
          1,
          0,
          0,
          0,
          0,
          0,
          1,
          0,
          0,
          0,
          1,
          1,
          0,
          0,
          1,
          0,
          1,
          1,
          0,
          0,
          1,
          1,
          1,
          0,
          0,
          1,
          1,
          0,
          0,
          1,
          0,
          0,
          0,
          1,
          1,
          0,
          1,
          0,
          0,
          0,
          0,
          0,
          1,
          0,
          0,
          0,
          0,
          1,
          1,
          1,
          1,
          1,
          0,
          0,
          0,
          0,
          0,
          1,
          1,
          0,
          0,
          0,
          0,
          1,
          0,
          0,
          0,
          0,
          0,
          0,
          0,
          0,
          0,
          1,
          1,
          0,
          0,
          0,
          0,
          1,
          0,
          0,
          1,
          0,
          0,
          1,
          0,
          0,
          0,
          0,
          0,
          0,
          1,
          1,
          1,
          0,
          0,
          0,
          0,
          0,
          0,
          0,
          0,
          1,
          1,
          1,
          0,
          0,
          0,
          0,
          0,
          0,
          0,
          0,
          0,
          0,
          0,
          1,
          0,
          1,
          0,
          0,
          0,
          0,
          1,
          1,
          0,
          0,
          1,
          0,
          0,
          0,
          1,
          1,
          1,
          1,
          1,
          0,
          0,
          1,
          1,
          0,
          0,
          1,
          0,
          0,
          0,
          0,
          0,
          0,
          0,
          1,
          0,
          0,
          1,
          0,
          0,
          0,
          0,
          1,
          0,
          0,
          0,
          1,
          0,
          1,
          1,
          1,
          1,
          0,
          0,
          0,
          0,
          0,
          0,
          0,
          0,
          0,
          0,
          0,
          0,
          0,
          0,
          0,
          1,
          0,
          0,
          0,
          0,
          1,
          1,
          1,
          0,
          1,
          1,
          1,
          1,
          1,
          0,
          0,
          0,
          0,
          0,
          0,
          0,
          0,
          0,
          0,
          1,
          0,
          1,
          0,
          0,
          0,
          0,
          0,
          0,
          0,
          0,
          0,
          0,
          1,
          0,
          1,
          0,
          0,
          0,
          1,
          0,
          1,
          0,
          0,
          1,
          1,
          0,
          1,
          0,
          0,
          0,
          0,
          0,
          0,
          0,
          0,
          0,
          0,
          0,
          0,
          1,
          0,
          0,
          0,
          1,
          0,
          1,
          0,
          0,
          1,
          1,
          1,
          1,
          0,
          1,
          0,
          0,
          0,
          0,
          0,
          0,
          1,
          0,
          0,
          0,
          0,
          0,
          0,
          1,
          0,
          0,
          0,
          0,
          0,
          0,
          1,
          0,
          0,
          0,
          0
         ],
         "xaxis": "x2",
         "y": [
          72,
          87.5,
          85,
          76.5,
          114.5,
          95,
          73.5,
          114,
          140,
          163.5,
          85,
          139,
          65.5,
          113.5,
          146,
          153.5,
          142.5,
          87.5,
          105.5,
          96,
          112.5,
          84,
          143,
          86.5,
          99.5,
          47.5,
          84,
          96,
          114.5,
          121,
          112.5,
          106,
          107,
          110,
          147.5,
          106,
          88,
          98.5,
          142.5,
          130,
          155,
          184.5,
          29.5,
          81,
          91,
          114.5,
          68,
          115,
          109.5,
          75.5,
          154.5,
          143.5,
          107,
          115,
          139.5,
          67,
          85,
          118,
          79.5,
          56.5,
          128.5,
          179.5,
          112,
          98,
          128,
          150.5,
          110,
          113.5,
          124,
          56.5,
          130,
          77.5,
          87,
          53.5,
          85.5,
          48,
          85,
          72.5,
          97.5,
          99,
          56.5,
          133,
          121,
          85.5,
          87.5,
          237.5,
          95.5,
          104.5,
          56.5,
          55,
          157,
          78,
          132.5,
          108,
          80.5,
          107.5,
          95,
          119.5,
          134,
          100.5,
          107.5,
          122,
          92.5,
          62,
          107.5,
          89.5,
          81,
          147,
          85,
          100.5,
          97,
          132.5,
          100,
          105,
          87,
          103.5,
          67,
          87,
          137.5,
          100,
          106.5,
          98.5,
          61,
          106.5,
          84.5,
          164,
          169,
          142,
          107,
          171.5,
          107,
          61.5,
          120,
          150.5,
          71.5,
          51.5,
          77.5,
          98.5,
          225,
          147,
          61,
          120,
          124.5,
          148,
          59,
          146.5,
          133,
          140.5,
          70.5,
          181,
          205,
          48.5,
          124,
          98,
          107.5,
          89,
          100.5,
          65,
          72.5,
          87.5,
          92.5,
          81.5,
          79,
          47.5,
          69,
          49,
          59,
          88.5,
          88,
          100,
          96.5,
          76,
          15.5,
          83.5,
          163,
          100,
          50,
          93,
          94.5,
          102,
          155,
          108,
          63.5,
          109,
          96,
          101,
          77.5,
          90,
          58,
          128,
          101,
          142,
          169,
          75.5,
          139,
          102.5,
          81,
          77,
          92,
          121,
          162.5,
          90.5,
          110,
          70.5,
          92,
          82,
          164.5,
          44,
          109,
          149.5,
          65.5,
          124.5,
          114,
          49,
          71,
          61,
          94.5,
          87,
          64.5,
          154.5,
          128.5,
          137,
          99,
          139.5,
          109,
          254,
          45.5,
          122.5,
          140,
          77.5,
          90,
          167.5,
          60,
          180,
          65,
          112.5,
          87.5,
          62.5,
          100,
          85,
          122,
          138.5,
          107.5,
          162,
          68.5,
          110.5,
          115.5,
          80.5,
          43,
          66.5,
          94.5,
          119,
          27.5,
          194.5,
          105.5,
          62.5,
          161.5,
          72.5,
          139,
          136.5,
          74.5,
          101,
          116.5,
          232.5,
          120.5,
          153,
          127,
          85.5,
          76.5,
          128,
          91.5,
          177,
          107,
          113.5,
          143.5,
          113.5,
          101.5,
          73,
          80.5,
          110.5,
          139.5,
          145.5,
          87,
          100.5,
          147,
          110.5,
          94,
          123.5,
          73,
          165,
          59.5,
          66,
          75.5,
          87,
          140,
          86,
          116.5,
          80,
          173,
          68.5,
          172,
          69.5,
          97.5,
          95,
          194,
          104.5,
          85.5,
          50,
          113,
          153,
          123.5,
          47,
          162,
          133.5,
          109,
          125,
          106.5,
          54,
          37.5,
          53.5,
          168,
          138.5,
          111.5,
          68.5,
          102.5,
          127.5,
          72,
          47,
          65,
          94,
          97,
          114.5,
          121.5,
          60.5,
          118.5,
          58.5,
          63.5,
          107,
          105.5,
          83,
          221.5,
          95.5,
          173,
          147.5,
          81,
          83,
          85.5,
          107.5,
          44.5,
          107.5,
          69.5,
          53,
          103,
          114,
          96,
          96.5,
          69.5,
          121,
          103,
          106.5,
          130,
          89,
          111,
          87.5
         ],
         "yaxis": "y2"
        },
        {
         "boxpoints": "all",
         "type": "box",
         "x": [
          0,
          0,
          0,
          0,
          0,
          1,
          0,
          1,
          0,
          0,
          0,
          0,
          1,
          0,
          0,
          1,
          0,
          0,
          0,
          0,
          1,
          0,
          1,
          1,
          1,
          0,
          1,
          0,
          0,
          0,
          0,
          0,
          1,
          0,
          0,
          0,
          1,
          0,
          0,
          0,
          1,
          0,
          0,
          0,
          0,
          0,
          0,
          0,
          0,
          0,
          0,
          0,
          1,
          1,
          0,
          0,
          0,
          0,
          0,
          0,
          1,
          0,
          0,
          0,
          1,
          1,
          0,
          0,
          0,
          0,
          0,
          0,
          1,
          0,
          0,
          0,
          0,
          0,
          0,
          0,
          0,
          0,
          0,
          0,
          0,
          0,
          0,
          1,
          0,
          0,
          1,
          0,
          0,
          0,
          0,
          0,
          1,
          0,
          1,
          0,
          0,
          1,
          0,
          0,
          0,
          0,
          1,
          1,
          0,
          1,
          0,
          0,
          0,
          0,
          1,
          0,
          0,
          0,
          1,
          0,
          0,
          0,
          0,
          1,
          0,
          1,
          0,
          1,
          0,
          1,
          0,
          0,
          0,
          0,
          1,
          0,
          0,
          0,
          1,
          1,
          0,
          0,
          0,
          0,
          0,
          0,
          1,
          1,
          0,
          0,
          1,
          0,
          0,
          0,
          0,
          0,
          0,
          0,
          1,
          0,
          0,
          0,
          0,
          0,
          0,
          0,
          0,
          1,
          1,
          1,
          0,
          0,
          0,
          0,
          0,
          1,
          0,
          1,
          0,
          1,
          1,
          0,
          0,
          0,
          0,
          1,
          0,
          0,
          1,
          0,
          0,
          1,
          1,
          0,
          0,
          1,
          0,
          0,
          0,
          0,
          0,
          0,
          0,
          0,
          0,
          0,
          0,
          0,
          0,
          1,
          1,
          0,
          0,
          0,
          0,
          0,
          1,
          0,
          1,
          1,
          1,
          0,
          1,
          0,
          1,
          0,
          0,
          1,
          0,
          0,
          0,
          1,
          1,
          0,
          0,
          1,
          0,
          0,
          0,
          1,
          1,
          0,
          0,
          1,
          0,
          0,
          0,
          0,
          0,
          0,
          1,
          0,
          0,
          0,
          1,
          0,
          1,
          0,
          1,
          0,
          0,
          0,
          0,
          0,
          0,
          1,
          0,
          0,
          0,
          0,
          1,
          1,
          0,
          0,
          0,
          0,
          1,
          1,
          1,
          0,
          0,
          0,
          0,
          0,
          0,
          0,
          1,
          1,
          0,
          0,
          0,
          0,
          1,
          0,
          0,
          0,
          0,
          0,
          0,
          0,
          0,
          0,
          0,
          1,
          1,
          1,
          0,
          1,
          1,
          0,
          0,
          0,
          0,
          0,
          1,
          1,
          0,
          0,
          0,
          0,
          0,
          0,
          0,
          0,
          1,
          0,
          0,
          0,
          1,
          0,
          1,
          0,
          0,
          1,
          0,
          0,
          0,
          0,
          0,
          0,
          0,
          0,
          0,
          0,
          0,
          0,
          0,
          0,
          1,
          0,
          0,
          0,
          1,
          1,
          0,
          0,
          0,
          0,
          1,
          0,
          0,
          0,
          1,
          1
         ],
         "xaxis": "x3",
         "y": [
          72,
          87.5,
          85,
          76.5,
          114.5,
          95,
          73.5,
          114,
          140,
          163.5,
          85,
          139,
          65.5,
          113.5,
          146,
          153.5,
          142.5,
          87.5,
          105.5,
          96,
          112.5,
          84,
          143,
          86.5,
          99.5,
          47.5,
          84,
          96,
          114.5,
          121,
          112.5,
          106,
          107,
          110,
          147.5,
          106,
          88,
          98.5,
          142.5,
          130,
          155,
          184.5,
          29.5,
          81,
          91,
          114.5,
          68,
          115,
          109.5,
          75.5,
          154.5,
          143.5,
          107,
          115,
          139.5,
          67,
          85,
          118,
          79.5,
          56.5,
          128.5,
          179.5,
          112,
          98,
          128,
          150.5,
          110,
          113.5,
          124,
          56.5,
          130,
          77.5,
          87,
          53.5,
          85.5,
          48,
          85,
          72.5,
          97.5,
          99,
          56.5,
          133,
          121,
          85.5,
          87.5,
          237.5,
          95.5,
          104.5,
          56.5,
          55,
          157,
          78,
          132.5,
          108,
          80.5,
          107.5,
          95,
          119.5,
          134,
          100.5,
          107.5,
          122,
          92.5,
          62,
          107.5,
          89.5,
          81,
          147,
          85,
          100.5,
          97,
          132.5,
          100,
          105,
          87,
          103.5,
          67,
          87,
          137.5,
          100,
          106.5,
          98.5,
          61,
          106.5,
          84.5,
          164,
          169,
          142,
          107,
          171.5,
          107,
          61.5,
          120,
          150.5,
          71.5,
          51.5,
          77.5,
          98.5,
          225,
          147,
          61,
          120,
          124.5,
          148,
          59,
          146.5,
          133,
          140.5,
          70.5,
          181,
          205,
          48.5,
          124,
          98,
          107.5,
          89,
          100.5,
          65,
          72.5,
          87.5,
          92.5,
          81.5,
          79,
          47.5,
          69,
          49,
          59,
          88.5,
          88,
          100,
          96.5,
          76,
          15.5,
          83.5,
          163,
          100,
          50,
          93,
          94.5,
          102,
          155,
          108,
          63.5,
          109,
          96,
          101,
          77.5,
          90,
          58,
          128,
          101,
          142,
          169,
          75.5,
          139,
          102.5,
          81,
          77,
          92,
          121,
          162.5,
          90.5,
          110,
          70.5,
          92,
          82,
          164.5,
          44,
          109,
          149.5,
          65.5,
          124.5,
          114,
          49,
          71,
          61,
          94.5,
          87,
          64.5,
          154.5,
          128.5,
          137,
          99,
          139.5,
          109,
          254,
          45.5,
          122.5,
          140,
          77.5,
          90,
          167.5,
          60,
          180,
          65,
          112.5,
          87.5,
          62.5,
          100,
          85,
          122,
          138.5,
          107.5,
          162,
          68.5,
          110.5,
          115.5,
          80.5,
          43,
          66.5,
          94.5,
          119,
          27.5,
          194.5,
          105.5,
          62.5,
          161.5,
          72.5,
          139,
          136.5,
          74.5,
          101,
          116.5,
          232.5,
          120.5,
          153,
          127,
          85.5,
          76.5,
          128,
          91.5,
          177,
          107,
          113.5,
          143.5,
          113.5,
          101.5,
          73,
          80.5,
          110.5,
          139.5,
          145.5,
          87,
          100.5,
          147,
          110.5,
          94,
          123.5,
          73,
          165,
          59.5,
          66,
          75.5,
          87,
          140,
          86,
          116.5,
          80,
          173,
          68.5,
          172,
          69.5,
          97.5,
          95,
          194,
          104.5,
          85.5,
          50,
          113,
          153,
          123.5,
          47,
          162,
          133.5,
          109,
          125,
          106.5,
          54,
          37.5,
          53.5,
          168,
          138.5,
          111.5,
          68.5,
          102.5,
          127.5,
          72,
          47,
          65,
          94,
          97,
          114.5,
          121.5,
          60.5,
          118.5,
          58.5,
          63.5,
          107,
          105.5,
          83,
          221.5,
          95.5,
          173,
          147.5,
          81,
          83,
          85.5,
          107.5,
          44.5,
          107.5,
          69.5,
          53,
          103,
          114,
          96,
          96.5,
          69.5,
          121,
          103,
          106.5,
          130,
          89,
          111,
          87.5
         ],
         "yaxis": "y3"
        },
        {
         "boxpoints": "all",
         "type": "box",
         "x": [
          1,
          0,
          1,
          0,
          1,
          1,
          1,
          1,
          0,
          0,
          0,
          0,
          1,
          0,
          1,
          1,
          0,
          1,
          0,
          1,
          1,
          1,
          0,
          1,
          1,
          1,
          1,
          0,
          0,
          1,
          1,
          1,
          0,
          1,
          1,
          1,
          1,
          1,
          0,
          1,
          1,
          1,
          1,
          0,
          1,
          0,
          1,
          1,
          1,
          1,
          1,
          0,
          0,
          0,
          0,
          0,
          0,
          1,
          1,
          0,
          0,
          1,
          0,
          0,
          0,
          1,
          1,
          1,
          0,
          1,
          1,
          1,
          1,
          1,
          1,
          1,
          0,
          1,
          1,
          1,
          1,
          0,
          0,
          0,
          0,
          1,
          0,
          1,
          1,
          1,
          0,
          0,
          1,
          0,
          0,
          0,
          0,
          0,
          0,
          1,
          0,
          0,
          1,
          1,
          1,
          0,
          1,
          0,
          1,
          1,
          1,
          0,
          1,
          0,
          1,
          1,
          0,
          0,
          1,
          1,
          1,
          0,
          1,
          0,
          0,
          0,
          1,
          1,
          1,
          0,
          1,
          1,
          0,
          0,
          1,
          1,
          1,
          1,
          1,
          0,
          1,
          0,
          1,
          0,
          1,
          1,
          0,
          0,
          1,
          0,
          0,
          1,
          0,
          0,
          0,
          1,
          0,
          1,
          1,
          0,
          1,
          0,
          0,
          1,
          1,
          1,
          1,
          0,
          1,
          0,
          0,
          1,
          1,
          1,
          1,
          0,
          1,
          0,
          0,
          1,
          1,
          0,
          1,
          0,
          0,
          1,
          1,
          1,
          0,
          0,
          1,
          0,
          1,
          0,
          1,
          1,
          0,
          1,
          0,
          0,
          1,
          0,
          0,
          0,
          1,
          0,
          0,
          0,
          0,
          0,
          1,
          1,
          0,
          0,
          1,
          0,
          1,
          1,
          1,
          1,
          1,
          0,
          0,
          0,
          0,
          0,
          0,
          0,
          1,
          0,
          1,
          1,
          1,
          1,
          1,
          0,
          1,
          1,
          0,
          0,
          0,
          0,
          1,
          1,
          1,
          1,
          1,
          0,
          1,
          1,
          0,
          0,
          1,
          0,
          0,
          1,
          1,
          1,
          1,
          0,
          0,
          0,
          1,
          0,
          0,
          0,
          0,
          1,
          1,
          0,
          1,
          0,
          1,
          0,
          1,
          0,
          0,
          1,
          0,
          0,
          0,
          1,
          1,
          1,
          1,
          1,
          0,
          0,
          0,
          0,
          1,
          1,
          0,
          0,
          1,
          1,
          0,
          1,
          0,
          0,
          0,
          1,
          1,
          0,
          1,
          1,
          1,
          1,
          1,
          1,
          1,
          0,
          1,
          1,
          1,
          1,
          0,
          0,
          1,
          1,
          1,
          0,
          0,
          1,
          0,
          1,
          0,
          1,
          1,
          0,
          0,
          0,
          0,
          0,
          0,
          1,
          0,
          1,
          0,
          0,
          1,
          0,
          1,
          1,
          1,
          1,
          1,
          0,
          1,
          0,
          1,
          0,
          0,
          1,
          1,
          0,
          1,
          0,
          0,
          1,
          1,
          0,
          1,
          1
         ],
         "xaxis": "x4",
         "y": [
          72,
          87.5,
          85,
          76.5,
          114.5,
          95,
          73.5,
          114,
          140,
          163.5,
          85,
          139,
          65.5,
          113.5,
          146,
          153.5,
          142.5,
          87.5,
          105.5,
          96,
          112.5,
          84,
          143,
          86.5,
          99.5,
          47.5,
          84,
          96,
          114.5,
          121,
          112.5,
          106,
          107,
          110,
          147.5,
          106,
          88,
          98.5,
          142.5,
          130,
          155,
          184.5,
          29.5,
          81,
          91,
          114.5,
          68,
          115,
          109.5,
          75.5,
          154.5,
          143.5,
          107,
          115,
          139.5,
          67,
          85,
          118,
          79.5,
          56.5,
          128.5,
          179.5,
          112,
          98,
          128,
          150.5,
          110,
          113.5,
          124,
          56.5,
          130,
          77.5,
          87,
          53.5,
          85.5,
          48,
          85,
          72.5,
          97.5,
          99,
          56.5,
          133,
          121,
          85.5,
          87.5,
          237.5,
          95.5,
          104.5,
          56.5,
          55,
          157,
          78,
          132.5,
          108,
          80.5,
          107.5,
          95,
          119.5,
          134,
          100.5,
          107.5,
          122,
          92.5,
          62,
          107.5,
          89.5,
          81,
          147,
          85,
          100.5,
          97,
          132.5,
          100,
          105,
          87,
          103.5,
          67,
          87,
          137.5,
          100,
          106.5,
          98.5,
          61,
          106.5,
          84.5,
          164,
          169,
          142,
          107,
          171.5,
          107,
          61.5,
          120,
          150.5,
          71.5,
          51.5,
          77.5,
          98.5,
          225,
          147,
          61,
          120,
          124.5,
          148,
          59,
          146.5,
          133,
          140.5,
          70.5,
          181,
          205,
          48.5,
          124,
          98,
          107.5,
          89,
          100.5,
          65,
          72.5,
          87.5,
          92.5,
          81.5,
          79,
          47.5,
          69,
          49,
          59,
          88.5,
          88,
          100,
          96.5,
          76,
          15.5,
          83.5,
          163,
          100,
          50,
          93,
          94.5,
          102,
          155,
          108,
          63.5,
          109,
          96,
          101,
          77.5,
          90,
          58,
          128,
          101,
          142,
          169,
          75.5,
          139,
          102.5,
          81,
          77,
          92,
          121,
          162.5,
          90.5,
          110,
          70.5,
          92,
          82,
          164.5,
          44,
          109,
          149.5,
          65.5,
          124.5,
          114,
          49,
          71,
          61,
          94.5,
          87,
          64.5,
          154.5,
          128.5,
          137,
          99,
          139.5,
          109,
          254,
          45.5,
          122.5,
          140,
          77.5,
          90,
          167.5,
          60,
          180,
          65,
          112.5,
          87.5,
          62.5,
          100,
          85,
          122,
          138.5,
          107.5,
          162,
          68.5,
          110.5,
          115.5,
          80.5,
          43,
          66.5,
          94.5,
          119,
          27.5,
          194.5,
          105.5,
          62.5,
          161.5,
          72.5,
          139,
          136.5,
          74.5,
          101,
          116.5,
          232.5,
          120.5,
          153,
          127,
          85.5,
          76.5,
          128,
          91.5,
          177,
          107,
          113.5,
          143.5,
          113.5,
          101.5,
          73,
          80.5,
          110.5,
          139.5,
          145.5,
          87,
          100.5,
          147,
          110.5,
          94,
          123.5,
          73,
          165,
          59.5,
          66,
          75.5,
          87,
          140,
          86,
          116.5,
          80,
          173,
          68.5,
          172,
          69.5,
          97.5,
          95,
          194,
          104.5,
          85.5,
          50,
          113,
          153,
          123.5,
          47,
          162,
          133.5,
          109,
          125,
          106.5,
          54,
          37.5,
          53.5,
          168,
          138.5,
          111.5,
          68.5,
          102.5,
          127.5,
          72,
          47,
          65,
          94,
          97,
          114.5,
          121.5,
          60.5,
          118.5,
          58.5,
          63.5,
          107,
          105.5,
          83,
          221.5,
          95.5,
          173,
          147.5,
          81,
          83,
          85.5,
          107.5,
          44.5,
          107.5,
          69.5,
          53,
          103,
          114,
          96,
          96.5,
          69.5,
          121,
          103,
          106.5,
          130,
          89,
          111,
          87.5
         ],
         "yaxis": "y4"
        },
        {
         "boxpoints": "all",
         "type": "box",
         "x": [
          0,
          0,
          1,
          0,
          1,
          1,
          0,
          1,
          0,
          0,
          1,
          1,
          1,
          1,
          0,
          0,
          1,
          1,
          1,
          0,
          1,
          1,
          0,
          0,
          1,
          0,
          0,
          1,
          0,
          1,
          0,
          1,
          0,
          1,
          0,
          1,
          1,
          1,
          0,
          1,
          0,
          1,
          0,
          0,
          1,
          0,
          0,
          1,
          1,
          0,
          0,
          1,
          1,
          1,
          1,
          0,
          1,
          1,
          1,
          1,
          1,
          1,
          1,
          0,
          1,
          0,
          0,
          0,
          1,
          0,
          0,
          1,
          1,
          0,
          1,
          1,
          1,
          0,
          1,
          0,
          1,
          0,
          0,
          1,
          1,
          0,
          1,
          1,
          1,
          1,
          0,
          1,
          0,
          1,
          0,
          0,
          1,
          1,
          1,
          1,
          1,
          1,
          1,
          1,
          0,
          1,
          1,
          0,
          1,
          1,
          1,
          0,
          1,
          1,
          0,
          1,
          0,
          0,
          0,
          1,
          1,
          0,
          1,
          1,
          1,
          1,
          1,
          0,
          1,
          1,
          0,
          1,
          1,
          1,
          1,
          0,
          1,
          1,
          0,
          1,
          1,
          0,
          1,
          0,
          0,
          1,
          1,
          0,
          1,
          1,
          1,
          1,
          0,
          1,
          1,
          1,
          0,
          1,
          1,
          1,
          1,
          0,
          1,
          0,
          1,
          1,
          0,
          0,
          1,
          1,
          1,
          1,
          0,
          1,
          1,
          1,
          1,
          1,
          1,
          1,
          0,
          1,
          1,
          1,
          0,
          1,
          1,
          1,
          1,
          0,
          1,
          1,
          1,
          1,
          1,
          1,
          1,
          1,
          1,
          0,
          1,
          0,
          0,
          0,
          0,
          1,
          0,
          0,
          0,
          0,
          1,
          0,
          1,
          1,
          1,
          1,
          1,
          1,
          1,
          1,
          1,
          0,
          1,
          1,
          0,
          0,
          0,
          1,
          1,
          0,
          1,
          0,
          0,
          1,
          1,
          0,
          1,
          1,
          1,
          0,
          0,
          1,
          1,
          0,
          0,
          1,
          1,
          0,
          1,
          1,
          0,
          0,
          0,
          0,
          0,
          0,
          1,
          1,
          0,
          1,
          0,
          1,
          1,
          1,
          1,
          1,
          1,
          1,
          1,
          1,
          1,
          1,
          1,
          1,
          1,
          1,
          0,
          1,
          1,
          1,
          1,
          1,
          0,
          1,
          1,
          1,
          1,
          1,
          1,
          0,
          1,
          0,
          1,
          0,
          0,
          0,
          1,
          1,
          0,
          0,
          0,
          1,
          1,
          1,
          0,
          1,
          1,
          1,
          1,
          0,
          1,
          1,
          1,
          0,
          0,
          1,
          1,
          1,
          1,
          1,
          1,
          1,
          0,
          0,
          1,
          0,
          1,
          1,
          1,
          1,
          1,
          0,
          1,
          1,
          1,
          1,
          1,
          0,
          1,
          1,
          1,
          1,
          1,
          0,
          0,
          1,
          0,
          1,
          1,
          1,
          1,
          0,
          0,
          1,
          1,
          0,
          1,
          1,
          1,
          1,
          0,
          0,
          0,
          1
         ],
         "xaxis": "x5",
         "y": [
          72,
          87.5,
          85,
          76.5,
          114.5,
          95,
          73.5,
          114,
          140,
          163.5,
          85,
          139,
          65.5,
          113.5,
          146,
          153.5,
          142.5,
          87.5,
          105.5,
          96,
          112.5,
          84,
          143,
          86.5,
          99.5,
          47.5,
          84,
          96,
          114.5,
          121,
          112.5,
          106,
          107,
          110,
          147.5,
          106,
          88,
          98.5,
          142.5,
          130,
          155,
          184.5,
          29.5,
          81,
          91,
          114.5,
          68,
          115,
          109.5,
          75.5,
          154.5,
          143.5,
          107,
          115,
          139.5,
          67,
          85,
          118,
          79.5,
          56.5,
          128.5,
          179.5,
          112,
          98,
          128,
          150.5,
          110,
          113.5,
          124,
          56.5,
          130,
          77.5,
          87,
          53.5,
          85.5,
          48,
          85,
          72.5,
          97.5,
          99,
          56.5,
          133,
          121,
          85.5,
          87.5,
          237.5,
          95.5,
          104.5,
          56.5,
          55,
          157,
          78,
          132.5,
          108,
          80.5,
          107.5,
          95,
          119.5,
          134,
          100.5,
          107.5,
          122,
          92.5,
          62,
          107.5,
          89.5,
          81,
          147,
          85,
          100.5,
          97,
          132.5,
          100,
          105,
          87,
          103.5,
          67,
          87,
          137.5,
          100,
          106.5,
          98.5,
          61,
          106.5,
          84.5,
          164,
          169,
          142,
          107,
          171.5,
          107,
          61.5,
          120,
          150.5,
          71.5,
          51.5,
          77.5,
          98.5,
          225,
          147,
          61,
          120,
          124.5,
          148,
          59,
          146.5,
          133,
          140.5,
          70.5,
          181,
          205,
          48.5,
          124,
          98,
          107.5,
          89,
          100.5,
          65,
          72.5,
          87.5,
          92.5,
          81.5,
          79,
          47.5,
          69,
          49,
          59,
          88.5,
          88,
          100,
          96.5,
          76,
          15.5,
          83.5,
          163,
          100,
          50,
          93,
          94.5,
          102,
          155,
          108,
          63.5,
          109,
          96,
          101,
          77.5,
          90,
          58,
          128,
          101,
          142,
          169,
          75.5,
          139,
          102.5,
          81,
          77,
          92,
          121,
          162.5,
          90.5,
          110,
          70.5,
          92,
          82,
          164.5,
          44,
          109,
          149.5,
          65.5,
          124.5,
          114,
          49,
          71,
          61,
          94.5,
          87,
          64.5,
          154.5,
          128.5,
          137,
          99,
          139.5,
          109,
          254,
          45.5,
          122.5,
          140,
          77.5,
          90,
          167.5,
          60,
          180,
          65,
          112.5,
          87.5,
          62.5,
          100,
          85,
          122,
          138.5,
          107.5,
          162,
          68.5,
          110.5,
          115.5,
          80.5,
          43,
          66.5,
          94.5,
          119,
          27.5,
          194.5,
          105.5,
          62.5,
          161.5,
          72.5,
          139,
          136.5,
          74.5,
          101,
          116.5,
          232.5,
          120.5,
          153,
          127,
          85.5,
          76.5,
          128,
          91.5,
          177,
          107,
          113.5,
          143.5,
          113.5,
          101.5,
          73,
          80.5,
          110.5,
          139.5,
          145.5,
          87,
          100.5,
          147,
          110.5,
          94,
          123.5,
          73,
          165,
          59.5,
          66,
          75.5,
          87,
          140,
          86,
          116.5,
          80,
          173,
          68.5,
          172,
          69.5,
          97.5,
          95,
          194,
          104.5,
          85.5,
          50,
          113,
          153,
          123.5,
          47,
          162,
          133.5,
          109,
          125,
          106.5,
          54,
          37.5,
          53.5,
          168,
          138.5,
          111.5,
          68.5,
          102.5,
          127.5,
          72,
          47,
          65,
          94,
          97,
          114.5,
          121.5,
          60.5,
          118.5,
          58.5,
          63.5,
          107,
          105.5,
          83,
          221.5,
          95.5,
          173,
          147.5,
          81,
          83,
          85.5,
          107.5,
          44.5,
          107.5,
          69.5,
          53,
          103,
          114,
          96,
          96.5,
          69.5,
          121,
          103,
          106.5,
          130,
          89,
          111,
          87.5
         ],
         "yaxis": "y5"
        },
        {
         "boxpoints": "all",
         "type": "box",
         "x": [
          1,
          0,
          1,
          0,
          1,
          0,
          0,
          0,
          0,
          0,
          0,
          0,
          0,
          0,
          0,
          0,
          0,
          0,
          0,
          0,
          0,
          0,
          0,
          0,
          0,
          0,
          0,
          1,
          0,
          0,
          0,
          0,
          0,
          0,
          0,
          0,
          0,
          0,
          0,
          0,
          0,
          1,
          0,
          0,
          0,
          0,
          0,
          0,
          0,
          0,
          0,
          0,
          0,
          0,
          1,
          0,
          0,
          0,
          0,
          0,
          0,
          1,
          0,
          0,
          0,
          0,
          0,
          0,
          0,
          0,
          0,
          0,
          0,
          0,
          0,
          0,
          1,
          0,
          1,
          0,
          0,
          0,
          0,
          0,
          0,
          0,
          0,
          0,
          0,
          0,
          0,
          0,
          0,
          0,
          0,
          0,
          0,
          1,
          0,
          0,
          0,
          0,
          0,
          0,
          0,
          0,
          0,
          0,
          1,
          0,
          0,
          0,
          0,
          0,
          0,
          0,
          0,
          0,
          0,
          0,
          1,
          0,
          0,
          0,
          0,
          0,
          0,
          0,
          0,
          0,
          0,
          0,
          0,
          1,
          0,
          0,
          0,
          1,
          0,
          0,
          0,
          0,
          0,
          0,
          0,
          1,
          0,
          0,
          0,
          0,
          0,
          1,
          0,
          0,
          0,
          0,
          1,
          0,
          0,
          1,
          0,
          0,
          0,
          0,
          0,
          0,
          0,
          0,
          0,
          0,
          0,
          0,
          0,
          0,
          1,
          1,
          0,
          0,
          1,
          1,
          0,
          1,
          0,
          0,
          0,
          0,
          0,
          0,
          0,
          0,
          0,
          0,
          1,
          0,
          0,
          0,
          0,
          0,
          0,
          0,
          0,
          0,
          0,
          0,
          0,
          0,
          0,
          0,
          0,
          0,
          0,
          0,
          0,
          0,
          0,
          0,
          0,
          0,
          0,
          0,
          0,
          0,
          0,
          0,
          0,
          1,
          0,
          0,
          1,
          0,
          0,
          0,
          0,
          0,
          1,
          0,
          0,
          1,
          0,
          0,
          0,
          0,
          0,
          0,
          0,
          0,
          0,
          0,
          0,
          1,
          0,
          0,
          0,
          1,
          0,
          0,
          0,
          0,
          0,
          0,
          0,
          1,
          0,
          0,
          0,
          0,
          0,
          0,
          1,
          0,
          0,
          0,
          0,
          0,
          0,
          0,
          0,
          0,
          0,
          0,
          0,
          0,
          0,
          0,
          1,
          0,
          0,
          0,
          0,
          0,
          0,
          0,
          0,
          0,
          0,
          1,
          0,
          0,
          0,
          0,
          0,
          1,
          0,
          0,
          0,
          0,
          0,
          0,
          0,
          0,
          1,
          0,
          0,
          0,
          0,
          0,
          1,
          0,
          0,
          0,
          0,
          0,
          0,
          0,
          0,
          0,
          0,
          0,
          0,
          0,
          0,
          0,
          0,
          0,
          0,
          0,
          0,
          0,
          0,
          0,
          0,
          0,
          0,
          0,
          0,
          0,
          0,
          0,
          0,
          0,
          0,
          0,
          0,
          0,
          0,
          0,
          1,
          1,
          0,
          1,
          0,
          0,
          0,
          0
         ],
         "xaxis": "x6",
         "y": [
          72,
          87.5,
          85,
          76.5,
          114.5,
          95,
          73.5,
          114,
          140,
          163.5,
          85,
          139,
          65.5,
          113.5,
          146,
          153.5,
          142.5,
          87.5,
          105.5,
          96,
          112.5,
          84,
          143,
          86.5,
          99.5,
          47.5,
          84,
          96,
          114.5,
          121,
          112.5,
          106,
          107,
          110,
          147.5,
          106,
          88,
          98.5,
          142.5,
          130,
          155,
          184.5,
          29.5,
          81,
          91,
          114.5,
          68,
          115,
          109.5,
          75.5,
          154.5,
          143.5,
          107,
          115,
          139.5,
          67,
          85,
          118,
          79.5,
          56.5,
          128.5,
          179.5,
          112,
          98,
          128,
          150.5,
          110,
          113.5,
          124,
          56.5,
          130,
          77.5,
          87,
          53.5,
          85.5,
          48,
          85,
          72.5,
          97.5,
          99,
          56.5,
          133,
          121,
          85.5,
          87.5,
          237.5,
          95.5,
          104.5,
          56.5,
          55,
          157,
          78,
          132.5,
          108,
          80.5,
          107.5,
          95,
          119.5,
          134,
          100.5,
          107.5,
          122,
          92.5,
          62,
          107.5,
          89.5,
          81,
          147,
          85,
          100.5,
          97,
          132.5,
          100,
          105,
          87,
          103.5,
          67,
          87,
          137.5,
          100,
          106.5,
          98.5,
          61,
          106.5,
          84.5,
          164,
          169,
          142,
          107,
          171.5,
          107,
          61.5,
          120,
          150.5,
          71.5,
          51.5,
          77.5,
          98.5,
          225,
          147,
          61,
          120,
          124.5,
          148,
          59,
          146.5,
          133,
          140.5,
          70.5,
          181,
          205,
          48.5,
          124,
          98,
          107.5,
          89,
          100.5,
          65,
          72.5,
          87.5,
          92.5,
          81.5,
          79,
          47.5,
          69,
          49,
          59,
          88.5,
          88,
          100,
          96.5,
          76,
          15.5,
          83.5,
          163,
          100,
          50,
          93,
          94.5,
          102,
          155,
          108,
          63.5,
          109,
          96,
          101,
          77.5,
          90,
          58,
          128,
          101,
          142,
          169,
          75.5,
          139,
          102.5,
          81,
          77,
          92,
          121,
          162.5,
          90.5,
          110,
          70.5,
          92,
          82,
          164.5,
          44,
          109,
          149.5,
          65.5,
          124.5,
          114,
          49,
          71,
          61,
          94.5,
          87,
          64.5,
          154.5,
          128.5,
          137,
          99,
          139.5,
          109,
          254,
          45.5,
          122.5,
          140,
          77.5,
          90,
          167.5,
          60,
          180,
          65,
          112.5,
          87.5,
          62.5,
          100,
          85,
          122,
          138.5,
          107.5,
          162,
          68.5,
          110.5,
          115.5,
          80.5,
          43,
          66.5,
          94.5,
          119,
          27.5,
          194.5,
          105.5,
          62.5,
          161.5,
          72.5,
          139,
          136.5,
          74.5,
          101,
          116.5,
          232.5,
          120.5,
          153,
          127,
          85.5,
          76.5,
          128,
          91.5,
          177,
          107,
          113.5,
          143.5,
          113.5,
          101.5,
          73,
          80.5,
          110.5,
          139.5,
          145.5,
          87,
          100.5,
          147,
          110.5,
          94,
          123.5,
          73,
          165,
          59.5,
          66,
          75.5,
          87,
          140,
          86,
          116.5,
          80,
          173,
          68.5,
          172,
          69.5,
          97.5,
          95,
          194,
          104.5,
          85.5,
          50,
          113,
          153,
          123.5,
          47,
          162,
          133.5,
          109,
          125,
          106.5,
          54,
          37.5,
          53.5,
          168,
          138.5,
          111.5,
          68.5,
          102.5,
          127.5,
          72,
          47,
          65,
          94,
          97,
          114.5,
          121.5,
          60.5,
          118.5,
          58.5,
          63.5,
          107,
          105.5,
          83,
          221.5,
          95.5,
          173,
          147.5,
          81,
          83,
          85.5,
          107.5,
          44.5,
          107.5,
          69.5,
          53,
          103,
          114,
          96,
          96.5,
          69.5,
          121,
          103,
          106.5,
          130,
          89,
          111,
          87.5
         ],
         "yaxis": "y6"
        },
        {
         "boxpoints": "all",
         "type": "box",
         "x": [
          0,
          0,
          0,
          0,
          0,
          0,
          0,
          0,
          0,
          0,
          0,
          0,
          0,
          0,
          0,
          0,
          0,
          1,
          0,
          0,
          0,
          0,
          1,
          0,
          1,
          0,
          0,
          0,
          0,
          1,
          0,
          0,
          0,
          0,
          0,
          0,
          0,
          0,
          0,
          0,
          0,
          0,
          0,
          0,
          0,
          0,
          0,
          0,
          0,
          0,
          0,
          1,
          0,
          0,
          0,
          0,
          0,
          0,
          1,
          0,
          0,
          0,
          0,
          0,
          0,
          1,
          0,
          0,
          0,
          0,
          0,
          0,
          0,
          0,
          0,
          0,
          0,
          0,
          0,
          0,
          0,
          0,
          1,
          0,
          0,
          0,
          0,
          0,
          0,
          0,
          0,
          0,
          0,
          0,
          0,
          0,
          0,
          0,
          0,
          0,
          0,
          0,
          0,
          0,
          0,
          0,
          0,
          1,
          0,
          0,
          0,
          0,
          0,
          0,
          0,
          0,
          0,
          0,
          1,
          0,
          0,
          0,
          0,
          0,
          0,
          0,
          0,
          0,
          0,
          0,
          0,
          0,
          0,
          0,
          0,
          0,
          0,
          0,
          0,
          1,
          0,
          0,
          1,
          0,
          0,
          0,
          0,
          1,
          0,
          0,
          0,
          0,
          0,
          0,
          0,
          0,
          0,
          0,
          0,
          0,
          0,
          0,
          0,
          0,
          0,
          0,
          0,
          0,
          0,
          0,
          0,
          0,
          0,
          0,
          0,
          0,
          0,
          0,
          0,
          0,
          0,
          0,
          0,
          0,
          1,
          0,
          0,
          1,
          0,
          0,
          0,
          0,
          0,
          0,
          0,
          0,
          0,
          0,
          0,
          0,
          0,
          0,
          0,
          0,
          0,
          0,
          0,
          0,
          0,
          0,
          0,
          0,
          0,
          0,
          0,
          0,
          0,
          0,
          0,
          0,
          0,
          0,
          0,
          0,
          0,
          0,
          0,
          0,
          0,
          0,
          0,
          0,
          0,
          0,
          0,
          0,
          0,
          0,
          0,
          0,
          0,
          0,
          0,
          0,
          0,
          0,
          0,
          0,
          0,
          0,
          0,
          0,
          0,
          0,
          1,
          0,
          0,
          0,
          0,
          0,
          0,
          0,
          0,
          0,
          0,
          1,
          0,
          0,
          0,
          1,
          0,
          0,
          0,
          0,
          0,
          0,
          0,
          0,
          0,
          0,
          0,
          0,
          0,
          0,
          0,
          0,
          0,
          0,
          0,
          0,
          0,
          0,
          0,
          0,
          0,
          0,
          0,
          0,
          0,
          0,
          0,
          0,
          0,
          0,
          0,
          0,
          0,
          0,
          0,
          0,
          0,
          0,
          0,
          0,
          0,
          0,
          0,
          0,
          0,
          0,
          0,
          0,
          0,
          0,
          0,
          0,
          0,
          0,
          0,
          0,
          0,
          0,
          0,
          0,
          0,
          0,
          0,
          1,
          0,
          0,
          0,
          0,
          0,
          0,
          0,
          0,
          0,
          0,
          0,
          0,
          0,
          0,
          0,
          0,
          0,
          0,
          0,
          0,
          0,
          0,
          0,
          0,
          0,
          0
         ],
         "xaxis": "x7",
         "y": [
          72,
          87.5,
          85,
          76.5,
          114.5,
          95,
          73.5,
          114,
          140,
          163.5,
          85,
          139,
          65.5,
          113.5,
          146,
          153.5,
          142.5,
          87.5,
          105.5,
          96,
          112.5,
          84,
          143,
          86.5,
          99.5,
          47.5,
          84,
          96,
          114.5,
          121,
          112.5,
          106,
          107,
          110,
          147.5,
          106,
          88,
          98.5,
          142.5,
          130,
          155,
          184.5,
          29.5,
          81,
          91,
          114.5,
          68,
          115,
          109.5,
          75.5,
          154.5,
          143.5,
          107,
          115,
          139.5,
          67,
          85,
          118,
          79.5,
          56.5,
          128.5,
          179.5,
          112,
          98,
          128,
          150.5,
          110,
          113.5,
          124,
          56.5,
          130,
          77.5,
          87,
          53.5,
          85.5,
          48,
          85,
          72.5,
          97.5,
          99,
          56.5,
          133,
          121,
          85.5,
          87.5,
          237.5,
          95.5,
          104.5,
          56.5,
          55,
          157,
          78,
          132.5,
          108,
          80.5,
          107.5,
          95,
          119.5,
          134,
          100.5,
          107.5,
          122,
          92.5,
          62,
          107.5,
          89.5,
          81,
          147,
          85,
          100.5,
          97,
          132.5,
          100,
          105,
          87,
          103.5,
          67,
          87,
          137.5,
          100,
          106.5,
          98.5,
          61,
          106.5,
          84.5,
          164,
          169,
          142,
          107,
          171.5,
          107,
          61.5,
          120,
          150.5,
          71.5,
          51.5,
          77.5,
          98.5,
          225,
          147,
          61,
          120,
          124.5,
          148,
          59,
          146.5,
          133,
          140.5,
          70.5,
          181,
          205,
          48.5,
          124,
          98,
          107.5,
          89,
          100.5,
          65,
          72.5,
          87.5,
          92.5,
          81.5,
          79,
          47.5,
          69,
          49,
          59,
          88.5,
          88,
          100,
          96.5,
          76,
          15.5,
          83.5,
          163,
          100,
          50,
          93,
          94.5,
          102,
          155,
          108,
          63.5,
          109,
          96,
          101,
          77.5,
          90,
          58,
          128,
          101,
          142,
          169,
          75.5,
          139,
          102.5,
          81,
          77,
          92,
          121,
          162.5,
          90.5,
          110,
          70.5,
          92,
          82,
          164.5,
          44,
          109,
          149.5,
          65.5,
          124.5,
          114,
          49,
          71,
          61,
          94.5,
          87,
          64.5,
          154.5,
          128.5,
          137,
          99,
          139.5,
          109,
          254,
          45.5,
          122.5,
          140,
          77.5,
          90,
          167.5,
          60,
          180,
          65,
          112.5,
          87.5,
          62.5,
          100,
          85,
          122,
          138.5,
          107.5,
          162,
          68.5,
          110.5,
          115.5,
          80.5,
          43,
          66.5,
          94.5,
          119,
          27.5,
          194.5,
          105.5,
          62.5,
          161.5,
          72.5,
          139,
          136.5,
          74.5,
          101,
          116.5,
          232.5,
          120.5,
          153,
          127,
          85.5,
          76.5,
          128,
          91.5,
          177,
          107,
          113.5,
          143.5,
          113.5,
          101.5,
          73,
          80.5,
          110.5,
          139.5,
          145.5,
          87,
          100.5,
          147,
          110.5,
          94,
          123.5,
          73,
          165,
          59.5,
          66,
          75.5,
          87,
          140,
          86,
          116.5,
          80,
          173,
          68.5,
          172,
          69.5,
          97.5,
          95,
          194,
          104.5,
          85.5,
          50,
          113,
          153,
          123.5,
          47,
          162,
          133.5,
          109,
          125,
          106.5,
          54,
          37.5,
          53.5,
          168,
          138.5,
          111.5,
          68.5,
          102.5,
          127.5,
          72,
          47,
          65,
          94,
          97,
          114.5,
          121.5,
          60.5,
          118.5,
          58.5,
          63.5,
          107,
          105.5,
          83,
          221.5,
          95.5,
          173,
          147.5,
          81,
          83,
          85.5,
          107.5,
          44.5,
          107.5,
          69.5,
          53,
          103,
          114,
          96,
          96.5,
          69.5,
          121,
          103,
          106.5,
          130,
          89,
          111,
          87.5
         ],
         "yaxis": "y7"
        },
        {
         "boxpoints": "all",
         "type": "box",
         "x": [
          0,
          0,
          0,
          0,
          0,
          0,
          0,
          1,
          0,
          0,
          0,
          0,
          0,
          0,
          0,
          0,
          0,
          1,
          0,
          0,
          0,
          0,
          0,
          0,
          0,
          0,
          0,
          0,
          1,
          0,
          0,
          0,
          0,
          1,
          0,
          0,
          0,
          0,
          0,
          0,
          0,
          0,
          0,
          0,
          0,
          0,
          0,
          0,
          0,
          0,
          0,
          0,
          0,
          0,
          0,
          1,
          1,
          0,
          1,
          0,
          0,
          0,
          0,
          0,
          0,
          0,
          0,
          0,
          0,
          0,
          0,
          0,
          0,
          0,
          0,
          0,
          0,
          0,
          0,
          0,
          0,
          0,
          1,
          0,
          0,
          0,
          0,
          0,
          0,
          0,
          0,
          0,
          0,
          0,
          0,
          0,
          0,
          0,
          0,
          0,
          0,
          0,
          0,
          0,
          0,
          0,
          0,
          0,
          0,
          0,
          0,
          0,
          0,
          0,
          0,
          0,
          0,
          0,
          0,
          0,
          0,
          0,
          0,
          0,
          0,
          0,
          0,
          0,
          0,
          0,
          0,
          0,
          0,
          0,
          0,
          0,
          0,
          0,
          0,
          1,
          0,
          0,
          0,
          0,
          0,
          0,
          1,
          1,
          0,
          0,
          0,
          0,
          0,
          0,
          0,
          0,
          0,
          0,
          0,
          0,
          0,
          0,
          0,
          0,
          0,
          0,
          0,
          0,
          0,
          0,
          0,
          0,
          0,
          0,
          0,
          0,
          0,
          0,
          0,
          0,
          0,
          1,
          0,
          0,
          1,
          0,
          0,
          0,
          0,
          0,
          0,
          0,
          0,
          0,
          0,
          0,
          0,
          0,
          0,
          0,
          0,
          0,
          0,
          0,
          0,
          0,
          0,
          0,
          0,
          0,
          0,
          0,
          0,
          0,
          0,
          0,
          0,
          0,
          0,
          0,
          0,
          0,
          0,
          0,
          0,
          0,
          0,
          0,
          0,
          0,
          0,
          0,
          0,
          0,
          0,
          0,
          0,
          0,
          0,
          0,
          0,
          0,
          0,
          0,
          1,
          1,
          0,
          1,
          0,
          0,
          0,
          1,
          0,
          0,
          1,
          0,
          0,
          0,
          0,
          0,
          0,
          0,
          0,
          0,
          0,
          1,
          0,
          0,
          0,
          0,
          0,
          0,
          1,
          0,
          0,
          0,
          1,
          0,
          0,
          0,
          0,
          0,
          0,
          0,
          0,
          0,
          0,
          0,
          0,
          0,
          0,
          0,
          0,
          0,
          0,
          0,
          0,
          0,
          0,
          0,
          0,
          0,
          0,
          0,
          0,
          0,
          0,
          0,
          0,
          0,
          0,
          0,
          0,
          0,
          0,
          1,
          0,
          0,
          0,
          0,
          0,
          0,
          0,
          0,
          0,
          0,
          0,
          0,
          0,
          0,
          0,
          0,
          0,
          0,
          0,
          0,
          0,
          0,
          0,
          0,
          0,
          0,
          0,
          0,
          0,
          0,
          0,
          0,
          0,
          0,
          0,
          0,
          0,
          0,
          0,
          0,
          0,
          0,
          0,
          0,
          0,
          0,
          1,
          0
         ],
         "xaxis": "x8",
         "y": [
          72,
          87.5,
          85,
          76.5,
          114.5,
          95,
          73.5,
          114,
          140,
          163.5,
          85,
          139,
          65.5,
          113.5,
          146,
          153.5,
          142.5,
          87.5,
          105.5,
          96,
          112.5,
          84,
          143,
          86.5,
          99.5,
          47.5,
          84,
          96,
          114.5,
          121,
          112.5,
          106,
          107,
          110,
          147.5,
          106,
          88,
          98.5,
          142.5,
          130,
          155,
          184.5,
          29.5,
          81,
          91,
          114.5,
          68,
          115,
          109.5,
          75.5,
          154.5,
          143.5,
          107,
          115,
          139.5,
          67,
          85,
          118,
          79.5,
          56.5,
          128.5,
          179.5,
          112,
          98,
          128,
          150.5,
          110,
          113.5,
          124,
          56.5,
          130,
          77.5,
          87,
          53.5,
          85.5,
          48,
          85,
          72.5,
          97.5,
          99,
          56.5,
          133,
          121,
          85.5,
          87.5,
          237.5,
          95.5,
          104.5,
          56.5,
          55,
          157,
          78,
          132.5,
          108,
          80.5,
          107.5,
          95,
          119.5,
          134,
          100.5,
          107.5,
          122,
          92.5,
          62,
          107.5,
          89.5,
          81,
          147,
          85,
          100.5,
          97,
          132.5,
          100,
          105,
          87,
          103.5,
          67,
          87,
          137.5,
          100,
          106.5,
          98.5,
          61,
          106.5,
          84.5,
          164,
          169,
          142,
          107,
          171.5,
          107,
          61.5,
          120,
          150.5,
          71.5,
          51.5,
          77.5,
          98.5,
          225,
          147,
          61,
          120,
          124.5,
          148,
          59,
          146.5,
          133,
          140.5,
          70.5,
          181,
          205,
          48.5,
          124,
          98,
          107.5,
          89,
          100.5,
          65,
          72.5,
          87.5,
          92.5,
          81.5,
          79,
          47.5,
          69,
          49,
          59,
          88.5,
          88,
          100,
          96.5,
          76,
          15.5,
          83.5,
          163,
          100,
          50,
          93,
          94.5,
          102,
          155,
          108,
          63.5,
          109,
          96,
          101,
          77.5,
          90,
          58,
          128,
          101,
          142,
          169,
          75.5,
          139,
          102.5,
          81,
          77,
          92,
          121,
          162.5,
          90.5,
          110,
          70.5,
          92,
          82,
          164.5,
          44,
          109,
          149.5,
          65.5,
          124.5,
          114,
          49,
          71,
          61,
          94.5,
          87,
          64.5,
          154.5,
          128.5,
          137,
          99,
          139.5,
          109,
          254,
          45.5,
          122.5,
          140,
          77.5,
          90,
          167.5,
          60,
          180,
          65,
          112.5,
          87.5,
          62.5,
          100,
          85,
          122,
          138.5,
          107.5,
          162,
          68.5,
          110.5,
          115.5,
          80.5,
          43,
          66.5,
          94.5,
          119,
          27.5,
          194.5,
          105.5,
          62.5,
          161.5,
          72.5,
          139,
          136.5,
          74.5,
          101,
          116.5,
          232.5,
          120.5,
          153,
          127,
          85.5,
          76.5,
          128,
          91.5,
          177,
          107,
          113.5,
          143.5,
          113.5,
          101.5,
          73,
          80.5,
          110.5,
          139.5,
          145.5,
          87,
          100.5,
          147,
          110.5,
          94,
          123.5,
          73,
          165,
          59.5,
          66,
          75.5,
          87,
          140,
          86,
          116.5,
          80,
          173,
          68.5,
          172,
          69.5,
          97.5,
          95,
          194,
          104.5,
          85.5,
          50,
          113,
          153,
          123.5,
          47,
          162,
          133.5,
          109,
          125,
          106.5,
          54,
          37.5,
          53.5,
          168,
          138.5,
          111.5,
          68.5,
          102.5,
          127.5,
          72,
          47,
          65,
          94,
          97,
          114.5,
          121.5,
          60.5,
          118.5,
          58.5,
          63.5,
          107,
          105.5,
          83,
          221.5,
          95.5,
          173,
          147.5,
          81,
          83,
          85.5,
          107.5,
          44.5,
          107.5,
          69.5,
          53,
          103,
          114,
          96,
          96.5,
          69.5,
          121,
          103,
          106.5,
          130,
          89,
          111,
          87.5
         ],
         "yaxis": "y8"
        },
        {
         "boxpoints": "all",
         "type": "box",
         "x": [
          0,
          0,
          0,
          0,
          0,
          0,
          0,
          0,
          0,
          0,
          0,
          0,
          0,
          0,
          0,
          0,
          0,
          1,
          0,
          0,
          0,
          0,
          0,
          0,
          1,
          0,
          0,
          0,
          1,
          1,
          0,
          0,
          0,
          1,
          0,
          0,
          0,
          0,
          0,
          1,
          0,
          0,
          0,
          0,
          0,
          0,
          0,
          0,
          0,
          0,
          0,
          1,
          0,
          0,
          0,
          0,
          0,
          0,
          1,
          0,
          0,
          0,
          0,
          0,
          1,
          1,
          1,
          0,
          0,
          0,
          0,
          0,
          0,
          0,
          0,
          0,
          0,
          0,
          0,
          0,
          0,
          0,
          1,
          0,
          0,
          0,
          0,
          0,
          0,
          0,
          0,
          0,
          0,
          0,
          0,
          0,
          0,
          0,
          0,
          1,
          0,
          0,
          0,
          0,
          0,
          0,
          0,
          0,
          0,
          0,
          0,
          0,
          0,
          0,
          0,
          0,
          0,
          0,
          1,
          1,
          0,
          0,
          0,
          0,
          0,
          1,
          0,
          1,
          0,
          0,
          0,
          0,
          0,
          1,
          0,
          0,
          0,
          0,
          0,
          1,
          0,
          0,
          0,
          0,
          0,
          0,
          1,
          1,
          0,
          1,
          0,
          0,
          0,
          0,
          0,
          0,
          0,
          0,
          0,
          0,
          0,
          0,
          0,
          0,
          0,
          0,
          0,
          0,
          0,
          0,
          0,
          0,
          0,
          0,
          0,
          0,
          0,
          0,
          0,
          1,
          1,
          1,
          0,
          0,
          0,
          0,
          0,
          1,
          0,
          0,
          0,
          0,
          0,
          0,
          0,
          0,
          0,
          0,
          0,
          0,
          0,
          0,
          0,
          0,
          0,
          0,
          0,
          0,
          0,
          0,
          0,
          0,
          0,
          0,
          0,
          0,
          0,
          0,
          0,
          0,
          0,
          0,
          0,
          0,
          0,
          0,
          0,
          0,
          0,
          0,
          0,
          0,
          0,
          0,
          0,
          0,
          0,
          0,
          0,
          0,
          0,
          0,
          0,
          0,
          1,
          0,
          0,
          0,
          0,
          0,
          0,
          0,
          0,
          0,
          1,
          0,
          0,
          0,
          0,
          0,
          0,
          0,
          0,
          1,
          0,
          0,
          0,
          1,
          0,
          1,
          0,
          0,
          1,
          0,
          0,
          0,
          0,
          0,
          0,
          0,
          0,
          0,
          0,
          0,
          1,
          0,
          0,
          0,
          0,
          1,
          0,
          0,
          0,
          0,
          0,
          0,
          0,
          0,
          0,
          0,
          0,
          0,
          0,
          0,
          0,
          0,
          0,
          0,
          0,
          0,
          0,
          0,
          0,
          0,
          0,
          0,
          0,
          0,
          0,
          0,
          0,
          0,
          0,
          0,
          0,
          0,
          0,
          0,
          0,
          0,
          0,
          0,
          0,
          0,
          0,
          0,
          1,
          0,
          0,
          0,
          0,
          0,
          0,
          0,
          0,
          0,
          0,
          1,
          0,
          0,
          0,
          0,
          0,
          0,
          0,
          0,
          1,
          0,
          0,
          0,
          0,
          0,
          0,
          0
         ],
         "xaxis": "x9",
         "y": [
          72,
          87.5,
          85,
          76.5,
          114.5,
          95,
          73.5,
          114,
          140,
          163.5,
          85,
          139,
          65.5,
          113.5,
          146,
          153.5,
          142.5,
          87.5,
          105.5,
          96,
          112.5,
          84,
          143,
          86.5,
          99.5,
          47.5,
          84,
          96,
          114.5,
          121,
          112.5,
          106,
          107,
          110,
          147.5,
          106,
          88,
          98.5,
          142.5,
          130,
          155,
          184.5,
          29.5,
          81,
          91,
          114.5,
          68,
          115,
          109.5,
          75.5,
          154.5,
          143.5,
          107,
          115,
          139.5,
          67,
          85,
          118,
          79.5,
          56.5,
          128.5,
          179.5,
          112,
          98,
          128,
          150.5,
          110,
          113.5,
          124,
          56.5,
          130,
          77.5,
          87,
          53.5,
          85.5,
          48,
          85,
          72.5,
          97.5,
          99,
          56.5,
          133,
          121,
          85.5,
          87.5,
          237.5,
          95.5,
          104.5,
          56.5,
          55,
          157,
          78,
          132.5,
          108,
          80.5,
          107.5,
          95,
          119.5,
          134,
          100.5,
          107.5,
          122,
          92.5,
          62,
          107.5,
          89.5,
          81,
          147,
          85,
          100.5,
          97,
          132.5,
          100,
          105,
          87,
          103.5,
          67,
          87,
          137.5,
          100,
          106.5,
          98.5,
          61,
          106.5,
          84.5,
          164,
          169,
          142,
          107,
          171.5,
          107,
          61.5,
          120,
          150.5,
          71.5,
          51.5,
          77.5,
          98.5,
          225,
          147,
          61,
          120,
          124.5,
          148,
          59,
          146.5,
          133,
          140.5,
          70.5,
          181,
          205,
          48.5,
          124,
          98,
          107.5,
          89,
          100.5,
          65,
          72.5,
          87.5,
          92.5,
          81.5,
          79,
          47.5,
          69,
          49,
          59,
          88.5,
          88,
          100,
          96.5,
          76,
          15.5,
          83.5,
          163,
          100,
          50,
          93,
          94.5,
          102,
          155,
          108,
          63.5,
          109,
          96,
          101,
          77.5,
          90,
          58,
          128,
          101,
          142,
          169,
          75.5,
          139,
          102.5,
          81,
          77,
          92,
          121,
          162.5,
          90.5,
          110,
          70.5,
          92,
          82,
          164.5,
          44,
          109,
          149.5,
          65.5,
          124.5,
          114,
          49,
          71,
          61,
          94.5,
          87,
          64.5,
          154.5,
          128.5,
          137,
          99,
          139.5,
          109,
          254,
          45.5,
          122.5,
          140,
          77.5,
          90,
          167.5,
          60,
          180,
          65,
          112.5,
          87.5,
          62.5,
          100,
          85,
          122,
          138.5,
          107.5,
          162,
          68.5,
          110.5,
          115.5,
          80.5,
          43,
          66.5,
          94.5,
          119,
          27.5,
          194.5,
          105.5,
          62.5,
          161.5,
          72.5,
          139,
          136.5,
          74.5,
          101,
          116.5,
          232.5,
          120.5,
          153,
          127,
          85.5,
          76.5,
          128,
          91.5,
          177,
          107,
          113.5,
          143.5,
          113.5,
          101.5,
          73,
          80.5,
          110.5,
          139.5,
          145.5,
          87,
          100.5,
          147,
          110.5,
          94,
          123.5,
          73,
          165,
          59.5,
          66,
          75.5,
          87,
          140,
          86,
          116.5,
          80,
          173,
          68.5,
          172,
          69.5,
          97.5,
          95,
          194,
          104.5,
          85.5,
          50,
          113,
          153,
          123.5,
          47,
          162,
          133.5,
          109,
          125,
          106.5,
          54,
          37.5,
          53.5,
          168,
          138.5,
          111.5,
          68.5,
          102.5,
          127.5,
          72,
          47,
          65,
          94,
          97,
          114.5,
          121.5,
          60.5,
          118.5,
          58.5,
          63.5,
          107,
          105.5,
          83,
          221.5,
          95.5,
          173,
          147.5,
          81,
          83,
          85.5,
          107.5,
          44.5,
          107.5,
          69.5,
          53,
          103,
          114,
          96,
          96.5,
          69.5,
          121,
          103,
          106.5,
          130,
          89,
          111,
          87.5
         ],
         "yaxis": "y9"
        },
        {
         "boxpoints": "all",
         "type": "box",
         "x": [
          0,
          0,
          0,
          0,
          0,
          0,
          0,
          1,
          0,
          0,
          0,
          0,
          0,
          1,
          0,
          0,
          0,
          1,
          0,
          0,
          0,
          0,
          1,
          0,
          1,
          0,
          0,
          0,
          0,
          1,
          0,
          0,
          0,
          1,
          0,
          0,
          0,
          0,
          0,
          0,
          0,
          0,
          0,
          0,
          0,
          0,
          0,
          0,
          0,
          0,
          1,
          1,
          0,
          0,
          0,
          1,
          1,
          0,
          0,
          0,
          0,
          0,
          0,
          1,
          1,
          1,
          0,
          0,
          0,
          0,
          0,
          0,
          0,
          0,
          0,
          0,
          0,
          0,
          0,
          0,
          0,
          0,
          1,
          0,
          1,
          0,
          0,
          0,
          0,
          0,
          0,
          0,
          1,
          0,
          0,
          0,
          0,
          0,
          0,
          0,
          0,
          0,
          0,
          0,
          0,
          0,
          0,
          1,
          0,
          1,
          0,
          0,
          0,
          0,
          0,
          0,
          0,
          0,
          1,
          0,
          0,
          0,
          0,
          0,
          0,
          0,
          0,
          1,
          0,
          0,
          0,
          0,
          0,
          1,
          0,
          0,
          0,
          0,
          0,
          1,
          0,
          0,
          1,
          0,
          0,
          0,
          1,
          1,
          0,
          1,
          0,
          0,
          0,
          0,
          0,
          0,
          0,
          0,
          0,
          0,
          0,
          0,
          0,
          0,
          0,
          0,
          0,
          0,
          0,
          0,
          0,
          0,
          0,
          0,
          0,
          0,
          0,
          0,
          0,
          0,
          0,
          1,
          0,
          0,
          1,
          0,
          0,
          0,
          0,
          0,
          0,
          0,
          0,
          0,
          0,
          0,
          0,
          0,
          0,
          0,
          0,
          0,
          0,
          0,
          0,
          0,
          0,
          0,
          0,
          0,
          0,
          0,
          0,
          0,
          0,
          0,
          0,
          0,
          0,
          0,
          0,
          0,
          0,
          0,
          0,
          0,
          0,
          0,
          0,
          0,
          0,
          0,
          0,
          0,
          0,
          0,
          0,
          0,
          0,
          0,
          0,
          1,
          0,
          0,
          1,
          1,
          0,
          1,
          0,
          0,
          0,
          1,
          0,
          0,
          1,
          0,
          0,
          0,
          0,
          0,
          0,
          0,
          0,
          0,
          0,
          1,
          0,
          1,
          0,
          1,
          0,
          0,
          1,
          0,
          0,
          0,
          1,
          0,
          0,
          1,
          0,
          0,
          0,
          0,
          0,
          0,
          0,
          0,
          0,
          0,
          0,
          0,
          0,
          0,
          0,
          0,
          0,
          0,
          0,
          0,
          0,
          0,
          0,
          0,
          0,
          0,
          0,
          0,
          0,
          0,
          0,
          0,
          0,
          0,
          0,
          1,
          0,
          0,
          0,
          0,
          0,
          0,
          0,
          0,
          0,
          0,
          0,
          0,
          0,
          0,
          0,
          0,
          0,
          0,
          0,
          0,
          1,
          1,
          0,
          0,
          0,
          0,
          0,
          0,
          0,
          0,
          0,
          0,
          0,
          0,
          0,
          0,
          0,
          0,
          0,
          1,
          0,
          0,
          0,
          0,
          0,
          0,
          1,
          0
         ],
         "xaxis": "x10",
         "y": [
          72,
          87.5,
          85,
          76.5,
          114.5,
          95,
          73.5,
          114,
          140,
          163.5,
          85,
          139,
          65.5,
          113.5,
          146,
          153.5,
          142.5,
          87.5,
          105.5,
          96,
          112.5,
          84,
          143,
          86.5,
          99.5,
          47.5,
          84,
          96,
          114.5,
          121,
          112.5,
          106,
          107,
          110,
          147.5,
          106,
          88,
          98.5,
          142.5,
          130,
          155,
          184.5,
          29.5,
          81,
          91,
          114.5,
          68,
          115,
          109.5,
          75.5,
          154.5,
          143.5,
          107,
          115,
          139.5,
          67,
          85,
          118,
          79.5,
          56.5,
          128.5,
          179.5,
          112,
          98,
          128,
          150.5,
          110,
          113.5,
          124,
          56.5,
          130,
          77.5,
          87,
          53.5,
          85.5,
          48,
          85,
          72.5,
          97.5,
          99,
          56.5,
          133,
          121,
          85.5,
          87.5,
          237.5,
          95.5,
          104.5,
          56.5,
          55,
          157,
          78,
          132.5,
          108,
          80.5,
          107.5,
          95,
          119.5,
          134,
          100.5,
          107.5,
          122,
          92.5,
          62,
          107.5,
          89.5,
          81,
          147,
          85,
          100.5,
          97,
          132.5,
          100,
          105,
          87,
          103.5,
          67,
          87,
          137.5,
          100,
          106.5,
          98.5,
          61,
          106.5,
          84.5,
          164,
          169,
          142,
          107,
          171.5,
          107,
          61.5,
          120,
          150.5,
          71.5,
          51.5,
          77.5,
          98.5,
          225,
          147,
          61,
          120,
          124.5,
          148,
          59,
          146.5,
          133,
          140.5,
          70.5,
          181,
          205,
          48.5,
          124,
          98,
          107.5,
          89,
          100.5,
          65,
          72.5,
          87.5,
          92.5,
          81.5,
          79,
          47.5,
          69,
          49,
          59,
          88.5,
          88,
          100,
          96.5,
          76,
          15.5,
          83.5,
          163,
          100,
          50,
          93,
          94.5,
          102,
          155,
          108,
          63.5,
          109,
          96,
          101,
          77.5,
          90,
          58,
          128,
          101,
          142,
          169,
          75.5,
          139,
          102.5,
          81,
          77,
          92,
          121,
          162.5,
          90.5,
          110,
          70.5,
          92,
          82,
          164.5,
          44,
          109,
          149.5,
          65.5,
          124.5,
          114,
          49,
          71,
          61,
          94.5,
          87,
          64.5,
          154.5,
          128.5,
          137,
          99,
          139.5,
          109,
          254,
          45.5,
          122.5,
          140,
          77.5,
          90,
          167.5,
          60,
          180,
          65,
          112.5,
          87.5,
          62.5,
          100,
          85,
          122,
          138.5,
          107.5,
          162,
          68.5,
          110.5,
          115.5,
          80.5,
          43,
          66.5,
          94.5,
          119,
          27.5,
          194.5,
          105.5,
          62.5,
          161.5,
          72.5,
          139,
          136.5,
          74.5,
          101,
          116.5,
          232.5,
          120.5,
          153,
          127,
          85.5,
          76.5,
          128,
          91.5,
          177,
          107,
          113.5,
          143.5,
          113.5,
          101.5,
          73,
          80.5,
          110.5,
          139.5,
          145.5,
          87,
          100.5,
          147,
          110.5,
          94,
          123.5,
          73,
          165,
          59.5,
          66,
          75.5,
          87,
          140,
          86,
          116.5,
          80,
          173,
          68.5,
          172,
          69.5,
          97.5,
          95,
          194,
          104.5,
          85.5,
          50,
          113,
          153,
          123.5,
          47,
          162,
          133.5,
          109,
          125,
          106.5,
          54,
          37.5,
          53.5,
          168,
          138.5,
          111.5,
          68.5,
          102.5,
          127.5,
          72,
          47,
          65,
          94,
          97,
          114.5,
          121.5,
          60.5,
          118.5,
          58.5,
          63.5,
          107,
          105.5,
          83,
          221.5,
          95.5,
          173,
          147.5,
          81,
          83,
          85.5,
          107.5,
          44.5,
          107.5,
          69.5,
          53,
          103,
          114,
          96,
          96.5,
          69.5,
          121,
          103,
          106.5,
          130,
          89,
          111,
          87.5
         ],
         "yaxis": "y10"
        },
        {
         "boxpoints": "all",
         "type": "box",
         "x": [
          0,
          0,
          0,
          0,
          0,
          0,
          0,
          0,
          0,
          0,
          1,
          1,
          0,
          0,
          0,
          1,
          0,
          0,
          0,
          0,
          0,
          0,
          0,
          0,
          0,
          0,
          0,
          0,
          0,
          0,
          0,
          0,
          1,
          1,
          0,
          0,
          0,
          0,
          0,
          1,
          0,
          0,
          0,
          0,
          1,
          0,
          0,
          0,
          0,
          0,
          0,
          0,
          0,
          1,
          0,
          0,
          0,
          0,
          0,
          0,
          1,
          0,
          1,
          0,
          0,
          1,
          1,
          0,
          0,
          0,
          0,
          0,
          0,
          0,
          1,
          0,
          0,
          0,
          0,
          0,
          0,
          0,
          0,
          0,
          0,
          0,
          0,
          0,
          0,
          0,
          0,
          0,
          0,
          1,
          0,
          0,
          1,
          0,
          0,
          0,
          0,
          0,
          1,
          0,
          0,
          1,
          1,
          0,
          0,
          1,
          1,
          0,
          0,
          0,
          0,
          0,
          0,
          0,
          1,
          0,
          0,
          0,
          0,
          0,
          0,
          1,
          1,
          0,
          0,
          1,
          0,
          0,
          0,
          1,
          1,
          0,
          0,
          0,
          0,
          1,
          0,
          0,
          0,
          0,
          0,
          0,
          0,
          0,
          0,
          0,
          0,
          0,
          0,
          0,
          0,
          1,
          0,
          0,
          1,
          0,
          1,
          1,
          0,
          0,
          0,
          0,
          0,
          0,
          1,
          1,
          0,
          0,
          0,
          0,
          0,
          0,
          0,
          1,
          0,
          1,
          1,
          0,
          0,
          0,
          0,
          0,
          1,
          0,
          0,
          0,
          0,
          0,
          0,
          1,
          0,
          1,
          0,
          0,
          1,
          0,
          0,
          1,
          0,
          0,
          0,
          0,
          0,
          0,
          1,
          0,
          0,
          0,
          0,
          0,
          0,
          1,
          1,
          1,
          0,
          1,
          1,
          0,
          0,
          0,
          0,
          0,
          0,
          1,
          0,
          0,
          1,
          0,
          0,
          0,
          0,
          1,
          0,
          0,
          1,
          1,
          0,
          0,
          1,
          1,
          0,
          0,
          0,
          0,
          0,
          0,
          0,
          0,
          0,
          0,
          0,
          0,
          0,
          0,
          0,
          0,
          0,
          0,
          0,
          0,
          0,
          0,
          1,
          1,
          0,
          1,
          1,
          1,
          1,
          0,
          0,
          0,
          0,
          0,
          0,
          0,
          0,
          0,
          0,
          0,
          1,
          0,
          1,
          0,
          0,
          1,
          0,
          0,
          1,
          0,
          0,
          0,
          0,
          1,
          0,
          0,
          0,
          0,
          0,
          0,
          0,
          0,
          1,
          0,
          0,
          0,
          0,
          0,
          1,
          0,
          1,
          0,
          0,
          0,
          0,
          0,
          0,
          0,
          0,
          0,
          1,
          0,
          0,
          0,
          0,
          0,
          1,
          0,
          0,
          0,
          1,
          1,
          0,
          0,
          1,
          0,
          0,
          0,
          0,
          0,
          0,
          0,
          0,
          0,
          0,
          0,
          0,
          0,
          1,
          1,
          1,
          0,
          0,
          0,
          0,
          1,
          0,
          0,
          0,
          0
         ],
         "xaxis": "x11",
         "y": [
          72,
          87.5,
          85,
          76.5,
          114.5,
          95,
          73.5,
          114,
          140,
          163.5,
          85,
          139,
          65.5,
          113.5,
          146,
          153.5,
          142.5,
          87.5,
          105.5,
          96,
          112.5,
          84,
          143,
          86.5,
          99.5,
          47.5,
          84,
          96,
          114.5,
          121,
          112.5,
          106,
          107,
          110,
          147.5,
          106,
          88,
          98.5,
          142.5,
          130,
          155,
          184.5,
          29.5,
          81,
          91,
          114.5,
          68,
          115,
          109.5,
          75.5,
          154.5,
          143.5,
          107,
          115,
          139.5,
          67,
          85,
          118,
          79.5,
          56.5,
          128.5,
          179.5,
          112,
          98,
          128,
          150.5,
          110,
          113.5,
          124,
          56.5,
          130,
          77.5,
          87,
          53.5,
          85.5,
          48,
          85,
          72.5,
          97.5,
          99,
          56.5,
          133,
          121,
          85.5,
          87.5,
          237.5,
          95.5,
          104.5,
          56.5,
          55,
          157,
          78,
          132.5,
          108,
          80.5,
          107.5,
          95,
          119.5,
          134,
          100.5,
          107.5,
          122,
          92.5,
          62,
          107.5,
          89.5,
          81,
          147,
          85,
          100.5,
          97,
          132.5,
          100,
          105,
          87,
          103.5,
          67,
          87,
          137.5,
          100,
          106.5,
          98.5,
          61,
          106.5,
          84.5,
          164,
          169,
          142,
          107,
          171.5,
          107,
          61.5,
          120,
          150.5,
          71.5,
          51.5,
          77.5,
          98.5,
          225,
          147,
          61,
          120,
          124.5,
          148,
          59,
          146.5,
          133,
          140.5,
          70.5,
          181,
          205,
          48.5,
          124,
          98,
          107.5,
          89,
          100.5,
          65,
          72.5,
          87.5,
          92.5,
          81.5,
          79,
          47.5,
          69,
          49,
          59,
          88.5,
          88,
          100,
          96.5,
          76,
          15.5,
          83.5,
          163,
          100,
          50,
          93,
          94.5,
          102,
          155,
          108,
          63.5,
          109,
          96,
          101,
          77.5,
          90,
          58,
          128,
          101,
          142,
          169,
          75.5,
          139,
          102.5,
          81,
          77,
          92,
          121,
          162.5,
          90.5,
          110,
          70.5,
          92,
          82,
          164.5,
          44,
          109,
          149.5,
          65.5,
          124.5,
          114,
          49,
          71,
          61,
          94.5,
          87,
          64.5,
          154.5,
          128.5,
          137,
          99,
          139.5,
          109,
          254,
          45.5,
          122.5,
          140,
          77.5,
          90,
          167.5,
          60,
          180,
          65,
          112.5,
          87.5,
          62.5,
          100,
          85,
          122,
          138.5,
          107.5,
          162,
          68.5,
          110.5,
          115.5,
          80.5,
          43,
          66.5,
          94.5,
          119,
          27.5,
          194.5,
          105.5,
          62.5,
          161.5,
          72.5,
          139,
          136.5,
          74.5,
          101,
          116.5,
          232.5,
          120.5,
          153,
          127,
          85.5,
          76.5,
          128,
          91.5,
          177,
          107,
          113.5,
          143.5,
          113.5,
          101.5,
          73,
          80.5,
          110.5,
          139.5,
          145.5,
          87,
          100.5,
          147,
          110.5,
          94,
          123.5,
          73,
          165,
          59.5,
          66,
          75.5,
          87,
          140,
          86,
          116.5,
          80,
          173,
          68.5,
          172,
          69.5,
          97.5,
          95,
          194,
          104.5,
          85.5,
          50,
          113,
          153,
          123.5,
          47,
          162,
          133.5,
          109,
          125,
          106.5,
          54,
          37.5,
          53.5,
          168,
          138.5,
          111.5,
          68.5,
          102.5,
          127.5,
          72,
          47,
          65,
          94,
          97,
          114.5,
          121.5,
          60.5,
          118.5,
          58.5,
          63.5,
          107,
          105.5,
          83,
          221.5,
          95.5,
          173,
          147.5,
          81,
          83,
          85.5,
          107.5,
          44.5,
          107.5,
          69.5,
          53,
          103,
          114,
          96,
          96.5,
          69.5,
          121,
          103,
          106.5,
          130,
          89,
          111,
          87.5
         ],
         "yaxis": "y11"
        },
        {
         "boxpoints": "all",
         "type": "box",
         "x": [
          1,
          0,
          0,
          0,
          0,
          0,
          0,
          0,
          0,
          0,
          0,
          0,
          1,
          0,
          0,
          0,
          0,
          0,
          0,
          0,
          0,
          1,
          0,
          0,
          1,
          0,
          0,
          0,
          0,
          0,
          0,
          1,
          1,
          0,
          0,
          0,
          1,
          0,
          0,
          1,
          0,
          1,
          0,
          1,
          1,
          0,
          1,
          0,
          1,
          0,
          0,
          0,
          1,
          1,
          0,
          0,
          0,
          0,
          0,
          1,
          0,
          0,
          0,
          0,
          0,
          0,
          0,
          0,
          0,
          0,
          0,
          0,
          0,
          0,
          0,
          0,
          0,
          0,
          1,
          1,
          0,
          0,
          0,
          0,
          0,
          0,
          1,
          0,
          1,
          0,
          0,
          0,
          0,
          0,
          0,
          0,
          0,
          1,
          0,
          1,
          1,
          0,
          0,
          0,
          1,
          1,
          1,
          0,
          1,
          0,
          1,
          0,
          0,
          0,
          0,
          0,
          0,
          0,
          0,
          0,
          1,
          0,
          0,
          0,
          0,
          0,
          0,
          0,
          1,
          0,
          0,
          1,
          1,
          0,
          0,
          0,
          1,
          0,
          1,
          0,
          0,
          0,
          0,
          0,
          0,
          0,
          0,
          0,
          0,
          0,
          0,
          1,
          0,
          0,
          0,
          1,
          0,
          1,
          1,
          0,
          1,
          0,
          0,
          0,
          1,
          1,
          0,
          0,
          0,
          0,
          0,
          0,
          0,
          0,
          0,
          0,
          1,
          1,
          0,
          1,
          0,
          0,
          0,
          1,
          0,
          1,
          0,
          1,
          0,
          0,
          1,
          0,
          1,
          1,
          0,
          1,
          1,
          1,
          0,
          0,
          0,
          0,
          1,
          0,
          0,
          0,
          0,
          0,
          0,
          0,
          0,
          0,
          1,
          1,
          1,
          0,
          0,
          0,
          0,
          0,
          1,
          0,
          0,
          1,
          0,
          0,
          0,
          0,
          0,
          0,
          0,
          0,
          0,
          0,
          0,
          0,
          0,
          0,
          0,
          0,
          0,
          0,
          1,
          0,
          0,
          0,
          1,
          0,
          1,
          1,
          0,
          0,
          1,
          0,
          0,
          0,
          1,
          1,
          0,
          0,
          0,
          0,
          0,
          0,
          0,
          0,
          0,
          0,
          1,
          1,
          0,
          0,
          0,
          0,
          0,
          0,
          0,
          1,
          0,
          0,
          0,
          1,
          0,
          0,
          0,
          0,
          1,
          0,
          0,
          0,
          0,
          0,
          1,
          0,
          0,
          0,
          0,
          0,
          0,
          0,
          0,
          1,
          0,
          1,
          0,
          0,
          0,
          0,
          0,
          0,
          1,
          0,
          1,
          0,
          0,
          0,
          1,
          0,
          0,
          0,
          1,
          1,
          0,
          0,
          0,
          0,
          1,
          1,
          0,
          0,
          0,
          0,
          1,
          0,
          0,
          0,
          0,
          0,
          0,
          1,
          0,
          0,
          0,
          0,
          0,
          0,
          0,
          0,
          0,
          0,
          1,
          0,
          0,
          1,
          0,
          0,
          0,
          1,
          1,
          1,
          0,
          0,
          0,
          0
         ],
         "xaxis": "x12",
         "y": [
          72,
          87.5,
          85,
          76.5,
          114.5,
          95,
          73.5,
          114,
          140,
          163.5,
          85,
          139,
          65.5,
          113.5,
          146,
          153.5,
          142.5,
          87.5,
          105.5,
          96,
          112.5,
          84,
          143,
          86.5,
          99.5,
          47.5,
          84,
          96,
          114.5,
          121,
          112.5,
          106,
          107,
          110,
          147.5,
          106,
          88,
          98.5,
          142.5,
          130,
          155,
          184.5,
          29.5,
          81,
          91,
          114.5,
          68,
          115,
          109.5,
          75.5,
          154.5,
          143.5,
          107,
          115,
          139.5,
          67,
          85,
          118,
          79.5,
          56.5,
          128.5,
          179.5,
          112,
          98,
          128,
          150.5,
          110,
          113.5,
          124,
          56.5,
          130,
          77.5,
          87,
          53.5,
          85.5,
          48,
          85,
          72.5,
          97.5,
          99,
          56.5,
          133,
          121,
          85.5,
          87.5,
          237.5,
          95.5,
          104.5,
          56.5,
          55,
          157,
          78,
          132.5,
          108,
          80.5,
          107.5,
          95,
          119.5,
          134,
          100.5,
          107.5,
          122,
          92.5,
          62,
          107.5,
          89.5,
          81,
          147,
          85,
          100.5,
          97,
          132.5,
          100,
          105,
          87,
          103.5,
          67,
          87,
          137.5,
          100,
          106.5,
          98.5,
          61,
          106.5,
          84.5,
          164,
          169,
          142,
          107,
          171.5,
          107,
          61.5,
          120,
          150.5,
          71.5,
          51.5,
          77.5,
          98.5,
          225,
          147,
          61,
          120,
          124.5,
          148,
          59,
          146.5,
          133,
          140.5,
          70.5,
          181,
          205,
          48.5,
          124,
          98,
          107.5,
          89,
          100.5,
          65,
          72.5,
          87.5,
          92.5,
          81.5,
          79,
          47.5,
          69,
          49,
          59,
          88.5,
          88,
          100,
          96.5,
          76,
          15.5,
          83.5,
          163,
          100,
          50,
          93,
          94.5,
          102,
          155,
          108,
          63.5,
          109,
          96,
          101,
          77.5,
          90,
          58,
          128,
          101,
          142,
          169,
          75.5,
          139,
          102.5,
          81,
          77,
          92,
          121,
          162.5,
          90.5,
          110,
          70.5,
          92,
          82,
          164.5,
          44,
          109,
          149.5,
          65.5,
          124.5,
          114,
          49,
          71,
          61,
          94.5,
          87,
          64.5,
          154.5,
          128.5,
          137,
          99,
          139.5,
          109,
          254,
          45.5,
          122.5,
          140,
          77.5,
          90,
          167.5,
          60,
          180,
          65,
          112.5,
          87.5,
          62.5,
          100,
          85,
          122,
          138.5,
          107.5,
          162,
          68.5,
          110.5,
          115.5,
          80.5,
          43,
          66.5,
          94.5,
          119,
          27.5,
          194.5,
          105.5,
          62.5,
          161.5,
          72.5,
          139,
          136.5,
          74.5,
          101,
          116.5,
          232.5,
          120.5,
          153,
          127,
          85.5,
          76.5,
          128,
          91.5,
          177,
          107,
          113.5,
          143.5,
          113.5,
          101.5,
          73,
          80.5,
          110.5,
          139.5,
          145.5,
          87,
          100.5,
          147,
          110.5,
          94,
          123.5,
          73,
          165,
          59.5,
          66,
          75.5,
          87,
          140,
          86,
          116.5,
          80,
          173,
          68.5,
          172,
          69.5,
          97.5,
          95,
          194,
          104.5,
          85.5,
          50,
          113,
          153,
          123.5,
          47,
          162,
          133.5,
          109,
          125,
          106.5,
          54,
          37.5,
          53.5,
          168,
          138.5,
          111.5,
          68.5,
          102.5,
          127.5,
          72,
          47,
          65,
          94,
          97,
          114.5,
          121.5,
          60.5,
          118.5,
          58.5,
          63.5,
          107,
          105.5,
          83,
          221.5,
          95.5,
          173,
          147.5,
          81,
          83,
          85.5,
          107.5,
          44.5,
          107.5,
          69.5,
          53,
          103,
          114,
          96,
          96.5,
          69.5,
          121,
          103,
          106.5,
          130,
          89,
          111,
          87.5
         ],
         "yaxis": "y12"
        },
        {
         "boxpoints": "all",
         "type": "box",
         "x": [
          1,
          0,
          0,
          0,
          0,
          1,
          0,
          0,
          0,
          0,
          0,
          0,
          1,
          0,
          0,
          0,
          0,
          0,
          0,
          0,
          0,
          0,
          0,
          0,
          0,
          0,
          0,
          0,
          0,
          0,
          0,
          1,
          0,
          0,
          0,
          0,
          0,
          0,
          0,
          1,
          0,
          0,
          0,
          0,
          0,
          0,
          0,
          0,
          0,
          0,
          0,
          0,
          1,
          0,
          0,
          0,
          0,
          0,
          0,
          0,
          0,
          0,
          0,
          0,
          0,
          0,
          0,
          0,
          0,
          0,
          0,
          0,
          0,
          0,
          0,
          0,
          0,
          0,
          1,
          0,
          0,
          0,
          0,
          0,
          0,
          0,
          0,
          1,
          0,
          1,
          0,
          0,
          0,
          0,
          0,
          0,
          0,
          0,
          0,
          1,
          0,
          0,
          0,
          0,
          0,
          0,
          0,
          0,
          1,
          0,
          0,
          0,
          0,
          0,
          0,
          0,
          0,
          0,
          0,
          1,
          0,
          0,
          0,
          0,
          0,
          0,
          0,
          0,
          0,
          0,
          0,
          1,
          1,
          0,
          0,
          0,
          0,
          0,
          0,
          0,
          0,
          0,
          0,
          0,
          0,
          0,
          0,
          0,
          0,
          0,
          0,
          0,
          0,
          0,
          0,
          0,
          0,
          1,
          1,
          0,
          0,
          0,
          0,
          0,
          1,
          0,
          0,
          0,
          0,
          0,
          0,
          0,
          0,
          0,
          0,
          0,
          1,
          1,
          0,
          0,
          0,
          0,
          0,
          0,
          0,
          0,
          0,
          0,
          0,
          0,
          0,
          0,
          0,
          1,
          0,
          0,
          0,
          0,
          0,
          0,
          0,
          0,
          0,
          0,
          0,
          0,
          0,
          0,
          0,
          0,
          0,
          0,
          0,
          1,
          1,
          0,
          0,
          0,
          0,
          0,
          0,
          0,
          0,
          1,
          0,
          0,
          0,
          0,
          0,
          0,
          0,
          0,
          0,
          0,
          0,
          0,
          0,
          0,
          0,
          0,
          0,
          0,
          0,
          0,
          0,
          0,
          0,
          0,
          0,
          0,
          0,
          0,
          0,
          0,
          0,
          0,
          1,
          0,
          0,
          0,
          0,
          0,
          0,
          0,
          0,
          0,
          0,
          0,
          0,
          0,
          0,
          0,
          0,
          0,
          0,
          0,
          0,
          1,
          0,
          0,
          0,
          0,
          0,
          0,
          0,
          0,
          1,
          0,
          0,
          0,
          0,
          0,
          0,
          0,
          0,
          0,
          0,
          0,
          0,
          0,
          0,
          0,
          0,
          0,
          0,
          0,
          0,
          0,
          0,
          0,
          0,
          0,
          1,
          0,
          0,
          0,
          1,
          0,
          0,
          1,
          0,
          0,
          0,
          0,
          0,
          0,
          0,
          0,
          0,
          0,
          0,
          0,
          1,
          0,
          0,
          0,
          0,
          0,
          0,
          1,
          0,
          0,
          0,
          0,
          0,
          0,
          0,
          0,
          0,
          0,
          1,
          0,
          0,
          1,
          0,
          0,
          0,
          1,
          1,
          0,
          0,
          0,
          0,
          0
         ],
         "xaxis": "x13",
         "y": [
          72,
          87.5,
          85,
          76.5,
          114.5,
          95,
          73.5,
          114,
          140,
          163.5,
          85,
          139,
          65.5,
          113.5,
          146,
          153.5,
          142.5,
          87.5,
          105.5,
          96,
          112.5,
          84,
          143,
          86.5,
          99.5,
          47.5,
          84,
          96,
          114.5,
          121,
          112.5,
          106,
          107,
          110,
          147.5,
          106,
          88,
          98.5,
          142.5,
          130,
          155,
          184.5,
          29.5,
          81,
          91,
          114.5,
          68,
          115,
          109.5,
          75.5,
          154.5,
          143.5,
          107,
          115,
          139.5,
          67,
          85,
          118,
          79.5,
          56.5,
          128.5,
          179.5,
          112,
          98,
          128,
          150.5,
          110,
          113.5,
          124,
          56.5,
          130,
          77.5,
          87,
          53.5,
          85.5,
          48,
          85,
          72.5,
          97.5,
          99,
          56.5,
          133,
          121,
          85.5,
          87.5,
          237.5,
          95.5,
          104.5,
          56.5,
          55,
          157,
          78,
          132.5,
          108,
          80.5,
          107.5,
          95,
          119.5,
          134,
          100.5,
          107.5,
          122,
          92.5,
          62,
          107.5,
          89.5,
          81,
          147,
          85,
          100.5,
          97,
          132.5,
          100,
          105,
          87,
          103.5,
          67,
          87,
          137.5,
          100,
          106.5,
          98.5,
          61,
          106.5,
          84.5,
          164,
          169,
          142,
          107,
          171.5,
          107,
          61.5,
          120,
          150.5,
          71.5,
          51.5,
          77.5,
          98.5,
          225,
          147,
          61,
          120,
          124.5,
          148,
          59,
          146.5,
          133,
          140.5,
          70.5,
          181,
          205,
          48.5,
          124,
          98,
          107.5,
          89,
          100.5,
          65,
          72.5,
          87.5,
          92.5,
          81.5,
          79,
          47.5,
          69,
          49,
          59,
          88.5,
          88,
          100,
          96.5,
          76,
          15.5,
          83.5,
          163,
          100,
          50,
          93,
          94.5,
          102,
          155,
          108,
          63.5,
          109,
          96,
          101,
          77.5,
          90,
          58,
          128,
          101,
          142,
          169,
          75.5,
          139,
          102.5,
          81,
          77,
          92,
          121,
          162.5,
          90.5,
          110,
          70.5,
          92,
          82,
          164.5,
          44,
          109,
          149.5,
          65.5,
          124.5,
          114,
          49,
          71,
          61,
          94.5,
          87,
          64.5,
          154.5,
          128.5,
          137,
          99,
          139.5,
          109,
          254,
          45.5,
          122.5,
          140,
          77.5,
          90,
          167.5,
          60,
          180,
          65,
          112.5,
          87.5,
          62.5,
          100,
          85,
          122,
          138.5,
          107.5,
          162,
          68.5,
          110.5,
          115.5,
          80.5,
          43,
          66.5,
          94.5,
          119,
          27.5,
          194.5,
          105.5,
          62.5,
          161.5,
          72.5,
          139,
          136.5,
          74.5,
          101,
          116.5,
          232.5,
          120.5,
          153,
          127,
          85.5,
          76.5,
          128,
          91.5,
          177,
          107,
          113.5,
          143.5,
          113.5,
          101.5,
          73,
          80.5,
          110.5,
          139.5,
          145.5,
          87,
          100.5,
          147,
          110.5,
          94,
          123.5,
          73,
          165,
          59.5,
          66,
          75.5,
          87,
          140,
          86,
          116.5,
          80,
          173,
          68.5,
          172,
          69.5,
          97.5,
          95,
          194,
          104.5,
          85.5,
          50,
          113,
          153,
          123.5,
          47,
          162,
          133.5,
          109,
          125,
          106.5,
          54,
          37.5,
          53.5,
          168,
          138.5,
          111.5,
          68.5,
          102.5,
          127.5,
          72,
          47,
          65,
          94,
          97,
          114.5,
          121.5,
          60.5,
          118.5,
          58.5,
          63.5,
          107,
          105.5,
          83,
          221.5,
          95.5,
          173,
          147.5,
          81,
          83,
          85.5,
          107.5,
          44.5,
          107.5,
          69.5,
          53,
          103,
          114,
          96,
          96.5,
          69.5,
          121,
          103,
          106.5,
          130,
          89,
          111,
          87.5
         ],
         "yaxis": "y13"
        },
        {
         "boxpoints": "all",
         "type": "box",
         "x": [
          0,
          0,
          0,
          0,
          0,
          1,
          0,
          0,
          0,
          0,
          0,
          0,
          0,
          0,
          0,
          0,
          0,
          0,
          0,
          0,
          1,
          0,
          0,
          0,
          0,
          0,
          0,
          0,
          0,
          1,
          0,
          0,
          1,
          0,
          0,
          0,
          1,
          0,
          0,
          0,
          0,
          0,
          0,
          0,
          0,
          0,
          0,
          0,
          0,
          0,
          0,
          0,
          0,
          0,
          0,
          0,
          0,
          0,
          0,
          0,
          0,
          0,
          0,
          0,
          0,
          0,
          0,
          0,
          0,
          0,
          0,
          0,
          0,
          0,
          0,
          0,
          0,
          0,
          1,
          0,
          0,
          0,
          0,
          0,
          0,
          0,
          0,
          0,
          0,
          0,
          0,
          0,
          0,
          0,
          0,
          0,
          0,
          0,
          0,
          0,
          0,
          0,
          1,
          0,
          0,
          0,
          0,
          0,
          0,
          0,
          1,
          0,
          0,
          0,
          0,
          0,
          0,
          0,
          0,
          0,
          1,
          0,
          0,
          1,
          0,
          0,
          0,
          0,
          0,
          0,
          0,
          0,
          0,
          0,
          0,
          0,
          0,
          0,
          0,
          0,
          0,
          0,
          0,
          0,
          0,
          0,
          0,
          0,
          0,
          0,
          0,
          0,
          0,
          0,
          0,
          0,
          0,
          0,
          0,
          0,
          0,
          0,
          0,
          0,
          0,
          0,
          0,
          0,
          0,
          0,
          0,
          0,
          0,
          0,
          0,
          0,
          0,
          0,
          0,
          0,
          0,
          0,
          0,
          0,
          0,
          0,
          0,
          0,
          0,
          0,
          0,
          1,
          1,
          0,
          0,
          1,
          0,
          0,
          0,
          0,
          0,
          0,
          0,
          0,
          0,
          0,
          0,
          0,
          0,
          0,
          0,
          0,
          0,
          0,
          0,
          0,
          0,
          0,
          0,
          1,
          0,
          0,
          0,
          0,
          0,
          0,
          0,
          1,
          0,
          0,
          0,
          0,
          0,
          0,
          0,
          0,
          0,
          0,
          0,
          0,
          0,
          0,
          1,
          0,
          0,
          0,
          0,
          0,
          0,
          0,
          0,
          0,
          0,
          0,
          0,
          0,
          0,
          0,
          0,
          0,
          0,
          0,
          0,
          0,
          0,
          0,
          0,
          0,
          0,
          1,
          0,
          1,
          0,
          0,
          0,
          0,
          0,
          0,
          0,
          0,
          0,
          0,
          0,
          0,
          1,
          0,
          0,
          0,
          0,
          0,
          0,
          0,
          0,
          0,
          0,
          0,
          0,
          0,
          0,
          0,
          0,
          1,
          0,
          0,
          0,
          0,
          0,
          0,
          1,
          0,
          1,
          0,
          0,
          0,
          0,
          0,
          0,
          0,
          0,
          0,
          0,
          0,
          0,
          0,
          0,
          0,
          0,
          0,
          0,
          0,
          0,
          0,
          0,
          1,
          0,
          0,
          0,
          0,
          0,
          0,
          0,
          0,
          0,
          0,
          0,
          0,
          0,
          0,
          0,
          0,
          0,
          0,
          0,
          0,
          0,
          0,
          0,
          0,
          0,
          0,
          0,
          0,
          0,
          0
         ],
         "xaxis": "x14",
         "y": [
          72,
          87.5,
          85,
          76.5,
          114.5,
          95,
          73.5,
          114,
          140,
          163.5,
          85,
          139,
          65.5,
          113.5,
          146,
          153.5,
          142.5,
          87.5,
          105.5,
          96,
          112.5,
          84,
          143,
          86.5,
          99.5,
          47.5,
          84,
          96,
          114.5,
          121,
          112.5,
          106,
          107,
          110,
          147.5,
          106,
          88,
          98.5,
          142.5,
          130,
          155,
          184.5,
          29.5,
          81,
          91,
          114.5,
          68,
          115,
          109.5,
          75.5,
          154.5,
          143.5,
          107,
          115,
          139.5,
          67,
          85,
          118,
          79.5,
          56.5,
          128.5,
          179.5,
          112,
          98,
          128,
          150.5,
          110,
          113.5,
          124,
          56.5,
          130,
          77.5,
          87,
          53.5,
          85.5,
          48,
          85,
          72.5,
          97.5,
          99,
          56.5,
          133,
          121,
          85.5,
          87.5,
          237.5,
          95.5,
          104.5,
          56.5,
          55,
          157,
          78,
          132.5,
          108,
          80.5,
          107.5,
          95,
          119.5,
          134,
          100.5,
          107.5,
          122,
          92.5,
          62,
          107.5,
          89.5,
          81,
          147,
          85,
          100.5,
          97,
          132.5,
          100,
          105,
          87,
          103.5,
          67,
          87,
          137.5,
          100,
          106.5,
          98.5,
          61,
          106.5,
          84.5,
          164,
          169,
          142,
          107,
          171.5,
          107,
          61.5,
          120,
          150.5,
          71.5,
          51.5,
          77.5,
          98.5,
          225,
          147,
          61,
          120,
          124.5,
          148,
          59,
          146.5,
          133,
          140.5,
          70.5,
          181,
          205,
          48.5,
          124,
          98,
          107.5,
          89,
          100.5,
          65,
          72.5,
          87.5,
          92.5,
          81.5,
          79,
          47.5,
          69,
          49,
          59,
          88.5,
          88,
          100,
          96.5,
          76,
          15.5,
          83.5,
          163,
          100,
          50,
          93,
          94.5,
          102,
          155,
          108,
          63.5,
          109,
          96,
          101,
          77.5,
          90,
          58,
          128,
          101,
          142,
          169,
          75.5,
          139,
          102.5,
          81,
          77,
          92,
          121,
          162.5,
          90.5,
          110,
          70.5,
          92,
          82,
          164.5,
          44,
          109,
          149.5,
          65.5,
          124.5,
          114,
          49,
          71,
          61,
          94.5,
          87,
          64.5,
          154.5,
          128.5,
          137,
          99,
          139.5,
          109,
          254,
          45.5,
          122.5,
          140,
          77.5,
          90,
          167.5,
          60,
          180,
          65,
          112.5,
          87.5,
          62.5,
          100,
          85,
          122,
          138.5,
          107.5,
          162,
          68.5,
          110.5,
          115.5,
          80.5,
          43,
          66.5,
          94.5,
          119,
          27.5,
          194.5,
          105.5,
          62.5,
          161.5,
          72.5,
          139,
          136.5,
          74.5,
          101,
          116.5,
          232.5,
          120.5,
          153,
          127,
          85.5,
          76.5,
          128,
          91.5,
          177,
          107,
          113.5,
          143.5,
          113.5,
          101.5,
          73,
          80.5,
          110.5,
          139.5,
          145.5,
          87,
          100.5,
          147,
          110.5,
          94,
          123.5,
          73,
          165,
          59.5,
          66,
          75.5,
          87,
          140,
          86,
          116.5,
          80,
          173,
          68.5,
          172,
          69.5,
          97.5,
          95,
          194,
          104.5,
          85.5,
          50,
          113,
          153,
          123.5,
          47,
          162,
          133.5,
          109,
          125,
          106.5,
          54,
          37.5,
          53.5,
          168,
          138.5,
          111.5,
          68.5,
          102.5,
          127.5,
          72,
          47,
          65,
          94,
          97,
          114.5,
          121.5,
          60.5,
          118.5,
          58.5,
          63.5,
          107,
          105.5,
          83,
          221.5,
          95.5,
          173,
          147.5,
          81,
          83,
          85.5,
          107.5,
          44.5,
          107.5,
          69.5,
          53,
          103,
          114,
          96,
          96.5,
          69.5,
          121,
          103,
          106.5,
          130,
          89,
          111,
          87.5
         ],
         "yaxis": "y14"
        }
       ],
       "layout": {
        "height": 1200,
        "template": {
         "data": {
          "bar": [
           {
            "error_x": {
             "color": "#2a3f5f"
            },
            "error_y": {
             "color": "#2a3f5f"
            },
            "marker": {
             "line": {
              "color": "#E5ECF6",
              "width": 0.5
             },
             "pattern": {
              "fillmode": "overlay",
              "size": 10,
              "solidity": 0.2
             }
            },
            "type": "bar"
           }
          ],
          "barpolar": [
           {
            "marker": {
             "line": {
              "color": "#E5ECF6",
              "width": 0.5
             },
             "pattern": {
              "fillmode": "overlay",
              "size": 10,
              "solidity": 0.2
             }
            },
            "type": "barpolar"
           }
          ],
          "carpet": [
           {
            "aaxis": {
             "endlinecolor": "#2a3f5f",
             "gridcolor": "white",
             "linecolor": "white",
             "minorgridcolor": "white",
             "startlinecolor": "#2a3f5f"
            },
            "baxis": {
             "endlinecolor": "#2a3f5f",
             "gridcolor": "white",
             "linecolor": "white",
             "minorgridcolor": "white",
             "startlinecolor": "#2a3f5f"
            },
            "type": "carpet"
           }
          ],
          "choropleth": [
           {
            "colorbar": {
             "outlinewidth": 0,
             "ticks": ""
            },
            "type": "choropleth"
           }
          ],
          "contour": [
           {
            "colorbar": {
             "outlinewidth": 0,
             "ticks": ""
            },
            "colorscale": [
             [
              0,
              "#0d0887"
             ],
             [
              0.1111111111111111,
              "#46039f"
             ],
             [
              0.2222222222222222,
              "#7201a8"
             ],
             [
              0.3333333333333333,
              "#9c179e"
             ],
             [
              0.4444444444444444,
              "#bd3786"
             ],
             [
              0.5555555555555556,
              "#d8576b"
             ],
             [
              0.6666666666666666,
              "#ed7953"
             ],
             [
              0.7777777777777778,
              "#fb9f3a"
             ],
             [
              0.8888888888888888,
              "#fdca26"
             ],
             [
              1,
              "#f0f921"
             ]
            ],
            "type": "contour"
           }
          ],
          "contourcarpet": [
           {
            "colorbar": {
             "outlinewidth": 0,
             "ticks": ""
            },
            "type": "contourcarpet"
           }
          ],
          "heatmap": [
           {
            "colorbar": {
             "outlinewidth": 0,
             "ticks": ""
            },
            "colorscale": [
             [
              0,
              "#0d0887"
             ],
             [
              0.1111111111111111,
              "#46039f"
             ],
             [
              0.2222222222222222,
              "#7201a8"
             ],
             [
              0.3333333333333333,
              "#9c179e"
             ],
             [
              0.4444444444444444,
              "#bd3786"
             ],
             [
              0.5555555555555556,
              "#d8576b"
             ],
             [
              0.6666666666666666,
              "#ed7953"
             ],
             [
              0.7777777777777778,
              "#fb9f3a"
             ],
             [
              0.8888888888888888,
              "#fdca26"
             ],
             [
              1,
              "#f0f921"
             ]
            ],
            "type": "heatmap"
           }
          ],
          "heatmapgl": [
           {
            "colorbar": {
             "outlinewidth": 0,
             "ticks": ""
            },
            "colorscale": [
             [
              0,
              "#0d0887"
             ],
             [
              0.1111111111111111,
              "#46039f"
             ],
             [
              0.2222222222222222,
              "#7201a8"
             ],
             [
              0.3333333333333333,
              "#9c179e"
             ],
             [
              0.4444444444444444,
              "#bd3786"
             ],
             [
              0.5555555555555556,
              "#d8576b"
             ],
             [
              0.6666666666666666,
              "#ed7953"
             ],
             [
              0.7777777777777778,
              "#fb9f3a"
             ],
             [
              0.8888888888888888,
              "#fdca26"
             ],
             [
              1,
              "#f0f921"
             ]
            ],
            "type": "heatmapgl"
           }
          ],
          "histogram": [
           {
            "marker": {
             "pattern": {
              "fillmode": "overlay",
              "size": 10,
              "solidity": 0.2
             }
            },
            "type": "histogram"
           }
          ],
          "histogram2d": [
           {
            "colorbar": {
             "outlinewidth": 0,
             "ticks": ""
            },
            "colorscale": [
             [
              0,
              "#0d0887"
             ],
             [
              0.1111111111111111,
              "#46039f"
             ],
             [
              0.2222222222222222,
              "#7201a8"
             ],
             [
              0.3333333333333333,
              "#9c179e"
             ],
             [
              0.4444444444444444,
              "#bd3786"
             ],
             [
              0.5555555555555556,
              "#d8576b"
             ],
             [
              0.6666666666666666,
              "#ed7953"
             ],
             [
              0.7777777777777778,
              "#fb9f3a"
             ],
             [
              0.8888888888888888,
              "#fdca26"
             ],
             [
              1,
              "#f0f921"
             ]
            ],
            "type": "histogram2d"
           }
          ],
          "histogram2dcontour": [
           {
            "colorbar": {
             "outlinewidth": 0,
             "ticks": ""
            },
            "colorscale": [
             [
              0,
              "#0d0887"
             ],
             [
              0.1111111111111111,
              "#46039f"
             ],
             [
              0.2222222222222222,
              "#7201a8"
             ],
             [
              0.3333333333333333,
              "#9c179e"
             ],
             [
              0.4444444444444444,
              "#bd3786"
             ],
             [
              0.5555555555555556,
              "#d8576b"
             ],
             [
              0.6666666666666666,
              "#ed7953"
             ],
             [
              0.7777777777777778,
              "#fb9f3a"
             ],
             [
              0.8888888888888888,
              "#fdca26"
             ],
             [
              1,
              "#f0f921"
             ]
            ],
            "type": "histogram2dcontour"
           }
          ],
          "mesh3d": [
           {
            "colorbar": {
             "outlinewidth": 0,
             "ticks": ""
            },
            "type": "mesh3d"
           }
          ],
          "parcoords": [
           {
            "line": {
             "colorbar": {
              "outlinewidth": 0,
              "ticks": ""
             }
            },
            "type": "parcoords"
           }
          ],
          "pie": [
           {
            "automargin": true,
            "type": "pie"
           }
          ],
          "scatter": [
           {
            "fillpattern": {
             "fillmode": "overlay",
             "size": 10,
             "solidity": 0.2
            },
            "type": "scatter"
           }
          ],
          "scatter3d": [
           {
            "line": {
             "colorbar": {
              "outlinewidth": 0,
              "ticks": ""
             }
            },
            "marker": {
             "colorbar": {
              "outlinewidth": 0,
              "ticks": ""
             }
            },
            "type": "scatter3d"
           }
          ],
          "scattercarpet": [
           {
            "marker": {
             "colorbar": {
              "outlinewidth": 0,
              "ticks": ""
             }
            },
            "type": "scattercarpet"
           }
          ],
          "scattergeo": [
           {
            "marker": {
             "colorbar": {
              "outlinewidth": 0,
              "ticks": ""
             }
            },
            "type": "scattergeo"
           }
          ],
          "scattergl": [
           {
            "marker": {
             "colorbar": {
              "outlinewidth": 0,
              "ticks": ""
             }
            },
            "type": "scattergl"
           }
          ],
          "scattermapbox": [
           {
            "marker": {
             "colorbar": {
              "outlinewidth": 0,
              "ticks": ""
             }
            },
            "type": "scattermapbox"
           }
          ],
          "scatterpolar": [
           {
            "marker": {
             "colorbar": {
              "outlinewidth": 0,
              "ticks": ""
             }
            },
            "type": "scatterpolar"
           }
          ],
          "scatterpolargl": [
           {
            "marker": {
             "colorbar": {
              "outlinewidth": 0,
              "ticks": ""
             }
            },
            "type": "scatterpolargl"
           }
          ],
          "scatterternary": [
           {
            "marker": {
             "colorbar": {
              "outlinewidth": 0,
              "ticks": ""
             }
            },
            "type": "scatterternary"
           }
          ],
          "surface": [
           {
            "colorbar": {
             "outlinewidth": 0,
             "ticks": ""
            },
            "colorscale": [
             [
              0,
              "#0d0887"
             ],
             [
              0.1111111111111111,
              "#46039f"
             ],
             [
              0.2222222222222222,
              "#7201a8"
             ],
             [
              0.3333333333333333,
              "#9c179e"
             ],
             [
              0.4444444444444444,
              "#bd3786"
             ],
             [
              0.5555555555555556,
              "#d8576b"
             ],
             [
              0.6666666666666666,
              "#ed7953"
             ],
             [
              0.7777777777777778,
              "#fb9f3a"
             ],
             [
              0.8888888888888888,
              "#fdca26"
             ],
             [
              1,
              "#f0f921"
             ]
            ],
            "type": "surface"
           }
          ],
          "table": [
           {
            "cells": {
             "fill": {
              "color": "#EBF0F8"
             },
             "line": {
              "color": "white"
             }
            },
            "header": {
             "fill": {
              "color": "#C8D4E3"
             },
             "line": {
              "color": "white"
             }
            },
            "type": "table"
           }
          ]
         },
         "layout": {
          "annotationdefaults": {
           "arrowcolor": "#2a3f5f",
           "arrowhead": 0,
           "arrowwidth": 1
          },
          "autotypenumbers": "strict",
          "coloraxis": {
           "colorbar": {
            "outlinewidth": 0,
            "ticks": ""
           }
          },
          "colorscale": {
           "diverging": [
            [
             0,
             "#8e0152"
            ],
            [
             0.1,
             "#c51b7d"
            ],
            [
             0.2,
             "#de77ae"
            ],
            [
             0.3,
             "#f1b6da"
            ],
            [
             0.4,
             "#fde0ef"
            ],
            [
             0.5,
             "#f7f7f7"
            ],
            [
             0.6,
             "#e6f5d0"
            ],
            [
             0.7,
             "#b8e186"
            ],
            [
             0.8,
             "#7fbc41"
            ],
            [
             0.9,
             "#4d9221"
            ],
            [
             1,
             "#276419"
            ]
           ],
           "sequential": [
            [
             0,
             "#0d0887"
            ],
            [
             0.1111111111111111,
             "#46039f"
            ],
            [
             0.2222222222222222,
             "#7201a8"
            ],
            [
             0.3333333333333333,
             "#9c179e"
            ],
            [
             0.4444444444444444,
             "#bd3786"
            ],
            [
             0.5555555555555556,
             "#d8576b"
            ],
            [
             0.6666666666666666,
             "#ed7953"
            ],
            [
             0.7777777777777778,
             "#fb9f3a"
            ],
            [
             0.8888888888888888,
             "#fdca26"
            ],
            [
             1,
             "#f0f921"
            ]
           ],
           "sequentialminus": [
            [
             0,
             "#0d0887"
            ],
            [
             0.1111111111111111,
             "#46039f"
            ],
            [
             0.2222222222222222,
             "#7201a8"
            ],
            [
             0.3333333333333333,
             "#9c179e"
            ],
            [
             0.4444444444444444,
             "#bd3786"
            ],
            [
             0.5555555555555556,
             "#d8576b"
            ],
            [
             0.6666666666666666,
             "#ed7953"
            ],
            [
             0.7777777777777778,
             "#fb9f3a"
            ],
            [
             0.8888888888888888,
             "#fdca26"
            ],
            [
             1,
             "#f0f921"
            ]
           ]
          },
          "colorway": [
           "#636efa",
           "#EF553B",
           "#00cc96",
           "#ab63fa",
           "#FFA15A",
           "#19d3f3",
           "#FF6692",
           "#B6E880",
           "#FF97FF",
           "#FECB52"
          ],
          "font": {
           "color": "#2a3f5f"
          },
          "geo": {
           "bgcolor": "white",
           "lakecolor": "white",
           "landcolor": "#E5ECF6",
           "showlakes": true,
           "showland": true,
           "subunitcolor": "white"
          },
          "hoverlabel": {
           "align": "left"
          },
          "hovermode": "closest",
          "mapbox": {
           "style": "light"
          },
          "paper_bgcolor": "white",
          "plot_bgcolor": "#E5ECF6",
          "polar": {
           "angularaxis": {
            "gridcolor": "white",
            "linecolor": "white",
            "ticks": ""
           },
           "bgcolor": "#E5ECF6",
           "radialaxis": {
            "gridcolor": "white",
            "linecolor": "white",
            "ticks": ""
           }
          },
          "scene": {
           "xaxis": {
            "backgroundcolor": "#E5ECF6",
            "gridcolor": "white",
            "gridwidth": 2,
            "linecolor": "white",
            "showbackground": true,
            "ticks": "",
            "zerolinecolor": "white"
           },
           "yaxis": {
            "backgroundcolor": "#E5ECF6",
            "gridcolor": "white",
            "gridwidth": 2,
            "linecolor": "white",
            "showbackground": true,
            "ticks": "",
            "zerolinecolor": "white"
           },
           "zaxis": {
            "backgroundcolor": "#E5ECF6",
            "gridcolor": "white",
            "gridwidth": 2,
            "linecolor": "white",
            "showbackground": true,
            "ticks": "",
            "zerolinecolor": "white"
           }
          },
          "shapedefaults": {
           "line": {
            "color": "#2a3f5f"
           }
          },
          "ternary": {
           "aaxis": {
            "gridcolor": "white",
            "linecolor": "white",
            "ticks": ""
           },
           "baxis": {
            "gridcolor": "white",
            "linecolor": "white",
            "ticks": ""
           },
           "bgcolor": "#E5ECF6",
           "caxis": {
            "gridcolor": "white",
            "linecolor": "white",
            "ticks": ""
           }
          },
          "title": {
           "x": 0.05
          },
          "xaxis": {
           "automargin": true,
           "gridcolor": "white",
           "linecolor": "white",
           "ticks": "",
           "title": {
            "standoff": 15
           },
           "zerolinecolor": "white",
           "zerolinewidth": 2
          },
          "yaxis": {
           "automargin": true,
           "gridcolor": "white",
           "linecolor": "white",
           "ticks": "",
           "title": {
            "standoff": 15
           },
           "zerolinecolor": "white",
           "zerolinewidth": 2
          }
         }
        },
        "width": 800,
        "xaxis": {
         "anchor": "y",
         "domain": [
          0,
          0.2125
         ],
         "title": {
          "text": "Python-Avg Salary"
         }
        },
        "xaxis10": {
         "anchor": "y10",
         "domain": [
          0.2625,
          0.475
         ],
         "title": {
          "text": "tensor-Avg Salary"
         }
        },
        "xaxis11": {
         "anchor": "y11",
         "domain": [
          0.525,
          0.7375
         ],
         "title": {
          "text": "hadoop-Avg Salary"
         }
        },
        "xaxis12": {
         "anchor": "y12",
         "domain": [
          0.7875,
          1
         ],
         "title": {
          "text": "tableau-Avg Salary"
         }
        },
        "xaxis13": {
         "anchor": "y13",
         "domain": [
          0,
          0.2125
         ],
         "title": {
          "text": "bi-Avg Salary"
         }
        },
        "xaxis14": {
         "anchor": "y14",
         "domain": [
          0.2625,
          0.475
         ],
         "title": {
          "text": "mongo-Avg Salary"
         }
        },
        "xaxis15": {
         "anchor": "y15",
         "domain": [
          0.525,
          0.7375
         ]
        },
        "xaxis16": {
         "anchor": "y16",
         "domain": [
          0.7875,
          1
         ]
        },
        "xaxis2": {
         "anchor": "y2",
         "domain": [
          0.2625,
          0.475
         ],
         "title": {
          "text": "spark-Avg Salary"
         }
        },
        "xaxis3": {
         "anchor": "y3",
         "domain": [
          0.525,
          0.7375
         ],
         "title": {
          "text": "aws-Avg Salary"
         }
        },
        "xaxis4": {
         "anchor": "y4",
         "domain": [
          0.7875,
          1
         ],
         "title": {
          "text": "excel-Avg Salary"
         }
        },
        "xaxis5": {
         "anchor": "y5",
         "domain": [
          0,
          0.2125
         ],
         "title": {
          "text": "sql-Avg Salary"
         }
        },
        "xaxis6": {
         "anchor": "y6",
         "domain": [
          0.2625,
          0.475
         ],
         "title": {
          "text": "sas-Avg Salary"
         }
        },
        "xaxis7": {
         "anchor": "y7",
         "domain": [
          0.525,
          0.7375
         ],
         "title": {
          "text": "keras-Avg Salary"
         }
        },
        "xaxis8": {
         "anchor": "y8",
         "domain": [
          0.7875,
          1
         ],
         "title": {
          "text": "pytorch-Avg Salary"
         }
        },
        "xaxis9": {
         "anchor": "y9",
         "domain": [
          0,
          0.2125
         ],
         "title": {
          "text": "scikit-Avg Salary"
         }
        },
        "yaxis": {
         "anchor": "x",
         "domain": [
          0.80625,
          1
         ]
        },
        "yaxis10": {
         "anchor": "x10",
         "domain": [
          0.26875,
          0.4625
         ],
         "matches": "y9",
         "showticklabels": false
        },
        "yaxis11": {
         "anchor": "x11",
         "domain": [
          0.26875,
          0.4625
         ],
         "matches": "y9",
         "showticklabels": false
        },
        "yaxis12": {
         "anchor": "x12",
         "domain": [
          0.26875,
          0.4625
         ],
         "matches": "y9",
         "showticklabels": false
        },
        "yaxis13": {
         "anchor": "x13",
         "domain": [
          0,
          0.19375
         ]
        },
        "yaxis14": {
         "anchor": "x14",
         "domain": [
          0,
          0.19375
         ],
         "matches": "y13",
         "showticklabels": false
        },
        "yaxis15": {
         "anchor": "x15",
         "domain": [
          0,
          0.19375
         ],
         "matches": "y13",
         "showticklabels": false
        },
        "yaxis16": {
         "anchor": "x16",
         "domain": [
          0,
          0.19375
         ],
         "matches": "y13",
         "showticklabels": false
        },
        "yaxis2": {
         "anchor": "x2",
         "domain": [
          0.80625,
          1
         ],
         "matches": "y",
         "showticklabels": false
        },
        "yaxis3": {
         "anchor": "x3",
         "domain": [
          0.80625,
          1
         ],
         "matches": "y",
         "showticklabels": false
        },
        "yaxis4": {
         "anchor": "x4",
         "domain": [
          0.80625,
          1
         ],
         "matches": "y",
         "showticklabels": false
        },
        "yaxis5": {
         "anchor": "x5",
         "domain": [
          0.5375,
          0.73125
         ]
        },
        "yaxis6": {
         "anchor": "x6",
         "domain": [
          0.5375,
          0.73125
         ],
         "matches": "y5",
         "showticklabels": false
        },
        "yaxis7": {
         "anchor": "x7",
         "domain": [
          0.5375,
          0.73125
         ],
         "matches": "y5",
         "showticklabels": false
        },
        "yaxis8": {
         "anchor": "x8",
         "domain": [
          0.5375,
          0.73125
         ],
         "matches": "y5",
         "showticklabels": false
        },
        "yaxis9": {
         "anchor": "x9",
         "domain": [
          0.26875,
          0.4625
         ]
        }
       }
      },
      "text/html": [
       "<div>                            <div id=\"15d23054-bf7f-44ad-80ec-629b486e4589\" class=\"plotly-graph-div\" style=\"height:1200px; width:800px;\"></div>            <script type=\"text/javascript\">                require([\"plotly\"], function(Plotly) {                    window.PLOTLYENV=window.PLOTLYENV || {};                                    if (document.getElementById(\"15d23054-bf7f-44ad-80ec-629b486e4589\")) {                    Plotly.newPlot(                        \"15d23054-bf7f-44ad-80ec-629b486e4589\",                        [{\"boxpoints\":\"all\",\"x\":[1,1,1,1,1,1,0,1,1,1,0,0,1,1,0,1,0,1,1,0,1,1,1,1,1,0,0,1,1,1,1,1,1,1,1,1,1,0,0,1,0,1,0,0,1,1,1,1,0,1,1,1,1,1,0,0,1,1,1,1,1,1,1,1,0,1,1,1,1,0,1,0,1,0,1,0,1,0,1,1,0,1,1,1,1,1,1,1,0,0,0,1,0,1,0,1,0,1,0,1,1,1,1,0,0,1,1,1,1,1,1,0,0,1,0,0,1,0,1,1,0,0,1,1,1,1,1,1,1,1,0,1,1,1,1,0,1,0,1,1,0,1,1,1,1,1,1,1,0,1,1,0,0,1,0,1,0,0,1,0,1,1,0,0,1,1,0,0,1,1,1,1,0,1,0,0,0,1,1,1,1,1,0,1,1,1,0,1,0,1,1,1,0,0,1,1,1,0,0,0,1,1,0,0,1,1,0,0,1,0,0,1,1,1,0,1,1,1,1,0,1,1,1,1,0,1,0,1,1,0,0,0,0,1,0,1,1,1,0,1,1,1,0,1,1,0,1,0,0,0,1,0,0,1,1,0,1,0,1,0,1,1,0,1,1,1,1,1,1,1,1,1,1,1,1,1,1,0,1,1,1,1,0,0,1,1,1,1,0,1,1,0,1,1,1,1,1,1,1,1,0,1,1,1,0,1,1,0,1,1,0,0,1,1,0,1,1,0,0,1,1,1,0,0,1,0,0,1,1,1,1,0,0,1,1,1,1,1,1,0,1,1,1,1,0,1,0,1,0,0,0,0,0,1,0,1,1,1,1,1,0,0,1,1],\"y\":[72.0,87.5,85.0,76.5,114.5,95.0,73.5,114.0,140.0,163.5,85.0,139.0,65.5,113.5,146.0,153.5,142.5,87.5,105.5,96.0,112.5,84.0,143.0,86.5,99.5,47.5,84.0,96.0,114.5,121.0,112.5,106.0,107.0,110.0,147.5,106.0,88.0,98.5,142.5,130.0,155.0,184.5,29.5,81.0,91.0,114.5,68.0,115.0,109.5,75.5,154.5,143.5,107.0,115.0,139.5,67.0,85.0,118.0,79.5,56.5,128.5,179.5,112.0,98.0,128.0,150.5,110.0,113.5,124.0,56.5,130.0,77.5,87.0,53.5,85.5,48.0,85.0,72.5,97.5,99.0,56.5,133.0,121.0,85.5,87.5,237.5,95.5,104.5,56.5,55.0,157.0,78.0,132.5,108.0,80.5,107.5,95.0,119.5,134.0,100.5,107.5,122.0,92.5,62.0,107.5,89.5,81.0,147.0,85.0,100.5,97.0,132.5,100.0,105.0,87.0,103.5,67.0,87.0,137.5,100.0,106.5,98.5,61.0,106.5,84.5,164.0,169.0,142.0,107.0,171.5,107.0,61.5,120.0,150.5,71.5,51.5,77.5,98.5,225.0,147.0,61.0,120.0,124.5,148.0,59.0,146.5,133.0,140.5,70.5,181.0,205.0,48.5,124.0,98.0,107.5,89.0,100.5,65.0,72.5,87.5,92.5,81.5,79.0,47.5,69.0,49.0,59.0,88.5,88.0,100.0,96.5,76.0,15.5,83.5,163.0,100.0,50.0,93.0,94.5,102.0,155.0,108.0,63.5,109.0,96.0,101.0,77.5,90.0,58.0,128.0,101.0,142.0,169.0,75.5,139.0,102.5,81.0,77.0,92.0,121.0,162.5,90.5,110.0,70.5,92.0,82.0,164.5,44.0,109.0,149.5,65.5,124.5,114.0,49.0,71.0,61.0,94.5,87.0,64.5,154.5,128.5,137.0,99.0,139.5,109.0,254.0,45.5,122.5,140.0,77.5,90.0,167.5,60.0,180.0,65.0,112.5,87.5,62.5,100.0,85.0,122.0,138.5,107.5,162.0,68.5,110.5,115.5,80.5,43.0,66.5,94.5,119.0,27.5,194.5,105.5,62.5,161.5,72.5,139.0,136.5,74.5,101.0,116.5,232.5,120.5,153.0,127.0,85.5,76.5,128.0,91.5,177.0,107.0,113.5,143.5,113.5,101.5,73.0,80.5,110.5,139.5,145.5,87.0,100.5,147.0,110.5,94.0,123.5,73.0,165.0,59.5,66.0,75.5,87.0,140.0,86.0,116.5,80.0,173.0,68.5,172.0,69.5,97.5,95.0,194.0,104.5,85.5,50.0,113.0,153.0,123.5,47.0,162.0,133.5,109.0,125.0,106.5,54.0,37.5,53.5,168.0,138.5,111.5,68.5,102.5,127.5,72.0,47.0,65.0,94.0,97.0,114.5,121.5,60.5,118.5,58.5,63.5,107.0,105.5,83.0,221.5,95.5,173.0,147.5,81.0,83.0,85.5,107.5,44.5,107.5,69.5,53.0,103.0,114.0,96.0,96.5,69.5,121.0,103.0,106.5,130.0,89.0,111.0,87.5],\"type\":\"box\",\"xaxis\":\"x\",\"yaxis\":\"y\"},{\"boxpoints\":\"all\",\"x\":[0,0,1,0,0,0,0,1,1,0,0,0,1,1,0,1,0,0,1,0,0,0,0,0,1,0,0,0,0,1,0,0,1,1,0,0,0,0,0,1,0,0,0,0,0,0,0,0,0,0,1,1,0,1,0,0,0,0,0,0,1,0,1,0,1,1,0,0,0,0,0,0,0,0,1,0,1,0,0,0,0,0,1,0,0,0,1,1,0,0,1,0,1,1,0,0,1,1,1,0,0,1,1,0,0,1,0,0,0,1,1,0,1,0,0,0,0,0,1,0,0,0,0,1,1,1,1,1,0,0,0,0,0,1,1,0,0,0,0,1,0,0,0,0,0,0,0,0,0,1,1,0,0,0,0,1,0,0,1,0,0,1,0,0,0,0,0,0,1,1,1,0,0,0,0,0,0,0,0,1,1,1,0,0,0,0,0,0,0,0,0,0,0,1,0,1,0,0,0,0,1,1,0,0,1,0,0,0,1,1,1,1,1,0,0,1,1,0,0,1,0,0,0,0,0,0,0,1,0,0,1,0,0,0,0,1,0,0,0,1,0,1,1,1,1,0,0,0,0,0,0,0,0,0,0,0,0,0,0,0,1,0,0,0,0,1,1,1,0,1,1,1,1,1,0,0,0,0,0,0,0,0,0,0,1,0,1,0,0,0,0,0,0,0,0,0,0,1,0,1,0,0,0,1,0,1,0,0,1,1,0,1,0,0,0,0,0,0,0,0,0,0,0,0,1,0,0,0,1,0,1,0,0,1,1,1,1,0,1,0,0,0,0,0,0,1,0,0,0,0,0,0,1,0,0,0,0,0,0,1,0,0,0,0],\"y\":[72.0,87.5,85.0,76.5,114.5,95.0,73.5,114.0,140.0,163.5,85.0,139.0,65.5,113.5,146.0,153.5,142.5,87.5,105.5,96.0,112.5,84.0,143.0,86.5,99.5,47.5,84.0,96.0,114.5,121.0,112.5,106.0,107.0,110.0,147.5,106.0,88.0,98.5,142.5,130.0,155.0,184.5,29.5,81.0,91.0,114.5,68.0,115.0,109.5,75.5,154.5,143.5,107.0,115.0,139.5,67.0,85.0,118.0,79.5,56.5,128.5,179.5,112.0,98.0,128.0,150.5,110.0,113.5,124.0,56.5,130.0,77.5,87.0,53.5,85.5,48.0,85.0,72.5,97.5,99.0,56.5,133.0,121.0,85.5,87.5,237.5,95.5,104.5,56.5,55.0,157.0,78.0,132.5,108.0,80.5,107.5,95.0,119.5,134.0,100.5,107.5,122.0,92.5,62.0,107.5,89.5,81.0,147.0,85.0,100.5,97.0,132.5,100.0,105.0,87.0,103.5,67.0,87.0,137.5,100.0,106.5,98.5,61.0,106.5,84.5,164.0,169.0,142.0,107.0,171.5,107.0,61.5,120.0,150.5,71.5,51.5,77.5,98.5,225.0,147.0,61.0,120.0,124.5,148.0,59.0,146.5,133.0,140.5,70.5,181.0,205.0,48.5,124.0,98.0,107.5,89.0,100.5,65.0,72.5,87.5,92.5,81.5,79.0,47.5,69.0,49.0,59.0,88.5,88.0,100.0,96.5,76.0,15.5,83.5,163.0,100.0,50.0,93.0,94.5,102.0,155.0,108.0,63.5,109.0,96.0,101.0,77.5,90.0,58.0,128.0,101.0,142.0,169.0,75.5,139.0,102.5,81.0,77.0,92.0,121.0,162.5,90.5,110.0,70.5,92.0,82.0,164.5,44.0,109.0,149.5,65.5,124.5,114.0,49.0,71.0,61.0,94.5,87.0,64.5,154.5,128.5,137.0,99.0,139.5,109.0,254.0,45.5,122.5,140.0,77.5,90.0,167.5,60.0,180.0,65.0,112.5,87.5,62.5,100.0,85.0,122.0,138.5,107.5,162.0,68.5,110.5,115.5,80.5,43.0,66.5,94.5,119.0,27.5,194.5,105.5,62.5,161.5,72.5,139.0,136.5,74.5,101.0,116.5,232.5,120.5,153.0,127.0,85.5,76.5,128.0,91.5,177.0,107.0,113.5,143.5,113.5,101.5,73.0,80.5,110.5,139.5,145.5,87.0,100.5,147.0,110.5,94.0,123.5,73.0,165.0,59.5,66.0,75.5,87.0,140.0,86.0,116.5,80.0,173.0,68.5,172.0,69.5,97.5,95.0,194.0,104.5,85.5,50.0,113.0,153.0,123.5,47.0,162.0,133.5,109.0,125.0,106.5,54.0,37.5,53.5,168.0,138.5,111.5,68.5,102.5,127.5,72.0,47.0,65.0,94.0,97.0,114.5,121.5,60.5,118.5,58.5,63.5,107.0,105.5,83.0,221.5,95.5,173.0,147.5,81.0,83.0,85.5,107.5,44.5,107.5,69.5,53.0,103.0,114.0,96.0,96.5,69.5,121.0,103.0,106.5,130.0,89.0,111.0,87.5],\"type\":\"box\",\"xaxis\":\"x2\",\"yaxis\":\"y2\"},{\"boxpoints\":\"all\",\"x\":[0,0,0,0,0,1,0,1,0,0,0,0,1,0,0,1,0,0,0,0,1,0,1,1,1,0,1,0,0,0,0,0,1,0,0,0,1,0,0,0,1,0,0,0,0,0,0,0,0,0,0,0,1,1,0,0,0,0,0,0,1,0,0,0,1,1,0,0,0,0,0,0,1,0,0,0,0,0,0,0,0,0,0,0,0,0,0,1,0,0,1,0,0,0,0,0,1,0,1,0,0,1,0,0,0,0,1,1,0,1,0,0,0,0,1,0,0,0,1,0,0,0,0,1,0,1,0,1,0,1,0,0,0,0,1,0,0,0,1,1,0,0,0,0,0,0,1,1,0,0,1,0,0,0,0,0,0,0,1,0,0,0,0,0,0,0,0,1,1,1,0,0,0,0,0,1,0,1,0,1,1,0,0,0,0,1,0,0,1,0,0,1,1,0,0,1,0,0,0,0,0,0,0,0,0,0,0,0,0,1,1,0,0,0,0,0,1,0,1,1,1,0,1,0,1,0,0,1,0,0,0,1,1,0,0,1,0,0,0,1,1,0,0,1,0,0,0,0,0,0,1,0,0,0,1,0,1,0,1,0,0,0,0,0,0,1,0,0,0,0,1,1,0,0,0,0,1,1,1,0,0,0,0,0,0,0,1,1,0,0,0,0,1,0,0,0,0,0,0,0,0,0,0,1,1,1,0,1,1,0,0,0,0,0,1,1,0,0,0,0,0,0,0,0,1,0,0,0,1,0,1,0,0,1,0,0,0,0,0,0,0,0,0,0,0,0,0,0,1,0,0,0,1,1,0,0,0,0,1,0,0,0,1,1],\"y\":[72.0,87.5,85.0,76.5,114.5,95.0,73.5,114.0,140.0,163.5,85.0,139.0,65.5,113.5,146.0,153.5,142.5,87.5,105.5,96.0,112.5,84.0,143.0,86.5,99.5,47.5,84.0,96.0,114.5,121.0,112.5,106.0,107.0,110.0,147.5,106.0,88.0,98.5,142.5,130.0,155.0,184.5,29.5,81.0,91.0,114.5,68.0,115.0,109.5,75.5,154.5,143.5,107.0,115.0,139.5,67.0,85.0,118.0,79.5,56.5,128.5,179.5,112.0,98.0,128.0,150.5,110.0,113.5,124.0,56.5,130.0,77.5,87.0,53.5,85.5,48.0,85.0,72.5,97.5,99.0,56.5,133.0,121.0,85.5,87.5,237.5,95.5,104.5,56.5,55.0,157.0,78.0,132.5,108.0,80.5,107.5,95.0,119.5,134.0,100.5,107.5,122.0,92.5,62.0,107.5,89.5,81.0,147.0,85.0,100.5,97.0,132.5,100.0,105.0,87.0,103.5,67.0,87.0,137.5,100.0,106.5,98.5,61.0,106.5,84.5,164.0,169.0,142.0,107.0,171.5,107.0,61.5,120.0,150.5,71.5,51.5,77.5,98.5,225.0,147.0,61.0,120.0,124.5,148.0,59.0,146.5,133.0,140.5,70.5,181.0,205.0,48.5,124.0,98.0,107.5,89.0,100.5,65.0,72.5,87.5,92.5,81.5,79.0,47.5,69.0,49.0,59.0,88.5,88.0,100.0,96.5,76.0,15.5,83.5,163.0,100.0,50.0,93.0,94.5,102.0,155.0,108.0,63.5,109.0,96.0,101.0,77.5,90.0,58.0,128.0,101.0,142.0,169.0,75.5,139.0,102.5,81.0,77.0,92.0,121.0,162.5,90.5,110.0,70.5,92.0,82.0,164.5,44.0,109.0,149.5,65.5,124.5,114.0,49.0,71.0,61.0,94.5,87.0,64.5,154.5,128.5,137.0,99.0,139.5,109.0,254.0,45.5,122.5,140.0,77.5,90.0,167.5,60.0,180.0,65.0,112.5,87.5,62.5,100.0,85.0,122.0,138.5,107.5,162.0,68.5,110.5,115.5,80.5,43.0,66.5,94.5,119.0,27.5,194.5,105.5,62.5,161.5,72.5,139.0,136.5,74.5,101.0,116.5,232.5,120.5,153.0,127.0,85.5,76.5,128.0,91.5,177.0,107.0,113.5,143.5,113.5,101.5,73.0,80.5,110.5,139.5,145.5,87.0,100.5,147.0,110.5,94.0,123.5,73.0,165.0,59.5,66.0,75.5,87.0,140.0,86.0,116.5,80.0,173.0,68.5,172.0,69.5,97.5,95.0,194.0,104.5,85.5,50.0,113.0,153.0,123.5,47.0,162.0,133.5,109.0,125.0,106.5,54.0,37.5,53.5,168.0,138.5,111.5,68.5,102.5,127.5,72.0,47.0,65.0,94.0,97.0,114.5,121.5,60.5,118.5,58.5,63.5,107.0,105.5,83.0,221.5,95.5,173.0,147.5,81.0,83.0,85.5,107.5,44.5,107.5,69.5,53.0,103.0,114.0,96.0,96.5,69.5,121.0,103.0,106.5,130.0,89.0,111.0,87.5],\"type\":\"box\",\"xaxis\":\"x3\",\"yaxis\":\"y3\"},{\"boxpoints\":\"all\",\"x\":[1,0,1,0,1,1,1,1,0,0,0,0,1,0,1,1,0,1,0,1,1,1,0,1,1,1,1,0,0,1,1,1,0,1,1,1,1,1,0,1,1,1,1,0,1,0,1,1,1,1,1,0,0,0,0,0,0,1,1,0,0,1,0,0,0,1,1,1,0,1,1,1,1,1,1,1,0,1,1,1,1,0,0,0,0,1,0,1,1,1,0,0,1,0,0,0,0,0,0,1,0,0,1,1,1,0,1,0,1,1,1,0,1,0,1,1,0,0,1,1,1,0,1,0,0,0,1,1,1,0,1,1,0,0,1,1,1,1,1,0,1,0,1,0,1,1,0,0,1,0,0,1,0,0,0,1,0,1,1,0,1,0,0,1,1,1,1,0,1,0,0,1,1,1,1,0,1,0,0,1,1,0,1,0,0,1,1,1,0,0,1,0,1,0,1,1,0,1,0,0,1,0,0,0,1,0,0,0,0,0,1,1,0,0,1,0,1,1,1,1,1,0,0,0,0,0,0,0,1,0,1,1,1,1,1,0,1,1,0,0,0,0,1,1,1,1,1,0,1,1,0,0,1,0,0,1,1,1,1,0,0,0,1,0,0,0,0,1,1,0,1,0,1,0,1,0,0,1,0,0,0,1,1,1,1,1,0,0,0,0,1,1,0,0,1,1,0,1,0,0,0,1,1,0,1,1,1,1,1,1,1,0,1,1,1,1,0,0,1,1,1,0,0,1,0,1,0,1,1,0,0,0,0,0,0,1,0,1,0,0,1,0,1,1,1,1,1,0,1,0,1,0,0,1,1,0,1,0,0,1,1,0,1,1],\"y\":[72.0,87.5,85.0,76.5,114.5,95.0,73.5,114.0,140.0,163.5,85.0,139.0,65.5,113.5,146.0,153.5,142.5,87.5,105.5,96.0,112.5,84.0,143.0,86.5,99.5,47.5,84.0,96.0,114.5,121.0,112.5,106.0,107.0,110.0,147.5,106.0,88.0,98.5,142.5,130.0,155.0,184.5,29.5,81.0,91.0,114.5,68.0,115.0,109.5,75.5,154.5,143.5,107.0,115.0,139.5,67.0,85.0,118.0,79.5,56.5,128.5,179.5,112.0,98.0,128.0,150.5,110.0,113.5,124.0,56.5,130.0,77.5,87.0,53.5,85.5,48.0,85.0,72.5,97.5,99.0,56.5,133.0,121.0,85.5,87.5,237.5,95.5,104.5,56.5,55.0,157.0,78.0,132.5,108.0,80.5,107.5,95.0,119.5,134.0,100.5,107.5,122.0,92.5,62.0,107.5,89.5,81.0,147.0,85.0,100.5,97.0,132.5,100.0,105.0,87.0,103.5,67.0,87.0,137.5,100.0,106.5,98.5,61.0,106.5,84.5,164.0,169.0,142.0,107.0,171.5,107.0,61.5,120.0,150.5,71.5,51.5,77.5,98.5,225.0,147.0,61.0,120.0,124.5,148.0,59.0,146.5,133.0,140.5,70.5,181.0,205.0,48.5,124.0,98.0,107.5,89.0,100.5,65.0,72.5,87.5,92.5,81.5,79.0,47.5,69.0,49.0,59.0,88.5,88.0,100.0,96.5,76.0,15.5,83.5,163.0,100.0,50.0,93.0,94.5,102.0,155.0,108.0,63.5,109.0,96.0,101.0,77.5,90.0,58.0,128.0,101.0,142.0,169.0,75.5,139.0,102.5,81.0,77.0,92.0,121.0,162.5,90.5,110.0,70.5,92.0,82.0,164.5,44.0,109.0,149.5,65.5,124.5,114.0,49.0,71.0,61.0,94.5,87.0,64.5,154.5,128.5,137.0,99.0,139.5,109.0,254.0,45.5,122.5,140.0,77.5,90.0,167.5,60.0,180.0,65.0,112.5,87.5,62.5,100.0,85.0,122.0,138.5,107.5,162.0,68.5,110.5,115.5,80.5,43.0,66.5,94.5,119.0,27.5,194.5,105.5,62.5,161.5,72.5,139.0,136.5,74.5,101.0,116.5,232.5,120.5,153.0,127.0,85.5,76.5,128.0,91.5,177.0,107.0,113.5,143.5,113.5,101.5,73.0,80.5,110.5,139.5,145.5,87.0,100.5,147.0,110.5,94.0,123.5,73.0,165.0,59.5,66.0,75.5,87.0,140.0,86.0,116.5,80.0,173.0,68.5,172.0,69.5,97.5,95.0,194.0,104.5,85.5,50.0,113.0,153.0,123.5,47.0,162.0,133.5,109.0,125.0,106.5,54.0,37.5,53.5,168.0,138.5,111.5,68.5,102.5,127.5,72.0,47.0,65.0,94.0,97.0,114.5,121.5,60.5,118.5,58.5,63.5,107.0,105.5,83.0,221.5,95.5,173.0,147.5,81.0,83.0,85.5,107.5,44.5,107.5,69.5,53.0,103.0,114.0,96.0,96.5,69.5,121.0,103.0,106.5,130.0,89.0,111.0,87.5],\"type\":\"box\",\"xaxis\":\"x4\",\"yaxis\":\"y4\"},{\"boxpoints\":\"all\",\"x\":[0,0,1,0,1,1,0,1,0,0,1,1,1,1,0,0,1,1,1,0,1,1,0,0,1,0,0,1,0,1,0,1,0,1,0,1,1,1,0,1,0,1,0,0,1,0,0,1,1,0,0,1,1,1,1,0,1,1,1,1,1,1,1,0,1,0,0,0,1,0,0,1,1,0,1,1,1,0,1,0,1,0,0,1,1,0,1,1,1,1,0,1,0,1,0,0,1,1,1,1,1,1,1,1,0,1,1,0,1,1,1,0,1,1,0,1,0,0,0,1,1,0,1,1,1,1,1,0,1,1,0,1,1,1,1,0,1,1,0,1,1,0,1,0,0,1,1,0,1,1,1,1,0,1,1,1,0,1,1,1,1,0,1,0,1,1,0,0,1,1,1,1,0,1,1,1,1,1,1,1,0,1,1,1,0,1,1,1,1,0,1,1,1,1,1,1,1,1,1,0,1,0,0,0,0,1,0,0,0,0,1,0,1,1,1,1,1,1,1,1,1,0,1,1,0,0,0,1,1,0,1,0,0,1,1,0,1,1,1,0,0,1,1,0,0,1,1,0,1,1,0,0,0,0,0,0,1,1,0,1,0,1,1,1,1,1,1,1,1,1,1,1,1,1,1,1,0,1,1,1,1,1,0,1,1,1,1,1,1,0,1,0,1,0,0,0,1,1,0,0,0,1,1,1,0,1,1,1,1,0,1,1,1,0,0,1,1,1,1,1,1,1,0,0,1,0,1,1,1,1,1,0,1,1,1,1,1,0,1,1,1,1,1,0,0,1,0,1,1,1,1,0,0,1,1,0,1,1,1,1,0,0,0,1],\"y\":[72.0,87.5,85.0,76.5,114.5,95.0,73.5,114.0,140.0,163.5,85.0,139.0,65.5,113.5,146.0,153.5,142.5,87.5,105.5,96.0,112.5,84.0,143.0,86.5,99.5,47.5,84.0,96.0,114.5,121.0,112.5,106.0,107.0,110.0,147.5,106.0,88.0,98.5,142.5,130.0,155.0,184.5,29.5,81.0,91.0,114.5,68.0,115.0,109.5,75.5,154.5,143.5,107.0,115.0,139.5,67.0,85.0,118.0,79.5,56.5,128.5,179.5,112.0,98.0,128.0,150.5,110.0,113.5,124.0,56.5,130.0,77.5,87.0,53.5,85.5,48.0,85.0,72.5,97.5,99.0,56.5,133.0,121.0,85.5,87.5,237.5,95.5,104.5,56.5,55.0,157.0,78.0,132.5,108.0,80.5,107.5,95.0,119.5,134.0,100.5,107.5,122.0,92.5,62.0,107.5,89.5,81.0,147.0,85.0,100.5,97.0,132.5,100.0,105.0,87.0,103.5,67.0,87.0,137.5,100.0,106.5,98.5,61.0,106.5,84.5,164.0,169.0,142.0,107.0,171.5,107.0,61.5,120.0,150.5,71.5,51.5,77.5,98.5,225.0,147.0,61.0,120.0,124.5,148.0,59.0,146.5,133.0,140.5,70.5,181.0,205.0,48.5,124.0,98.0,107.5,89.0,100.5,65.0,72.5,87.5,92.5,81.5,79.0,47.5,69.0,49.0,59.0,88.5,88.0,100.0,96.5,76.0,15.5,83.5,163.0,100.0,50.0,93.0,94.5,102.0,155.0,108.0,63.5,109.0,96.0,101.0,77.5,90.0,58.0,128.0,101.0,142.0,169.0,75.5,139.0,102.5,81.0,77.0,92.0,121.0,162.5,90.5,110.0,70.5,92.0,82.0,164.5,44.0,109.0,149.5,65.5,124.5,114.0,49.0,71.0,61.0,94.5,87.0,64.5,154.5,128.5,137.0,99.0,139.5,109.0,254.0,45.5,122.5,140.0,77.5,90.0,167.5,60.0,180.0,65.0,112.5,87.5,62.5,100.0,85.0,122.0,138.5,107.5,162.0,68.5,110.5,115.5,80.5,43.0,66.5,94.5,119.0,27.5,194.5,105.5,62.5,161.5,72.5,139.0,136.5,74.5,101.0,116.5,232.5,120.5,153.0,127.0,85.5,76.5,128.0,91.5,177.0,107.0,113.5,143.5,113.5,101.5,73.0,80.5,110.5,139.5,145.5,87.0,100.5,147.0,110.5,94.0,123.5,73.0,165.0,59.5,66.0,75.5,87.0,140.0,86.0,116.5,80.0,173.0,68.5,172.0,69.5,97.5,95.0,194.0,104.5,85.5,50.0,113.0,153.0,123.5,47.0,162.0,133.5,109.0,125.0,106.5,54.0,37.5,53.5,168.0,138.5,111.5,68.5,102.5,127.5,72.0,47.0,65.0,94.0,97.0,114.5,121.5,60.5,118.5,58.5,63.5,107.0,105.5,83.0,221.5,95.5,173.0,147.5,81.0,83.0,85.5,107.5,44.5,107.5,69.5,53.0,103.0,114.0,96.0,96.5,69.5,121.0,103.0,106.5,130.0,89.0,111.0,87.5],\"type\":\"box\",\"xaxis\":\"x5\",\"yaxis\":\"y5\"},{\"boxpoints\":\"all\",\"x\":[1,0,1,0,1,0,0,0,0,0,0,0,0,0,0,0,0,0,0,0,0,0,0,0,0,0,0,1,0,0,0,0,0,0,0,0,0,0,0,0,0,1,0,0,0,0,0,0,0,0,0,0,0,0,1,0,0,0,0,0,0,1,0,0,0,0,0,0,0,0,0,0,0,0,0,0,1,0,1,0,0,0,0,0,0,0,0,0,0,0,0,0,0,0,0,0,0,1,0,0,0,0,0,0,0,0,0,0,1,0,0,0,0,0,0,0,0,0,0,0,1,0,0,0,0,0,0,0,0,0,0,0,0,1,0,0,0,1,0,0,0,0,0,0,0,1,0,0,0,0,0,1,0,0,0,0,1,0,0,1,0,0,0,0,0,0,0,0,0,0,0,0,0,0,1,1,0,0,1,1,0,1,0,0,0,0,0,0,0,0,0,0,1,0,0,0,0,0,0,0,0,0,0,0,0,0,0,0,0,0,0,0,0,0,0,0,0,0,0,0,0,0,0,0,0,1,0,0,1,0,0,0,0,0,1,0,0,1,0,0,0,0,0,0,0,0,0,0,0,1,0,0,0,1,0,0,0,0,0,0,0,1,0,0,0,0,0,0,1,0,0,0,0,0,0,0,0,0,0,0,0,0,0,0,1,0,0,0,0,0,0,0,0,0,0,1,0,0,0,0,0,1,0,0,0,0,0,0,0,0,1,0,0,0,0,0,1,0,0,0,0,0,0,0,0,0,0,0,0,0,0,0,0,0,0,0,0,0,0,0,0,0,0,0,0,0,0,0,0,0,0,0,0,0,0,0,1,1,0,1,0,0,0,0],\"y\":[72.0,87.5,85.0,76.5,114.5,95.0,73.5,114.0,140.0,163.5,85.0,139.0,65.5,113.5,146.0,153.5,142.5,87.5,105.5,96.0,112.5,84.0,143.0,86.5,99.5,47.5,84.0,96.0,114.5,121.0,112.5,106.0,107.0,110.0,147.5,106.0,88.0,98.5,142.5,130.0,155.0,184.5,29.5,81.0,91.0,114.5,68.0,115.0,109.5,75.5,154.5,143.5,107.0,115.0,139.5,67.0,85.0,118.0,79.5,56.5,128.5,179.5,112.0,98.0,128.0,150.5,110.0,113.5,124.0,56.5,130.0,77.5,87.0,53.5,85.5,48.0,85.0,72.5,97.5,99.0,56.5,133.0,121.0,85.5,87.5,237.5,95.5,104.5,56.5,55.0,157.0,78.0,132.5,108.0,80.5,107.5,95.0,119.5,134.0,100.5,107.5,122.0,92.5,62.0,107.5,89.5,81.0,147.0,85.0,100.5,97.0,132.5,100.0,105.0,87.0,103.5,67.0,87.0,137.5,100.0,106.5,98.5,61.0,106.5,84.5,164.0,169.0,142.0,107.0,171.5,107.0,61.5,120.0,150.5,71.5,51.5,77.5,98.5,225.0,147.0,61.0,120.0,124.5,148.0,59.0,146.5,133.0,140.5,70.5,181.0,205.0,48.5,124.0,98.0,107.5,89.0,100.5,65.0,72.5,87.5,92.5,81.5,79.0,47.5,69.0,49.0,59.0,88.5,88.0,100.0,96.5,76.0,15.5,83.5,163.0,100.0,50.0,93.0,94.5,102.0,155.0,108.0,63.5,109.0,96.0,101.0,77.5,90.0,58.0,128.0,101.0,142.0,169.0,75.5,139.0,102.5,81.0,77.0,92.0,121.0,162.5,90.5,110.0,70.5,92.0,82.0,164.5,44.0,109.0,149.5,65.5,124.5,114.0,49.0,71.0,61.0,94.5,87.0,64.5,154.5,128.5,137.0,99.0,139.5,109.0,254.0,45.5,122.5,140.0,77.5,90.0,167.5,60.0,180.0,65.0,112.5,87.5,62.5,100.0,85.0,122.0,138.5,107.5,162.0,68.5,110.5,115.5,80.5,43.0,66.5,94.5,119.0,27.5,194.5,105.5,62.5,161.5,72.5,139.0,136.5,74.5,101.0,116.5,232.5,120.5,153.0,127.0,85.5,76.5,128.0,91.5,177.0,107.0,113.5,143.5,113.5,101.5,73.0,80.5,110.5,139.5,145.5,87.0,100.5,147.0,110.5,94.0,123.5,73.0,165.0,59.5,66.0,75.5,87.0,140.0,86.0,116.5,80.0,173.0,68.5,172.0,69.5,97.5,95.0,194.0,104.5,85.5,50.0,113.0,153.0,123.5,47.0,162.0,133.5,109.0,125.0,106.5,54.0,37.5,53.5,168.0,138.5,111.5,68.5,102.5,127.5,72.0,47.0,65.0,94.0,97.0,114.5,121.5,60.5,118.5,58.5,63.5,107.0,105.5,83.0,221.5,95.5,173.0,147.5,81.0,83.0,85.5,107.5,44.5,107.5,69.5,53.0,103.0,114.0,96.0,96.5,69.5,121.0,103.0,106.5,130.0,89.0,111.0,87.5],\"type\":\"box\",\"xaxis\":\"x6\",\"yaxis\":\"y6\"},{\"boxpoints\":\"all\",\"x\":[0,0,0,0,0,0,0,0,0,0,0,0,0,0,0,0,0,1,0,0,0,0,1,0,1,0,0,0,0,1,0,0,0,0,0,0,0,0,0,0,0,0,0,0,0,0,0,0,0,0,0,1,0,0,0,0,0,0,1,0,0,0,0,0,0,1,0,0,0,0,0,0,0,0,0,0,0,0,0,0,0,0,1,0,0,0,0,0,0,0,0,0,0,0,0,0,0,0,0,0,0,0,0,0,0,0,0,1,0,0,0,0,0,0,0,0,0,0,1,0,0,0,0,0,0,0,0,0,0,0,0,0,0,0,0,0,0,0,0,1,0,0,1,0,0,0,0,1,0,0,0,0,0,0,0,0,0,0,0,0,0,0,0,0,0,0,0,0,0,0,0,0,0,0,0,0,0,0,0,0,0,0,0,0,1,0,0,1,0,0,0,0,0,0,0,0,0,0,0,0,0,0,0,0,0,0,0,0,0,0,0,0,0,0,0,0,0,0,0,0,0,0,0,0,0,0,0,0,0,0,0,0,0,0,0,0,0,0,0,0,0,0,0,0,0,0,0,0,0,0,0,0,0,0,1,0,0,0,0,0,0,0,0,0,0,1,0,0,0,1,0,0,0,0,0,0,0,0,0,0,0,0,0,0,0,0,0,0,0,0,0,0,0,0,0,0,0,0,0,0,0,0,0,0,0,0,0,0,0,0,0,0,0,0,0,0,0,0,0,0,0,0,0,0,0,0,0,0,0,0,0,0,0,0,0,0,0,1,0,0,0,0,0,0,0,0,0,0,0,0,0,0,0,0,0,0,0,0,0,0,0,0,0,0],\"y\":[72.0,87.5,85.0,76.5,114.5,95.0,73.5,114.0,140.0,163.5,85.0,139.0,65.5,113.5,146.0,153.5,142.5,87.5,105.5,96.0,112.5,84.0,143.0,86.5,99.5,47.5,84.0,96.0,114.5,121.0,112.5,106.0,107.0,110.0,147.5,106.0,88.0,98.5,142.5,130.0,155.0,184.5,29.5,81.0,91.0,114.5,68.0,115.0,109.5,75.5,154.5,143.5,107.0,115.0,139.5,67.0,85.0,118.0,79.5,56.5,128.5,179.5,112.0,98.0,128.0,150.5,110.0,113.5,124.0,56.5,130.0,77.5,87.0,53.5,85.5,48.0,85.0,72.5,97.5,99.0,56.5,133.0,121.0,85.5,87.5,237.5,95.5,104.5,56.5,55.0,157.0,78.0,132.5,108.0,80.5,107.5,95.0,119.5,134.0,100.5,107.5,122.0,92.5,62.0,107.5,89.5,81.0,147.0,85.0,100.5,97.0,132.5,100.0,105.0,87.0,103.5,67.0,87.0,137.5,100.0,106.5,98.5,61.0,106.5,84.5,164.0,169.0,142.0,107.0,171.5,107.0,61.5,120.0,150.5,71.5,51.5,77.5,98.5,225.0,147.0,61.0,120.0,124.5,148.0,59.0,146.5,133.0,140.5,70.5,181.0,205.0,48.5,124.0,98.0,107.5,89.0,100.5,65.0,72.5,87.5,92.5,81.5,79.0,47.5,69.0,49.0,59.0,88.5,88.0,100.0,96.5,76.0,15.5,83.5,163.0,100.0,50.0,93.0,94.5,102.0,155.0,108.0,63.5,109.0,96.0,101.0,77.5,90.0,58.0,128.0,101.0,142.0,169.0,75.5,139.0,102.5,81.0,77.0,92.0,121.0,162.5,90.5,110.0,70.5,92.0,82.0,164.5,44.0,109.0,149.5,65.5,124.5,114.0,49.0,71.0,61.0,94.5,87.0,64.5,154.5,128.5,137.0,99.0,139.5,109.0,254.0,45.5,122.5,140.0,77.5,90.0,167.5,60.0,180.0,65.0,112.5,87.5,62.5,100.0,85.0,122.0,138.5,107.5,162.0,68.5,110.5,115.5,80.5,43.0,66.5,94.5,119.0,27.5,194.5,105.5,62.5,161.5,72.5,139.0,136.5,74.5,101.0,116.5,232.5,120.5,153.0,127.0,85.5,76.5,128.0,91.5,177.0,107.0,113.5,143.5,113.5,101.5,73.0,80.5,110.5,139.5,145.5,87.0,100.5,147.0,110.5,94.0,123.5,73.0,165.0,59.5,66.0,75.5,87.0,140.0,86.0,116.5,80.0,173.0,68.5,172.0,69.5,97.5,95.0,194.0,104.5,85.5,50.0,113.0,153.0,123.5,47.0,162.0,133.5,109.0,125.0,106.5,54.0,37.5,53.5,168.0,138.5,111.5,68.5,102.5,127.5,72.0,47.0,65.0,94.0,97.0,114.5,121.5,60.5,118.5,58.5,63.5,107.0,105.5,83.0,221.5,95.5,173.0,147.5,81.0,83.0,85.5,107.5,44.5,107.5,69.5,53.0,103.0,114.0,96.0,96.5,69.5,121.0,103.0,106.5,130.0,89.0,111.0,87.5],\"type\":\"box\",\"xaxis\":\"x7\",\"yaxis\":\"y7\"},{\"boxpoints\":\"all\",\"x\":[0,0,0,0,0,0,0,1,0,0,0,0,0,0,0,0,0,1,0,0,0,0,0,0,0,0,0,0,1,0,0,0,0,1,0,0,0,0,0,0,0,0,0,0,0,0,0,0,0,0,0,0,0,0,0,1,1,0,1,0,0,0,0,0,0,0,0,0,0,0,0,0,0,0,0,0,0,0,0,0,0,0,1,0,0,0,0,0,0,0,0,0,0,0,0,0,0,0,0,0,0,0,0,0,0,0,0,0,0,0,0,0,0,0,0,0,0,0,0,0,0,0,0,0,0,0,0,0,0,0,0,0,0,0,0,0,0,0,0,1,0,0,0,0,0,0,1,1,0,0,0,0,0,0,0,0,0,0,0,0,0,0,0,0,0,0,0,0,0,0,0,0,0,0,0,0,0,0,0,0,0,1,0,0,1,0,0,0,0,0,0,0,0,0,0,0,0,0,0,0,0,0,0,0,0,0,0,0,0,0,0,0,0,0,0,0,0,0,0,0,0,0,0,0,0,0,0,0,0,0,0,0,0,0,0,0,0,0,0,0,0,0,0,0,1,1,0,1,0,0,0,1,0,0,1,0,0,0,0,0,0,0,0,0,0,1,0,0,0,0,0,0,1,0,0,0,1,0,0,0,0,0,0,0,0,0,0,0,0,0,0,0,0,0,0,0,0,0,0,0,0,0,0,0,0,0,0,0,0,0,0,0,0,0,0,1,0,0,0,0,0,0,0,0,0,0,0,0,0,0,0,0,0,0,0,0,0,0,0,0,0,0,0,0,0,0,0,0,0,0,0,0,0,0,0,0,0,0,0,0,0,0,1,0],\"y\":[72.0,87.5,85.0,76.5,114.5,95.0,73.5,114.0,140.0,163.5,85.0,139.0,65.5,113.5,146.0,153.5,142.5,87.5,105.5,96.0,112.5,84.0,143.0,86.5,99.5,47.5,84.0,96.0,114.5,121.0,112.5,106.0,107.0,110.0,147.5,106.0,88.0,98.5,142.5,130.0,155.0,184.5,29.5,81.0,91.0,114.5,68.0,115.0,109.5,75.5,154.5,143.5,107.0,115.0,139.5,67.0,85.0,118.0,79.5,56.5,128.5,179.5,112.0,98.0,128.0,150.5,110.0,113.5,124.0,56.5,130.0,77.5,87.0,53.5,85.5,48.0,85.0,72.5,97.5,99.0,56.5,133.0,121.0,85.5,87.5,237.5,95.5,104.5,56.5,55.0,157.0,78.0,132.5,108.0,80.5,107.5,95.0,119.5,134.0,100.5,107.5,122.0,92.5,62.0,107.5,89.5,81.0,147.0,85.0,100.5,97.0,132.5,100.0,105.0,87.0,103.5,67.0,87.0,137.5,100.0,106.5,98.5,61.0,106.5,84.5,164.0,169.0,142.0,107.0,171.5,107.0,61.5,120.0,150.5,71.5,51.5,77.5,98.5,225.0,147.0,61.0,120.0,124.5,148.0,59.0,146.5,133.0,140.5,70.5,181.0,205.0,48.5,124.0,98.0,107.5,89.0,100.5,65.0,72.5,87.5,92.5,81.5,79.0,47.5,69.0,49.0,59.0,88.5,88.0,100.0,96.5,76.0,15.5,83.5,163.0,100.0,50.0,93.0,94.5,102.0,155.0,108.0,63.5,109.0,96.0,101.0,77.5,90.0,58.0,128.0,101.0,142.0,169.0,75.5,139.0,102.5,81.0,77.0,92.0,121.0,162.5,90.5,110.0,70.5,92.0,82.0,164.5,44.0,109.0,149.5,65.5,124.5,114.0,49.0,71.0,61.0,94.5,87.0,64.5,154.5,128.5,137.0,99.0,139.5,109.0,254.0,45.5,122.5,140.0,77.5,90.0,167.5,60.0,180.0,65.0,112.5,87.5,62.5,100.0,85.0,122.0,138.5,107.5,162.0,68.5,110.5,115.5,80.5,43.0,66.5,94.5,119.0,27.5,194.5,105.5,62.5,161.5,72.5,139.0,136.5,74.5,101.0,116.5,232.5,120.5,153.0,127.0,85.5,76.5,128.0,91.5,177.0,107.0,113.5,143.5,113.5,101.5,73.0,80.5,110.5,139.5,145.5,87.0,100.5,147.0,110.5,94.0,123.5,73.0,165.0,59.5,66.0,75.5,87.0,140.0,86.0,116.5,80.0,173.0,68.5,172.0,69.5,97.5,95.0,194.0,104.5,85.5,50.0,113.0,153.0,123.5,47.0,162.0,133.5,109.0,125.0,106.5,54.0,37.5,53.5,168.0,138.5,111.5,68.5,102.5,127.5,72.0,47.0,65.0,94.0,97.0,114.5,121.5,60.5,118.5,58.5,63.5,107.0,105.5,83.0,221.5,95.5,173.0,147.5,81.0,83.0,85.5,107.5,44.5,107.5,69.5,53.0,103.0,114.0,96.0,96.5,69.5,121.0,103.0,106.5,130.0,89.0,111.0,87.5],\"type\":\"box\",\"xaxis\":\"x8\",\"yaxis\":\"y8\"},{\"boxpoints\":\"all\",\"x\":[0,0,0,0,0,0,0,0,0,0,0,0,0,0,0,0,0,1,0,0,0,0,0,0,1,0,0,0,1,1,0,0,0,1,0,0,0,0,0,1,0,0,0,0,0,0,0,0,0,0,0,1,0,0,0,0,0,0,1,0,0,0,0,0,1,1,1,0,0,0,0,0,0,0,0,0,0,0,0,0,0,0,1,0,0,0,0,0,0,0,0,0,0,0,0,0,0,0,0,1,0,0,0,0,0,0,0,0,0,0,0,0,0,0,0,0,0,0,1,1,0,0,0,0,0,1,0,1,0,0,0,0,0,1,0,0,0,0,0,1,0,0,0,0,0,0,1,1,0,1,0,0,0,0,0,0,0,0,0,0,0,0,0,0,0,0,0,0,0,0,0,0,0,0,0,0,0,0,0,1,1,1,0,0,0,0,0,1,0,0,0,0,0,0,0,0,0,0,0,0,0,0,0,0,0,0,0,0,0,0,0,0,0,0,0,0,0,0,0,0,0,0,0,0,0,0,0,0,0,0,0,0,0,0,0,0,0,0,0,0,0,0,0,0,1,0,0,0,0,0,0,0,0,0,1,0,0,0,0,0,0,0,0,1,0,0,0,1,0,1,0,0,1,0,0,0,0,0,0,0,0,0,0,0,1,0,0,0,0,1,0,0,0,0,0,0,0,0,0,0,0,0,0,0,0,0,0,0,0,0,0,0,0,0,0,0,0,0,0,0,0,0,0,0,0,0,0,0,0,0,0,0,0,0,0,0,1,0,0,0,0,0,0,0,0,0,0,1,0,0,0,0,0,0,0,0,1,0,0,0,0,0,0,0],\"y\":[72.0,87.5,85.0,76.5,114.5,95.0,73.5,114.0,140.0,163.5,85.0,139.0,65.5,113.5,146.0,153.5,142.5,87.5,105.5,96.0,112.5,84.0,143.0,86.5,99.5,47.5,84.0,96.0,114.5,121.0,112.5,106.0,107.0,110.0,147.5,106.0,88.0,98.5,142.5,130.0,155.0,184.5,29.5,81.0,91.0,114.5,68.0,115.0,109.5,75.5,154.5,143.5,107.0,115.0,139.5,67.0,85.0,118.0,79.5,56.5,128.5,179.5,112.0,98.0,128.0,150.5,110.0,113.5,124.0,56.5,130.0,77.5,87.0,53.5,85.5,48.0,85.0,72.5,97.5,99.0,56.5,133.0,121.0,85.5,87.5,237.5,95.5,104.5,56.5,55.0,157.0,78.0,132.5,108.0,80.5,107.5,95.0,119.5,134.0,100.5,107.5,122.0,92.5,62.0,107.5,89.5,81.0,147.0,85.0,100.5,97.0,132.5,100.0,105.0,87.0,103.5,67.0,87.0,137.5,100.0,106.5,98.5,61.0,106.5,84.5,164.0,169.0,142.0,107.0,171.5,107.0,61.5,120.0,150.5,71.5,51.5,77.5,98.5,225.0,147.0,61.0,120.0,124.5,148.0,59.0,146.5,133.0,140.5,70.5,181.0,205.0,48.5,124.0,98.0,107.5,89.0,100.5,65.0,72.5,87.5,92.5,81.5,79.0,47.5,69.0,49.0,59.0,88.5,88.0,100.0,96.5,76.0,15.5,83.5,163.0,100.0,50.0,93.0,94.5,102.0,155.0,108.0,63.5,109.0,96.0,101.0,77.5,90.0,58.0,128.0,101.0,142.0,169.0,75.5,139.0,102.5,81.0,77.0,92.0,121.0,162.5,90.5,110.0,70.5,92.0,82.0,164.5,44.0,109.0,149.5,65.5,124.5,114.0,49.0,71.0,61.0,94.5,87.0,64.5,154.5,128.5,137.0,99.0,139.5,109.0,254.0,45.5,122.5,140.0,77.5,90.0,167.5,60.0,180.0,65.0,112.5,87.5,62.5,100.0,85.0,122.0,138.5,107.5,162.0,68.5,110.5,115.5,80.5,43.0,66.5,94.5,119.0,27.5,194.5,105.5,62.5,161.5,72.5,139.0,136.5,74.5,101.0,116.5,232.5,120.5,153.0,127.0,85.5,76.5,128.0,91.5,177.0,107.0,113.5,143.5,113.5,101.5,73.0,80.5,110.5,139.5,145.5,87.0,100.5,147.0,110.5,94.0,123.5,73.0,165.0,59.5,66.0,75.5,87.0,140.0,86.0,116.5,80.0,173.0,68.5,172.0,69.5,97.5,95.0,194.0,104.5,85.5,50.0,113.0,153.0,123.5,47.0,162.0,133.5,109.0,125.0,106.5,54.0,37.5,53.5,168.0,138.5,111.5,68.5,102.5,127.5,72.0,47.0,65.0,94.0,97.0,114.5,121.5,60.5,118.5,58.5,63.5,107.0,105.5,83.0,221.5,95.5,173.0,147.5,81.0,83.0,85.5,107.5,44.5,107.5,69.5,53.0,103.0,114.0,96.0,96.5,69.5,121.0,103.0,106.5,130.0,89.0,111.0,87.5],\"type\":\"box\",\"xaxis\":\"x9\",\"yaxis\":\"y9\"},{\"boxpoints\":\"all\",\"x\":[0,0,0,0,0,0,0,1,0,0,0,0,0,1,0,0,0,1,0,0,0,0,1,0,1,0,0,0,0,1,0,0,0,1,0,0,0,0,0,0,0,0,0,0,0,0,0,0,0,0,1,1,0,0,0,1,1,0,0,0,0,0,0,1,1,1,0,0,0,0,0,0,0,0,0,0,0,0,0,0,0,0,1,0,1,0,0,0,0,0,0,0,1,0,0,0,0,0,0,0,0,0,0,0,0,0,0,1,0,1,0,0,0,0,0,0,0,0,1,0,0,0,0,0,0,0,0,1,0,0,0,0,0,1,0,0,0,0,0,1,0,0,1,0,0,0,1,1,0,1,0,0,0,0,0,0,0,0,0,0,0,0,0,0,0,0,0,0,0,0,0,0,0,0,0,0,0,0,0,0,0,1,0,0,1,0,0,0,0,0,0,0,0,0,0,0,0,0,0,0,0,0,0,0,0,0,0,0,0,0,0,0,0,0,0,0,0,0,0,0,0,0,0,0,0,0,0,0,0,0,0,0,0,0,0,0,0,0,0,0,0,1,0,0,1,1,0,1,0,0,0,1,0,0,1,0,0,0,0,0,0,0,0,0,0,1,0,1,0,1,0,0,1,0,0,0,1,0,0,1,0,0,0,0,0,0,0,0,0,0,0,0,0,0,0,0,0,0,0,0,0,0,0,0,0,0,0,0,0,0,0,0,0,0,0,1,0,0,0,0,0,0,0,0,0,0,0,0,0,0,0,0,0,0,0,0,1,1,0,0,0,0,0,0,0,0,0,0,0,0,0,0,0,0,0,1,0,0,0,0,0,0,1,0],\"y\":[72.0,87.5,85.0,76.5,114.5,95.0,73.5,114.0,140.0,163.5,85.0,139.0,65.5,113.5,146.0,153.5,142.5,87.5,105.5,96.0,112.5,84.0,143.0,86.5,99.5,47.5,84.0,96.0,114.5,121.0,112.5,106.0,107.0,110.0,147.5,106.0,88.0,98.5,142.5,130.0,155.0,184.5,29.5,81.0,91.0,114.5,68.0,115.0,109.5,75.5,154.5,143.5,107.0,115.0,139.5,67.0,85.0,118.0,79.5,56.5,128.5,179.5,112.0,98.0,128.0,150.5,110.0,113.5,124.0,56.5,130.0,77.5,87.0,53.5,85.5,48.0,85.0,72.5,97.5,99.0,56.5,133.0,121.0,85.5,87.5,237.5,95.5,104.5,56.5,55.0,157.0,78.0,132.5,108.0,80.5,107.5,95.0,119.5,134.0,100.5,107.5,122.0,92.5,62.0,107.5,89.5,81.0,147.0,85.0,100.5,97.0,132.5,100.0,105.0,87.0,103.5,67.0,87.0,137.5,100.0,106.5,98.5,61.0,106.5,84.5,164.0,169.0,142.0,107.0,171.5,107.0,61.5,120.0,150.5,71.5,51.5,77.5,98.5,225.0,147.0,61.0,120.0,124.5,148.0,59.0,146.5,133.0,140.5,70.5,181.0,205.0,48.5,124.0,98.0,107.5,89.0,100.5,65.0,72.5,87.5,92.5,81.5,79.0,47.5,69.0,49.0,59.0,88.5,88.0,100.0,96.5,76.0,15.5,83.5,163.0,100.0,50.0,93.0,94.5,102.0,155.0,108.0,63.5,109.0,96.0,101.0,77.5,90.0,58.0,128.0,101.0,142.0,169.0,75.5,139.0,102.5,81.0,77.0,92.0,121.0,162.5,90.5,110.0,70.5,92.0,82.0,164.5,44.0,109.0,149.5,65.5,124.5,114.0,49.0,71.0,61.0,94.5,87.0,64.5,154.5,128.5,137.0,99.0,139.5,109.0,254.0,45.5,122.5,140.0,77.5,90.0,167.5,60.0,180.0,65.0,112.5,87.5,62.5,100.0,85.0,122.0,138.5,107.5,162.0,68.5,110.5,115.5,80.5,43.0,66.5,94.5,119.0,27.5,194.5,105.5,62.5,161.5,72.5,139.0,136.5,74.5,101.0,116.5,232.5,120.5,153.0,127.0,85.5,76.5,128.0,91.5,177.0,107.0,113.5,143.5,113.5,101.5,73.0,80.5,110.5,139.5,145.5,87.0,100.5,147.0,110.5,94.0,123.5,73.0,165.0,59.5,66.0,75.5,87.0,140.0,86.0,116.5,80.0,173.0,68.5,172.0,69.5,97.5,95.0,194.0,104.5,85.5,50.0,113.0,153.0,123.5,47.0,162.0,133.5,109.0,125.0,106.5,54.0,37.5,53.5,168.0,138.5,111.5,68.5,102.5,127.5,72.0,47.0,65.0,94.0,97.0,114.5,121.5,60.5,118.5,58.5,63.5,107.0,105.5,83.0,221.5,95.5,173.0,147.5,81.0,83.0,85.5,107.5,44.5,107.5,69.5,53.0,103.0,114.0,96.0,96.5,69.5,121.0,103.0,106.5,130.0,89.0,111.0,87.5],\"type\":\"box\",\"xaxis\":\"x10\",\"yaxis\":\"y10\"},{\"boxpoints\":\"all\",\"x\":[0,0,0,0,0,0,0,0,0,0,1,1,0,0,0,1,0,0,0,0,0,0,0,0,0,0,0,0,0,0,0,0,1,1,0,0,0,0,0,1,0,0,0,0,1,0,0,0,0,0,0,0,0,1,0,0,0,0,0,0,1,0,1,0,0,1,1,0,0,0,0,0,0,0,1,0,0,0,0,0,0,0,0,0,0,0,0,0,0,0,0,0,0,1,0,0,1,0,0,0,0,0,1,0,0,1,1,0,0,1,1,0,0,0,0,0,0,0,1,0,0,0,0,0,0,1,1,0,0,1,0,0,0,1,1,0,0,0,0,1,0,0,0,0,0,0,0,0,0,0,0,0,0,0,0,1,0,0,1,0,1,1,0,0,0,0,0,0,1,1,0,0,0,0,0,0,0,1,0,1,1,0,0,0,0,0,1,0,0,0,0,0,0,1,0,1,0,0,1,0,0,1,0,0,0,0,0,0,1,0,0,0,0,0,0,1,1,1,0,1,1,0,0,0,0,0,0,1,0,0,1,0,0,0,0,1,0,0,1,1,0,0,1,1,0,0,0,0,0,0,0,0,0,0,0,0,0,0,0,0,0,0,0,0,0,0,1,1,0,1,1,1,1,0,0,0,0,0,0,0,0,0,0,0,1,0,1,0,0,1,0,0,1,0,0,0,0,1,0,0,0,0,0,0,0,0,1,0,0,0,0,0,1,0,1,0,0,0,0,0,0,0,0,0,1,0,0,0,0,0,1,0,0,0,1,1,0,0,1,0,0,0,0,0,0,0,0,0,0,0,0,0,1,1,1,0,0,0,0,1,0,0,0,0],\"y\":[72.0,87.5,85.0,76.5,114.5,95.0,73.5,114.0,140.0,163.5,85.0,139.0,65.5,113.5,146.0,153.5,142.5,87.5,105.5,96.0,112.5,84.0,143.0,86.5,99.5,47.5,84.0,96.0,114.5,121.0,112.5,106.0,107.0,110.0,147.5,106.0,88.0,98.5,142.5,130.0,155.0,184.5,29.5,81.0,91.0,114.5,68.0,115.0,109.5,75.5,154.5,143.5,107.0,115.0,139.5,67.0,85.0,118.0,79.5,56.5,128.5,179.5,112.0,98.0,128.0,150.5,110.0,113.5,124.0,56.5,130.0,77.5,87.0,53.5,85.5,48.0,85.0,72.5,97.5,99.0,56.5,133.0,121.0,85.5,87.5,237.5,95.5,104.5,56.5,55.0,157.0,78.0,132.5,108.0,80.5,107.5,95.0,119.5,134.0,100.5,107.5,122.0,92.5,62.0,107.5,89.5,81.0,147.0,85.0,100.5,97.0,132.5,100.0,105.0,87.0,103.5,67.0,87.0,137.5,100.0,106.5,98.5,61.0,106.5,84.5,164.0,169.0,142.0,107.0,171.5,107.0,61.5,120.0,150.5,71.5,51.5,77.5,98.5,225.0,147.0,61.0,120.0,124.5,148.0,59.0,146.5,133.0,140.5,70.5,181.0,205.0,48.5,124.0,98.0,107.5,89.0,100.5,65.0,72.5,87.5,92.5,81.5,79.0,47.5,69.0,49.0,59.0,88.5,88.0,100.0,96.5,76.0,15.5,83.5,163.0,100.0,50.0,93.0,94.5,102.0,155.0,108.0,63.5,109.0,96.0,101.0,77.5,90.0,58.0,128.0,101.0,142.0,169.0,75.5,139.0,102.5,81.0,77.0,92.0,121.0,162.5,90.5,110.0,70.5,92.0,82.0,164.5,44.0,109.0,149.5,65.5,124.5,114.0,49.0,71.0,61.0,94.5,87.0,64.5,154.5,128.5,137.0,99.0,139.5,109.0,254.0,45.5,122.5,140.0,77.5,90.0,167.5,60.0,180.0,65.0,112.5,87.5,62.5,100.0,85.0,122.0,138.5,107.5,162.0,68.5,110.5,115.5,80.5,43.0,66.5,94.5,119.0,27.5,194.5,105.5,62.5,161.5,72.5,139.0,136.5,74.5,101.0,116.5,232.5,120.5,153.0,127.0,85.5,76.5,128.0,91.5,177.0,107.0,113.5,143.5,113.5,101.5,73.0,80.5,110.5,139.5,145.5,87.0,100.5,147.0,110.5,94.0,123.5,73.0,165.0,59.5,66.0,75.5,87.0,140.0,86.0,116.5,80.0,173.0,68.5,172.0,69.5,97.5,95.0,194.0,104.5,85.5,50.0,113.0,153.0,123.5,47.0,162.0,133.5,109.0,125.0,106.5,54.0,37.5,53.5,168.0,138.5,111.5,68.5,102.5,127.5,72.0,47.0,65.0,94.0,97.0,114.5,121.5,60.5,118.5,58.5,63.5,107.0,105.5,83.0,221.5,95.5,173.0,147.5,81.0,83.0,85.5,107.5,44.5,107.5,69.5,53.0,103.0,114.0,96.0,96.5,69.5,121.0,103.0,106.5,130.0,89.0,111.0,87.5],\"type\":\"box\",\"xaxis\":\"x11\",\"yaxis\":\"y11\"},{\"boxpoints\":\"all\",\"x\":[1,0,0,0,0,0,0,0,0,0,0,0,1,0,0,0,0,0,0,0,0,1,0,0,1,0,0,0,0,0,0,1,1,0,0,0,1,0,0,1,0,1,0,1,1,0,1,0,1,0,0,0,1,1,0,0,0,0,0,1,0,0,0,0,0,0,0,0,0,0,0,0,0,0,0,0,0,0,1,1,0,0,0,0,0,0,1,0,1,0,0,0,0,0,0,0,0,1,0,1,1,0,0,0,1,1,1,0,1,0,1,0,0,0,0,0,0,0,0,0,1,0,0,0,0,0,0,0,1,0,0,1,1,0,0,0,1,0,1,0,0,0,0,0,0,0,0,0,0,0,0,1,0,0,0,1,0,1,1,0,1,0,0,0,1,1,0,0,0,0,0,0,0,0,0,0,1,1,0,1,0,0,0,1,0,1,0,1,0,0,1,0,1,1,0,1,1,1,0,0,0,0,1,0,0,0,0,0,0,0,0,0,1,1,1,0,0,0,0,0,1,0,0,1,0,0,0,0,0,0,0,0,0,0,0,0,0,0,0,0,0,0,1,0,0,0,1,0,1,1,0,0,1,0,0,0,1,1,0,0,0,0,0,0,0,0,0,0,1,1,0,0,0,0,0,0,0,1,0,0,0,1,0,0,0,0,1,0,0,0,0,0,1,0,0,0,0,0,0,0,0,1,0,1,0,0,0,0,0,0,1,0,1,0,0,0,1,0,0,0,1,1,0,0,0,0,1,1,0,0,0,0,1,0,0,0,0,0,0,1,0,0,0,0,0,0,0,0,0,0,1,0,0,1,0,0,0,1,1,1,0,0,0,0],\"y\":[72.0,87.5,85.0,76.5,114.5,95.0,73.5,114.0,140.0,163.5,85.0,139.0,65.5,113.5,146.0,153.5,142.5,87.5,105.5,96.0,112.5,84.0,143.0,86.5,99.5,47.5,84.0,96.0,114.5,121.0,112.5,106.0,107.0,110.0,147.5,106.0,88.0,98.5,142.5,130.0,155.0,184.5,29.5,81.0,91.0,114.5,68.0,115.0,109.5,75.5,154.5,143.5,107.0,115.0,139.5,67.0,85.0,118.0,79.5,56.5,128.5,179.5,112.0,98.0,128.0,150.5,110.0,113.5,124.0,56.5,130.0,77.5,87.0,53.5,85.5,48.0,85.0,72.5,97.5,99.0,56.5,133.0,121.0,85.5,87.5,237.5,95.5,104.5,56.5,55.0,157.0,78.0,132.5,108.0,80.5,107.5,95.0,119.5,134.0,100.5,107.5,122.0,92.5,62.0,107.5,89.5,81.0,147.0,85.0,100.5,97.0,132.5,100.0,105.0,87.0,103.5,67.0,87.0,137.5,100.0,106.5,98.5,61.0,106.5,84.5,164.0,169.0,142.0,107.0,171.5,107.0,61.5,120.0,150.5,71.5,51.5,77.5,98.5,225.0,147.0,61.0,120.0,124.5,148.0,59.0,146.5,133.0,140.5,70.5,181.0,205.0,48.5,124.0,98.0,107.5,89.0,100.5,65.0,72.5,87.5,92.5,81.5,79.0,47.5,69.0,49.0,59.0,88.5,88.0,100.0,96.5,76.0,15.5,83.5,163.0,100.0,50.0,93.0,94.5,102.0,155.0,108.0,63.5,109.0,96.0,101.0,77.5,90.0,58.0,128.0,101.0,142.0,169.0,75.5,139.0,102.5,81.0,77.0,92.0,121.0,162.5,90.5,110.0,70.5,92.0,82.0,164.5,44.0,109.0,149.5,65.5,124.5,114.0,49.0,71.0,61.0,94.5,87.0,64.5,154.5,128.5,137.0,99.0,139.5,109.0,254.0,45.5,122.5,140.0,77.5,90.0,167.5,60.0,180.0,65.0,112.5,87.5,62.5,100.0,85.0,122.0,138.5,107.5,162.0,68.5,110.5,115.5,80.5,43.0,66.5,94.5,119.0,27.5,194.5,105.5,62.5,161.5,72.5,139.0,136.5,74.5,101.0,116.5,232.5,120.5,153.0,127.0,85.5,76.5,128.0,91.5,177.0,107.0,113.5,143.5,113.5,101.5,73.0,80.5,110.5,139.5,145.5,87.0,100.5,147.0,110.5,94.0,123.5,73.0,165.0,59.5,66.0,75.5,87.0,140.0,86.0,116.5,80.0,173.0,68.5,172.0,69.5,97.5,95.0,194.0,104.5,85.5,50.0,113.0,153.0,123.5,47.0,162.0,133.5,109.0,125.0,106.5,54.0,37.5,53.5,168.0,138.5,111.5,68.5,102.5,127.5,72.0,47.0,65.0,94.0,97.0,114.5,121.5,60.5,118.5,58.5,63.5,107.0,105.5,83.0,221.5,95.5,173.0,147.5,81.0,83.0,85.5,107.5,44.5,107.5,69.5,53.0,103.0,114.0,96.0,96.5,69.5,121.0,103.0,106.5,130.0,89.0,111.0,87.5],\"type\":\"box\",\"xaxis\":\"x12\",\"yaxis\":\"y12\"},{\"boxpoints\":\"all\",\"x\":[1,0,0,0,0,1,0,0,0,0,0,0,1,0,0,0,0,0,0,0,0,0,0,0,0,0,0,0,0,0,0,1,0,0,0,0,0,0,0,1,0,0,0,0,0,0,0,0,0,0,0,0,1,0,0,0,0,0,0,0,0,0,0,0,0,0,0,0,0,0,0,0,0,0,0,0,0,0,1,0,0,0,0,0,0,0,0,1,0,1,0,0,0,0,0,0,0,0,0,1,0,0,0,0,0,0,0,0,1,0,0,0,0,0,0,0,0,0,0,1,0,0,0,0,0,0,0,0,0,0,0,1,1,0,0,0,0,0,0,0,0,0,0,0,0,0,0,0,0,0,0,0,0,0,0,0,0,1,1,0,0,0,0,0,1,0,0,0,0,0,0,0,0,0,0,0,1,1,0,0,0,0,0,0,0,0,0,0,0,0,0,0,0,1,0,0,0,0,0,0,0,0,0,0,0,0,0,0,0,0,0,0,0,1,1,0,0,0,0,0,0,0,0,1,0,0,0,0,0,0,0,0,0,0,0,0,0,0,0,0,0,0,0,0,0,0,0,0,0,0,0,0,0,0,0,0,1,0,0,0,0,0,0,0,0,0,0,0,0,0,0,0,0,0,0,0,0,1,0,0,0,0,0,0,0,0,1,0,0,0,0,0,0,0,0,0,0,0,0,0,0,0,0,0,0,0,0,0,0,0,0,0,1,0,0,0,1,0,0,1,0,0,0,0,0,0,0,0,0,0,0,0,1,0,0,0,0,0,0,1,0,0,0,0,0,0,0,0,0,0,1,0,0,1,0,0,0,1,1,0,0,0,0,0],\"y\":[72.0,87.5,85.0,76.5,114.5,95.0,73.5,114.0,140.0,163.5,85.0,139.0,65.5,113.5,146.0,153.5,142.5,87.5,105.5,96.0,112.5,84.0,143.0,86.5,99.5,47.5,84.0,96.0,114.5,121.0,112.5,106.0,107.0,110.0,147.5,106.0,88.0,98.5,142.5,130.0,155.0,184.5,29.5,81.0,91.0,114.5,68.0,115.0,109.5,75.5,154.5,143.5,107.0,115.0,139.5,67.0,85.0,118.0,79.5,56.5,128.5,179.5,112.0,98.0,128.0,150.5,110.0,113.5,124.0,56.5,130.0,77.5,87.0,53.5,85.5,48.0,85.0,72.5,97.5,99.0,56.5,133.0,121.0,85.5,87.5,237.5,95.5,104.5,56.5,55.0,157.0,78.0,132.5,108.0,80.5,107.5,95.0,119.5,134.0,100.5,107.5,122.0,92.5,62.0,107.5,89.5,81.0,147.0,85.0,100.5,97.0,132.5,100.0,105.0,87.0,103.5,67.0,87.0,137.5,100.0,106.5,98.5,61.0,106.5,84.5,164.0,169.0,142.0,107.0,171.5,107.0,61.5,120.0,150.5,71.5,51.5,77.5,98.5,225.0,147.0,61.0,120.0,124.5,148.0,59.0,146.5,133.0,140.5,70.5,181.0,205.0,48.5,124.0,98.0,107.5,89.0,100.5,65.0,72.5,87.5,92.5,81.5,79.0,47.5,69.0,49.0,59.0,88.5,88.0,100.0,96.5,76.0,15.5,83.5,163.0,100.0,50.0,93.0,94.5,102.0,155.0,108.0,63.5,109.0,96.0,101.0,77.5,90.0,58.0,128.0,101.0,142.0,169.0,75.5,139.0,102.5,81.0,77.0,92.0,121.0,162.5,90.5,110.0,70.5,92.0,82.0,164.5,44.0,109.0,149.5,65.5,124.5,114.0,49.0,71.0,61.0,94.5,87.0,64.5,154.5,128.5,137.0,99.0,139.5,109.0,254.0,45.5,122.5,140.0,77.5,90.0,167.5,60.0,180.0,65.0,112.5,87.5,62.5,100.0,85.0,122.0,138.5,107.5,162.0,68.5,110.5,115.5,80.5,43.0,66.5,94.5,119.0,27.5,194.5,105.5,62.5,161.5,72.5,139.0,136.5,74.5,101.0,116.5,232.5,120.5,153.0,127.0,85.5,76.5,128.0,91.5,177.0,107.0,113.5,143.5,113.5,101.5,73.0,80.5,110.5,139.5,145.5,87.0,100.5,147.0,110.5,94.0,123.5,73.0,165.0,59.5,66.0,75.5,87.0,140.0,86.0,116.5,80.0,173.0,68.5,172.0,69.5,97.5,95.0,194.0,104.5,85.5,50.0,113.0,153.0,123.5,47.0,162.0,133.5,109.0,125.0,106.5,54.0,37.5,53.5,168.0,138.5,111.5,68.5,102.5,127.5,72.0,47.0,65.0,94.0,97.0,114.5,121.5,60.5,118.5,58.5,63.5,107.0,105.5,83.0,221.5,95.5,173.0,147.5,81.0,83.0,85.5,107.5,44.5,107.5,69.5,53.0,103.0,114.0,96.0,96.5,69.5,121.0,103.0,106.5,130.0,89.0,111.0,87.5],\"type\":\"box\",\"xaxis\":\"x13\",\"yaxis\":\"y13\"},{\"boxpoints\":\"all\",\"x\":[0,0,0,0,0,1,0,0,0,0,0,0,0,0,0,0,0,0,0,0,1,0,0,0,0,0,0,0,0,1,0,0,1,0,0,0,1,0,0,0,0,0,0,0,0,0,0,0,0,0,0,0,0,0,0,0,0,0,0,0,0,0,0,0,0,0,0,0,0,0,0,0,0,0,0,0,0,0,1,0,0,0,0,0,0,0,0,0,0,0,0,0,0,0,0,0,0,0,0,0,0,0,1,0,0,0,0,0,0,0,1,0,0,0,0,0,0,0,0,0,1,0,0,1,0,0,0,0,0,0,0,0,0,0,0,0,0,0,0,0,0,0,0,0,0,0,0,0,0,0,0,0,0,0,0,0,0,0,0,0,0,0,0,0,0,0,0,0,0,0,0,0,0,0,0,0,0,0,0,0,0,0,0,0,0,0,0,0,0,0,0,1,1,0,0,1,0,0,0,0,0,0,0,0,0,0,0,0,0,0,0,0,0,0,0,0,0,0,0,1,0,0,0,0,0,0,0,1,0,0,0,0,0,0,0,0,0,0,0,0,0,0,1,0,0,0,0,0,0,0,0,0,0,0,0,0,0,0,0,0,0,0,0,0,0,0,0,0,0,1,0,1,0,0,0,0,0,0,0,0,0,0,0,0,1,0,0,0,0,0,0,0,0,0,0,0,0,0,0,0,0,1,0,0,0,0,0,0,1,0,1,0,0,0,0,0,0,0,0,0,0,0,0,0,0,0,0,0,0,0,0,0,0,1,0,0,0,0,0,0,0,0,0,0,0,0,0,0,0,0,0,0,0,0,0,0,0,0,0,0,0,0,0,0],\"y\":[72.0,87.5,85.0,76.5,114.5,95.0,73.5,114.0,140.0,163.5,85.0,139.0,65.5,113.5,146.0,153.5,142.5,87.5,105.5,96.0,112.5,84.0,143.0,86.5,99.5,47.5,84.0,96.0,114.5,121.0,112.5,106.0,107.0,110.0,147.5,106.0,88.0,98.5,142.5,130.0,155.0,184.5,29.5,81.0,91.0,114.5,68.0,115.0,109.5,75.5,154.5,143.5,107.0,115.0,139.5,67.0,85.0,118.0,79.5,56.5,128.5,179.5,112.0,98.0,128.0,150.5,110.0,113.5,124.0,56.5,130.0,77.5,87.0,53.5,85.5,48.0,85.0,72.5,97.5,99.0,56.5,133.0,121.0,85.5,87.5,237.5,95.5,104.5,56.5,55.0,157.0,78.0,132.5,108.0,80.5,107.5,95.0,119.5,134.0,100.5,107.5,122.0,92.5,62.0,107.5,89.5,81.0,147.0,85.0,100.5,97.0,132.5,100.0,105.0,87.0,103.5,67.0,87.0,137.5,100.0,106.5,98.5,61.0,106.5,84.5,164.0,169.0,142.0,107.0,171.5,107.0,61.5,120.0,150.5,71.5,51.5,77.5,98.5,225.0,147.0,61.0,120.0,124.5,148.0,59.0,146.5,133.0,140.5,70.5,181.0,205.0,48.5,124.0,98.0,107.5,89.0,100.5,65.0,72.5,87.5,92.5,81.5,79.0,47.5,69.0,49.0,59.0,88.5,88.0,100.0,96.5,76.0,15.5,83.5,163.0,100.0,50.0,93.0,94.5,102.0,155.0,108.0,63.5,109.0,96.0,101.0,77.5,90.0,58.0,128.0,101.0,142.0,169.0,75.5,139.0,102.5,81.0,77.0,92.0,121.0,162.5,90.5,110.0,70.5,92.0,82.0,164.5,44.0,109.0,149.5,65.5,124.5,114.0,49.0,71.0,61.0,94.5,87.0,64.5,154.5,128.5,137.0,99.0,139.5,109.0,254.0,45.5,122.5,140.0,77.5,90.0,167.5,60.0,180.0,65.0,112.5,87.5,62.5,100.0,85.0,122.0,138.5,107.5,162.0,68.5,110.5,115.5,80.5,43.0,66.5,94.5,119.0,27.5,194.5,105.5,62.5,161.5,72.5,139.0,136.5,74.5,101.0,116.5,232.5,120.5,153.0,127.0,85.5,76.5,128.0,91.5,177.0,107.0,113.5,143.5,113.5,101.5,73.0,80.5,110.5,139.5,145.5,87.0,100.5,147.0,110.5,94.0,123.5,73.0,165.0,59.5,66.0,75.5,87.0,140.0,86.0,116.5,80.0,173.0,68.5,172.0,69.5,97.5,95.0,194.0,104.5,85.5,50.0,113.0,153.0,123.5,47.0,162.0,133.5,109.0,125.0,106.5,54.0,37.5,53.5,168.0,138.5,111.5,68.5,102.5,127.5,72.0,47.0,65.0,94.0,97.0,114.5,121.5,60.5,118.5,58.5,63.5,107.0,105.5,83.0,221.5,95.5,173.0,147.5,81.0,83.0,85.5,107.5,44.5,107.5,69.5,53.0,103.0,114.0,96.0,96.5,69.5,121.0,103.0,106.5,130.0,89.0,111.0,87.5],\"type\":\"box\",\"xaxis\":\"x14\",\"yaxis\":\"y14\"}],                        {\"template\":{\"data\":{\"histogram2dcontour\":[{\"type\":\"histogram2dcontour\",\"colorbar\":{\"outlinewidth\":0,\"ticks\":\"\"},\"colorscale\":[[0.0,\"#0d0887\"],[0.1111111111111111,\"#46039f\"],[0.2222222222222222,\"#7201a8\"],[0.3333333333333333,\"#9c179e\"],[0.4444444444444444,\"#bd3786\"],[0.5555555555555556,\"#d8576b\"],[0.6666666666666666,\"#ed7953\"],[0.7777777777777778,\"#fb9f3a\"],[0.8888888888888888,\"#fdca26\"],[1.0,\"#f0f921\"]]}],\"choropleth\":[{\"type\":\"choropleth\",\"colorbar\":{\"outlinewidth\":0,\"ticks\":\"\"}}],\"histogram2d\":[{\"type\":\"histogram2d\",\"colorbar\":{\"outlinewidth\":0,\"ticks\":\"\"},\"colorscale\":[[0.0,\"#0d0887\"],[0.1111111111111111,\"#46039f\"],[0.2222222222222222,\"#7201a8\"],[0.3333333333333333,\"#9c179e\"],[0.4444444444444444,\"#bd3786\"],[0.5555555555555556,\"#d8576b\"],[0.6666666666666666,\"#ed7953\"],[0.7777777777777778,\"#fb9f3a\"],[0.8888888888888888,\"#fdca26\"],[1.0,\"#f0f921\"]]}],\"heatmap\":[{\"type\":\"heatmap\",\"colorbar\":{\"outlinewidth\":0,\"ticks\":\"\"},\"colorscale\":[[0.0,\"#0d0887\"],[0.1111111111111111,\"#46039f\"],[0.2222222222222222,\"#7201a8\"],[0.3333333333333333,\"#9c179e\"],[0.4444444444444444,\"#bd3786\"],[0.5555555555555556,\"#d8576b\"],[0.6666666666666666,\"#ed7953\"],[0.7777777777777778,\"#fb9f3a\"],[0.8888888888888888,\"#fdca26\"],[1.0,\"#f0f921\"]]}],\"heatmapgl\":[{\"type\":\"heatmapgl\",\"colorbar\":{\"outlinewidth\":0,\"ticks\":\"\"},\"colorscale\":[[0.0,\"#0d0887\"],[0.1111111111111111,\"#46039f\"],[0.2222222222222222,\"#7201a8\"],[0.3333333333333333,\"#9c179e\"],[0.4444444444444444,\"#bd3786\"],[0.5555555555555556,\"#d8576b\"],[0.6666666666666666,\"#ed7953\"],[0.7777777777777778,\"#fb9f3a\"],[0.8888888888888888,\"#fdca26\"],[1.0,\"#f0f921\"]]}],\"contourcarpet\":[{\"type\":\"contourcarpet\",\"colorbar\":{\"outlinewidth\":0,\"ticks\":\"\"}}],\"contour\":[{\"type\":\"contour\",\"colorbar\":{\"outlinewidth\":0,\"ticks\":\"\"},\"colorscale\":[[0.0,\"#0d0887\"],[0.1111111111111111,\"#46039f\"],[0.2222222222222222,\"#7201a8\"],[0.3333333333333333,\"#9c179e\"],[0.4444444444444444,\"#bd3786\"],[0.5555555555555556,\"#d8576b\"],[0.6666666666666666,\"#ed7953\"],[0.7777777777777778,\"#fb9f3a\"],[0.8888888888888888,\"#fdca26\"],[1.0,\"#f0f921\"]]}],\"surface\":[{\"type\":\"surface\",\"colorbar\":{\"outlinewidth\":0,\"ticks\":\"\"},\"colorscale\":[[0.0,\"#0d0887\"],[0.1111111111111111,\"#46039f\"],[0.2222222222222222,\"#7201a8\"],[0.3333333333333333,\"#9c179e\"],[0.4444444444444444,\"#bd3786\"],[0.5555555555555556,\"#d8576b\"],[0.6666666666666666,\"#ed7953\"],[0.7777777777777778,\"#fb9f3a\"],[0.8888888888888888,\"#fdca26\"],[1.0,\"#f0f921\"]]}],\"mesh3d\":[{\"type\":\"mesh3d\",\"colorbar\":{\"outlinewidth\":0,\"ticks\":\"\"}}],\"scatter\":[{\"fillpattern\":{\"fillmode\":\"overlay\",\"size\":10,\"solidity\":0.2},\"type\":\"scatter\"}],\"parcoords\":[{\"type\":\"parcoords\",\"line\":{\"colorbar\":{\"outlinewidth\":0,\"ticks\":\"\"}}}],\"scatterpolargl\":[{\"type\":\"scatterpolargl\",\"marker\":{\"colorbar\":{\"outlinewidth\":0,\"ticks\":\"\"}}}],\"bar\":[{\"error_x\":{\"color\":\"#2a3f5f\"},\"error_y\":{\"color\":\"#2a3f5f\"},\"marker\":{\"line\":{\"color\":\"#E5ECF6\",\"width\":0.5},\"pattern\":{\"fillmode\":\"overlay\",\"size\":10,\"solidity\":0.2}},\"type\":\"bar\"}],\"scattergeo\":[{\"type\":\"scattergeo\",\"marker\":{\"colorbar\":{\"outlinewidth\":0,\"ticks\":\"\"}}}],\"scatterpolar\":[{\"type\":\"scatterpolar\",\"marker\":{\"colorbar\":{\"outlinewidth\":0,\"ticks\":\"\"}}}],\"histogram\":[{\"marker\":{\"pattern\":{\"fillmode\":\"overlay\",\"size\":10,\"solidity\":0.2}},\"type\":\"histogram\"}],\"scattergl\":[{\"type\":\"scattergl\",\"marker\":{\"colorbar\":{\"outlinewidth\":0,\"ticks\":\"\"}}}],\"scatter3d\":[{\"type\":\"scatter3d\",\"line\":{\"colorbar\":{\"outlinewidth\":0,\"ticks\":\"\"}},\"marker\":{\"colorbar\":{\"outlinewidth\":0,\"ticks\":\"\"}}}],\"scattermapbox\":[{\"type\":\"scattermapbox\",\"marker\":{\"colorbar\":{\"outlinewidth\":0,\"ticks\":\"\"}}}],\"scatterternary\":[{\"type\":\"scatterternary\",\"marker\":{\"colorbar\":{\"outlinewidth\":0,\"ticks\":\"\"}}}],\"scattercarpet\":[{\"type\":\"scattercarpet\",\"marker\":{\"colorbar\":{\"outlinewidth\":0,\"ticks\":\"\"}}}],\"carpet\":[{\"aaxis\":{\"endlinecolor\":\"#2a3f5f\",\"gridcolor\":\"white\",\"linecolor\":\"white\",\"minorgridcolor\":\"white\",\"startlinecolor\":\"#2a3f5f\"},\"baxis\":{\"endlinecolor\":\"#2a3f5f\",\"gridcolor\":\"white\",\"linecolor\":\"white\",\"minorgridcolor\":\"white\",\"startlinecolor\":\"#2a3f5f\"},\"type\":\"carpet\"}],\"table\":[{\"cells\":{\"fill\":{\"color\":\"#EBF0F8\"},\"line\":{\"color\":\"white\"}},\"header\":{\"fill\":{\"color\":\"#C8D4E3\"},\"line\":{\"color\":\"white\"}},\"type\":\"table\"}],\"barpolar\":[{\"marker\":{\"line\":{\"color\":\"#E5ECF6\",\"width\":0.5},\"pattern\":{\"fillmode\":\"overlay\",\"size\":10,\"solidity\":0.2}},\"type\":\"barpolar\"}],\"pie\":[{\"automargin\":true,\"type\":\"pie\"}]},\"layout\":{\"autotypenumbers\":\"strict\",\"colorway\":[\"#636efa\",\"#EF553B\",\"#00cc96\",\"#ab63fa\",\"#FFA15A\",\"#19d3f3\",\"#FF6692\",\"#B6E880\",\"#FF97FF\",\"#FECB52\"],\"font\":{\"color\":\"#2a3f5f\"},\"hovermode\":\"closest\",\"hoverlabel\":{\"align\":\"left\"},\"paper_bgcolor\":\"white\",\"plot_bgcolor\":\"#E5ECF6\",\"polar\":{\"bgcolor\":\"#E5ECF6\",\"angularaxis\":{\"gridcolor\":\"white\",\"linecolor\":\"white\",\"ticks\":\"\"},\"radialaxis\":{\"gridcolor\":\"white\",\"linecolor\":\"white\",\"ticks\":\"\"}},\"ternary\":{\"bgcolor\":\"#E5ECF6\",\"aaxis\":{\"gridcolor\":\"white\",\"linecolor\":\"white\",\"ticks\":\"\"},\"baxis\":{\"gridcolor\":\"white\",\"linecolor\":\"white\",\"ticks\":\"\"},\"caxis\":{\"gridcolor\":\"white\",\"linecolor\":\"white\",\"ticks\":\"\"}},\"coloraxis\":{\"colorbar\":{\"outlinewidth\":0,\"ticks\":\"\"}},\"colorscale\":{\"sequential\":[[0.0,\"#0d0887\"],[0.1111111111111111,\"#46039f\"],[0.2222222222222222,\"#7201a8\"],[0.3333333333333333,\"#9c179e\"],[0.4444444444444444,\"#bd3786\"],[0.5555555555555556,\"#d8576b\"],[0.6666666666666666,\"#ed7953\"],[0.7777777777777778,\"#fb9f3a\"],[0.8888888888888888,\"#fdca26\"],[1.0,\"#f0f921\"]],\"sequentialminus\":[[0.0,\"#0d0887\"],[0.1111111111111111,\"#46039f\"],[0.2222222222222222,\"#7201a8\"],[0.3333333333333333,\"#9c179e\"],[0.4444444444444444,\"#bd3786\"],[0.5555555555555556,\"#d8576b\"],[0.6666666666666666,\"#ed7953\"],[0.7777777777777778,\"#fb9f3a\"],[0.8888888888888888,\"#fdca26\"],[1.0,\"#f0f921\"]],\"diverging\":[[0,\"#8e0152\"],[0.1,\"#c51b7d\"],[0.2,\"#de77ae\"],[0.3,\"#f1b6da\"],[0.4,\"#fde0ef\"],[0.5,\"#f7f7f7\"],[0.6,\"#e6f5d0\"],[0.7,\"#b8e186\"],[0.8,\"#7fbc41\"],[0.9,\"#4d9221\"],[1,\"#276419\"]]},\"xaxis\":{\"gridcolor\":\"white\",\"linecolor\":\"white\",\"ticks\":\"\",\"title\":{\"standoff\":15},\"zerolinecolor\":\"white\",\"automargin\":true,\"zerolinewidth\":2},\"yaxis\":{\"gridcolor\":\"white\",\"linecolor\":\"white\",\"ticks\":\"\",\"title\":{\"standoff\":15},\"zerolinecolor\":\"white\",\"automargin\":true,\"zerolinewidth\":2},\"scene\":{\"xaxis\":{\"backgroundcolor\":\"#E5ECF6\",\"gridcolor\":\"white\",\"linecolor\":\"white\",\"showbackground\":true,\"ticks\":\"\",\"zerolinecolor\":\"white\",\"gridwidth\":2},\"yaxis\":{\"backgroundcolor\":\"#E5ECF6\",\"gridcolor\":\"white\",\"linecolor\":\"white\",\"showbackground\":true,\"ticks\":\"\",\"zerolinecolor\":\"white\",\"gridwidth\":2},\"zaxis\":{\"backgroundcolor\":\"#E5ECF6\",\"gridcolor\":\"white\",\"linecolor\":\"white\",\"showbackground\":true,\"ticks\":\"\",\"zerolinecolor\":\"white\",\"gridwidth\":2}},\"shapedefaults\":{\"line\":{\"color\":\"#2a3f5f\"}},\"annotationdefaults\":{\"arrowcolor\":\"#2a3f5f\",\"arrowhead\":0,\"arrowwidth\":1},\"geo\":{\"bgcolor\":\"white\",\"landcolor\":\"#E5ECF6\",\"subunitcolor\":\"white\",\"showland\":true,\"showlakes\":true,\"lakecolor\":\"white\"},\"title\":{\"x\":0.05},\"mapbox\":{\"style\":\"light\"}}},\"xaxis\":{\"anchor\":\"y\",\"domain\":[0.0,0.2125],\"title\":{\"text\":\"Python-Avg Salary\"}},\"yaxis\":{\"anchor\":\"x\",\"domain\":[0.80625,1.0]},\"xaxis2\":{\"anchor\":\"y2\",\"domain\":[0.2625,0.475],\"title\":{\"text\":\"spark-Avg Salary\"}},\"yaxis2\":{\"anchor\":\"x2\",\"domain\":[0.80625,1.0],\"matches\":\"y\",\"showticklabels\":false},\"xaxis3\":{\"anchor\":\"y3\",\"domain\":[0.525,0.7375],\"title\":{\"text\":\"aws-Avg Salary\"}},\"yaxis3\":{\"anchor\":\"x3\",\"domain\":[0.80625,1.0],\"matches\":\"y\",\"showticklabels\":false},\"xaxis4\":{\"anchor\":\"y4\",\"domain\":[0.7875,1.0],\"title\":{\"text\":\"excel-Avg Salary\"}},\"yaxis4\":{\"anchor\":\"x4\",\"domain\":[0.80625,1.0],\"matches\":\"y\",\"showticklabels\":false},\"xaxis5\":{\"anchor\":\"y5\",\"domain\":[0.0,0.2125],\"title\":{\"text\":\"sql-Avg Salary\"}},\"yaxis5\":{\"anchor\":\"x5\",\"domain\":[0.5375,0.73125]},\"xaxis6\":{\"anchor\":\"y6\",\"domain\":[0.2625,0.475],\"title\":{\"text\":\"sas-Avg Salary\"}},\"yaxis6\":{\"anchor\":\"x6\",\"domain\":[0.5375,0.73125],\"matches\":\"y5\",\"showticklabels\":false},\"xaxis7\":{\"anchor\":\"y7\",\"domain\":[0.525,0.7375],\"title\":{\"text\":\"keras-Avg Salary\"}},\"yaxis7\":{\"anchor\":\"x7\",\"domain\":[0.5375,0.73125],\"matches\":\"y5\",\"showticklabels\":false},\"xaxis8\":{\"anchor\":\"y8\",\"domain\":[0.7875,1.0],\"title\":{\"text\":\"pytorch-Avg Salary\"}},\"yaxis8\":{\"anchor\":\"x8\",\"domain\":[0.5375,0.73125],\"matches\":\"y5\",\"showticklabels\":false},\"xaxis9\":{\"anchor\":\"y9\",\"domain\":[0.0,0.2125],\"title\":{\"text\":\"scikit-Avg Salary\"}},\"yaxis9\":{\"anchor\":\"x9\",\"domain\":[0.26875,0.4625]},\"xaxis10\":{\"anchor\":\"y10\",\"domain\":[0.2625,0.475],\"title\":{\"text\":\"tensor-Avg Salary\"}},\"yaxis10\":{\"anchor\":\"x10\",\"domain\":[0.26875,0.4625],\"matches\":\"y9\",\"showticklabels\":false},\"xaxis11\":{\"anchor\":\"y11\",\"domain\":[0.525,0.7375],\"title\":{\"text\":\"hadoop-Avg Salary\"}},\"yaxis11\":{\"anchor\":\"x11\",\"domain\":[0.26875,0.4625],\"matches\":\"y9\",\"showticklabels\":false},\"xaxis12\":{\"anchor\":\"y12\",\"domain\":[0.7875,1.0],\"title\":{\"text\":\"tableau-Avg Salary\"}},\"yaxis12\":{\"anchor\":\"x12\",\"domain\":[0.26875,0.4625],\"matches\":\"y9\",\"showticklabels\":false},\"xaxis13\":{\"anchor\":\"y13\",\"domain\":[0.0,0.2125],\"title\":{\"text\":\"bi-Avg Salary\"}},\"yaxis13\":{\"anchor\":\"x13\",\"domain\":[0.0,0.19375]},\"xaxis14\":{\"anchor\":\"y14\",\"domain\":[0.2625,0.475],\"title\":{\"text\":\"mongo-Avg Salary\"}},\"yaxis14\":{\"anchor\":\"x14\",\"domain\":[0.0,0.19375],\"matches\":\"y13\",\"showticklabels\":false},\"xaxis15\":{\"anchor\":\"y15\",\"domain\":[0.525,0.7375]},\"yaxis15\":{\"anchor\":\"x15\",\"domain\":[0.0,0.19375],\"matches\":\"y13\",\"showticklabels\":false},\"xaxis16\":{\"anchor\":\"y16\",\"domain\":[0.7875,1.0]},\"yaxis16\":{\"anchor\":\"x16\",\"domain\":[0.0,0.19375],\"matches\":\"y13\",\"showticklabels\":false},\"height\":1200,\"width\":800},                        {\"responsive\": true}                    ).then(function(){\n",
       "                            \n",
       "var gd = document.getElementById('15d23054-bf7f-44ad-80ec-629b486e4589');\n",
       "var x = new MutationObserver(function (mutations, observer) {{\n",
       "        var display = window.getComputedStyle(gd).display;\n",
       "        if (!display || display === 'none') {{\n",
       "            console.log([gd, 'removed!']);\n",
       "            Plotly.purge(gd);\n",
       "            observer.disconnect();\n",
       "        }}\n",
       "}});\n",
       "\n",
       "// Listen for the removal of the full notebook cells\n",
       "var notebookContainer = gd.closest('#notebook-container');\n",
       "if (notebookContainer) {{\n",
       "    x.observe(notebookContainer, {childList: true});\n",
       "}}\n",
       "\n",
       "// Listen for the clearing of the current output cell\n",
       "var outputEl = gd.closest('.output');\n",
       "if (outputEl) {{\n",
       "    x.observe(outputEl, {childList: true});\n",
       "}}\n",
       "\n",
       "                        })                };                });            </script>        </div>"
      ]
     },
     "metadata": {},
     "output_type": "display_data"
    }
   ],
   "source": [
    "# fig1 = px.violin(df_pysal, y='Avg Salary(K)', color='Python', violinmode='overlay', title='Python-Avg Salary', width=500)\n",
    "# fig1.show()\n",
    "\n",
    "fig = make_subplots(rows=4, cols=4, shared_yaxes=True)\n",
    "\n",
    "fig.add_trace(\n",
    "    go.Box(x=df_dsc['Python'], y=df_dsc['Avg Salary(K)'], boxpoints='all'),\n",
    "    row=1, col=1\n",
    ")\n",
    "fig.update_xaxes(title_text=\"Python-Avg Salary\", row=1, col=1)\n",
    "\n",
    "fig.add_trace(\n",
    "    go.Box(x=df_dsc['spark'], y=df_dsc['Avg Salary(K)'], boxpoints='all'),\n",
    "    row=1, col=2\n",
    ")\n",
    "fig.update_xaxes(title_text=\"spark-Avg Salary\", row=1, col=2)\n",
    "\n",
    "fig.add_trace(\n",
    "    go.Box(x=df_dsc['aws'], y=df_dsc['Avg Salary(K)'], boxpoints='all'),\n",
    "    row=1, col=3\n",
    ")\n",
    "fig.update_xaxes(title_text=\"aws-Avg Salary\", row=1, col=3)\n",
    "\n",
    "fig.add_trace(\n",
    "    go.Box(x=df_dsc['excel'], y=df_dsc['Avg Salary(K)'], boxpoints='all'),\n",
    "    row=1, col=4\n",
    ")\n",
    "fig.update_xaxes(title_text=\"excel-Avg Salary\", row=1, col=4)\n",
    "\n",
    "fig.add_trace(\n",
    "    go.Box(x=df_dsc['sql'], y=df_dsc['Avg Salary(K)'], boxpoints='all'),\n",
    "    row=2, col=1\n",
    ")\n",
    "fig.update_xaxes(title_text=\"sql-Avg Salary\", row=2, col=1)\n",
    "\n",
    "fig.add_trace(\n",
    "    go.Box(x=df_dsc['sas'], y=df_dsc['Avg Salary(K)'], boxpoints='all'),\n",
    "    row=2, col=2\n",
    ")\n",
    "fig.update_xaxes(title_text=\"sas-Avg Salary\", row=2, col=2)\n",
    "\n",
    "fig.add_trace(\n",
    "    go.Box(x=df_dsc['keras'], y=df_dsc['Avg Salary(K)'], boxpoints='all'),\n",
    "    row=2, col=3\n",
    ")\n",
    "fig.update_xaxes(title_text=\"keras-Avg Salary\", row=2, col=3)\n",
    "\n",
    "fig.add_trace(\n",
    "    go.Box(x=df_dsc['pytorch'], y=df_dsc['Avg Salary(K)'], boxpoints='all'),\n",
    "    row=2, col=4\n",
    ")\n",
    "fig.update_xaxes(title_text=\"pytorch-Avg Salary\", row=2, col=4)\n",
    "\n",
    "fig.add_trace(\n",
    "    go.Box(x=df_dsc['scikit'], y=df_dsc['Avg Salary(K)'], boxpoints='all'),\n",
    "    row=3, col=1\n",
    ")\n",
    "fig.update_xaxes(title_text=\"scikit-Avg Salary\", row=3, col=1)\n",
    "\n",
    "fig.add_trace(\n",
    "    go.Box(x=df_dsc['tensor'], y=df_dsc['Avg Salary(K)'], boxpoints='all'),\n",
    "    row=3, col=2\n",
    ")\n",
    "fig.update_xaxes(title_text=\"tensor-Avg Salary\", row=3, col=2)\n",
    "\n",
    "fig.add_trace(\n",
    "    go.Box(x=df_dsc['hadoop'], y=df_dsc['Avg Salary(K)'], boxpoints='all'),\n",
    "    row=3, col=3\n",
    ")\n",
    "fig.update_xaxes(title_text=\"hadoop-Avg Salary\", row=3, col=3)\n",
    "\n",
    "fig.add_trace(\n",
    "    go.Box(x=df_dsc['tableau'], y=df_dsc['Avg Salary(K)'], boxpoints='all'),\n",
    "    row=3, col=4\n",
    ")\n",
    "fig.update_xaxes(title_text=\"tableau-Avg Salary\", row=3, col=4)\n",
    "\n",
    "fig.add_trace(\n",
    "    go.Box(x=df_dsc['bi'], y=df_dsc['Avg Salary(K)'], boxpoints='all'),\n",
    "    row=4, col=1\n",
    ")\n",
    "fig.update_xaxes(title_text=\"bi-Avg Salary\", row=4, col=1)\n",
    "\n",
    "\n",
    "fig.add_trace(\n",
    "    go.Box(x=df_dsc['mongo'], y=df_dsc['Avg Salary(K)'], boxpoints='all'),\n",
    "    row=4, col=2\n",
    ")\n",
    "fig.update_xaxes(title_text=\"mongo-Avg Salary\", row=4, col=2)\n",
    "\n",
    "\n",
    "fig.update_layout(height=1200, width=800)\n",
    "\n",
    "fig.show()"
   ]
  },
  {
   "cell_type": "markdown",
   "id": "3339cff8",
   "metadata": {},
   "source": [
    "✔︎ Job별 Skill 분포 (개수)"
   ]
  },
  {
   "cell_type": "code",
   "execution_count": 245,
   "id": "4875ae82",
   "metadata": {},
   "outputs": [
    {
     "data": {
      "application/vnd.plotly.v1+json": {
       "config": {
        "plotlyServerURL": "https://plot.ly"
       },
       "data": [
        {
         "marker": {
          "color": [
           "#db5f57",
           "#db9757",
           "#dbd057",
           "#addb57",
           "#75db57",
           "#57db72",
           "#57dbaa",
           "#57d3db",
           "#579bdb",
           "#5762db",
           "#8557db",
           "#bd57db",
           "#db57c0",
           "#db5788"
          ]
         },
         "type": "bar",
         "x": [
          "Python",
          "spark",
          "aws",
          "excel",
          "sql",
          "sas",
          "keras",
          "pytorch",
          "scikit",
          "tensor",
          "hadoop",
          "tableau",
          "bi",
          "mongo"
         ],
         "xaxis": "x",
         "y": [
          161,
          58,
          49,
          104,
          121,
          34,
          19,
          20,
          33,
          40,
          41,
          52,
          19,
          13
         ],
         "yaxis": "y"
        },
        {
         "marker": {
          "color": [
           "#db5f57",
           "#db9757",
           "#dbd057",
           "#addb57",
           "#75db57",
           "#57db72",
           "#57dbaa",
           "#57d3db",
           "#579bdb",
           "#5762db",
           "#8557db",
           "#bd57db",
           "#db57c0",
           "#db5788"
          ]
         },
         "type": "bar",
         "x": [
          "Python",
          "spark",
          "aws",
          "excel",
          "sql",
          "sas",
          "keras",
          "pytorch",
          "scikit",
          "tensor",
          "hadoop",
          "tableau",
          "bi",
          "mongo"
         ],
         "xaxis": "x2",
         "y": [
          48,
          42,
          35,
          35,
          56,
          1,
          0,
          0,
          0,
          1,
          32,
          9,
          3,
          8
         ],
         "yaxis": "y2"
        },
        {
         "marker": {
          "color": [
           "#db5f57",
           "#db9757",
           "#dbd057",
           "#addb57",
           "#75db57",
           "#57db72",
           "#57dbaa",
           "#57d3db",
           "#579bdb",
           "#5762db",
           "#8557db",
           "#bd57db",
           "#db57c0",
           "#db5788"
          ]
         },
         "type": "bar",
         "x": [
          "Python",
          "spark",
          "aws",
          "excel",
          "sql",
          "sas",
          "keras",
          "pytorch",
          "scikit",
          "tensor",
          "hadoop",
          "tableau",
          "bi",
          "mongo"
         ],
         "xaxis": "x3",
         "y": [
          22,
          4,
          8,
          54,
          53,
          5,
          0,
          0,
          0,
          0,
          2,
          27,
          13,
          2
         ],
         "yaxis": "y3"
        },
        {
         "marker": {
          "color": [
           "#db5f57",
           "#db9757",
           "#dbd057",
           "#addb57",
           "#75db57",
           "#57db72",
           "#57dbaa",
           "#57d3db",
           "#579bdb",
           "#5762db",
           "#8557db",
           "#bd57db",
           "#db57c0",
           "#db5788"
          ]
         },
         "type": "bar",
         "x": [
          "Python",
          "spark",
          "aws",
          "excel",
          "sql",
          "sas",
          "keras",
          "pytorch",
          "scikit",
          "tensor",
          "hadoop",
          "tableau",
          "bi",
          "mongo"
         ],
         "xaxis": "x4",
         "y": [
          10,
          2,
          4,
          4,
          7,
          0,
          0,
          3,
          4,
          5,
          2,
          0,
          0,
          0
         ],
         "yaxis": "y4"
        }
       ],
       "layout": {
        "height": 1000,
        "template": {
         "data": {
          "bar": [
           {
            "error_x": {
             "color": "#2a3f5f"
            },
            "error_y": {
             "color": "#2a3f5f"
            },
            "marker": {
             "line": {
              "color": "#E5ECF6",
              "width": 0.5
             },
             "pattern": {
              "fillmode": "overlay",
              "size": 10,
              "solidity": 0.2
             }
            },
            "type": "bar"
           }
          ],
          "barpolar": [
           {
            "marker": {
             "line": {
              "color": "#E5ECF6",
              "width": 0.5
             },
             "pattern": {
              "fillmode": "overlay",
              "size": 10,
              "solidity": 0.2
             }
            },
            "type": "barpolar"
           }
          ],
          "carpet": [
           {
            "aaxis": {
             "endlinecolor": "#2a3f5f",
             "gridcolor": "white",
             "linecolor": "white",
             "minorgridcolor": "white",
             "startlinecolor": "#2a3f5f"
            },
            "baxis": {
             "endlinecolor": "#2a3f5f",
             "gridcolor": "white",
             "linecolor": "white",
             "minorgridcolor": "white",
             "startlinecolor": "#2a3f5f"
            },
            "type": "carpet"
           }
          ],
          "choropleth": [
           {
            "colorbar": {
             "outlinewidth": 0,
             "ticks": ""
            },
            "type": "choropleth"
           }
          ],
          "contour": [
           {
            "colorbar": {
             "outlinewidth": 0,
             "ticks": ""
            },
            "colorscale": [
             [
              0,
              "#0d0887"
             ],
             [
              0.1111111111111111,
              "#46039f"
             ],
             [
              0.2222222222222222,
              "#7201a8"
             ],
             [
              0.3333333333333333,
              "#9c179e"
             ],
             [
              0.4444444444444444,
              "#bd3786"
             ],
             [
              0.5555555555555556,
              "#d8576b"
             ],
             [
              0.6666666666666666,
              "#ed7953"
             ],
             [
              0.7777777777777778,
              "#fb9f3a"
             ],
             [
              0.8888888888888888,
              "#fdca26"
             ],
             [
              1,
              "#f0f921"
             ]
            ],
            "type": "contour"
           }
          ],
          "contourcarpet": [
           {
            "colorbar": {
             "outlinewidth": 0,
             "ticks": ""
            },
            "type": "contourcarpet"
           }
          ],
          "heatmap": [
           {
            "colorbar": {
             "outlinewidth": 0,
             "ticks": ""
            },
            "colorscale": [
             [
              0,
              "#0d0887"
             ],
             [
              0.1111111111111111,
              "#46039f"
             ],
             [
              0.2222222222222222,
              "#7201a8"
             ],
             [
              0.3333333333333333,
              "#9c179e"
             ],
             [
              0.4444444444444444,
              "#bd3786"
             ],
             [
              0.5555555555555556,
              "#d8576b"
             ],
             [
              0.6666666666666666,
              "#ed7953"
             ],
             [
              0.7777777777777778,
              "#fb9f3a"
             ],
             [
              0.8888888888888888,
              "#fdca26"
             ],
             [
              1,
              "#f0f921"
             ]
            ],
            "type": "heatmap"
           }
          ],
          "heatmapgl": [
           {
            "colorbar": {
             "outlinewidth": 0,
             "ticks": ""
            },
            "colorscale": [
             [
              0,
              "#0d0887"
             ],
             [
              0.1111111111111111,
              "#46039f"
             ],
             [
              0.2222222222222222,
              "#7201a8"
             ],
             [
              0.3333333333333333,
              "#9c179e"
             ],
             [
              0.4444444444444444,
              "#bd3786"
             ],
             [
              0.5555555555555556,
              "#d8576b"
             ],
             [
              0.6666666666666666,
              "#ed7953"
             ],
             [
              0.7777777777777778,
              "#fb9f3a"
             ],
             [
              0.8888888888888888,
              "#fdca26"
             ],
             [
              1,
              "#f0f921"
             ]
            ],
            "type": "heatmapgl"
           }
          ],
          "histogram": [
           {
            "marker": {
             "pattern": {
              "fillmode": "overlay",
              "size": 10,
              "solidity": 0.2
             }
            },
            "type": "histogram"
           }
          ],
          "histogram2d": [
           {
            "colorbar": {
             "outlinewidth": 0,
             "ticks": ""
            },
            "colorscale": [
             [
              0,
              "#0d0887"
             ],
             [
              0.1111111111111111,
              "#46039f"
             ],
             [
              0.2222222222222222,
              "#7201a8"
             ],
             [
              0.3333333333333333,
              "#9c179e"
             ],
             [
              0.4444444444444444,
              "#bd3786"
             ],
             [
              0.5555555555555556,
              "#d8576b"
             ],
             [
              0.6666666666666666,
              "#ed7953"
             ],
             [
              0.7777777777777778,
              "#fb9f3a"
             ],
             [
              0.8888888888888888,
              "#fdca26"
             ],
             [
              1,
              "#f0f921"
             ]
            ],
            "type": "histogram2d"
           }
          ],
          "histogram2dcontour": [
           {
            "colorbar": {
             "outlinewidth": 0,
             "ticks": ""
            },
            "colorscale": [
             [
              0,
              "#0d0887"
             ],
             [
              0.1111111111111111,
              "#46039f"
             ],
             [
              0.2222222222222222,
              "#7201a8"
             ],
             [
              0.3333333333333333,
              "#9c179e"
             ],
             [
              0.4444444444444444,
              "#bd3786"
             ],
             [
              0.5555555555555556,
              "#d8576b"
             ],
             [
              0.6666666666666666,
              "#ed7953"
             ],
             [
              0.7777777777777778,
              "#fb9f3a"
             ],
             [
              0.8888888888888888,
              "#fdca26"
             ],
             [
              1,
              "#f0f921"
             ]
            ],
            "type": "histogram2dcontour"
           }
          ],
          "mesh3d": [
           {
            "colorbar": {
             "outlinewidth": 0,
             "ticks": ""
            },
            "type": "mesh3d"
           }
          ],
          "parcoords": [
           {
            "line": {
             "colorbar": {
              "outlinewidth": 0,
              "ticks": ""
             }
            },
            "type": "parcoords"
           }
          ],
          "pie": [
           {
            "automargin": true,
            "type": "pie"
           }
          ],
          "scatter": [
           {
            "fillpattern": {
             "fillmode": "overlay",
             "size": 10,
             "solidity": 0.2
            },
            "type": "scatter"
           }
          ],
          "scatter3d": [
           {
            "line": {
             "colorbar": {
              "outlinewidth": 0,
              "ticks": ""
             }
            },
            "marker": {
             "colorbar": {
              "outlinewidth": 0,
              "ticks": ""
             }
            },
            "type": "scatter3d"
           }
          ],
          "scattercarpet": [
           {
            "marker": {
             "colorbar": {
              "outlinewidth": 0,
              "ticks": ""
             }
            },
            "type": "scattercarpet"
           }
          ],
          "scattergeo": [
           {
            "marker": {
             "colorbar": {
              "outlinewidth": 0,
              "ticks": ""
             }
            },
            "type": "scattergeo"
           }
          ],
          "scattergl": [
           {
            "marker": {
             "colorbar": {
              "outlinewidth": 0,
              "ticks": ""
             }
            },
            "type": "scattergl"
           }
          ],
          "scattermapbox": [
           {
            "marker": {
             "colorbar": {
              "outlinewidth": 0,
              "ticks": ""
             }
            },
            "type": "scattermapbox"
           }
          ],
          "scatterpolar": [
           {
            "marker": {
             "colorbar": {
              "outlinewidth": 0,
              "ticks": ""
             }
            },
            "type": "scatterpolar"
           }
          ],
          "scatterpolargl": [
           {
            "marker": {
             "colorbar": {
              "outlinewidth": 0,
              "ticks": ""
             }
            },
            "type": "scatterpolargl"
           }
          ],
          "scatterternary": [
           {
            "marker": {
             "colorbar": {
              "outlinewidth": 0,
              "ticks": ""
             }
            },
            "type": "scatterternary"
           }
          ],
          "surface": [
           {
            "colorbar": {
             "outlinewidth": 0,
             "ticks": ""
            },
            "colorscale": [
             [
              0,
              "#0d0887"
             ],
             [
              0.1111111111111111,
              "#46039f"
             ],
             [
              0.2222222222222222,
              "#7201a8"
             ],
             [
              0.3333333333333333,
              "#9c179e"
             ],
             [
              0.4444444444444444,
              "#bd3786"
             ],
             [
              0.5555555555555556,
              "#d8576b"
             ],
             [
              0.6666666666666666,
              "#ed7953"
             ],
             [
              0.7777777777777778,
              "#fb9f3a"
             ],
             [
              0.8888888888888888,
              "#fdca26"
             ],
             [
              1,
              "#f0f921"
             ]
            ],
            "type": "surface"
           }
          ],
          "table": [
           {
            "cells": {
             "fill": {
              "color": "#EBF0F8"
             },
             "line": {
              "color": "white"
             }
            },
            "header": {
             "fill": {
              "color": "#C8D4E3"
             },
             "line": {
              "color": "white"
             }
            },
            "type": "table"
           }
          ]
         },
         "layout": {
          "annotationdefaults": {
           "arrowcolor": "#2a3f5f",
           "arrowhead": 0,
           "arrowwidth": 1
          },
          "autotypenumbers": "strict",
          "coloraxis": {
           "colorbar": {
            "outlinewidth": 0,
            "ticks": ""
           }
          },
          "colorscale": {
           "diverging": [
            [
             0,
             "#8e0152"
            ],
            [
             0.1,
             "#c51b7d"
            ],
            [
             0.2,
             "#de77ae"
            ],
            [
             0.3,
             "#f1b6da"
            ],
            [
             0.4,
             "#fde0ef"
            ],
            [
             0.5,
             "#f7f7f7"
            ],
            [
             0.6,
             "#e6f5d0"
            ],
            [
             0.7,
             "#b8e186"
            ],
            [
             0.8,
             "#7fbc41"
            ],
            [
             0.9,
             "#4d9221"
            ],
            [
             1,
             "#276419"
            ]
           ],
           "sequential": [
            [
             0,
             "#0d0887"
            ],
            [
             0.1111111111111111,
             "#46039f"
            ],
            [
             0.2222222222222222,
             "#7201a8"
            ],
            [
             0.3333333333333333,
             "#9c179e"
            ],
            [
             0.4444444444444444,
             "#bd3786"
            ],
            [
             0.5555555555555556,
             "#d8576b"
            ],
            [
             0.6666666666666666,
             "#ed7953"
            ],
            [
             0.7777777777777778,
             "#fb9f3a"
            ],
            [
             0.8888888888888888,
             "#fdca26"
            ],
            [
             1,
             "#f0f921"
            ]
           ],
           "sequentialminus": [
            [
             0,
             "#0d0887"
            ],
            [
             0.1111111111111111,
             "#46039f"
            ],
            [
             0.2222222222222222,
             "#7201a8"
            ],
            [
             0.3333333333333333,
             "#9c179e"
            ],
            [
             0.4444444444444444,
             "#bd3786"
            ],
            [
             0.5555555555555556,
             "#d8576b"
            ],
            [
             0.6666666666666666,
             "#ed7953"
            ],
            [
             0.7777777777777778,
             "#fb9f3a"
            ],
            [
             0.8888888888888888,
             "#fdca26"
            ],
            [
             1,
             "#f0f921"
            ]
           ]
          },
          "colorway": [
           "#636efa",
           "#EF553B",
           "#00cc96",
           "#ab63fa",
           "#FFA15A",
           "#19d3f3",
           "#FF6692",
           "#B6E880",
           "#FF97FF",
           "#FECB52"
          ],
          "font": {
           "color": "#2a3f5f"
          },
          "geo": {
           "bgcolor": "white",
           "lakecolor": "white",
           "landcolor": "#E5ECF6",
           "showlakes": true,
           "showland": true,
           "subunitcolor": "white"
          },
          "hoverlabel": {
           "align": "left"
          },
          "hovermode": "closest",
          "mapbox": {
           "style": "light"
          },
          "paper_bgcolor": "white",
          "plot_bgcolor": "#E5ECF6",
          "polar": {
           "angularaxis": {
            "gridcolor": "white",
            "linecolor": "white",
            "ticks": ""
           },
           "bgcolor": "#E5ECF6",
           "radialaxis": {
            "gridcolor": "white",
            "linecolor": "white",
            "ticks": ""
           }
          },
          "scene": {
           "xaxis": {
            "backgroundcolor": "#E5ECF6",
            "gridcolor": "white",
            "gridwidth": 2,
            "linecolor": "white",
            "showbackground": true,
            "ticks": "",
            "zerolinecolor": "white"
           },
           "yaxis": {
            "backgroundcolor": "#E5ECF6",
            "gridcolor": "white",
            "gridwidth": 2,
            "linecolor": "white",
            "showbackground": true,
            "ticks": "",
            "zerolinecolor": "white"
           },
           "zaxis": {
            "backgroundcolor": "#E5ECF6",
            "gridcolor": "white",
            "gridwidth": 2,
            "linecolor": "white",
            "showbackground": true,
            "ticks": "",
            "zerolinecolor": "white"
           }
          },
          "shapedefaults": {
           "line": {
            "color": "#2a3f5f"
           }
          },
          "ternary": {
           "aaxis": {
            "gridcolor": "white",
            "linecolor": "white",
            "ticks": ""
           },
           "baxis": {
            "gridcolor": "white",
            "linecolor": "white",
            "ticks": ""
           },
           "bgcolor": "#E5ECF6",
           "caxis": {
            "gridcolor": "white",
            "linecolor": "white",
            "ticks": ""
           }
          },
          "title": {
           "x": 0.05
          },
          "xaxis": {
           "automargin": true,
           "gridcolor": "white",
           "linecolor": "white",
           "ticks": "",
           "title": {
            "standoff": 15
           },
           "zerolinecolor": "white",
           "zerolinewidth": 2
          },
          "yaxis": {
           "automargin": true,
           "gridcolor": "white",
           "linecolor": "white",
           "ticks": "",
           "title": {
            "standoff": 15
           },
           "zerolinecolor": "white",
           "zerolinewidth": 2
          }
         }
        },
        "width": 1000,
        "xaxis": {
         "anchor": "y",
         "domain": [
          0,
          0.45
         ],
         "title": {
          "text": "data scientist"
         }
        },
        "xaxis2": {
         "anchor": "y2",
         "domain": [
          0.55,
          1
         ],
         "title": {
          "text": "data engineer"
         }
        },
        "xaxis3": {
         "anchor": "y3",
         "domain": [
          0,
          0.45
         ],
         "title": {
          "text": "analyst"
         }
        },
        "xaxis4": {
         "anchor": "y4",
         "domain": [
          0.55,
          1
         ],
         "title": {
          "text": "machine learning engineer"
         }
        },
        "yaxis": {
         "anchor": "x",
         "domain": [
          0.575,
          1
         ]
        },
        "yaxis2": {
         "anchor": "x2",
         "domain": [
          0.575,
          1
         ]
        },
        "yaxis3": {
         "anchor": "x3",
         "domain": [
          0,
          0.425
         ]
        },
        "yaxis4": {
         "anchor": "x4",
         "domain": [
          0,
          0.425
         ]
        }
       }
      },
      "text/html": [
       "<div>                            <div id=\"f473dbe2-6d0f-48e8-bd96-6708d726bcca\" class=\"plotly-graph-div\" style=\"height:1000px; width:1000px;\"></div>            <script type=\"text/javascript\">                require([\"plotly\"], function(Plotly) {                    window.PLOTLYENV=window.PLOTLYENV || {};                                    if (document.getElementById(\"f473dbe2-6d0f-48e8-bd96-6708d726bcca\")) {                    Plotly.newPlot(                        \"f473dbe2-6d0f-48e8-bd96-6708d726bcca\",                        [{\"marker\":{\"color\":[\"#db5f57\",\"#db9757\",\"#dbd057\",\"#addb57\",\"#75db57\",\"#57db72\",\"#57dbaa\",\"#57d3db\",\"#579bdb\",\"#5762db\",\"#8557db\",\"#bd57db\",\"#db57c0\",\"#db5788\"]},\"x\":[\"Python\",\"spark\",\"aws\",\"excel\",\"sql\",\"sas\",\"keras\",\"pytorch\",\"scikit\",\"tensor\",\"hadoop\",\"tableau\",\"bi\",\"mongo\"],\"y\":[161,58,49,104,121,34,19,20,33,40,41,52,19,13],\"type\":\"bar\",\"xaxis\":\"x\",\"yaxis\":\"y\"},{\"marker\":{\"color\":[\"#db5f57\",\"#db9757\",\"#dbd057\",\"#addb57\",\"#75db57\",\"#57db72\",\"#57dbaa\",\"#57d3db\",\"#579bdb\",\"#5762db\",\"#8557db\",\"#bd57db\",\"#db57c0\",\"#db5788\"]},\"x\":[\"Python\",\"spark\",\"aws\",\"excel\",\"sql\",\"sas\",\"keras\",\"pytorch\",\"scikit\",\"tensor\",\"hadoop\",\"tableau\",\"bi\",\"mongo\"],\"y\":[48,42,35,35,56,1,0,0,0,1,32,9,3,8],\"type\":\"bar\",\"xaxis\":\"x2\",\"yaxis\":\"y2\"},{\"marker\":{\"color\":[\"#db5f57\",\"#db9757\",\"#dbd057\",\"#addb57\",\"#75db57\",\"#57db72\",\"#57dbaa\",\"#57d3db\",\"#579bdb\",\"#5762db\",\"#8557db\",\"#bd57db\",\"#db57c0\",\"#db5788\"]},\"x\":[\"Python\",\"spark\",\"aws\",\"excel\",\"sql\",\"sas\",\"keras\",\"pytorch\",\"scikit\",\"tensor\",\"hadoop\",\"tableau\",\"bi\",\"mongo\"],\"y\":[22,4,8,54,53,5,0,0,0,0,2,27,13,2],\"type\":\"bar\",\"xaxis\":\"x3\",\"yaxis\":\"y3\"},{\"marker\":{\"color\":[\"#db5f57\",\"#db9757\",\"#dbd057\",\"#addb57\",\"#75db57\",\"#57db72\",\"#57dbaa\",\"#57d3db\",\"#579bdb\",\"#5762db\",\"#8557db\",\"#bd57db\",\"#db57c0\",\"#db5788\"]},\"x\":[\"Python\",\"spark\",\"aws\",\"excel\",\"sql\",\"sas\",\"keras\",\"pytorch\",\"scikit\",\"tensor\",\"hadoop\",\"tableau\",\"bi\",\"mongo\"],\"y\":[10,2,4,4,7,0,0,3,4,5,2,0,0,0],\"type\":\"bar\",\"xaxis\":\"x4\",\"yaxis\":\"y4\"}],                        {\"template\":{\"data\":{\"histogram2dcontour\":[{\"type\":\"histogram2dcontour\",\"colorbar\":{\"outlinewidth\":0,\"ticks\":\"\"},\"colorscale\":[[0.0,\"#0d0887\"],[0.1111111111111111,\"#46039f\"],[0.2222222222222222,\"#7201a8\"],[0.3333333333333333,\"#9c179e\"],[0.4444444444444444,\"#bd3786\"],[0.5555555555555556,\"#d8576b\"],[0.6666666666666666,\"#ed7953\"],[0.7777777777777778,\"#fb9f3a\"],[0.8888888888888888,\"#fdca26\"],[1.0,\"#f0f921\"]]}],\"choropleth\":[{\"type\":\"choropleth\",\"colorbar\":{\"outlinewidth\":0,\"ticks\":\"\"}}],\"histogram2d\":[{\"type\":\"histogram2d\",\"colorbar\":{\"outlinewidth\":0,\"ticks\":\"\"},\"colorscale\":[[0.0,\"#0d0887\"],[0.1111111111111111,\"#46039f\"],[0.2222222222222222,\"#7201a8\"],[0.3333333333333333,\"#9c179e\"],[0.4444444444444444,\"#bd3786\"],[0.5555555555555556,\"#d8576b\"],[0.6666666666666666,\"#ed7953\"],[0.7777777777777778,\"#fb9f3a\"],[0.8888888888888888,\"#fdca26\"],[1.0,\"#f0f921\"]]}],\"heatmap\":[{\"type\":\"heatmap\",\"colorbar\":{\"outlinewidth\":0,\"ticks\":\"\"},\"colorscale\":[[0.0,\"#0d0887\"],[0.1111111111111111,\"#46039f\"],[0.2222222222222222,\"#7201a8\"],[0.3333333333333333,\"#9c179e\"],[0.4444444444444444,\"#bd3786\"],[0.5555555555555556,\"#d8576b\"],[0.6666666666666666,\"#ed7953\"],[0.7777777777777778,\"#fb9f3a\"],[0.8888888888888888,\"#fdca26\"],[1.0,\"#f0f921\"]]}],\"heatmapgl\":[{\"type\":\"heatmapgl\",\"colorbar\":{\"outlinewidth\":0,\"ticks\":\"\"},\"colorscale\":[[0.0,\"#0d0887\"],[0.1111111111111111,\"#46039f\"],[0.2222222222222222,\"#7201a8\"],[0.3333333333333333,\"#9c179e\"],[0.4444444444444444,\"#bd3786\"],[0.5555555555555556,\"#d8576b\"],[0.6666666666666666,\"#ed7953\"],[0.7777777777777778,\"#fb9f3a\"],[0.8888888888888888,\"#fdca26\"],[1.0,\"#f0f921\"]]}],\"contourcarpet\":[{\"type\":\"contourcarpet\",\"colorbar\":{\"outlinewidth\":0,\"ticks\":\"\"}}],\"contour\":[{\"type\":\"contour\",\"colorbar\":{\"outlinewidth\":0,\"ticks\":\"\"},\"colorscale\":[[0.0,\"#0d0887\"],[0.1111111111111111,\"#46039f\"],[0.2222222222222222,\"#7201a8\"],[0.3333333333333333,\"#9c179e\"],[0.4444444444444444,\"#bd3786\"],[0.5555555555555556,\"#d8576b\"],[0.6666666666666666,\"#ed7953\"],[0.7777777777777778,\"#fb9f3a\"],[0.8888888888888888,\"#fdca26\"],[1.0,\"#f0f921\"]]}],\"surface\":[{\"type\":\"surface\",\"colorbar\":{\"outlinewidth\":0,\"ticks\":\"\"},\"colorscale\":[[0.0,\"#0d0887\"],[0.1111111111111111,\"#46039f\"],[0.2222222222222222,\"#7201a8\"],[0.3333333333333333,\"#9c179e\"],[0.4444444444444444,\"#bd3786\"],[0.5555555555555556,\"#d8576b\"],[0.6666666666666666,\"#ed7953\"],[0.7777777777777778,\"#fb9f3a\"],[0.8888888888888888,\"#fdca26\"],[1.0,\"#f0f921\"]]}],\"mesh3d\":[{\"type\":\"mesh3d\",\"colorbar\":{\"outlinewidth\":0,\"ticks\":\"\"}}],\"scatter\":[{\"fillpattern\":{\"fillmode\":\"overlay\",\"size\":10,\"solidity\":0.2},\"type\":\"scatter\"}],\"parcoords\":[{\"type\":\"parcoords\",\"line\":{\"colorbar\":{\"outlinewidth\":0,\"ticks\":\"\"}}}],\"scatterpolargl\":[{\"type\":\"scatterpolargl\",\"marker\":{\"colorbar\":{\"outlinewidth\":0,\"ticks\":\"\"}}}],\"bar\":[{\"error_x\":{\"color\":\"#2a3f5f\"},\"error_y\":{\"color\":\"#2a3f5f\"},\"marker\":{\"line\":{\"color\":\"#E5ECF6\",\"width\":0.5},\"pattern\":{\"fillmode\":\"overlay\",\"size\":10,\"solidity\":0.2}},\"type\":\"bar\"}],\"scattergeo\":[{\"type\":\"scattergeo\",\"marker\":{\"colorbar\":{\"outlinewidth\":0,\"ticks\":\"\"}}}],\"scatterpolar\":[{\"type\":\"scatterpolar\",\"marker\":{\"colorbar\":{\"outlinewidth\":0,\"ticks\":\"\"}}}],\"histogram\":[{\"marker\":{\"pattern\":{\"fillmode\":\"overlay\",\"size\":10,\"solidity\":0.2}},\"type\":\"histogram\"}],\"scattergl\":[{\"type\":\"scattergl\",\"marker\":{\"colorbar\":{\"outlinewidth\":0,\"ticks\":\"\"}}}],\"scatter3d\":[{\"type\":\"scatter3d\",\"line\":{\"colorbar\":{\"outlinewidth\":0,\"ticks\":\"\"}},\"marker\":{\"colorbar\":{\"outlinewidth\":0,\"ticks\":\"\"}}}],\"scattermapbox\":[{\"type\":\"scattermapbox\",\"marker\":{\"colorbar\":{\"outlinewidth\":0,\"ticks\":\"\"}}}],\"scatterternary\":[{\"type\":\"scatterternary\",\"marker\":{\"colorbar\":{\"outlinewidth\":0,\"ticks\":\"\"}}}],\"scattercarpet\":[{\"type\":\"scattercarpet\",\"marker\":{\"colorbar\":{\"outlinewidth\":0,\"ticks\":\"\"}}}],\"carpet\":[{\"aaxis\":{\"endlinecolor\":\"#2a3f5f\",\"gridcolor\":\"white\",\"linecolor\":\"white\",\"minorgridcolor\":\"white\",\"startlinecolor\":\"#2a3f5f\"},\"baxis\":{\"endlinecolor\":\"#2a3f5f\",\"gridcolor\":\"white\",\"linecolor\":\"white\",\"minorgridcolor\":\"white\",\"startlinecolor\":\"#2a3f5f\"},\"type\":\"carpet\"}],\"table\":[{\"cells\":{\"fill\":{\"color\":\"#EBF0F8\"},\"line\":{\"color\":\"white\"}},\"header\":{\"fill\":{\"color\":\"#C8D4E3\"},\"line\":{\"color\":\"white\"}},\"type\":\"table\"}],\"barpolar\":[{\"marker\":{\"line\":{\"color\":\"#E5ECF6\",\"width\":0.5},\"pattern\":{\"fillmode\":\"overlay\",\"size\":10,\"solidity\":0.2}},\"type\":\"barpolar\"}],\"pie\":[{\"automargin\":true,\"type\":\"pie\"}]},\"layout\":{\"autotypenumbers\":\"strict\",\"colorway\":[\"#636efa\",\"#EF553B\",\"#00cc96\",\"#ab63fa\",\"#FFA15A\",\"#19d3f3\",\"#FF6692\",\"#B6E880\",\"#FF97FF\",\"#FECB52\"],\"font\":{\"color\":\"#2a3f5f\"},\"hovermode\":\"closest\",\"hoverlabel\":{\"align\":\"left\"},\"paper_bgcolor\":\"white\",\"plot_bgcolor\":\"#E5ECF6\",\"polar\":{\"bgcolor\":\"#E5ECF6\",\"angularaxis\":{\"gridcolor\":\"white\",\"linecolor\":\"white\",\"ticks\":\"\"},\"radialaxis\":{\"gridcolor\":\"white\",\"linecolor\":\"white\",\"ticks\":\"\"}},\"ternary\":{\"bgcolor\":\"#E5ECF6\",\"aaxis\":{\"gridcolor\":\"white\",\"linecolor\":\"white\",\"ticks\":\"\"},\"baxis\":{\"gridcolor\":\"white\",\"linecolor\":\"white\",\"ticks\":\"\"},\"caxis\":{\"gridcolor\":\"white\",\"linecolor\":\"white\",\"ticks\":\"\"}},\"coloraxis\":{\"colorbar\":{\"outlinewidth\":0,\"ticks\":\"\"}},\"colorscale\":{\"sequential\":[[0.0,\"#0d0887\"],[0.1111111111111111,\"#46039f\"],[0.2222222222222222,\"#7201a8\"],[0.3333333333333333,\"#9c179e\"],[0.4444444444444444,\"#bd3786\"],[0.5555555555555556,\"#d8576b\"],[0.6666666666666666,\"#ed7953\"],[0.7777777777777778,\"#fb9f3a\"],[0.8888888888888888,\"#fdca26\"],[1.0,\"#f0f921\"]],\"sequentialminus\":[[0.0,\"#0d0887\"],[0.1111111111111111,\"#46039f\"],[0.2222222222222222,\"#7201a8\"],[0.3333333333333333,\"#9c179e\"],[0.4444444444444444,\"#bd3786\"],[0.5555555555555556,\"#d8576b\"],[0.6666666666666666,\"#ed7953\"],[0.7777777777777778,\"#fb9f3a\"],[0.8888888888888888,\"#fdca26\"],[1.0,\"#f0f921\"]],\"diverging\":[[0,\"#8e0152\"],[0.1,\"#c51b7d\"],[0.2,\"#de77ae\"],[0.3,\"#f1b6da\"],[0.4,\"#fde0ef\"],[0.5,\"#f7f7f7\"],[0.6,\"#e6f5d0\"],[0.7,\"#b8e186\"],[0.8,\"#7fbc41\"],[0.9,\"#4d9221\"],[1,\"#276419\"]]},\"xaxis\":{\"gridcolor\":\"white\",\"linecolor\":\"white\",\"ticks\":\"\",\"title\":{\"standoff\":15},\"zerolinecolor\":\"white\",\"automargin\":true,\"zerolinewidth\":2},\"yaxis\":{\"gridcolor\":\"white\",\"linecolor\":\"white\",\"ticks\":\"\",\"title\":{\"standoff\":15},\"zerolinecolor\":\"white\",\"automargin\":true,\"zerolinewidth\":2},\"scene\":{\"xaxis\":{\"backgroundcolor\":\"#E5ECF6\",\"gridcolor\":\"white\",\"linecolor\":\"white\",\"showbackground\":true,\"ticks\":\"\",\"zerolinecolor\":\"white\",\"gridwidth\":2},\"yaxis\":{\"backgroundcolor\":\"#E5ECF6\",\"gridcolor\":\"white\",\"linecolor\":\"white\",\"showbackground\":true,\"ticks\":\"\",\"zerolinecolor\":\"white\",\"gridwidth\":2},\"zaxis\":{\"backgroundcolor\":\"#E5ECF6\",\"gridcolor\":\"white\",\"linecolor\":\"white\",\"showbackground\":true,\"ticks\":\"\",\"zerolinecolor\":\"white\",\"gridwidth\":2}},\"shapedefaults\":{\"line\":{\"color\":\"#2a3f5f\"}},\"annotationdefaults\":{\"arrowcolor\":\"#2a3f5f\",\"arrowhead\":0,\"arrowwidth\":1},\"geo\":{\"bgcolor\":\"white\",\"landcolor\":\"#E5ECF6\",\"subunitcolor\":\"white\",\"showland\":true,\"showlakes\":true,\"lakecolor\":\"white\"},\"title\":{\"x\":0.05},\"mapbox\":{\"style\":\"light\"}}},\"xaxis\":{\"anchor\":\"y\",\"domain\":[0.0,0.45],\"title\":{\"text\":\"data scientist\"}},\"yaxis\":{\"anchor\":\"x\",\"domain\":[0.575,1.0]},\"xaxis2\":{\"anchor\":\"y2\",\"domain\":[0.55,1.0],\"title\":{\"text\":\"data engineer\"}},\"yaxis2\":{\"anchor\":\"x2\",\"domain\":[0.575,1.0]},\"xaxis3\":{\"anchor\":\"y3\",\"domain\":[0.0,0.45],\"title\":{\"text\":\"analyst\"}},\"yaxis3\":{\"anchor\":\"x3\",\"domain\":[0.0,0.425]},\"xaxis4\":{\"anchor\":\"y4\",\"domain\":[0.55,1.0],\"title\":{\"text\":\"machine learning engineer\"}},\"yaxis4\":{\"anchor\":\"x4\",\"domain\":[0.0,0.425]},\"height\":1000,\"width\":1000},                        {\"responsive\": true}                    ).then(function(){\n",
       "                            \n",
       "var gd = document.getElementById('f473dbe2-6d0f-48e8-bd96-6708d726bcca');\n",
       "var x = new MutationObserver(function (mutations, observer) {{\n",
       "        var display = window.getComputedStyle(gd).display;\n",
       "        if (!display || display === 'none') {{\n",
       "            console.log([gd, 'removed!']);\n",
       "            Plotly.purge(gd);\n",
       "            observer.disconnect();\n",
       "        }}\n",
       "}});\n",
       "\n",
       "// Listen for the removal of the full notebook cells\n",
       "var notebookContainer = gd.closest('#notebook-container');\n",
       "if (notebookContainer) {{\n",
       "    x.observe(notebookContainer, {childList: true});\n",
       "}}\n",
       "\n",
       "// Listen for the clearing of the current output cell\n",
       "var outputEl = gd.closest('.output');\n",
       "if (outputEl) {{\n",
       "    x.observe(outputEl, {childList: true});\n",
       "}}\n",
       "\n",
       "                        })                };                });            </script>        </div>"
      ]
     },
     "metadata": {},
     "output_type": "display_data"
    }
   ],
   "source": [
    "import seaborn as sns\n",
    "\n",
    "fig = make_subplots(rows=2, cols=2, shared_yaxes=False)\n",
    "jobs = list(df_dsc[['Job']].drop_duplicates()['Job'])\n",
    "skills = ['Python', 'spark', 'aws',\n",
    "       'excel', 'sql', 'sas', 'keras', 'pytorch', 'scikit', 'tensor', 'hadoop',\n",
    "       'tableau', 'bi', 'mongo']\n",
    "colors = sns.color_palette('hls', len(skills)).as_hex()\n",
    "dictSkill = {}\n",
    "for job in jobs:\n",
    "    dictSkill[job] = {}\n",
    "    for skill in skills:\n",
    "        dictSkill[job][skill] = df_dsc[df_dsc['Job']==job][skill].sum()\n",
    "        \n",
    "dictSkill = dict(sorted(dictSkill.items(), key= lambda row : sum(list(row[1].values())), reverse=True))\n",
    "\n",
    "r=1\n",
    "c=1\n",
    "for job in dictSkill:\n",
    "    dfJob = dictSkill[job]\n",
    "    fig.add_trace(\n",
    "        go.Bar(\n",
    "            x=list(dfJob.keys()), y=list(dfJob.values()),\n",
    "            marker = {'color':colors}\n",
    "        ),\n",
    "        row=r, col=c\n",
    "    )\n",
    "    fig.update_xaxes(title_text=job, row=r, col=c)\n",
    "    c+=1\n",
    "    if c==3:\n",
    "        c=1\n",
    "        r+=1\n",
    "\n",
    "# for job in jobs:\n",
    "#     fig=go.Figure()\n",
    "#     df_job = df_dsc[df_dsc['Job']==job]\n",
    "#     for skill in skills:\n",
    "#         df_subplot = df_job[df_dsc[skill]==1]\n",
    "#         fig.add_trace(\n",
    "#             go.Histogram(\n",
    "#                 x=df_subplot['Job'], y=df_subplot[skill]\n",
    "#             )\n",
    "#         )\n",
    "#     fig.show()\n",
    "\n",
    "# r=1\n",
    "# for skill in skills:\n",
    "#     r=1\n",
    "#     df_skill = df_dsc.loc[df_dsc[skill]==1]\n",
    "#     for job in jobs:\n",
    "#         df_subplot = df_skill.loc[df_skill['Job']==job]\n",
    "#         fig.add_trace(\n",
    "#             go.Histogram(\n",
    "#                 x=df_subplot['Job'], y=df_subplot[skill], histfunc='count'\n",
    "#             ),\n",
    "#             row = r, col = 1\n",
    "\n",
    "#         )\n",
    "#         r+=1\n",
    "fig.update_layout(height=1000, width=1000)\n",
    "\n",
    "fig.show()\n",
    "df_job = df_dsc.drop(df_dsc.loc[df_dsc['Job']=='na'].index)"
   ]
  },
  {
   "cell_type": "markdown",
   "id": "7a682ded",
   "metadata": {},
   "source": [
    "✔︎ Industry별 Job 분포"
   ]
  },
  {
   "cell_type": "code",
   "execution_count": 229,
   "id": "f09bf3a0",
   "metadata": {},
   "outputs": [
    {
     "data": {
      "application/vnd.plotly.v1+json": {
       "config": {
        "plotlyServerURL": "https://plot.ly"
       },
       "data": [
        {
         "marker": {
          "color": [
           "#db5f57",
           "#db9757",
           "#dbd057",
           "#addb57",
           "#75db57",
           "#57db72",
           "#57dbaa",
           "#57d3db",
           "#579bdb",
           "#5762db",
           "#8557db",
           "#bd57db",
           "#db57c0",
           "#db5788"
          ]
         },
         "type": "bar",
         "x": [
          "analyst",
          "data engineer",
          "machine learning engineer"
         ],
         "xaxis": "x",
         "y": [
          6,
          9,
          2
         ],
         "yaxis": "y"
        },
        {
         "marker": {
          "color": [
           "#db5f57",
           "#db9757",
           "#dbd057",
           "#addb57",
           "#75db57",
           "#57db72",
           "#57dbaa",
           "#57d3db",
           "#579bdb",
           "#5762db",
           "#8557db",
           "#bd57db",
           "#db57c0",
           "#db5788"
          ]
         },
         "type": "bar",
         "x": [
          "analyst",
          "data engineer",
          "machine learning engineer"
         ],
         "xaxis": "x2",
         "y": [
          7,
          9,
          0
         ],
         "yaxis": "y2"
        },
        {
         "marker": {
          "color": [
           "#db5f57",
           "#db9757",
           "#dbd057",
           "#addb57",
           "#75db57",
           "#57db72",
           "#57dbaa",
           "#57d3db",
           "#579bdb",
           "#5762db",
           "#8557db",
           "#bd57db",
           "#db57c0",
           "#db5788"
          ]
         },
         "type": "bar",
         "x": [
          "analyst",
          "data engineer",
          "machine learning engineer"
         ],
         "xaxis": "x3",
         "y": [
          6,
          9,
          0
         ],
         "yaxis": "y3"
        },
        {
         "marker": {
          "color": [
           "#db5f57",
           "#db9757",
           "#dbd057",
           "#addb57",
           "#75db57",
           "#57db72",
           "#57dbaa",
           "#57d3db",
           "#579bdb",
           "#5762db",
           "#8557db",
           "#bd57db",
           "#db57c0",
           "#db5788"
          ]
         },
         "type": "bar",
         "x": [
          "analyst",
          "data engineer",
          "machine learning engineer"
         ],
         "xaxis": "x4",
         "y": [
          2,
          10,
          1
         ],
         "yaxis": "y4"
        },
        {
         "marker": {
          "color": [
           "#db5f57",
           "#db9757",
           "#dbd057",
           "#addb57",
           "#75db57",
           "#57db72",
           "#57dbaa",
           "#57d3db",
           "#579bdb",
           "#5762db",
           "#8557db",
           "#bd57db",
           "#db57c0",
           "#db5788"
          ]
         },
         "type": "bar",
         "x": [
          "analyst",
          "data engineer",
          "machine learning engineer"
         ],
         "xaxis": "x5",
         "y": [
          7,
          4,
          0
         ],
         "yaxis": "y5"
        },
        {
         "marker": {
          "color": [
           "#db5f57",
           "#db9757",
           "#dbd057",
           "#addb57",
           "#75db57",
           "#57db72",
           "#57dbaa",
           "#57d3db",
           "#579bdb",
           "#5762db",
           "#8557db",
           "#bd57db",
           "#db57c0",
           "#db5788"
          ]
         },
         "type": "bar",
         "x": [
          "analyst",
          "data engineer",
          "machine learning engineer"
         ],
         "xaxis": "x6",
         "y": [
          4,
          4,
          0
         ],
         "yaxis": "y6"
        }
       ],
       "layout": {
        "height": 800,
        "template": {
         "data": {
          "bar": [
           {
            "error_x": {
             "color": "#2a3f5f"
            },
            "error_y": {
             "color": "#2a3f5f"
            },
            "marker": {
             "line": {
              "color": "#E5ECF6",
              "width": 0.5
             },
             "pattern": {
              "fillmode": "overlay",
              "size": 10,
              "solidity": 0.2
             }
            },
            "type": "bar"
           }
          ],
          "barpolar": [
           {
            "marker": {
             "line": {
              "color": "#E5ECF6",
              "width": 0.5
             },
             "pattern": {
              "fillmode": "overlay",
              "size": 10,
              "solidity": 0.2
             }
            },
            "type": "barpolar"
           }
          ],
          "carpet": [
           {
            "aaxis": {
             "endlinecolor": "#2a3f5f",
             "gridcolor": "white",
             "linecolor": "white",
             "minorgridcolor": "white",
             "startlinecolor": "#2a3f5f"
            },
            "baxis": {
             "endlinecolor": "#2a3f5f",
             "gridcolor": "white",
             "linecolor": "white",
             "minorgridcolor": "white",
             "startlinecolor": "#2a3f5f"
            },
            "type": "carpet"
           }
          ],
          "choropleth": [
           {
            "colorbar": {
             "outlinewidth": 0,
             "ticks": ""
            },
            "type": "choropleth"
           }
          ],
          "contour": [
           {
            "colorbar": {
             "outlinewidth": 0,
             "ticks": ""
            },
            "colorscale": [
             [
              0,
              "#0d0887"
             ],
             [
              0.1111111111111111,
              "#46039f"
             ],
             [
              0.2222222222222222,
              "#7201a8"
             ],
             [
              0.3333333333333333,
              "#9c179e"
             ],
             [
              0.4444444444444444,
              "#bd3786"
             ],
             [
              0.5555555555555556,
              "#d8576b"
             ],
             [
              0.6666666666666666,
              "#ed7953"
             ],
             [
              0.7777777777777778,
              "#fb9f3a"
             ],
             [
              0.8888888888888888,
              "#fdca26"
             ],
             [
              1,
              "#f0f921"
             ]
            ],
            "type": "contour"
           }
          ],
          "contourcarpet": [
           {
            "colorbar": {
             "outlinewidth": 0,
             "ticks": ""
            },
            "type": "contourcarpet"
           }
          ],
          "heatmap": [
           {
            "colorbar": {
             "outlinewidth": 0,
             "ticks": ""
            },
            "colorscale": [
             [
              0,
              "#0d0887"
             ],
             [
              0.1111111111111111,
              "#46039f"
             ],
             [
              0.2222222222222222,
              "#7201a8"
             ],
             [
              0.3333333333333333,
              "#9c179e"
             ],
             [
              0.4444444444444444,
              "#bd3786"
             ],
             [
              0.5555555555555556,
              "#d8576b"
             ],
             [
              0.6666666666666666,
              "#ed7953"
             ],
             [
              0.7777777777777778,
              "#fb9f3a"
             ],
             [
              0.8888888888888888,
              "#fdca26"
             ],
             [
              1,
              "#f0f921"
             ]
            ],
            "type": "heatmap"
           }
          ],
          "heatmapgl": [
           {
            "colorbar": {
             "outlinewidth": 0,
             "ticks": ""
            },
            "colorscale": [
             [
              0,
              "#0d0887"
             ],
             [
              0.1111111111111111,
              "#46039f"
             ],
             [
              0.2222222222222222,
              "#7201a8"
             ],
             [
              0.3333333333333333,
              "#9c179e"
             ],
             [
              0.4444444444444444,
              "#bd3786"
             ],
             [
              0.5555555555555556,
              "#d8576b"
             ],
             [
              0.6666666666666666,
              "#ed7953"
             ],
             [
              0.7777777777777778,
              "#fb9f3a"
             ],
             [
              0.8888888888888888,
              "#fdca26"
             ],
             [
              1,
              "#f0f921"
             ]
            ],
            "type": "heatmapgl"
           }
          ],
          "histogram": [
           {
            "marker": {
             "pattern": {
              "fillmode": "overlay",
              "size": 10,
              "solidity": 0.2
             }
            },
            "type": "histogram"
           }
          ],
          "histogram2d": [
           {
            "colorbar": {
             "outlinewidth": 0,
             "ticks": ""
            },
            "colorscale": [
             [
              0,
              "#0d0887"
             ],
             [
              0.1111111111111111,
              "#46039f"
             ],
             [
              0.2222222222222222,
              "#7201a8"
             ],
             [
              0.3333333333333333,
              "#9c179e"
             ],
             [
              0.4444444444444444,
              "#bd3786"
             ],
             [
              0.5555555555555556,
              "#d8576b"
             ],
             [
              0.6666666666666666,
              "#ed7953"
             ],
             [
              0.7777777777777778,
              "#fb9f3a"
             ],
             [
              0.8888888888888888,
              "#fdca26"
             ],
             [
              1,
              "#f0f921"
             ]
            ],
            "type": "histogram2d"
           }
          ],
          "histogram2dcontour": [
           {
            "colorbar": {
             "outlinewidth": 0,
             "ticks": ""
            },
            "colorscale": [
             [
              0,
              "#0d0887"
             ],
             [
              0.1111111111111111,
              "#46039f"
             ],
             [
              0.2222222222222222,
              "#7201a8"
             ],
             [
              0.3333333333333333,
              "#9c179e"
             ],
             [
              0.4444444444444444,
              "#bd3786"
             ],
             [
              0.5555555555555556,
              "#d8576b"
             ],
             [
              0.6666666666666666,
              "#ed7953"
             ],
             [
              0.7777777777777778,
              "#fb9f3a"
             ],
             [
              0.8888888888888888,
              "#fdca26"
             ],
             [
              1,
              "#f0f921"
             ]
            ],
            "type": "histogram2dcontour"
           }
          ],
          "mesh3d": [
           {
            "colorbar": {
             "outlinewidth": 0,
             "ticks": ""
            },
            "type": "mesh3d"
           }
          ],
          "parcoords": [
           {
            "line": {
             "colorbar": {
              "outlinewidth": 0,
              "ticks": ""
             }
            },
            "type": "parcoords"
           }
          ],
          "pie": [
           {
            "automargin": true,
            "type": "pie"
           }
          ],
          "scatter": [
           {
            "fillpattern": {
             "fillmode": "overlay",
             "size": 10,
             "solidity": 0.2
            },
            "type": "scatter"
           }
          ],
          "scatter3d": [
           {
            "line": {
             "colorbar": {
              "outlinewidth": 0,
              "ticks": ""
             }
            },
            "marker": {
             "colorbar": {
              "outlinewidth": 0,
              "ticks": ""
             }
            },
            "type": "scatter3d"
           }
          ],
          "scattercarpet": [
           {
            "marker": {
             "colorbar": {
              "outlinewidth": 0,
              "ticks": ""
             }
            },
            "type": "scattercarpet"
           }
          ],
          "scattergeo": [
           {
            "marker": {
             "colorbar": {
              "outlinewidth": 0,
              "ticks": ""
             }
            },
            "type": "scattergeo"
           }
          ],
          "scattergl": [
           {
            "marker": {
             "colorbar": {
              "outlinewidth": 0,
              "ticks": ""
             }
            },
            "type": "scattergl"
           }
          ],
          "scattermapbox": [
           {
            "marker": {
             "colorbar": {
              "outlinewidth": 0,
              "ticks": ""
             }
            },
            "type": "scattermapbox"
           }
          ],
          "scatterpolar": [
           {
            "marker": {
             "colorbar": {
              "outlinewidth": 0,
              "ticks": ""
             }
            },
            "type": "scatterpolar"
           }
          ],
          "scatterpolargl": [
           {
            "marker": {
             "colorbar": {
              "outlinewidth": 0,
              "ticks": ""
             }
            },
            "type": "scatterpolargl"
           }
          ],
          "scatterternary": [
           {
            "marker": {
             "colorbar": {
              "outlinewidth": 0,
              "ticks": ""
             }
            },
            "type": "scatterternary"
           }
          ],
          "surface": [
           {
            "colorbar": {
             "outlinewidth": 0,
             "ticks": ""
            },
            "colorscale": [
             [
              0,
              "#0d0887"
             ],
             [
              0.1111111111111111,
              "#46039f"
             ],
             [
              0.2222222222222222,
              "#7201a8"
             ],
             [
              0.3333333333333333,
              "#9c179e"
             ],
             [
              0.4444444444444444,
              "#bd3786"
             ],
             [
              0.5555555555555556,
              "#d8576b"
             ],
             [
              0.6666666666666666,
              "#ed7953"
             ],
             [
              0.7777777777777778,
              "#fb9f3a"
             ],
             [
              0.8888888888888888,
              "#fdca26"
             ],
             [
              1,
              "#f0f921"
             ]
            ],
            "type": "surface"
           }
          ],
          "table": [
           {
            "cells": {
             "fill": {
              "color": "#EBF0F8"
             },
             "line": {
              "color": "white"
             }
            },
            "header": {
             "fill": {
              "color": "#C8D4E3"
             },
             "line": {
              "color": "white"
             }
            },
            "type": "table"
           }
          ]
         },
         "layout": {
          "annotationdefaults": {
           "arrowcolor": "#2a3f5f",
           "arrowhead": 0,
           "arrowwidth": 1
          },
          "autotypenumbers": "strict",
          "coloraxis": {
           "colorbar": {
            "outlinewidth": 0,
            "ticks": ""
           }
          },
          "colorscale": {
           "diverging": [
            [
             0,
             "#8e0152"
            ],
            [
             0.1,
             "#c51b7d"
            ],
            [
             0.2,
             "#de77ae"
            ],
            [
             0.3,
             "#f1b6da"
            ],
            [
             0.4,
             "#fde0ef"
            ],
            [
             0.5,
             "#f7f7f7"
            ],
            [
             0.6,
             "#e6f5d0"
            ],
            [
             0.7,
             "#b8e186"
            ],
            [
             0.8,
             "#7fbc41"
            ],
            [
             0.9,
             "#4d9221"
            ],
            [
             1,
             "#276419"
            ]
           ],
           "sequential": [
            [
             0,
             "#0d0887"
            ],
            [
             0.1111111111111111,
             "#46039f"
            ],
            [
             0.2222222222222222,
             "#7201a8"
            ],
            [
             0.3333333333333333,
             "#9c179e"
            ],
            [
             0.4444444444444444,
             "#bd3786"
            ],
            [
             0.5555555555555556,
             "#d8576b"
            ],
            [
             0.6666666666666666,
             "#ed7953"
            ],
            [
             0.7777777777777778,
             "#fb9f3a"
            ],
            [
             0.8888888888888888,
             "#fdca26"
            ],
            [
             1,
             "#f0f921"
            ]
           ],
           "sequentialminus": [
            [
             0,
             "#0d0887"
            ],
            [
             0.1111111111111111,
             "#46039f"
            ],
            [
             0.2222222222222222,
             "#7201a8"
            ],
            [
             0.3333333333333333,
             "#9c179e"
            ],
            [
             0.4444444444444444,
             "#bd3786"
            ],
            [
             0.5555555555555556,
             "#d8576b"
            ],
            [
             0.6666666666666666,
             "#ed7953"
            ],
            [
             0.7777777777777778,
             "#fb9f3a"
            ],
            [
             0.8888888888888888,
             "#fdca26"
            ],
            [
             1,
             "#f0f921"
            ]
           ]
          },
          "colorway": [
           "#636efa",
           "#EF553B",
           "#00cc96",
           "#ab63fa",
           "#FFA15A",
           "#19d3f3",
           "#FF6692",
           "#B6E880",
           "#FF97FF",
           "#FECB52"
          ],
          "font": {
           "color": "#2a3f5f"
          },
          "geo": {
           "bgcolor": "white",
           "lakecolor": "white",
           "landcolor": "#E5ECF6",
           "showlakes": true,
           "showland": true,
           "subunitcolor": "white"
          },
          "hoverlabel": {
           "align": "left"
          },
          "hovermode": "closest",
          "mapbox": {
           "style": "light"
          },
          "paper_bgcolor": "white",
          "plot_bgcolor": "#E5ECF6",
          "polar": {
           "angularaxis": {
            "gridcolor": "white",
            "linecolor": "white",
            "ticks": ""
           },
           "bgcolor": "#E5ECF6",
           "radialaxis": {
            "gridcolor": "white",
            "linecolor": "white",
            "ticks": ""
           }
          },
          "scene": {
           "xaxis": {
            "backgroundcolor": "#E5ECF6",
            "gridcolor": "white",
            "gridwidth": 2,
            "linecolor": "white",
            "showbackground": true,
            "ticks": "",
            "zerolinecolor": "white"
           },
           "yaxis": {
            "backgroundcolor": "#E5ECF6",
            "gridcolor": "white",
            "gridwidth": 2,
            "linecolor": "white",
            "showbackground": true,
            "ticks": "",
            "zerolinecolor": "white"
           },
           "zaxis": {
            "backgroundcolor": "#E5ECF6",
            "gridcolor": "white",
            "gridwidth": 2,
            "linecolor": "white",
            "showbackground": true,
            "ticks": "",
            "zerolinecolor": "white"
           }
          },
          "shapedefaults": {
           "line": {
            "color": "#2a3f5f"
           }
          },
          "ternary": {
           "aaxis": {
            "gridcolor": "white",
            "linecolor": "white",
            "ticks": ""
           },
           "baxis": {
            "gridcolor": "white",
            "linecolor": "white",
            "ticks": ""
           },
           "bgcolor": "#E5ECF6",
           "caxis": {
            "gridcolor": "white",
            "linecolor": "white",
            "ticks": ""
           }
          },
          "title": {
           "x": 0.05
          },
          "xaxis": {
           "automargin": true,
           "gridcolor": "white",
           "linecolor": "white",
           "ticks": "",
           "title": {
            "standoff": 15
           },
           "zerolinecolor": "white",
           "zerolinewidth": 2
          },
          "yaxis": {
           "automargin": true,
           "gridcolor": "white",
           "linecolor": "white",
           "ticks": "",
           "title": {
            "standoff": 15
           },
           "zerolinecolor": "white",
           "zerolinewidth": 2
          }
         }
        },
        "width": 1000,
        "xaxis": {
         "anchor": "y",
         "domain": [
          0,
          0.2888888888888889
         ],
         "title": {
          "text": "Computer Hardware & Software"
         }
        },
        "xaxis2": {
         "anchor": "y2",
         "domain": [
          0.35555555555555557,
          0.6444444444444445
         ],
         "title": {
          "text": "Insurance Carriers"
         }
        },
        "xaxis3": {
         "anchor": "y3",
         "domain": [
          0.7111111111111111,
          1
         ],
         "title": {
          "text": "IT Services"
         }
        },
        "xaxis4": {
         "anchor": "y4",
         "domain": [
          0,
          0.2888888888888889
         ],
         "title": {
          "text": "Internet"
         }
        },
        "xaxis5": {
         "anchor": "y5",
         "domain": [
          0.35555555555555557,
          0.6444444444444445
         ],
         "title": {
          "text": "Enterprise Software & Network Solutions"
         }
        },
        "xaxis6": {
         "anchor": "y6",
         "domain": [
          0.7111111111111111,
          1
         ],
         "title": {
          "text": "Health Care Services & Hospitals"
         }
        },
        "yaxis": {
         "anchor": "x",
         "domain": [
          0.6499999999999999,
          0.9999999999999999
         ]
        },
        "yaxis2": {
         "anchor": "x2",
         "domain": [
          0.6499999999999999,
          0.9999999999999999
         ]
        },
        "yaxis3": {
         "anchor": "x3",
         "domain": [
          0.6499999999999999,
          0.9999999999999999
         ]
        },
        "yaxis4": {
         "anchor": "x4",
         "domain": [
          0,
          0.35
         ]
        },
        "yaxis5": {
         "anchor": "x5",
         "domain": [
          0,
          0.35
         ]
        },
        "yaxis6": {
         "anchor": "x6",
         "domain": [
          0,
          0.35
         ]
        }
       }
      },
      "text/html": [
       "<div>                            <div id=\"7f8e223b-e885-46a6-805b-7612a72e0255\" class=\"plotly-graph-div\" style=\"height:800px; width:1000px;\"></div>            <script type=\"text/javascript\">                require([\"plotly\"], function(Plotly) {                    window.PLOTLYENV=window.PLOTLYENV || {};                                    if (document.getElementById(\"7f8e223b-e885-46a6-805b-7612a72e0255\")) {                    Plotly.newPlot(                        \"7f8e223b-e885-46a6-805b-7612a72e0255\",                        [{\"marker\":{\"color\":[\"#db5f57\",\"#db9757\",\"#dbd057\",\"#addb57\",\"#75db57\",\"#57db72\",\"#57dbaa\",\"#57d3db\",\"#579bdb\",\"#5762db\",\"#8557db\",\"#bd57db\",\"#db57c0\",\"#db5788\"]},\"x\":[\"analyst\",\"data engineer\",\"machine learning engineer\"],\"y\":[6,9,2],\"type\":\"bar\",\"xaxis\":\"x\",\"yaxis\":\"y\"},{\"marker\":{\"color\":[\"#db5f57\",\"#db9757\",\"#dbd057\",\"#addb57\",\"#75db57\",\"#57db72\",\"#57dbaa\",\"#57d3db\",\"#579bdb\",\"#5762db\",\"#8557db\",\"#bd57db\",\"#db57c0\",\"#db5788\"]},\"x\":[\"analyst\",\"data engineer\",\"machine learning engineer\"],\"y\":[7,9,0],\"type\":\"bar\",\"xaxis\":\"x2\",\"yaxis\":\"y2\"},{\"marker\":{\"color\":[\"#db5f57\",\"#db9757\",\"#dbd057\",\"#addb57\",\"#75db57\",\"#57db72\",\"#57dbaa\",\"#57d3db\",\"#579bdb\",\"#5762db\",\"#8557db\",\"#bd57db\",\"#db57c0\",\"#db5788\"]},\"x\":[\"analyst\",\"data engineer\",\"machine learning engineer\"],\"y\":[6,9,0],\"type\":\"bar\",\"xaxis\":\"x3\",\"yaxis\":\"y3\"},{\"marker\":{\"color\":[\"#db5f57\",\"#db9757\",\"#dbd057\",\"#addb57\",\"#75db57\",\"#57db72\",\"#57dbaa\",\"#57d3db\",\"#579bdb\",\"#5762db\",\"#8557db\",\"#bd57db\",\"#db57c0\",\"#db5788\"]},\"x\":[\"analyst\",\"data engineer\",\"machine learning engineer\"],\"y\":[2,10,1],\"type\":\"bar\",\"xaxis\":\"x4\",\"yaxis\":\"y4\"},{\"marker\":{\"color\":[\"#db5f57\",\"#db9757\",\"#dbd057\",\"#addb57\",\"#75db57\",\"#57db72\",\"#57dbaa\",\"#57d3db\",\"#579bdb\",\"#5762db\",\"#8557db\",\"#bd57db\",\"#db57c0\",\"#db5788\"]},\"x\":[\"analyst\",\"data engineer\",\"machine learning engineer\"],\"y\":[7,4,0],\"type\":\"bar\",\"xaxis\":\"x5\",\"yaxis\":\"y5\"},{\"marker\":{\"color\":[\"#db5f57\",\"#db9757\",\"#dbd057\",\"#addb57\",\"#75db57\",\"#57db72\",\"#57dbaa\",\"#57d3db\",\"#579bdb\",\"#5762db\",\"#8557db\",\"#bd57db\",\"#db57c0\",\"#db5788\"]},\"x\":[\"analyst\",\"data engineer\",\"machine learning engineer\"],\"y\":[4,4,0],\"type\":\"bar\",\"xaxis\":\"x6\",\"yaxis\":\"y6\"}],                        {\"template\":{\"data\":{\"histogram2dcontour\":[{\"type\":\"histogram2dcontour\",\"colorbar\":{\"outlinewidth\":0,\"ticks\":\"\"},\"colorscale\":[[0.0,\"#0d0887\"],[0.1111111111111111,\"#46039f\"],[0.2222222222222222,\"#7201a8\"],[0.3333333333333333,\"#9c179e\"],[0.4444444444444444,\"#bd3786\"],[0.5555555555555556,\"#d8576b\"],[0.6666666666666666,\"#ed7953\"],[0.7777777777777778,\"#fb9f3a\"],[0.8888888888888888,\"#fdca26\"],[1.0,\"#f0f921\"]]}],\"choropleth\":[{\"type\":\"choropleth\",\"colorbar\":{\"outlinewidth\":0,\"ticks\":\"\"}}],\"histogram2d\":[{\"type\":\"histogram2d\",\"colorbar\":{\"outlinewidth\":0,\"ticks\":\"\"},\"colorscale\":[[0.0,\"#0d0887\"],[0.1111111111111111,\"#46039f\"],[0.2222222222222222,\"#7201a8\"],[0.3333333333333333,\"#9c179e\"],[0.4444444444444444,\"#bd3786\"],[0.5555555555555556,\"#d8576b\"],[0.6666666666666666,\"#ed7953\"],[0.7777777777777778,\"#fb9f3a\"],[0.8888888888888888,\"#fdca26\"],[1.0,\"#f0f921\"]]}],\"heatmap\":[{\"type\":\"heatmap\",\"colorbar\":{\"outlinewidth\":0,\"ticks\":\"\"},\"colorscale\":[[0.0,\"#0d0887\"],[0.1111111111111111,\"#46039f\"],[0.2222222222222222,\"#7201a8\"],[0.3333333333333333,\"#9c179e\"],[0.4444444444444444,\"#bd3786\"],[0.5555555555555556,\"#d8576b\"],[0.6666666666666666,\"#ed7953\"],[0.7777777777777778,\"#fb9f3a\"],[0.8888888888888888,\"#fdca26\"],[1.0,\"#f0f921\"]]}],\"heatmapgl\":[{\"type\":\"heatmapgl\",\"colorbar\":{\"outlinewidth\":0,\"ticks\":\"\"},\"colorscale\":[[0.0,\"#0d0887\"],[0.1111111111111111,\"#46039f\"],[0.2222222222222222,\"#7201a8\"],[0.3333333333333333,\"#9c179e\"],[0.4444444444444444,\"#bd3786\"],[0.5555555555555556,\"#d8576b\"],[0.6666666666666666,\"#ed7953\"],[0.7777777777777778,\"#fb9f3a\"],[0.8888888888888888,\"#fdca26\"],[1.0,\"#f0f921\"]]}],\"contourcarpet\":[{\"type\":\"contourcarpet\",\"colorbar\":{\"outlinewidth\":0,\"ticks\":\"\"}}],\"contour\":[{\"type\":\"contour\",\"colorbar\":{\"outlinewidth\":0,\"ticks\":\"\"},\"colorscale\":[[0.0,\"#0d0887\"],[0.1111111111111111,\"#46039f\"],[0.2222222222222222,\"#7201a8\"],[0.3333333333333333,\"#9c179e\"],[0.4444444444444444,\"#bd3786\"],[0.5555555555555556,\"#d8576b\"],[0.6666666666666666,\"#ed7953\"],[0.7777777777777778,\"#fb9f3a\"],[0.8888888888888888,\"#fdca26\"],[1.0,\"#f0f921\"]]}],\"surface\":[{\"type\":\"surface\",\"colorbar\":{\"outlinewidth\":0,\"ticks\":\"\"},\"colorscale\":[[0.0,\"#0d0887\"],[0.1111111111111111,\"#46039f\"],[0.2222222222222222,\"#7201a8\"],[0.3333333333333333,\"#9c179e\"],[0.4444444444444444,\"#bd3786\"],[0.5555555555555556,\"#d8576b\"],[0.6666666666666666,\"#ed7953\"],[0.7777777777777778,\"#fb9f3a\"],[0.8888888888888888,\"#fdca26\"],[1.0,\"#f0f921\"]]}],\"mesh3d\":[{\"type\":\"mesh3d\",\"colorbar\":{\"outlinewidth\":0,\"ticks\":\"\"}}],\"scatter\":[{\"fillpattern\":{\"fillmode\":\"overlay\",\"size\":10,\"solidity\":0.2},\"type\":\"scatter\"}],\"parcoords\":[{\"type\":\"parcoords\",\"line\":{\"colorbar\":{\"outlinewidth\":0,\"ticks\":\"\"}}}],\"scatterpolargl\":[{\"type\":\"scatterpolargl\",\"marker\":{\"colorbar\":{\"outlinewidth\":0,\"ticks\":\"\"}}}],\"bar\":[{\"error_x\":{\"color\":\"#2a3f5f\"},\"error_y\":{\"color\":\"#2a3f5f\"},\"marker\":{\"line\":{\"color\":\"#E5ECF6\",\"width\":0.5},\"pattern\":{\"fillmode\":\"overlay\",\"size\":10,\"solidity\":0.2}},\"type\":\"bar\"}],\"scattergeo\":[{\"type\":\"scattergeo\",\"marker\":{\"colorbar\":{\"outlinewidth\":0,\"ticks\":\"\"}}}],\"scatterpolar\":[{\"type\":\"scatterpolar\",\"marker\":{\"colorbar\":{\"outlinewidth\":0,\"ticks\":\"\"}}}],\"histogram\":[{\"marker\":{\"pattern\":{\"fillmode\":\"overlay\",\"size\":10,\"solidity\":0.2}},\"type\":\"histogram\"}],\"scattergl\":[{\"type\":\"scattergl\",\"marker\":{\"colorbar\":{\"outlinewidth\":0,\"ticks\":\"\"}}}],\"scatter3d\":[{\"type\":\"scatter3d\",\"line\":{\"colorbar\":{\"outlinewidth\":0,\"ticks\":\"\"}},\"marker\":{\"colorbar\":{\"outlinewidth\":0,\"ticks\":\"\"}}}],\"scattermapbox\":[{\"type\":\"scattermapbox\",\"marker\":{\"colorbar\":{\"outlinewidth\":0,\"ticks\":\"\"}}}],\"scatterternary\":[{\"type\":\"scatterternary\",\"marker\":{\"colorbar\":{\"outlinewidth\":0,\"ticks\":\"\"}}}],\"scattercarpet\":[{\"type\":\"scattercarpet\",\"marker\":{\"colorbar\":{\"outlinewidth\":0,\"ticks\":\"\"}}}],\"carpet\":[{\"aaxis\":{\"endlinecolor\":\"#2a3f5f\",\"gridcolor\":\"white\",\"linecolor\":\"white\",\"minorgridcolor\":\"white\",\"startlinecolor\":\"#2a3f5f\"},\"baxis\":{\"endlinecolor\":\"#2a3f5f\",\"gridcolor\":\"white\",\"linecolor\":\"white\",\"minorgridcolor\":\"white\",\"startlinecolor\":\"#2a3f5f\"},\"type\":\"carpet\"}],\"table\":[{\"cells\":{\"fill\":{\"color\":\"#EBF0F8\"},\"line\":{\"color\":\"white\"}},\"header\":{\"fill\":{\"color\":\"#C8D4E3\"},\"line\":{\"color\":\"white\"}},\"type\":\"table\"}],\"barpolar\":[{\"marker\":{\"line\":{\"color\":\"#E5ECF6\",\"width\":0.5},\"pattern\":{\"fillmode\":\"overlay\",\"size\":10,\"solidity\":0.2}},\"type\":\"barpolar\"}],\"pie\":[{\"automargin\":true,\"type\":\"pie\"}]},\"layout\":{\"autotypenumbers\":\"strict\",\"colorway\":[\"#636efa\",\"#EF553B\",\"#00cc96\",\"#ab63fa\",\"#FFA15A\",\"#19d3f3\",\"#FF6692\",\"#B6E880\",\"#FF97FF\",\"#FECB52\"],\"font\":{\"color\":\"#2a3f5f\"},\"hovermode\":\"closest\",\"hoverlabel\":{\"align\":\"left\"},\"paper_bgcolor\":\"white\",\"plot_bgcolor\":\"#E5ECF6\",\"polar\":{\"bgcolor\":\"#E5ECF6\",\"angularaxis\":{\"gridcolor\":\"white\",\"linecolor\":\"white\",\"ticks\":\"\"},\"radialaxis\":{\"gridcolor\":\"white\",\"linecolor\":\"white\",\"ticks\":\"\"}},\"ternary\":{\"bgcolor\":\"#E5ECF6\",\"aaxis\":{\"gridcolor\":\"white\",\"linecolor\":\"white\",\"ticks\":\"\"},\"baxis\":{\"gridcolor\":\"white\",\"linecolor\":\"white\",\"ticks\":\"\"},\"caxis\":{\"gridcolor\":\"white\",\"linecolor\":\"white\",\"ticks\":\"\"}},\"coloraxis\":{\"colorbar\":{\"outlinewidth\":0,\"ticks\":\"\"}},\"colorscale\":{\"sequential\":[[0.0,\"#0d0887\"],[0.1111111111111111,\"#46039f\"],[0.2222222222222222,\"#7201a8\"],[0.3333333333333333,\"#9c179e\"],[0.4444444444444444,\"#bd3786\"],[0.5555555555555556,\"#d8576b\"],[0.6666666666666666,\"#ed7953\"],[0.7777777777777778,\"#fb9f3a\"],[0.8888888888888888,\"#fdca26\"],[1.0,\"#f0f921\"]],\"sequentialminus\":[[0.0,\"#0d0887\"],[0.1111111111111111,\"#46039f\"],[0.2222222222222222,\"#7201a8\"],[0.3333333333333333,\"#9c179e\"],[0.4444444444444444,\"#bd3786\"],[0.5555555555555556,\"#d8576b\"],[0.6666666666666666,\"#ed7953\"],[0.7777777777777778,\"#fb9f3a\"],[0.8888888888888888,\"#fdca26\"],[1.0,\"#f0f921\"]],\"diverging\":[[0,\"#8e0152\"],[0.1,\"#c51b7d\"],[0.2,\"#de77ae\"],[0.3,\"#f1b6da\"],[0.4,\"#fde0ef\"],[0.5,\"#f7f7f7\"],[0.6,\"#e6f5d0\"],[0.7,\"#b8e186\"],[0.8,\"#7fbc41\"],[0.9,\"#4d9221\"],[1,\"#276419\"]]},\"xaxis\":{\"gridcolor\":\"white\",\"linecolor\":\"white\",\"ticks\":\"\",\"title\":{\"standoff\":15},\"zerolinecolor\":\"white\",\"automargin\":true,\"zerolinewidth\":2},\"yaxis\":{\"gridcolor\":\"white\",\"linecolor\":\"white\",\"ticks\":\"\",\"title\":{\"standoff\":15},\"zerolinecolor\":\"white\",\"automargin\":true,\"zerolinewidth\":2},\"scene\":{\"xaxis\":{\"backgroundcolor\":\"#E5ECF6\",\"gridcolor\":\"white\",\"linecolor\":\"white\",\"showbackground\":true,\"ticks\":\"\",\"zerolinecolor\":\"white\",\"gridwidth\":2},\"yaxis\":{\"backgroundcolor\":\"#E5ECF6\",\"gridcolor\":\"white\",\"linecolor\":\"white\",\"showbackground\":true,\"ticks\":\"\",\"zerolinecolor\":\"white\",\"gridwidth\":2},\"zaxis\":{\"backgroundcolor\":\"#E5ECF6\",\"gridcolor\":\"white\",\"linecolor\":\"white\",\"showbackground\":true,\"ticks\":\"\",\"zerolinecolor\":\"white\",\"gridwidth\":2}},\"shapedefaults\":{\"line\":{\"color\":\"#2a3f5f\"}},\"annotationdefaults\":{\"arrowcolor\":\"#2a3f5f\",\"arrowhead\":0,\"arrowwidth\":1},\"geo\":{\"bgcolor\":\"white\",\"landcolor\":\"#E5ECF6\",\"subunitcolor\":\"white\",\"showland\":true,\"showlakes\":true,\"lakecolor\":\"white\"},\"title\":{\"x\":0.05},\"mapbox\":{\"style\":\"light\"}}},\"xaxis\":{\"anchor\":\"y\",\"domain\":[0.0,0.2888888888888889],\"title\":{\"text\":\"Computer Hardware & Software\"}},\"yaxis\":{\"anchor\":\"x\",\"domain\":[0.6499999999999999,0.9999999999999999]},\"xaxis2\":{\"anchor\":\"y2\",\"domain\":[0.35555555555555557,0.6444444444444445],\"title\":{\"text\":\"Insurance Carriers\"}},\"yaxis2\":{\"anchor\":\"x2\",\"domain\":[0.6499999999999999,0.9999999999999999]},\"xaxis3\":{\"anchor\":\"y3\",\"domain\":[0.7111111111111111,1.0],\"title\":{\"text\":\"IT Services\"}},\"yaxis3\":{\"anchor\":\"x3\",\"domain\":[0.6499999999999999,0.9999999999999999]},\"xaxis4\":{\"anchor\":\"y4\",\"domain\":[0.0,0.2888888888888889],\"title\":{\"text\":\"Internet\"}},\"yaxis4\":{\"anchor\":\"x4\",\"domain\":[0.0,0.35]},\"xaxis5\":{\"anchor\":\"y5\",\"domain\":[0.35555555555555557,0.6444444444444445],\"title\":{\"text\":\"Enterprise Software & Network Solutions\"}},\"yaxis5\":{\"anchor\":\"x5\",\"domain\":[0.0,0.35]},\"xaxis6\":{\"anchor\":\"y6\",\"domain\":[0.7111111111111111,1.0],\"title\":{\"text\":\"Health Care Services & Hospitals\"}},\"yaxis6\":{\"anchor\":\"x6\",\"domain\":[0.0,0.35]},\"height\":800,\"width\":1000},                        {\"responsive\": true}                    ).then(function(){\n",
       "                            \n",
       "var gd = document.getElementById('7f8e223b-e885-46a6-805b-7612a72e0255');\n",
       "var x = new MutationObserver(function (mutations, observer) {{\n",
       "        var display = window.getComputedStyle(gd).display;\n",
       "        if (!display || display === 'none') {{\n",
       "            console.log([gd, 'removed!']);\n",
       "            Plotly.purge(gd);\n",
       "            observer.disconnect();\n",
       "        }}\n",
       "}});\n",
       "\n",
       "// Listen for the removal of the full notebook cells\n",
       "var notebookContainer = gd.closest('#notebook-container');\n",
       "if (notebookContainer) {{\n",
       "    x.observe(notebookContainer, {childList: true});\n",
       "}}\n",
       "\n",
       "// Listen for the clearing of the current output cell\n",
       "var outputEl = gd.closest('.output');\n",
       "if (outputEl) {{\n",
       "    x.observe(outputEl, {childList: true});\n",
       "}}\n",
       "\n",
       "                        })                };                });            </script>        </div>"
      ]
     },
     "metadata": {},
     "output_type": "display_data"
    }
   ],
   "source": [
    "#top_Industry\n",
    "\n",
    "fig = make_subplots(rows=2, cols=3, shared_yaxes=False, vertical_spacing = 0.3)\n",
    "jobs = list(df_sub[['Job']].drop_duplicates()['Job'])\n",
    "colors = sns.color_palette('hls', len(skills)).as_hex()\n",
    "dictInd = {}\n",
    "for ind in top_Industry:\n",
    "    dictInd[ind] = {}\n",
    "    for job in jobs:\n",
    "        dictInd[ind][job] = len(df_dsc[(df_dsc['Job']==job) & (df_dsc['Industry']==ind)])\n",
    "\n",
    "r=1\n",
    "c=1\n",
    "for ind in dictInd:\n",
    "    dfJob = dictInd[ind]\n",
    "    fig.add_trace(\n",
    "        go.Bar(\n",
    "            x=list(dfJob.keys()), y=list(dfJob.values()),\n",
    "            marker = {'color':colors}\n",
    "        ),\n",
    "        row=r, col=c\n",
    "    )\n",
    "    fig.update_xaxes(title_text=ind, row=r, col=c)\n",
    "    c+=1\n",
    "    if c==4:\n",
    "        c=1\n",
    "        r+=1\n",
    "\n",
    "fig.update_layout(height=800, width=1000)\n",
    "fig.show()"
   ]
  },
  {
   "cell_type": "markdown",
   "id": "9eee2fc2",
   "metadata": {},
   "source": [
    "✔︎ data engineer vs analyst vs machine learning engineer - Avg salary 비교"
   ]
  },
  {
   "cell_type": "code",
   "execution_count": 230,
   "id": "6d417e0a",
   "metadata": {},
   "outputs": [
    {
     "data": {
      "application/vnd.plotly.v1+json": {
       "config": {
        "plotlyServerURL": "https://plot.ly"
       },
       "data": [
        {
         "alignmentgroup": "True",
         "hovertemplate": "Job=analyst<br>Avg Salary(K)=%{y}<extra></extra>",
         "legendgroup": "analyst",
         "marker": {
          "color": "#636efa"
         },
         "name": "analyst",
         "notched": false,
         "offsetgroup": "analyst",
         "orientation": "v",
         "showlegend": true,
         "type": "box",
         "x0": " ",
         "xaxis": "x",
         "y": [
          65.5,
          47.5,
          106,
          88,
          29.5,
          56.5,
          77.5,
          53.5,
          48,
          72.5,
          56.5,
          56.5,
          55,
          62,
          103.5,
          61,
          61.5,
          51.5,
          77.5,
          61,
          59,
          48.5,
          65,
          92.5,
          79,
          47.5,
          69,
          49,
          59,
          76,
          100,
          50,
          63.5,
          58,
          81,
          77,
          70.5,
          44,
          49,
          71,
          61,
          45.5,
          60,
          65,
          87.5,
          43,
          66.5,
          27.5,
          62.5,
          72.5,
          73,
          59.5,
          66,
          50,
          123.5,
          47,
          54,
          37.5,
          53.5,
          138.5,
          72,
          47,
          94,
          121.5,
          173,
          83,
          85.5,
          44.5,
          107.5,
          69.5
         ],
         "y0": " ",
         "yaxis": "y"
        },
        {
         "alignmentgroup": "True",
         "hovertemplate": "Job=data engineer<br>Avg Salary(K)=%{y}<extra></extra>",
         "legendgroup": "data engineer",
         "marker": {
          "color": "#EF553B"
         },
         "name": "data engineer",
         "notched": false,
         "offsetgroup": "data engineer",
         "orientation": "v",
         "showlegend": true,
         "type": "box",
         "x0": " ",
         "xaxis": "x",
         "y": [
          146,
          106,
          98.5,
          87,
          95.5,
          78,
          108,
          95,
          134,
          122,
          92.5,
          132.5,
          100,
          87,
          87,
          106.5,
          84.5,
          107,
          71.5,
          70.5,
          205,
          98,
          107.5,
          88,
          100,
          93,
          101,
          77.5,
          75.5,
          102.5,
          92,
          162.5,
          90.5,
          92,
          109,
          149.5,
          65.5,
          114,
          94.5,
          64.5,
          154.5,
          99,
          109,
          122.5,
          90,
          112.5,
          100,
          85,
          138.5,
          162,
          115.5,
          94.5,
          139,
          136.5,
          91.5,
          177,
          110.5,
          73,
          80,
          68.5,
          85.5,
          113,
          109,
          102.5,
          65,
          97,
          60.5,
          118.5,
          58.5,
          105.5,
          83,
          95.5,
          81,
          103,
          87.5
         ],
         "y0": " ",
         "yaxis": "y"
        },
        {
         "alignmentgroup": "True",
         "hovertemplate": "Job=machine learning engineer<br>Avg Salary(K)=%{y}<extra></extra>",
         "legendgroup": "machine learning engineer",
         "marker": {
          "color": "#00cc96"
         },
         "name": "machine learning engineer",
         "notched": false,
         "offsetgroup": "machine learning engineer",
         "orientation": "v",
         "showlegend": true,
         "type": "box",
         "x0": " ",
         "xaxis": "x",
         "y": [
          100.5,
          120,
          133,
          181,
          124,
          87,
          232.5,
          87,
          125,
          107.5,
          111
         ],
         "y0": " ",
         "yaxis": "y"
        }
       ],
       "layout": {
        "boxmode": "group",
        "legend": {
         "title": {
          "text": "Job"
         },
         "tracegroupgap": 0
        },
        "margin": {
         "t": 60
        },
        "template": {
         "data": {
          "bar": [
           {
            "error_x": {
             "color": "#2a3f5f"
            },
            "error_y": {
             "color": "#2a3f5f"
            },
            "marker": {
             "line": {
              "color": "#E5ECF6",
              "width": 0.5
             },
             "pattern": {
              "fillmode": "overlay",
              "size": 10,
              "solidity": 0.2
             }
            },
            "type": "bar"
           }
          ],
          "barpolar": [
           {
            "marker": {
             "line": {
              "color": "#E5ECF6",
              "width": 0.5
             },
             "pattern": {
              "fillmode": "overlay",
              "size": 10,
              "solidity": 0.2
             }
            },
            "type": "barpolar"
           }
          ],
          "carpet": [
           {
            "aaxis": {
             "endlinecolor": "#2a3f5f",
             "gridcolor": "white",
             "linecolor": "white",
             "minorgridcolor": "white",
             "startlinecolor": "#2a3f5f"
            },
            "baxis": {
             "endlinecolor": "#2a3f5f",
             "gridcolor": "white",
             "linecolor": "white",
             "minorgridcolor": "white",
             "startlinecolor": "#2a3f5f"
            },
            "type": "carpet"
           }
          ],
          "choropleth": [
           {
            "colorbar": {
             "outlinewidth": 0,
             "ticks": ""
            },
            "type": "choropleth"
           }
          ],
          "contour": [
           {
            "colorbar": {
             "outlinewidth": 0,
             "ticks": ""
            },
            "colorscale": [
             [
              0,
              "#0d0887"
             ],
             [
              0.1111111111111111,
              "#46039f"
             ],
             [
              0.2222222222222222,
              "#7201a8"
             ],
             [
              0.3333333333333333,
              "#9c179e"
             ],
             [
              0.4444444444444444,
              "#bd3786"
             ],
             [
              0.5555555555555556,
              "#d8576b"
             ],
             [
              0.6666666666666666,
              "#ed7953"
             ],
             [
              0.7777777777777778,
              "#fb9f3a"
             ],
             [
              0.8888888888888888,
              "#fdca26"
             ],
             [
              1,
              "#f0f921"
             ]
            ],
            "type": "contour"
           }
          ],
          "contourcarpet": [
           {
            "colorbar": {
             "outlinewidth": 0,
             "ticks": ""
            },
            "type": "contourcarpet"
           }
          ],
          "heatmap": [
           {
            "colorbar": {
             "outlinewidth": 0,
             "ticks": ""
            },
            "colorscale": [
             [
              0,
              "#0d0887"
             ],
             [
              0.1111111111111111,
              "#46039f"
             ],
             [
              0.2222222222222222,
              "#7201a8"
             ],
             [
              0.3333333333333333,
              "#9c179e"
             ],
             [
              0.4444444444444444,
              "#bd3786"
             ],
             [
              0.5555555555555556,
              "#d8576b"
             ],
             [
              0.6666666666666666,
              "#ed7953"
             ],
             [
              0.7777777777777778,
              "#fb9f3a"
             ],
             [
              0.8888888888888888,
              "#fdca26"
             ],
             [
              1,
              "#f0f921"
             ]
            ],
            "type": "heatmap"
           }
          ],
          "heatmapgl": [
           {
            "colorbar": {
             "outlinewidth": 0,
             "ticks": ""
            },
            "colorscale": [
             [
              0,
              "#0d0887"
             ],
             [
              0.1111111111111111,
              "#46039f"
             ],
             [
              0.2222222222222222,
              "#7201a8"
             ],
             [
              0.3333333333333333,
              "#9c179e"
             ],
             [
              0.4444444444444444,
              "#bd3786"
             ],
             [
              0.5555555555555556,
              "#d8576b"
             ],
             [
              0.6666666666666666,
              "#ed7953"
             ],
             [
              0.7777777777777778,
              "#fb9f3a"
             ],
             [
              0.8888888888888888,
              "#fdca26"
             ],
             [
              1,
              "#f0f921"
             ]
            ],
            "type": "heatmapgl"
           }
          ],
          "histogram": [
           {
            "marker": {
             "pattern": {
              "fillmode": "overlay",
              "size": 10,
              "solidity": 0.2
             }
            },
            "type": "histogram"
           }
          ],
          "histogram2d": [
           {
            "colorbar": {
             "outlinewidth": 0,
             "ticks": ""
            },
            "colorscale": [
             [
              0,
              "#0d0887"
             ],
             [
              0.1111111111111111,
              "#46039f"
             ],
             [
              0.2222222222222222,
              "#7201a8"
             ],
             [
              0.3333333333333333,
              "#9c179e"
             ],
             [
              0.4444444444444444,
              "#bd3786"
             ],
             [
              0.5555555555555556,
              "#d8576b"
             ],
             [
              0.6666666666666666,
              "#ed7953"
             ],
             [
              0.7777777777777778,
              "#fb9f3a"
             ],
             [
              0.8888888888888888,
              "#fdca26"
             ],
             [
              1,
              "#f0f921"
             ]
            ],
            "type": "histogram2d"
           }
          ],
          "histogram2dcontour": [
           {
            "colorbar": {
             "outlinewidth": 0,
             "ticks": ""
            },
            "colorscale": [
             [
              0,
              "#0d0887"
             ],
             [
              0.1111111111111111,
              "#46039f"
             ],
             [
              0.2222222222222222,
              "#7201a8"
             ],
             [
              0.3333333333333333,
              "#9c179e"
             ],
             [
              0.4444444444444444,
              "#bd3786"
             ],
             [
              0.5555555555555556,
              "#d8576b"
             ],
             [
              0.6666666666666666,
              "#ed7953"
             ],
             [
              0.7777777777777778,
              "#fb9f3a"
             ],
             [
              0.8888888888888888,
              "#fdca26"
             ],
             [
              1,
              "#f0f921"
             ]
            ],
            "type": "histogram2dcontour"
           }
          ],
          "mesh3d": [
           {
            "colorbar": {
             "outlinewidth": 0,
             "ticks": ""
            },
            "type": "mesh3d"
           }
          ],
          "parcoords": [
           {
            "line": {
             "colorbar": {
              "outlinewidth": 0,
              "ticks": ""
             }
            },
            "type": "parcoords"
           }
          ],
          "pie": [
           {
            "automargin": true,
            "type": "pie"
           }
          ],
          "scatter": [
           {
            "fillpattern": {
             "fillmode": "overlay",
             "size": 10,
             "solidity": 0.2
            },
            "type": "scatter"
           }
          ],
          "scatter3d": [
           {
            "line": {
             "colorbar": {
              "outlinewidth": 0,
              "ticks": ""
             }
            },
            "marker": {
             "colorbar": {
              "outlinewidth": 0,
              "ticks": ""
             }
            },
            "type": "scatter3d"
           }
          ],
          "scattercarpet": [
           {
            "marker": {
             "colorbar": {
              "outlinewidth": 0,
              "ticks": ""
             }
            },
            "type": "scattercarpet"
           }
          ],
          "scattergeo": [
           {
            "marker": {
             "colorbar": {
              "outlinewidth": 0,
              "ticks": ""
             }
            },
            "type": "scattergeo"
           }
          ],
          "scattergl": [
           {
            "marker": {
             "colorbar": {
              "outlinewidth": 0,
              "ticks": ""
             }
            },
            "type": "scattergl"
           }
          ],
          "scattermapbox": [
           {
            "marker": {
             "colorbar": {
              "outlinewidth": 0,
              "ticks": ""
             }
            },
            "type": "scattermapbox"
           }
          ],
          "scatterpolar": [
           {
            "marker": {
             "colorbar": {
              "outlinewidth": 0,
              "ticks": ""
             }
            },
            "type": "scatterpolar"
           }
          ],
          "scatterpolargl": [
           {
            "marker": {
             "colorbar": {
              "outlinewidth": 0,
              "ticks": ""
             }
            },
            "type": "scatterpolargl"
           }
          ],
          "scatterternary": [
           {
            "marker": {
             "colorbar": {
              "outlinewidth": 0,
              "ticks": ""
             }
            },
            "type": "scatterternary"
           }
          ],
          "surface": [
           {
            "colorbar": {
             "outlinewidth": 0,
             "ticks": ""
            },
            "colorscale": [
             [
              0,
              "#0d0887"
             ],
             [
              0.1111111111111111,
              "#46039f"
             ],
             [
              0.2222222222222222,
              "#7201a8"
             ],
             [
              0.3333333333333333,
              "#9c179e"
             ],
             [
              0.4444444444444444,
              "#bd3786"
             ],
             [
              0.5555555555555556,
              "#d8576b"
             ],
             [
              0.6666666666666666,
              "#ed7953"
             ],
             [
              0.7777777777777778,
              "#fb9f3a"
             ],
             [
              0.8888888888888888,
              "#fdca26"
             ],
             [
              1,
              "#f0f921"
             ]
            ],
            "type": "surface"
           }
          ],
          "table": [
           {
            "cells": {
             "fill": {
              "color": "#EBF0F8"
             },
             "line": {
              "color": "white"
             }
            },
            "header": {
             "fill": {
              "color": "#C8D4E3"
             },
             "line": {
              "color": "white"
             }
            },
            "type": "table"
           }
          ]
         },
         "layout": {
          "annotationdefaults": {
           "arrowcolor": "#2a3f5f",
           "arrowhead": 0,
           "arrowwidth": 1
          },
          "autotypenumbers": "strict",
          "coloraxis": {
           "colorbar": {
            "outlinewidth": 0,
            "ticks": ""
           }
          },
          "colorscale": {
           "diverging": [
            [
             0,
             "#8e0152"
            ],
            [
             0.1,
             "#c51b7d"
            ],
            [
             0.2,
             "#de77ae"
            ],
            [
             0.3,
             "#f1b6da"
            ],
            [
             0.4,
             "#fde0ef"
            ],
            [
             0.5,
             "#f7f7f7"
            ],
            [
             0.6,
             "#e6f5d0"
            ],
            [
             0.7,
             "#b8e186"
            ],
            [
             0.8,
             "#7fbc41"
            ],
            [
             0.9,
             "#4d9221"
            ],
            [
             1,
             "#276419"
            ]
           ],
           "sequential": [
            [
             0,
             "#0d0887"
            ],
            [
             0.1111111111111111,
             "#46039f"
            ],
            [
             0.2222222222222222,
             "#7201a8"
            ],
            [
             0.3333333333333333,
             "#9c179e"
            ],
            [
             0.4444444444444444,
             "#bd3786"
            ],
            [
             0.5555555555555556,
             "#d8576b"
            ],
            [
             0.6666666666666666,
             "#ed7953"
            ],
            [
             0.7777777777777778,
             "#fb9f3a"
            ],
            [
             0.8888888888888888,
             "#fdca26"
            ],
            [
             1,
             "#f0f921"
            ]
           ],
           "sequentialminus": [
            [
             0,
             "#0d0887"
            ],
            [
             0.1111111111111111,
             "#46039f"
            ],
            [
             0.2222222222222222,
             "#7201a8"
            ],
            [
             0.3333333333333333,
             "#9c179e"
            ],
            [
             0.4444444444444444,
             "#bd3786"
            ],
            [
             0.5555555555555556,
             "#d8576b"
            ],
            [
             0.6666666666666666,
             "#ed7953"
            ],
            [
             0.7777777777777778,
             "#fb9f3a"
            ],
            [
             0.8888888888888888,
             "#fdca26"
            ],
            [
             1,
             "#f0f921"
            ]
           ]
          },
          "colorway": [
           "#636efa",
           "#EF553B",
           "#00cc96",
           "#ab63fa",
           "#FFA15A",
           "#19d3f3",
           "#FF6692",
           "#B6E880",
           "#FF97FF",
           "#FECB52"
          ],
          "font": {
           "color": "#2a3f5f"
          },
          "geo": {
           "bgcolor": "white",
           "lakecolor": "white",
           "landcolor": "#E5ECF6",
           "showlakes": true,
           "showland": true,
           "subunitcolor": "white"
          },
          "hoverlabel": {
           "align": "left"
          },
          "hovermode": "closest",
          "mapbox": {
           "style": "light"
          },
          "paper_bgcolor": "white",
          "plot_bgcolor": "#E5ECF6",
          "polar": {
           "angularaxis": {
            "gridcolor": "white",
            "linecolor": "white",
            "ticks": ""
           },
           "bgcolor": "#E5ECF6",
           "radialaxis": {
            "gridcolor": "white",
            "linecolor": "white",
            "ticks": ""
           }
          },
          "scene": {
           "xaxis": {
            "backgroundcolor": "#E5ECF6",
            "gridcolor": "white",
            "gridwidth": 2,
            "linecolor": "white",
            "showbackground": true,
            "ticks": "",
            "zerolinecolor": "white"
           },
           "yaxis": {
            "backgroundcolor": "#E5ECF6",
            "gridcolor": "white",
            "gridwidth": 2,
            "linecolor": "white",
            "showbackground": true,
            "ticks": "",
            "zerolinecolor": "white"
           },
           "zaxis": {
            "backgroundcolor": "#E5ECF6",
            "gridcolor": "white",
            "gridwidth": 2,
            "linecolor": "white",
            "showbackground": true,
            "ticks": "",
            "zerolinecolor": "white"
           }
          },
          "shapedefaults": {
           "line": {
            "color": "#2a3f5f"
           }
          },
          "ternary": {
           "aaxis": {
            "gridcolor": "white",
            "linecolor": "white",
            "ticks": ""
           },
           "baxis": {
            "gridcolor": "white",
            "linecolor": "white",
            "ticks": ""
           },
           "bgcolor": "#E5ECF6",
           "caxis": {
            "gridcolor": "white",
            "linecolor": "white",
            "ticks": ""
           }
          },
          "title": {
           "x": 0.05
          },
          "xaxis": {
           "automargin": true,
           "gridcolor": "white",
           "linecolor": "white",
           "ticks": "",
           "title": {
            "standoff": 15
           },
           "zerolinecolor": "white",
           "zerolinewidth": 2
          },
          "yaxis": {
           "automargin": true,
           "gridcolor": "white",
           "linecolor": "white",
           "ticks": "",
           "title": {
            "standoff": 15
           },
           "zerolinecolor": "white",
           "zerolinewidth": 2
          }
         }
        },
        "xaxis": {
         "anchor": "y",
         "domain": [
          0,
          1
         ]
        },
        "yaxis": {
         "anchor": "x",
         "domain": [
          0,
          1
         ],
         "title": {
          "text": "Avg Salary(K)"
         }
        }
       }
      },
      "text/html": [
       "<div>                            <div id=\"2ab97477-71df-46c8-810d-2f97aa2977c4\" class=\"plotly-graph-div\" style=\"height:525px; width:100%;\"></div>            <script type=\"text/javascript\">                require([\"plotly\"], function(Plotly) {                    window.PLOTLYENV=window.PLOTLYENV || {};                                    if (document.getElementById(\"2ab97477-71df-46c8-810d-2f97aa2977c4\")) {                    Plotly.newPlot(                        \"2ab97477-71df-46c8-810d-2f97aa2977c4\",                        [{\"alignmentgroup\":\"True\",\"hovertemplate\":\"Job=analyst<br>Avg Salary(K)=%{y}<extra></extra>\",\"legendgroup\":\"analyst\",\"marker\":{\"color\":\"#636efa\"},\"name\":\"analyst\",\"notched\":false,\"offsetgroup\":\"analyst\",\"orientation\":\"v\",\"showlegend\":true,\"x0\":\" \",\"xaxis\":\"x\",\"y\":[65.5,47.5,106.0,88.0,29.5,56.5,77.5,53.5,48.0,72.5,56.5,56.5,55.0,62.0,103.5,61.0,61.5,51.5,77.5,61.0,59.0,48.5,65.0,92.5,79.0,47.5,69.0,49.0,59.0,76.0,100.0,50.0,63.5,58.0,81.0,77.0,70.5,44.0,49.0,71.0,61.0,45.5,60.0,65.0,87.5,43.0,66.5,27.5,62.5,72.5,73.0,59.5,66.0,50.0,123.5,47.0,54.0,37.5,53.5,138.5,72.0,47.0,94.0,121.5,173.0,83.0,85.5,44.5,107.5,69.5],\"y0\":\" \",\"yaxis\":\"y\",\"type\":\"box\"},{\"alignmentgroup\":\"True\",\"hovertemplate\":\"Job=data engineer<br>Avg Salary(K)=%{y}<extra></extra>\",\"legendgroup\":\"data engineer\",\"marker\":{\"color\":\"#EF553B\"},\"name\":\"data engineer\",\"notched\":false,\"offsetgroup\":\"data engineer\",\"orientation\":\"v\",\"showlegend\":true,\"x0\":\" \",\"xaxis\":\"x\",\"y\":[146.0,106.0,98.5,87.0,95.5,78.0,108.0,95.0,134.0,122.0,92.5,132.5,100.0,87.0,87.0,106.5,84.5,107.0,71.5,70.5,205.0,98.0,107.5,88.0,100.0,93.0,101.0,77.5,75.5,102.5,92.0,162.5,90.5,92.0,109.0,149.5,65.5,114.0,94.5,64.5,154.5,99.0,109.0,122.5,90.0,112.5,100.0,85.0,138.5,162.0,115.5,94.5,139.0,136.5,91.5,177.0,110.5,73.0,80.0,68.5,85.5,113.0,109.0,102.5,65.0,97.0,60.5,118.5,58.5,105.5,83.0,95.5,81.0,103.0,87.5],\"y0\":\" \",\"yaxis\":\"y\",\"type\":\"box\"},{\"alignmentgroup\":\"True\",\"hovertemplate\":\"Job=machine learning engineer<br>Avg Salary(K)=%{y}<extra></extra>\",\"legendgroup\":\"machine learning engineer\",\"marker\":{\"color\":\"#00cc96\"},\"name\":\"machine learning engineer\",\"notched\":false,\"offsetgroup\":\"machine learning engineer\",\"orientation\":\"v\",\"showlegend\":true,\"x0\":\" \",\"xaxis\":\"x\",\"y\":[100.5,120.0,133.0,181.0,124.0,87.0,232.5,87.0,125.0,107.5,111.0],\"y0\":\" \",\"yaxis\":\"y\",\"type\":\"box\"}],                        {\"template\":{\"data\":{\"histogram2dcontour\":[{\"type\":\"histogram2dcontour\",\"colorbar\":{\"outlinewidth\":0,\"ticks\":\"\"},\"colorscale\":[[0.0,\"#0d0887\"],[0.1111111111111111,\"#46039f\"],[0.2222222222222222,\"#7201a8\"],[0.3333333333333333,\"#9c179e\"],[0.4444444444444444,\"#bd3786\"],[0.5555555555555556,\"#d8576b\"],[0.6666666666666666,\"#ed7953\"],[0.7777777777777778,\"#fb9f3a\"],[0.8888888888888888,\"#fdca26\"],[1.0,\"#f0f921\"]]}],\"choropleth\":[{\"type\":\"choropleth\",\"colorbar\":{\"outlinewidth\":0,\"ticks\":\"\"}}],\"histogram2d\":[{\"type\":\"histogram2d\",\"colorbar\":{\"outlinewidth\":0,\"ticks\":\"\"},\"colorscale\":[[0.0,\"#0d0887\"],[0.1111111111111111,\"#46039f\"],[0.2222222222222222,\"#7201a8\"],[0.3333333333333333,\"#9c179e\"],[0.4444444444444444,\"#bd3786\"],[0.5555555555555556,\"#d8576b\"],[0.6666666666666666,\"#ed7953\"],[0.7777777777777778,\"#fb9f3a\"],[0.8888888888888888,\"#fdca26\"],[1.0,\"#f0f921\"]]}],\"heatmap\":[{\"type\":\"heatmap\",\"colorbar\":{\"outlinewidth\":0,\"ticks\":\"\"},\"colorscale\":[[0.0,\"#0d0887\"],[0.1111111111111111,\"#46039f\"],[0.2222222222222222,\"#7201a8\"],[0.3333333333333333,\"#9c179e\"],[0.4444444444444444,\"#bd3786\"],[0.5555555555555556,\"#d8576b\"],[0.6666666666666666,\"#ed7953\"],[0.7777777777777778,\"#fb9f3a\"],[0.8888888888888888,\"#fdca26\"],[1.0,\"#f0f921\"]]}],\"heatmapgl\":[{\"type\":\"heatmapgl\",\"colorbar\":{\"outlinewidth\":0,\"ticks\":\"\"},\"colorscale\":[[0.0,\"#0d0887\"],[0.1111111111111111,\"#46039f\"],[0.2222222222222222,\"#7201a8\"],[0.3333333333333333,\"#9c179e\"],[0.4444444444444444,\"#bd3786\"],[0.5555555555555556,\"#d8576b\"],[0.6666666666666666,\"#ed7953\"],[0.7777777777777778,\"#fb9f3a\"],[0.8888888888888888,\"#fdca26\"],[1.0,\"#f0f921\"]]}],\"contourcarpet\":[{\"type\":\"contourcarpet\",\"colorbar\":{\"outlinewidth\":0,\"ticks\":\"\"}}],\"contour\":[{\"type\":\"contour\",\"colorbar\":{\"outlinewidth\":0,\"ticks\":\"\"},\"colorscale\":[[0.0,\"#0d0887\"],[0.1111111111111111,\"#46039f\"],[0.2222222222222222,\"#7201a8\"],[0.3333333333333333,\"#9c179e\"],[0.4444444444444444,\"#bd3786\"],[0.5555555555555556,\"#d8576b\"],[0.6666666666666666,\"#ed7953\"],[0.7777777777777778,\"#fb9f3a\"],[0.8888888888888888,\"#fdca26\"],[1.0,\"#f0f921\"]]}],\"surface\":[{\"type\":\"surface\",\"colorbar\":{\"outlinewidth\":0,\"ticks\":\"\"},\"colorscale\":[[0.0,\"#0d0887\"],[0.1111111111111111,\"#46039f\"],[0.2222222222222222,\"#7201a8\"],[0.3333333333333333,\"#9c179e\"],[0.4444444444444444,\"#bd3786\"],[0.5555555555555556,\"#d8576b\"],[0.6666666666666666,\"#ed7953\"],[0.7777777777777778,\"#fb9f3a\"],[0.8888888888888888,\"#fdca26\"],[1.0,\"#f0f921\"]]}],\"mesh3d\":[{\"type\":\"mesh3d\",\"colorbar\":{\"outlinewidth\":0,\"ticks\":\"\"}}],\"scatter\":[{\"fillpattern\":{\"fillmode\":\"overlay\",\"size\":10,\"solidity\":0.2},\"type\":\"scatter\"}],\"parcoords\":[{\"type\":\"parcoords\",\"line\":{\"colorbar\":{\"outlinewidth\":0,\"ticks\":\"\"}}}],\"scatterpolargl\":[{\"type\":\"scatterpolargl\",\"marker\":{\"colorbar\":{\"outlinewidth\":0,\"ticks\":\"\"}}}],\"bar\":[{\"error_x\":{\"color\":\"#2a3f5f\"},\"error_y\":{\"color\":\"#2a3f5f\"},\"marker\":{\"line\":{\"color\":\"#E5ECF6\",\"width\":0.5},\"pattern\":{\"fillmode\":\"overlay\",\"size\":10,\"solidity\":0.2}},\"type\":\"bar\"}],\"scattergeo\":[{\"type\":\"scattergeo\",\"marker\":{\"colorbar\":{\"outlinewidth\":0,\"ticks\":\"\"}}}],\"scatterpolar\":[{\"type\":\"scatterpolar\",\"marker\":{\"colorbar\":{\"outlinewidth\":0,\"ticks\":\"\"}}}],\"histogram\":[{\"marker\":{\"pattern\":{\"fillmode\":\"overlay\",\"size\":10,\"solidity\":0.2}},\"type\":\"histogram\"}],\"scattergl\":[{\"type\":\"scattergl\",\"marker\":{\"colorbar\":{\"outlinewidth\":0,\"ticks\":\"\"}}}],\"scatter3d\":[{\"type\":\"scatter3d\",\"line\":{\"colorbar\":{\"outlinewidth\":0,\"ticks\":\"\"}},\"marker\":{\"colorbar\":{\"outlinewidth\":0,\"ticks\":\"\"}}}],\"scattermapbox\":[{\"type\":\"scattermapbox\",\"marker\":{\"colorbar\":{\"outlinewidth\":0,\"ticks\":\"\"}}}],\"scatterternary\":[{\"type\":\"scatterternary\",\"marker\":{\"colorbar\":{\"outlinewidth\":0,\"ticks\":\"\"}}}],\"scattercarpet\":[{\"type\":\"scattercarpet\",\"marker\":{\"colorbar\":{\"outlinewidth\":0,\"ticks\":\"\"}}}],\"carpet\":[{\"aaxis\":{\"endlinecolor\":\"#2a3f5f\",\"gridcolor\":\"white\",\"linecolor\":\"white\",\"minorgridcolor\":\"white\",\"startlinecolor\":\"#2a3f5f\"},\"baxis\":{\"endlinecolor\":\"#2a3f5f\",\"gridcolor\":\"white\",\"linecolor\":\"white\",\"minorgridcolor\":\"white\",\"startlinecolor\":\"#2a3f5f\"},\"type\":\"carpet\"}],\"table\":[{\"cells\":{\"fill\":{\"color\":\"#EBF0F8\"},\"line\":{\"color\":\"white\"}},\"header\":{\"fill\":{\"color\":\"#C8D4E3\"},\"line\":{\"color\":\"white\"}},\"type\":\"table\"}],\"barpolar\":[{\"marker\":{\"line\":{\"color\":\"#E5ECF6\",\"width\":0.5},\"pattern\":{\"fillmode\":\"overlay\",\"size\":10,\"solidity\":0.2}},\"type\":\"barpolar\"}],\"pie\":[{\"automargin\":true,\"type\":\"pie\"}]},\"layout\":{\"autotypenumbers\":\"strict\",\"colorway\":[\"#636efa\",\"#EF553B\",\"#00cc96\",\"#ab63fa\",\"#FFA15A\",\"#19d3f3\",\"#FF6692\",\"#B6E880\",\"#FF97FF\",\"#FECB52\"],\"font\":{\"color\":\"#2a3f5f\"},\"hovermode\":\"closest\",\"hoverlabel\":{\"align\":\"left\"},\"paper_bgcolor\":\"white\",\"plot_bgcolor\":\"#E5ECF6\",\"polar\":{\"bgcolor\":\"#E5ECF6\",\"angularaxis\":{\"gridcolor\":\"white\",\"linecolor\":\"white\",\"ticks\":\"\"},\"radialaxis\":{\"gridcolor\":\"white\",\"linecolor\":\"white\",\"ticks\":\"\"}},\"ternary\":{\"bgcolor\":\"#E5ECF6\",\"aaxis\":{\"gridcolor\":\"white\",\"linecolor\":\"white\",\"ticks\":\"\"},\"baxis\":{\"gridcolor\":\"white\",\"linecolor\":\"white\",\"ticks\":\"\"},\"caxis\":{\"gridcolor\":\"white\",\"linecolor\":\"white\",\"ticks\":\"\"}},\"coloraxis\":{\"colorbar\":{\"outlinewidth\":0,\"ticks\":\"\"}},\"colorscale\":{\"sequential\":[[0.0,\"#0d0887\"],[0.1111111111111111,\"#46039f\"],[0.2222222222222222,\"#7201a8\"],[0.3333333333333333,\"#9c179e\"],[0.4444444444444444,\"#bd3786\"],[0.5555555555555556,\"#d8576b\"],[0.6666666666666666,\"#ed7953\"],[0.7777777777777778,\"#fb9f3a\"],[0.8888888888888888,\"#fdca26\"],[1.0,\"#f0f921\"]],\"sequentialminus\":[[0.0,\"#0d0887\"],[0.1111111111111111,\"#46039f\"],[0.2222222222222222,\"#7201a8\"],[0.3333333333333333,\"#9c179e\"],[0.4444444444444444,\"#bd3786\"],[0.5555555555555556,\"#d8576b\"],[0.6666666666666666,\"#ed7953\"],[0.7777777777777778,\"#fb9f3a\"],[0.8888888888888888,\"#fdca26\"],[1.0,\"#f0f921\"]],\"diverging\":[[0,\"#8e0152\"],[0.1,\"#c51b7d\"],[0.2,\"#de77ae\"],[0.3,\"#f1b6da\"],[0.4,\"#fde0ef\"],[0.5,\"#f7f7f7\"],[0.6,\"#e6f5d0\"],[0.7,\"#b8e186\"],[0.8,\"#7fbc41\"],[0.9,\"#4d9221\"],[1,\"#276419\"]]},\"xaxis\":{\"gridcolor\":\"white\",\"linecolor\":\"white\",\"ticks\":\"\",\"title\":{\"standoff\":15},\"zerolinecolor\":\"white\",\"automargin\":true,\"zerolinewidth\":2},\"yaxis\":{\"gridcolor\":\"white\",\"linecolor\":\"white\",\"ticks\":\"\",\"title\":{\"standoff\":15},\"zerolinecolor\":\"white\",\"automargin\":true,\"zerolinewidth\":2},\"scene\":{\"xaxis\":{\"backgroundcolor\":\"#E5ECF6\",\"gridcolor\":\"white\",\"linecolor\":\"white\",\"showbackground\":true,\"ticks\":\"\",\"zerolinecolor\":\"white\",\"gridwidth\":2},\"yaxis\":{\"backgroundcolor\":\"#E5ECF6\",\"gridcolor\":\"white\",\"linecolor\":\"white\",\"showbackground\":true,\"ticks\":\"\",\"zerolinecolor\":\"white\",\"gridwidth\":2},\"zaxis\":{\"backgroundcolor\":\"#E5ECF6\",\"gridcolor\":\"white\",\"linecolor\":\"white\",\"showbackground\":true,\"ticks\":\"\",\"zerolinecolor\":\"white\",\"gridwidth\":2}},\"shapedefaults\":{\"line\":{\"color\":\"#2a3f5f\"}},\"annotationdefaults\":{\"arrowcolor\":\"#2a3f5f\",\"arrowhead\":0,\"arrowwidth\":1},\"geo\":{\"bgcolor\":\"white\",\"landcolor\":\"#E5ECF6\",\"subunitcolor\":\"white\",\"showland\":true,\"showlakes\":true,\"lakecolor\":\"white\"},\"title\":{\"x\":0.05},\"mapbox\":{\"style\":\"light\"}}},\"xaxis\":{\"anchor\":\"y\",\"domain\":[0.0,1.0]},\"yaxis\":{\"anchor\":\"x\",\"domain\":[0.0,1.0],\"title\":{\"text\":\"Avg Salary(K)\"}},\"legend\":{\"title\":{\"text\":\"Job\"},\"tracegroupgap\":0},\"margin\":{\"t\":60},\"boxmode\":\"group\"},                        {\"responsive\": true}                    ).then(function(){\n",
       "                            \n",
       "var gd = document.getElementById('2ab97477-71df-46c8-810d-2f97aa2977c4');\n",
       "var x = new MutationObserver(function (mutations, observer) {{\n",
       "        var display = window.getComputedStyle(gd).display;\n",
       "        if (!display || display === 'none') {{\n",
       "            console.log([gd, 'removed!']);\n",
       "            Plotly.purge(gd);\n",
       "            observer.disconnect();\n",
       "        }}\n",
       "}});\n",
       "\n",
       "// Listen for the removal of the full notebook cells\n",
       "var notebookContainer = gd.closest('#notebook-container');\n",
       "if (notebookContainer) {{\n",
       "    x.observe(notebookContainer, {childList: true});\n",
       "}}\n",
       "\n",
       "// Listen for the clearing of the current output cell\n",
       "var outputEl = gd.closest('.output');\n",
       "if (outputEl) {{\n",
       "    x.observe(outputEl, {childList: true});\n",
       "}}\n",
       "\n",
       "                        })                };                });            </script>        </div>"
      ]
     },
     "metadata": {},
     "output_type": "display_data"
    }
   ],
   "source": [
    "sub_job = ['data engineer', 'analyst', 'machine learning engineer']\n",
    "px.box(df_sub, y='Avg Salary(K)', color='Job')"
   ]
  },
  {
   "cell_type": "markdown",
   "id": "043b89fb",
   "metadata": {},
   "source": [
    "✔︎ Skill 여부에 따른 Avg Salary 분포"
   ]
  },
  {
   "cell_type": "code",
   "execution_count": 231,
   "id": "1fbde7be",
   "metadata": {},
   "outputs": [
    {
     "data": {
      "application/vnd.plotly.v1+json": {
       "config": {
        "plotlyServerURL": "https://plot.ly"
       },
       "data": [
        {
         "boxpoints": "all",
         "type": "box",
         "x": [
          0,
          1,
          0,
          1,
          1,
          1,
          1,
          0,
          0,
          1,
          1,
          0,
          0,
          0,
          0,
          0,
          1,
          0,
          1,
          0,
          1,
          1,
          0,
          1,
          1,
          1,
          1,
          0,
          0,
          1,
          0,
          1,
          1,
          1,
          1,
          0,
          0,
          1,
          1,
          1,
          0,
          1,
          0,
          1,
          0,
          1,
          0,
          1,
          1,
          1,
          1,
          1,
          1,
          0,
          1,
          1,
          1,
          0,
          1,
          1,
          1,
          1,
          0,
          1,
          1,
          1,
          1,
          1,
          1,
          1,
          0,
          1,
          0,
          0,
          1
         ],
         "xaxis": "x",
         "y": [
          146,
          106,
          98.5,
          87,
          95.5,
          78,
          108,
          95,
          134,
          122,
          92.5,
          132.5,
          100,
          87,
          87,
          106.5,
          84.5,
          107,
          71.5,
          70.5,
          205,
          98,
          107.5,
          88,
          100,
          93,
          101,
          77.5,
          75.5,
          102.5,
          92,
          162.5,
          90.5,
          92,
          109,
          149.5,
          65.5,
          114,
          94.5,
          64.5,
          154.5,
          99,
          109,
          122.5,
          90,
          112.5,
          100,
          85,
          138.5,
          162,
          115.5,
          94.5,
          139,
          136.5,
          91.5,
          177,
          110.5,
          73,
          80,
          68.5,
          85.5,
          113,
          109,
          102.5,
          65,
          97,
          60.5,
          118.5,
          58.5,
          105.5,
          83,
          95.5,
          81,
          103,
          87.5
         ],
         "yaxis": "y"
        },
        {
         "boxpoints": "all",
         "type": "box",
         "x": [
          0,
          0,
          0,
          0,
          1,
          0,
          1,
          1,
          1,
          1,
          1,
          0,
          1,
          0,
          0,
          0,
          1,
          0,
          1,
          0,
          1,
          0,
          0,
          1,
          1,
          0,
          0,
          0,
          1,
          1,
          0,
          1,
          1,
          1,
          1,
          1,
          1,
          1,
          1,
          0,
          1,
          0,
          0,
          1,
          1,
          1,
          0,
          1,
          1,
          1,
          0,
          0,
          0,
          0,
          1,
          1,
          0,
          0,
          1,
          1,
          0,
          1,
          0,
          1,
          1,
          1,
          1,
          1,
          1,
          1,
          0,
          0,
          0,
          1,
          0
         ],
         "xaxis": "x2",
         "y": [
          146,
          106,
          98.5,
          87,
          95.5,
          78,
          108,
          95,
          134,
          122,
          92.5,
          132.5,
          100,
          87,
          87,
          106.5,
          84.5,
          107,
          71.5,
          70.5,
          205,
          98,
          107.5,
          88,
          100,
          93,
          101,
          77.5,
          75.5,
          102.5,
          92,
          162.5,
          90.5,
          92,
          109,
          149.5,
          65.5,
          114,
          94.5,
          64.5,
          154.5,
          99,
          109,
          122.5,
          90,
          112.5,
          100,
          85,
          138.5,
          162,
          115.5,
          94.5,
          139,
          136.5,
          91.5,
          177,
          110.5,
          73,
          80,
          68.5,
          85.5,
          113,
          109,
          102.5,
          65,
          97,
          60.5,
          118.5,
          58.5,
          105.5,
          83,
          95.5,
          81,
          103,
          87.5
         ],
         "yaxis": "y2"
        },
        {
         "boxpoints": "all",
         "type": "box",
         "x": [
          0,
          0,
          0,
          1,
          0,
          0,
          0,
          1,
          1,
          1,
          0,
          0,
          0,
          1,
          0,
          0,
          0,
          0,
          1,
          0,
          1,
          0,
          0,
          1,
          1,
          1,
          1,
          0,
          0,
          1,
          0,
          0,
          0,
          0,
          0,
          1,
          1,
          0,
          1,
          1,
          1,
          1,
          1,
          1,
          0,
          1,
          0,
          1,
          0,
          1,
          0,
          1,
          1,
          0,
          1,
          1,
          0,
          0,
          0,
          0,
          0,
          1,
          1,
          1,
          1,
          1,
          1,
          0,
          0,
          0,
          0,
          0,
          0,
          1,
          1
         ],
         "xaxis": "x3",
         "y": [
          146,
          106,
          98.5,
          87,
          95.5,
          78,
          108,
          95,
          134,
          122,
          92.5,
          132.5,
          100,
          87,
          87,
          106.5,
          84.5,
          107,
          71.5,
          70.5,
          205,
          98,
          107.5,
          88,
          100,
          93,
          101,
          77.5,
          75.5,
          102.5,
          92,
          162.5,
          90.5,
          92,
          109,
          149.5,
          65.5,
          114,
          94.5,
          64.5,
          154.5,
          99,
          109,
          122.5,
          90,
          112.5,
          100,
          85,
          138.5,
          162,
          115.5,
          94.5,
          139,
          136.5,
          91.5,
          177,
          110.5,
          73,
          80,
          68.5,
          85.5,
          113,
          109,
          102.5,
          65,
          97,
          60.5,
          118.5,
          58.5,
          105.5,
          83,
          95.5,
          81,
          103,
          87.5
         ],
         "yaxis": "y3"
        },
        {
         "boxpoints": "all",
         "type": "box",
         "x": [
          1,
          1,
          1,
          1,
          0,
          0,
          0,
          0,
          0,
          0,
          1,
          0,
          1,
          1,
          0,
          1,
          0,
          1,
          1,
          1,
          0,
          0,
          0,
          1,
          0,
          0,
          1,
          1,
          0,
          1,
          0,
          1,
          0,
          1,
          0,
          0,
          1,
          0,
          1,
          1,
          1,
          0,
          0,
          0,
          1,
          0,
          0,
          0,
          0,
          1,
          1,
          0,
          1,
          0,
          1,
          0,
          1,
          0,
          1,
          0,
          1,
          1,
          1,
          0,
          1,
          0,
          0,
          0,
          1,
          0,
          0,
          0,
          1,
          0,
          1
         ],
         "xaxis": "x4",
         "y": [
          146,
          106,
          98.5,
          87,
          95.5,
          78,
          108,
          95,
          134,
          122,
          92.5,
          132.5,
          100,
          87,
          87,
          106.5,
          84.5,
          107,
          71.5,
          70.5,
          205,
          98,
          107.5,
          88,
          100,
          93,
          101,
          77.5,
          75.5,
          102.5,
          92,
          162.5,
          90.5,
          92,
          109,
          149.5,
          65.5,
          114,
          94.5,
          64.5,
          154.5,
          99,
          109,
          122.5,
          90,
          112.5,
          100,
          85,
          138.5,
          162,
          115.5,
          94.5,
          139,
          136.5,
          91.5,
          177,
          110.5,
          73,
          80,
          68.5,
          85.5,
          113,
          109,
          102.5,
          65,
          97,
          60.5,
          118.5,
          58.5,
          105.5,
          83,
          95.5,
          81,
          103,
          87.5
         ],
         "yaxis": "y4"
        },
        {
         "boxpoints": "all",
         "type": "box",
         "x": [
          0,
          1,
          1,
          1,
          1,
          1,
          1,
          1,
          1,
          1,
          1,
          0,
          1,
          0,
          0,
          1,
          1,
          0,
          1,
          1,
          1,
          1,
          1,
          1,
          1,
          1,
          1,
          1,
          1,
          1,
          1,
          1,
          0,
          0,
          0,
          0,
          1,
          1,
          1,
          1,
          1,
          1,
          0,
          1,
          1,
          0,
          1,
          0,
          1,
          0,
          1,
          0,
          0,
          1,
          1,
          1,
          1,
          1,
          1,
          0,
          1,
          1,
          0,
          1,
          1,
          1,
          1,
          1,
          1,
          1,
          1,
          1,
          0,
          0,
          1
         ],
         "xaxis": "x5",
         "y": [
          146,
          106,
          98.5,
          87,
          95.5,
          78,
          108,
          95,
          134,
          122,
          92.5,
          132.5,
          100,
          87,
          87,
          106.5,
          84.5,
          107,
          71.5,
          70.5,
          205,
          98,
          107.5,
          88,
          100,
          93,
          101,
          77.5,
          75.5,
          102.5,
          92,
          162.5,
          90.5,
          92,
          109,
          149.5,
          65.5,
          114,
          94.5,
          64.5,
          154.5,
          99,
          109,
          122.5,
          90,
          112.5,
          100,
          85,
          138.5,
          162,
          115.5,
          94.5,
          139,
          136.5,
          91.5,
          177,
          110.5,
          73,
          80,
          68.5,
          85.5,
          113,
          109,
          102.5,
          65,
          97,
          60.5,
          118.5,
          58.5,
          105.5,
          83,
          95.5,
          81,
          103,
          87.5
         ],
         "yaxis": "y5"
        },
        {
         "boxpoints": "all",
         "type": "box",
         "x": [
          0,
          0,
          0,
          0,
          0,
          0,
          0,
          0,
          0,
          0,
          0,
          0,
          0,
          0,
          0,
          1,
          0,
          0,
          0,
          0,
          0,
          0,
          0,
          0,
          0,
          0,
          0,
          0,
          0,
          0,
          0,
          0,
          0,
          0,
          0,
          0,
          0,
          0,
          0,
          0,
          0,
          0,
          0,
          0,
          0,
          0,
          0,
          0,
          0,
          0,
          0,
          0,
          0,
          0,
          0,
          0,
          0,
          0,
          0,
          0,
          0,
          0,
          0,
          0,
          0,
          0,
          0,
          0,
          0,
          0,
          0,
          0,
          0,
          0,
          0
         ],
         "xaxis": "x6",
         "y": [
          146,
          106,
          98.5,
          87,
          95.5,
          78,
          108,
          95,
          134,
          122,
          92.5,
          132.5,
          100,
          87,
          87,
          106.5,
          84.5,
          107,
          71.5,
          70.5,
          205,
          98,
          107.5,
          88,
          100,
          93,
          101,
          77.5,
          75.5,
          102.5,
          92,
          162.5,
          90.5,
          92,
          109,
          149.5,
          65.5,
          114,
          94.5,
          64.5,
          154.5,
          99,
          109,
          122.5,
          90,
          112.5,
          100,
          85,
          138.5,
          162,
          115.5,
          94.5,
          139,
          136.5,
          91.5,
          177,
          110.5,
          73,
          80,
          68.5,
          85.5,
          113,
          109,
          102.5,
          65,
          97,
          60.5,
          118.5,
          58.5,
          105.5,
          83,
          95.5,
          81,
          103,
          87.5
         ],
         "yaxis": "y6"
        },
        {
         "boxpoints": "all",
         "type": "box",
         "x": [
          0,
          0,
          0,
          0,
          0,
          0,
          0,
          0,
          0,
          0,
          0,
          0,
          0,
          0,
          0,
          0,
          0,
          0,
          0,
          0,
          0,
          0,
          0,
          0,
          0,
          0,
          0,
          0,
          0,
          0,
          0,
          0,
          0,
          0,
          0,
          0,
          0,
          0,
          0,
          0,
          0,
          0,
          0,
          0,
          0,
          0,
          0,
          0,
          0,
          0,
          0,
          0,
          0,
          0,
          0,
          0,
          0,
          0,
          0,
          0,
          0,
          0,
          0,
          0,
          0,
          0,
          0,
          0,
          0,
          0,
          0,
          0,
          0,
          0,
          0
         ],
         "xaxis": "x7",
         "y": [
          146,
          106,
          98.5,
          87,
          95.5,
          78,
          108,
          95,
          134,
          122,
          92.5,
          132.5,
          100,
          87,
          87,
          106.5,
          84.5,
          107,
          71.5,
          70.5,
          205,
          98,
          107.5,
          88,
          100,
          93,
          101,
          77.5,
          75.5,
          102.5,
          92,
          162.5,
          90.5,
          92,
          109,
          149.5,
          65.5,
          114,
          94.5,
          64.5,
          154.5,
          99,
          109,
          122.5,
          90,
          112.5,
          100,
          85,
          138.5,
          162,
          115.5,
          94.5,
          139,
          136.5,
          91.5,
          177,
          110.5,
          73,
          80,
          68.5,
          85.5,
          113,
          109,
          102.5,
          65,
          97,
          60.5,
          118.5,
          58.5,
          105.5,
          83,
          95.5,
          81,
          103,
          87.5
         ],
         "yaxis": "y7"
        },
        {
         "boxpoints": "all",
         "type": "box",
         "x": [
          0,
          0,
          0,
          0,
          0,
          0,
          0,
          0,
          0,
          0,
          0,
          0,
          0,
          0,
          0,
          0,
          0,
          0,
          0,
          0,
          0,
          0,
          0,
          0,
          0,
          0,
          0,
          0,
          0,
          0,
          0,
          0,
          0,
          0,
          0,
          0,
          0,
          0,
          0,
          0,
          0,
          0,
          0,
          0,
          0,
          0,
          0,
          0,
          0,
          0,
          0,
          0,
          0,
          0,
          0,
          0,
          0,
          0,
          0,
          0,
          0,
          0,
          0,
          0,
          0,
          0,
          0,
          0,
          0,
          0,
          0,
          0,
          0,
          0,
          0
         ],
         "xaxis": "x8",
         "y": [
          146,
          106,
          98.5,
          87,
          95.5,
          78,
          108,
          95,
          134,
          122,
          92.5,
          132.5,
          100,
          87,
          87,
          106.5,
          84.5,
          107,
          71.5,
          70.5,
          205,
          98,
          107.5,
          88,
          100,
          93,
          101,
          77.5,
          75.5,
          102.5,
          92,
          162.5,
          90.5,
          92,
          109,
          149.5,
          65.5,
          114,
          94.5,
          64.5,
          154.5,
          99,
          109,
          122.5,
          90,
          112.5,
          100,
          85,
          138.5,
          162,
          115.5,
          94.5,
          139,
          136.5,
          91.5,
          177,
          110.5,
          73,
          80,
          68.5,
          85.5,
          113,
          109,
          102.5,
          65,
          97,
          60.5,
          118.5,
          58.5,
          105.5,
          83,
          95.5,
          81,
          103,
          87.5
         ],
         "yaxis": "y8"
        },
        {
         "boxpoints": "all",
         "type": "box",
         "x": [
          0,
          0,
          0,
          0,
          0,
          0,
          0,
          0,
          0,
          0,
          0,
          0,
          0,
          0,
          0,
          0,
          0,
          0,
          0,
          0,
          0,
          0,
          0,
          0,
          0,
          0,
          0,
          0,
          0,
          0,
          0,
          0,
          0,
          0,
          0,
          0,
          0,
          0,
          0,
          0,
          0,
          0,
          0,
          0,
          0,
          0,
          0,
          0,
          0,
          0,
          0,
          0,
          0,
          0,
          0,
          0,
          0,
          0,
          0,
          0,
          0,
          0,
          0,
          0,
          0,
          0,
          0,
          0,
          0,
          0,
          0,
          0,
          0,
          0,
          0
         ],
         "xaxis": "x9",
         "y": [
          146,
          106,
          98.5,
          87,
          95.5,
          78,
          108,
          95,
          134,
          122,
          92.5,
          132.5,
          100,
          87,
          87,
          106.5,
          84.5,
          107,
          71.5,
          70.5,
          205,
          98,
          107.5,
          88,
          100,
          93,
          101,
          77.5,
          75.5,
          102.5,
          92,
          162.5,
          90.5,
          92,
          109,
          149.5,
          65.5,
          114,
          94.5,
          64.5,
          154.5,
          99,
          109,
          122.5,
          90,
          112.5,
          100,
          85,
          138.5,
          162,
          115.5,
          94.5,
          139,
          136.5,
          91.5,
          177,
          110.5,
          73,
          80,
          68.5,
          85.5,
          113,
          109,
          102.5,
          65,
          97,
          60.5,
          118.5,
          58.5,
          105.5,
          83,
          95.5,
          81,
          103,
          87.5
         ],
         "yaxis": "y9"
        },
        {
         "boxpoints": "all",
         "type": "box",
         "x": [
          0,
          0,
          0,
          0,
          0,
          0,
          0,
          0,
          0,
          0,
          0,
          0,
          0,
          0,
          0,
          0,
          0,
          0,
          0,
          0,
          0,
          0,
          0,
          0,
          0,
          0,
          0,
          0,
          0,
          0,
          0,
          0,
          0,
          0,
          0,
          0,
          0,
          0,
          0,
          0,
          0,
          0,
          0,
          0,
          0,
          0,
          0,
          0,
          1,
          0,
          0,
          0,
          0,
          0,
          0,
          0,
          0,
          0,
          0,
          0,
          0,
          0,
          0,
          0,
          0,
          0,
          0,
          0,
          0,
          0,
          0,
          0,
          0,
          0,
          0
         ],
         "xaxis": "x10",
         "y": [
          146,
          106,
          98.5,
          87,
          95.5,
          78,
          108,
          95,
          134,
          122,
          92.5,
          132.5,
          100,
          87,
          87,
          106.5,
          84.5,
          107,
          71.5,
          70.5,
          205,
          98,
          107.5,
          88,
          100,
          93,
          101,
          77.5,
          75.5,
          102.5,
          92,
          162.5,
          90.5,
          92,
          109,
          149.5,
          65.5,
          114,
          94.5,
          64.5,
          154.5,
          99,
          109,
          122.5,
          90,
          112.5,
          100,
          85,
          138.5,
          162,
          115.5,
          94.5,
          139,
          136.5,
          91.5,
          177,
          110.5,
          73,
          80,
          68.5,
          85.5,
          113,
          109,
          102.5,
          65,
          97,
          60.5,
          118.5,
          58.5,
          105.5,
          83,
          95.5,
          81,
          103,
          87.5
         ],
         "yaxis": "y10"
        },
        {
         "boxpoints": "all",
         "type": "box",
         "x": [
          0,
          0,
          0,
          0,
          0,
          0,
          1,
          1,
          0,
          0,
          1,
          0,
          0,
          0,
          0,
          0,
          0,
          0,
          1,
          0,
          0,
          0,
          0,
          1,
          1,
          1,
          0,
          1,
          1,
          1,
          1,
          0,
          1,
          0,
          1,
          0,
          0,
          0,
          1,
          0,
          1,
          0,
          0,
          1,
          1,
          1,
          1,
          1,
          0,
          1,
          0,
          0,
          0,
          0,
          1,
          1,
          0,
          0,
          1,
          0,
          1,
          0,
          1,
          1,
          0,
          1,
          0,
          1,
          1,
          1,
          0,
          0,
          0,
          1,
          0
         ],
         "xaxis": "x11",
         "y": [
          146,
          106,
          98.5,
          87,
          95.5,
          78,
          108,
          95,
          134,
          122,
          92.5,
          132.5,
          100,
          87,
          87,
          106.5,
          84.5,
          107,
          71.5,
          70.5,
          205,
          98,
          107.5,
          88,
          100,
          93,
          101,
          77.5,
          75.5,
          102.5,
          92,
          162.5,
          90.5,
          92,
          109,
          149.5,
          65.5,
          114,
          94.5,
          64.5,
          154.5,
          99,
          109,
          122.5,
          90,
          112.5,
          100,
          85,
          138.5,
          162,
          115.5,
          94.5,
          139,
          136.5,
          91.5,
          177,
          110.5,
          73,
          80,
          68.5,
          85.5,
          113,
          109,
          102.5,
          65,
          97,
          60.5,
          118.5,
          58.5,
          105.5,
          83,
          95.5,
          81,
          103,
          87.5
         ],
         "yaxis": "y11"
        },
        {
         "boxpoints": "all",
         "type": "box",
         "x": [
          0,
          0,
          0,
          0,
          1,
          0,
          0,
          0,
          0,
          0,
          0,
          0,
          0,
          0,
          0,
          1,
          0,
          0,
          0,
          0,
          0,
          0,
          0,
          0,
          0,
          1,
          1,
          0,
          1,
          1,
          0,
          0,
          0,
          0,
          0,
          0,
          0,
          1,
          0,
          0,
          0,
          0,
          0,
          0,
          0,
          0,
          0,
          0,
          0,
          0,
          1,
          0,
          0,
          0,
          0,
          0,
          0,
          0,
          0,
          0,
          0,
          0,
          0,
          0,
          0,
          0,
          0,
          0,
          0,
          0,
          1,
          0,
          0,
          0,
          0
         ],
         "xaxis": "x12",
         "y": [
          146,
          106,
          98.5,
          87,
          95.5,
          78,
          108,
          95,
          134,
          122,
          92.5,
          132.5,
          100,
          87,
          87,
          106.5,
          84.5,
          107,
          71.5,
          70.5,
          205,
          98,
          107.5,
          88,
          100,
          93,
          101,
          77.5,
          75.5,
          102.5,
          92,
          162.5,
          90.5,
          92,
          109,
          149.5,
          65.5,
          114,
          94.5,
          64.5,
          154.5,
          99,
          109,
          122.5,
          90,
          112.5,
          100,
          85,
          138.5,
          162,
          115.5,
          94.5,
          139,
          136.5,
          91.5,
          177,
          110.5,
          73,
          80,
          68.5,
          85.5,
          113,
          109,
          102.5,
          65,
          97,
          60.5,
          118.5,
          58.5,
          105.5,
          83,
          95.5,
          81,
          103,
          87.5
         ],
         "yaxis": "y12"
        },
        {
         "boxpoints": "all",
         "type": "box",
         "x": [
          0,
          0,
          0,
          0,
          0,
          0,
          0,
          0,
          0,
          0,
          0,
          0,
          0,
          0,
          0,
          0,
          0,
          0,
          0,
          0,
          0,
          0,
          0,
          0,
          0,
          1,
          0,
          0,
          1,
          0,
          0,
          0,
          0,
          0,
          0,
          0,
          0,
          0,
          0,
          0,
          0,
          0,
          0,
          0,
          0,
          0,
          0,
          0,
          0,
          0,
          0,
          0,
          0,
          0,
          0,
          0,
          0,
          0,
          0,
          0,
          0,
          0,
          0,
          0,
          0,
          0,
          0,
          0,
          0,
          0,
          1,
          0,
          0,
          0,
          0
         ],
         "xaxis": "x13",
         "y": [
          146,
          106,
          98.5,
          87,
          95.5,
          78,
          108,
          95,
          134,
          122,
          92.5,
          132.5,
          100,
          87,
          87,
          106.5,
          84.5,
          107,
          71.5,
          70.5,
          205,
          98,
          107.5,
          88,
          100,
          93,
          101,
          77.5,
          75.5,
          102.5,
          92,
          162.5,
          90.5,
          92,
          109,
          149.5,
          65.5,
          114,
          94.5,
          64.5,
          154.5,
          99,
          109,
          122.5,
          90,
          112.5,
          100,
          85,
          138.5,
          162,
          115.5,
          94.5,
          139,
          136.5,
          91.5,
          177,
          110.5,
          73,
          80,
          68.5,
          85.5,
          113,
          109,
          102.5,
          65,
          97,
          60.5,
          118.5,
          58.5,
          105.5,
          83,
          95.5,
          81,
          103,
          87.5
         ],
         "yaxis": "y13"
        },
        {
         "boxpoints": "all",
         "type": "box",
         "x": [
          0,
          0,
          0,
          0,
          0,
          0,
          0,
          0,
          0,
          0,
          1,
          0,
          0,
          0,
          0,
          1,
          0,
          0,
          0,
          0,
          0,
          0,
          0,
          0,
          0,
          0,
          0,
          0,
          0,
          1,
          0,
          0,
          0,
          0,
          0,
          0,
          0,
          0,
          0,
          0,
          1,
          0,
          0,
          1,
          0,
          0,
          0,
          0,
          0,
          0,
          0,
          0,
          0,
          0,
          0,
          1,
          0,
          0,
          0,
          0,
          0,
          1,
          0,
          0,
          0,
          0,
          1,
          0,
          0,
          0,
          0,
          0,
          0,
          0,
          0
         ],
         "xaxis": "x14",
         "y": [
          146,
          106,
          98.5,
          87,
          95.5,
          78,
          108,
          95,
          134,
          122,
          92.5,
          132.5,
          100,
          87,
          87,
          106.5,
          84.5,
          107,
          71.5,
          70.5,
          205,
          98,
          107.5,
          88,
          100,
          93,
          101,
          77.5,
          75.5,
          102.5,
          92,
          162.5,
          90.5,
          92,
          109,
          149.5,
          65.5,
          114,
          94.5,
          64.5,
          154.5,
          99,
          109,
          122.5,
          90,
          112.5,
          100,
          85,
          138.5,
          162,
          115.5,
          94.5,
          139,
          136.5,
          91.5,
          177,
          110.5,
          73,
          80,
          68.5,
          85.5,
          113,
          109,
          102.5,
          65,
          97,
          60.5,
          118.5,
          58.5,
          105.5,
          83,
          95.5,
          81,
          103,
          87.5
         ],
         "yaxis": "y14"
        }
       ],
       "layout": {
        "height": 1200,
        "template": {
         "data": {
          "bar": [
           {
            "error_x": {
             "color": "#2a3f5f"
            },
            "error_y": {
             "color": "#2a3f5f"
            },
            "marker": {
             "line": {
              "color": "#E5ECF6",
              "width": 0.5
             },
             "pattern": {
              "fillmode": "overlay",
              "size": 10,
              "solidity": 0.2
             }
            },
            "type": "bar"
           }
          ],
          "barpolar": [
           {
            "marker": {
             "line": {
              "color": "#E5ECF6",
              "width": 0.5
             },
             "pattern": {
              "fillmode": "overlay",
              "size": 10,
              "solidity": 0.2
             }
            },
            "type": "barpolar"
           }
          ],
          "carpet": [
           {
            "aaxis": {
             "endlinecolor": "#2a3f5f",
             "gridcolor": "white",
             "linecolor": "white",
             "minorgridcolor": "white",
             "startlinecolor": "#2a3f5f"
            },
            "baxis": {
             "endlinecolor": "#2a3f5f",
             "gridcolor": "white",
             "linecolor": "white",
             "minorgridcolor": "white",
             "startlinecolor": "#2a3f5f"
            },
            "type": "carpet"
           }
          ],
          "choropleth": [
           {
            "colorbar": {
             "outlinewidth": 0,
             "ticks": ""
            },
            "type": "choropleth"
           }
          ],
          "contour": [
           {
            "colorbar": {
             "outlinewidth": 0,
             "ticks": ""
            },
            "colorscale": [
             [
              0,
              "#0d0887"
             ],
             [
              0.1111111111111111,
              "#46039f"
             ],
             [
              0.2222222222222222,
              "#7201a8"
             ],
             [
              0.3333333333333333,
              "#9c179e"
             ],
             [
              0.4444444444444444,
              "#bd3786"
             ],
             [
              0.5555555555555556,
              "#d8576b"
             ],
             [
              0.6666666666666666,
              "#ed7953"
             ],
             [
              0.7777777777777778,
              "#fb9f3a"
             ],
             [
              0.8888888888888888,
              "#fdca26"
             ],
             [
              1,
              "#f0f921"
             ]
            ],
            "type": "contour"
           }
          ],
          "contourcarpet": [
           {
            "colorbar": {
             "outlinewidth": 0,
             "ticks": ""
            },
            "type": "contourcarpet"
           }
          ],
          "heatmap": [
           {
            "colorbar": {
             "outlinewidth": 0,
             "ticks": ""
            },
            "colorscale": [
             [
              0,
              "#0d0887"
             ],
             [
              0.1111111111111111,
              "#46039f"
             ],
             [
              0.2222222222222222,
              "#7201a8"
             ],
             [
              0.3333333333333333,
              "#9c179e"
             ],
             [
              0.4444444444444444,
              "#bd3786"
             ],
             [
              0.5555555555555556,
              "#d8576b"
             ],
             [
              0.6666666666666666,
              "#ed7953"
             ],
             [
              0.7777777777777778,
              "#fb9f3a"
             ],
             [
              0.8888888888888888,
              "#fdca26"
             ],
             [
              1,
              "#f0f921"
             ]
            ],
            "type": "heatmap"
           }
          ],
          "heatmapgl": [
           {
            "colorbar": {
             "outlinewidth": 0,
             "ticks": ""
            },
            "colorscale": [
             [
              0,
              "#0d0887"
             ],
             [
              0.1111111111111111,
              "#46039f"
             ],
             [
              0.2222222222222222,
              "#7201a8"
             ],
             [
              0.3333333333333333,
              "#9c179e"
             ],
             [
              0.4444444444444444,
              "#bd3786"
             ],
             [
              0.5555555555555556,
              "#d8576b"
             ],
             [
              0.6666666666666666,
              "#ed7953"
             ],
             [
              0.7777777777777778,
              "#fb9f3a"
             ],
             [
              0.8888888888888888,
              "#fdca26"
             ],
             [
              1,
              "#f0f921"
             ]
            ],
            "type": "heatmapgl"
           }
          ],
          "histogram": [
           {
            "marker": {
             "pattern": {
              "fillmode": "overlay",
              "size": 10,
              "solidity": 0.2
             }
            },
            "type": "histogram"
           }
          ],
          "histogram2d": [
           {
            "colorbar": {
             "outlinewidth": 0,
             "ticks": ""
            },
            "colorscale": [
             [
              0,
              "#0d0887"
             ],
             [
              0.1111111111111111,
              "#46039f"
             ],
             [
              0.2222222222222222,
              "#7201a8"
             ],
             [
              0.3333333333333333,
              "#9c179e"
             ],
             [
              0.4444444444444444,
              "#bd3786"
             ],
             [
              0.5555555555555556,
              "#d8576b"
             ],
             [
              0.6666666666666666,
              "#ed7953"
             ],
             [
              0.7777777777777778,
              "#fb9f3a"
             ],
             [
              0.8888888888888888,
              "#fdca26"
             ],
             [
              1,
              "#f0f921"
             ]
            ],
            "type": "histogram2d"
           }
          ],
          "histogram2dcontour": [
           {
            "colorbar": {
             "outlinewidth": 0,
             "ticks": ""
            },
            "colorscale": [
             [
              0,
              "#0d0887"
             ],
             [
              0.1111111111111111,
              "#46039f"
             ],
             [
              0.2222222222222222,
              "#7201a8"
             ],
             [
              0.3333333333333333,
              "#9c179e"
             ],
             [
              0.4444444444444444,
              "#bd3786"
             ],
             [
              0.5555555555555556,
              "#d8576b"
             ],
             [
              0.6666666666666666,
              "#ed7953"
             ],
             [
              0.7777777777777778,
              "#fb9f3a"
             ],
             [
              0.8888888888888888,
              "#fdca26"
             ],
             [
              1,
              "#f0f921"
             ]
            ],
            "type": "histogram2dcontour"
           }
          ],
          "mesh3d": [
           {
            "colorbar": {
             "outlinewidth": 0,
             "ticks": ""
            },
            "type": "mesh3d"
           }
          ],
          "parcoords": [
           {
            "line": {
             "colorbar": {
              "outlinewidth": 0,
              "ticks": ""
             }
            },
            "type": "parcoords"
           }
          ],
          "pie": [
           {
            "automargin": true,
            "type": "pie"
           }
          ],
          "scatter": [
           {
            "fillpattern": {
             "fillmode": "overlay",
             "size": 10,
             "solidity": 0.2
            },
            "type": "scatter"
           }
          ],
          "scatter3d": [
           {
            "line": {
             "colorbar": {
              "outlinewidth": 0,
              "ticks": ""
             }
            },
            "marker": {
             "colorbar": {
              "outlinewidth": 0,
              "ticks": ""
             }
            },
            "type": "scatter3d"
           }
          ],
          "scattercarpet": [
           {
            "marker": {
             "colorbar": {
              "outlinewidth": 0,
              "ticks": ""
             }
            },
            "type": "scattercarpet"
           }
          ],
          "scattergeo": [
           {
            "marker": {
             "colorbar": {
              "outlinewidth": 0,
              "ticks": ""
             }
            },
            "type": "scattergeo"
           }
          ],
          "scattergl": [
           {
            "marker": {
             "colorbar": {
              "outlinewidth": 0,
              "ticks": ""
             }
            },
            "type": "scattergl"
           }
          ],
          "scattermapbox": [
           {
            "marker": {
             "colorbar": {
              "outlinewidth": 0,
              "ticks": ""
             }
            },
            "type": "scattermapbox"
           }
          ],
          "scatterpolar": [
           {
            "marker": {
             "colorbar": {
              "outlinewidth": 0,
              "ticks": ""
             }
            },
            "type": "scatterpolar"
           }
          ],
          "scatterpolargl": [
           {
            "marker": {
             "colorbar": {
              "outlinewidth": 0,
              "ticks": ""
             }
            },
            "type": "scatterpolargl"
           }
          ],
          "scatterternary": [
           {
            "marker": {
             "colorbar": {
              "outlinewidth": 0,
              "ticks": ""
             }
            },
            "type": "scatterternary"
           }
          ],
          "surface": [
           {
            "colorbar": {
             "outlinewidth": 0,
             "ticks": ""
            },
            "colorscale": [
             [
              0,
              "#0d0887"
             ],
             [
              0.1111111111111111,
              "#46039f"
             ],
             [
              0.2222222222222222,
              "#7201a8"
             ],
             [
              0.3333333333333333,
              "#9c179e"
             ],
             [
              0.4444444444444444,
              "#bd3786"
             ],
             [
              0.5555555555555556,
              "#d8576b"
             ],
             [
              0.6666666666666666,
              "#ed7953"
             ],
             [
              0.7777777777777778,
              "#fb9f3a"
             ],
             [
              0.8888888888888888,
              "#fdca26"
             ],
             [
              1,
              "#f0f921"
             ]
            ],
            "type": "surface"
           }
          ],
          "table": [
           {
            "cells": {
             "fill": {
              "color": "#EBF0F8"
             },
             "line": {
              "color": "white"
             }
            },
            "header": {
             "fill": {
              "color": "#C8D4E3"
             },
             "line": {
              "color": "white"
             }
            },
            "type": "table"
           }
          ]
         },
         "layout": {
          "annotationdefaults": {
           "arrowcolor": "#2a3f5f",
           "arrowhead": 0,
           "arrowwidth": 1
          },
          "autotypenumbers": "strict",
          "coloraxis": {
           "colorbar": {
            "outlinewidth": 0,
            "ticks": ""
           }
          },
          "colorscale": {
           "diverging": [
            [
             0,
             "#8e0152"
            ],
            [
             0.1,
             "#c51b7d"
            ],
            [
             0.2,
             "#de77ae"
            ],
            [
             0.3,
             "#f1b6da"
            ],
            [
             0.4,
             "#fde0ef"
            ],
            [
             0.5,
             "#f7f7f7"
            ],
            [
             0.6,
             "#e6f5d0"
            ],
            [
             0.7,
             "#b8e186"
            ],
            [
             0.8,
             "#7fbc41"
            ],
            [
             0.9,
             "#4d9221"
            ],
            [
             1,
             "#276419"
            ]
           ],
           "sequential": [
            [
             0,
             "#0d0887"
            ],
            [
             0.1111111111111111,
             "#46039f"
            ],
            [
             0.2222222222222222,
             "#7201a8"
            ],
            [
             0.3333333333333333,
             "#9c179e"
            ],
            [
             0.4444444444444444,
             "#bd3786"
            ],
            [
             0.5555555555555556,
             "#d8576b"
            ],
            [
             0.6666666666666666,
             "#ed7953"
            ],
            [
             0.7777777777777778,
             "#fb9f3a"
            ],
            [
             0.8888888888888888,
             "#fdca26"
            ],
            [
             1,
             "#f0f921"
            ]
           ],
           "sequentialminus": [
            [
             0,
             "#0d0887"
            ],
            [
             0.1111111111111111,
             "#46039f"
            ],
            [
             0.2222222222222222,
             "#7201a8"
            ],
            [
             0.3333333333333333,
             "#9c179e"
            ],
            [
             0.4444444444444444,
             "#bd3786"
            ],
            [
             0.5555555555555556,
             "#d8576b"
            ],
            [
             0.6666666666666666,
             "#ed7953"
            ],
            [
             0.7777777777777778,
             "#fb9f3a"
            ],
            [
             0.8888888888888888,
             "#fdca26"
            ],
            [
             1,
             "#f0f921"
            ]
           ]
          },
          "colorway": [
           "#636efa",
           "#EF553B",
           "#00cc96",
           "#ab63fa",
           "#FFA15A",
           "#19d3f3",
           "#FF6692",
           "#B6E880",
           "#FF97FF",
           "#FECB52"
          ],
          "font": {
           "color": "#2a3f5f"
          },
          "geo": {
           "bgcolor": "white",
           "lakecolor": "white",
           "landcolor": "#E5ECF6",
           "showlakes": true,
           "showland": true,
           "subunitcolor": "white"
          },
          "hoverlabel": {
           "align": "left"
          },
          "hovermode": "closest",
          "mapbox": {
           "style": "light"
          },
          "paper_bgcolor": "white",
          "plot_bgcolor": "#E5ECF6",
          "polar": {
           "angularaxis": {
            "gridcolor": "white",
            "linecolor": "white",
            "ticks": ""
           },
           "bgcolor": "#E5ECF6",
           "radialaxis": {
            "gridcolor": "white",
            "linecolor": "white",
            "ticks": ""
           }
          },
          "scene": {
           "xaxis": {
            "backgroundcolor": "#E5ECF6",
            "gridcolor": "white",
            "gridwidth": 2,
            "linecolor": "white",
            "showbackground": true,
            "ticks": "",
            "zerolinecolor": "white"
           },
           "yaxis": {
            "backgroundcolor": "#E5ECF6",
            "gridcolor": "white",
            "gridwidth": 2,
            "linecolor": "white",
            "showbackground": true,
            "ticks": "",
            "zerolinecolor": "white"
           },
           "zaxis": {
            "backgroundcolor": "#E5ECF6",
            "gridcolor": "white",
            "gridwidth": 2,
            "linecolor": "white",
            "showbackground": true,
            "ticks": "",
            "zerolinecolor": "white"
           }
          },
          "shapedefaults": {
           "line": {
            "color": "#2a3f5f"
           }
          },
          "ternary": {
           "aaxis": {
            "gridcolor": "white",
            "linecolor": "white",
            "ticks": ""
           },
           "baxis": {
            "gridcolor": "white",
            "linecolor": "white",
            "ticks": ""
           },
           "bgcolor": "#E5ECF6",
           "caxis": {
            "gridcolor": "white",
            "linecolor": "white",
            "ticks": ""
           }
          },
          "title": {
           "x": 0.05
          },
          "xaxis": {
           "automargin": true,
           "gridcolor": "white",
           "linecolor": "white",
           "ticks": "",
           "title": {
            "standoff": 15
           },
           "zerolinecolor": "white",
           "zerolinewidth": 2
          },
          "yaxis": {
           "automargin": true,
           "gridcolor": "white",
           "linecolor": "white",
           "ticks": "",
           "title": {
            "standoff": 15
           },
           "zerolinecolor": "white",
           "zerolinewidth": 2
          }
         }
        },
        "width": 800,
        "xaxis": {
         "anchor": "y",
         "domain": [
          0,
          0.2125
         ],
         "title": {
          "text": "Python-Avg Salary"
         }
        },
        "xaxis10": {
         "anchor": "y10",
         "domain": [
          0.2625,
          0.475
         ],
         "title": {
          "text": "tensor-Avg Salary"
         }
        },
        "xaxis11": {
         "anchor": "y11",
         "domain": [
          0.525,
          0.7375
         ],
         "title": {
          "text": "hadoop-Avg Salary"
         }
        },
        "xaxis12": {
         "anchor": "y12",
         "domain": [
          0.7875,
          1
         ],
         "title": {
          "text": "tableau-Avg Salary"
         }
        },
        "xaxis13": {
         "anchor": "y13",
         "domain": [
          0,
          0.2125
         ],
         "title": {
          "text": "bi-Avg Salary"
         }
        },
        "xaxis14": {
         "anchor": "y14",
         "domain": [
          0.2625,
          0.475
         ],
         "title": {
          "text": "mongo-Avg Salary"
         }
        },
        "xaxis15": {
         "anchor": "y15",
         "domain": [
          0.525,
          0.7375
         ]
        },
        "xaxis16": {
         "anchor": "y16",
         "domain": [
          0.7875,
          1
         ]
        },
        "xaxis2": {
         "anchor": "y2",
         "domain": [
          0.2625,
          0.475
         ],
         "title": {
          "text": "spark-Avg Salary"
         }
        },
        "xaxis3": {
         "anchor": "y3",
         "domain": [
          0.525,
          0.7375
         ],
         "title": {
          "text": "aws-Avg Salary"
         }
        },
        "xaxis4": {
         "anchor": "y4",
         "domain": [
          0.7875,
          1
         ],
         "title": {
          "text": "excel-Avg Salary"
         }
        },
        "xaxis5": {
         "anchor": "y5",
         "domain": [
          0,
          0.2125
         ],
         "title": {
          "text": "sql-Avg Salary"
         }
        },
        "xaxis6": {
         "anchor": "y6",
         "domain": [
          0.2625,
          0.475
         ],
         "title": {
          "text": "sas-Avg Salary"
         }
        },
        "xaxis7": {
         "anchor": "y7",
         "domain": [
          0.525,
          0.7375
         ],
         "title": {
          "text": "keras-Avg Salary"
         }
        },
        "xaxis8": {
         "anchor": "y8",
         "domain": [
          0.7875,
          1
         ],
         "title": {
          "text": "pytorch-Avg Salary"
         }
        },
        "xaxis9": {
         "anchor": "y9",
         "domain": [
          0,
          0.2125
         ],
         "title": {
          "text": "scikit-Avg Salary"
         }
        },
        "yaxis": {
         "anchor": "x",
         "domain": [
          0.80625,
          1
         ]
        },
        "yaxis10": {
         "anchor": "x10",
         "domain": [
          0.26875,
          0.4625
         ],
         "matches": "y9",
         "showticklabels": false
        },
        "yaxis11": {
         "anchor": "x11",
         "domain": [
          0.26875,
          0.4625
         ],
         "matches": "y9",
         "showticklabels": false
        },
        "yaxis12": {
         "anchor": "x12",
         "domain": [
          0.26875,
          0.4625
         ],
         "matches": "y9",
         "showticklabels": false
        },
        "yaxis13": {
         "anchor": "x13",
         "domain": [
          0,
          0.19375
         ]
        },
        "yaxis14": {
         "anchor": "x14",
         "domain": [
          0,
          0.19375
         ],
         "matches": "y13",
         "showticklabels": false
        },
        "yaxis15": {
         "anchor": "x15",
         "domain": [
          0,
          0.19375
         ],
         "matches": "y13",
         "showticklabels": false
        },
        "yaxis16": {
         "anchor": "x16",
         "domain": [
          0,
          0.19375
         ],
         "matches": "y13",
         "showticklabels": false
        },
        "yaxis2": {
         "anchor": "x2",
         "domain": [
          0.80625,
          1
         ],
         "matches": "y",
         "showticklabels": false
        },
        "yaxis3": {
         "anchor": "x3",
         "domain": [
          0.80625,
          1
         ],
         "matches": "y",
         "showticklabels": false
        },
        "yaxis4": {
         "anchor": "x4",
         "domain": [
          0.80625,
          1
         ],
         "matches": "y",
         "showticklabels": false
        },
        "yaxis5": {
         "anchor": "x5",
         "domain": [
          0.5375,
          0.73125
         ]
        },
        "yaxis6": {
         "anchor": "x6",
         "domain": [
          0.5375,
          0.73125
         ],
         "matches": "y5",
         "showticklabels": false
        },
        "yaxis7": {
         "anchor": "x7",
         "domain": [
          0.5375,
          0.73125
         ],
         "matches": "y5",
         "showticklabels": false
        },
        "yaxis8": {
         "anchor": "x8",
         "domain": [
          0.5375,
          0.73125
         ],
         "matches": "y5",
         "showticklabels": false
        },
        "yaxis9": {
         "anchor": "x9",
         "domain": [
          0.26875,
          0.4625
         ]
        }
       }
      },
      "text/html": [
       "<div>                            <div id=\"4cf620f6-5964-4149-9733-2568a1533169\" class=\"plotly-graph-div\" style=\"height:1200px; width:800px;\"></div>            <script type=\"text/javascript\">                require([\"plotly\"], function(Plotly) {                    window.PLOTLYENV=window.PLOTLYENV || {};                                    if (document.getElementById(\"4cf620f6-5964-4149-9733-2568a1533169\")) {                    Plotly.newPlot(                        \"4cf620f6-5964-4149-9733-2568a1533169\",                        [{\"boxpoints\":\"all\",\"x\":[0,1,0,1,1,1,1,0,0,1,1,0,0,0,0,0,1,0,1,0,1,1,0,1,1,1,1,0,0,1,0,1,1,1,1,0,0,1,1,1,0,1,0,1,0,1,0,1,1,1,1,1,1,0,1,1,1,0,1,1,1,1,0,1,1,1,1,1,1,1,0,1,0,0,1],\"y\":[146.0,106.0,98.5,87.0,95.5,78.0,108.0,95.0,134.0,122.0,92.5,132.5,100.0,87.0,87.0,106.5,84.5,107.0,71.5,70.5,205.0,98.0,107.5,88.0,100.0,93.0,101.0,77.5,75.5,102.5,92.0,162.5,90.5,92.0,109.0,149.5,65.5,114.0,94.5,64.5,154.5,99.0,109.0,122.5,90.0,112.5,100.0,85.0,138.5,162.0,115.5,94.5,139.0,136.5,91.5,177.0,110.5,73.0,80.0,68.5,85.5,113.0,109.0,102.5,65.0,97.0,60.5,118.5,58.5,105.5,83.0,95.5,81.0,103.0,87.5],\"type\":\"box\",\"xaxis\":\"x\",\"yaxis\":\"y\"},{\"boxpoints\":\"all\",\"x\":[0,0,0,0,1,0,1,1,1,1,1,0,1,0,0,0,1,0,1,0,1,0,0,1,1,0,0,0,1,1,0,1,1,1,1,1,1,1,1,0,1,0,0,1,1,1,0,1,1,1,0,0,0,0,1,1,0,0,1,1,0,1,0,1,1,1,1,1,1,1,0,0,0,1,0],\"y\":[146.0,106.0,98.5,87.0,95.5,78.0,108.0,95.0,134.0,122.0,92.5,132.5,100.0,87.0,87.0,106.5,84.5,107.0,71.5,70.5,205.0,98.0,107.5,88.0,100.0,93.0,101.0,77.5,75.5,102.5,92.0,162.5,90.5,92.0,109.0,149.5,65.5,114.0,94.5,64.5,154.5,99.0,109.0,122.5,90.0,112.5,100.0,85.0,138.5,162.0,115.5,94.5,139.0,136.5,91.5,177.0,110.5,73.0,80.0,68.5,85.5,113.0,109.0,102.5,65.0,97.0,60.5,118.5,58.5,105.5,83.0,95.5,81.0,103.0,87.5],\"type\":\"box\",\"xaxis\":\"x2\",\"yaxis\":\"y2\"},{\"boxpoints\":\"all\",\"x\":[0,0,0,1,0,0,0,1,1,1,0,0,0,1,0,0,0,0,1,0,1,0,0,1,1,1,1,0,0,1,0,0,0,0,0,1,1,0,1,1,1,1,1,1,0,1,0,1,0,1,0,1,1,0,1,1,0,0,0,0,0,1,1,1,1,1,1,0,0,0,0,0,0,1,1],\"y\":[146.0,106.0,98.5,87.0,95.5,78.0,108.0,95.0,134.0,122.0,92.5,132.5,100.0,87.0,87.0,106.5,84.5,107.0,71.5,70.5,205.0,98.0,107.5,88.0,100.0,93.0,101.0,77.5,75.5,102.5,92.0,162.5,90.5,92.0,109.0,149.5,65.5,114.0,94.5,64.5,154.5,99.0,109.0,122.5,90.0,112.5,100.0,85.0,138.5,162.0,115.5,94.5,139.0,136.5,91.5,177.0,110.5,73.0,80.0,68.5,85.5,113.0,109.0,102.5,65.0,97.0,60.5,118.5,58.5,105.5,83.0,95.5,81.0,103.0,87.5],\"type\":\"box\",\"xaxis\":\"x3\",\"yaxis\":\"y3\"},{\"boxpoints\":\"all\",\"x\":[1,1,1,1,0,0,0,0,0,0,1,0,1,1,0,1,0,1,1,1,0,0,0,1,0,0,1,1,0,1,0,1,0,1,0,0,1,0,1,1,1,0,0,0,1,0,0,0,0,1,1,0,1,0,1,0,1,0,1,0,1,1,1,0,1,0,0,0,1,0,0,0,1,0,1],\"y\":[146.0,106.0,98.5,87.0,95.5,78.0,108.0,95.0,134.0,122.0,92.5,132.5,100.0,87.0,87.0,106.5,84.5,107.0,71.5,70.5,205.0,98.0,107.5,88.0,100.0,93.0,101.0,77.5,75.5,102.5,92.0,162.5,90.5,92.0,109.0,149.5,65.5,114.0,94.5,64.5,154.5,99.0,109.0,122.5,90.0,112.5,100.0,85.0,138.5,162.0,115.5,94.5,139.0,136.5,91.5,177.0,110.5,73.0,80.0,68.5,85.5,113.0,109.0,102.5,65.0,97.0,60.5,118.5,58.5,105.5,83.0,95.5,81.0,103.0,87.5],\"type\":\"box\",\"xaxis\":\"x4\",\"yaxis\":\"y4\"},{\"boxpoints\":\"all\",\"x\":[0,1,1,1,1,1,1,1,1,1,1,0,1,0,0,1,1,0,1,1,1,1,1,1,1,1,1,1,1,1,1,1,0,0,0,0,1,1,1,1,1,1,0,1,1,0,1,0,1,0,1,0,0,1,1,1,1,1,1,0,1,1,0,1,1,1,1,1,1,1,1,1,0,0,1],\"y\":[146.0,106.0,98.5,87.0,95.5,78.0,108.0,95.0,134.0,122.0,92.5,132.5,100.0,87.0,87.0,106.5,84.5,107.0,71.5,70.5,205.0,98.0,107.5,88.0,100.0,93.0,101.0,77.5,75.5,102.5,92.0,162.5,90.5,92.0,109.0,149.5,65.5,114.0,94.5,64.5,154.5,99.0,109.0,122.5,90.0,112.5,100.0,85.0,138.5,162.0,115.5,94.5,139.0,136.5,91.5,177.0,110.5,73.0,80.0,68.5,85.5,113.0,109.0,102.5,65.0,97.0,60.5,118.5,58.5,105.5,83.0,95.5,81.0,103.0,87.5],\"type\":\"box\",\"xaxis\":\"x5\",\"yaxis\":\"y5\"},{\"boxpoints\":\"all\",\"x\":[0,0,0,0,0,0,0,0,0,0,0,0,0,0,0,1,0,0,0,0,0,0,0,0,0,0,0,0,0,0,0,0,0,0,0,0,0,0,0,0,0,0,0,0,0,0,0,0,0,0,0,0,0,0,0,0,0,0,0,0,0,0,0,0,0,0,0,0,0,0,0,0,0,0,0],\"y\":[146.0,106.0,98.5,87.0,95.5,78.0,108.0,95.0,134.0,122.0,92.5,132.5,100.0,87.0,87.0,106.5,84.5,107.0,71.5,70.5,205.0,98.0,107.5,88.0,100.0,93.0,101.0,77.5,75.5,102.5,92.0,162.5,90.5,92.0,109.0,149.5,65.5,114.0,94.5,64.5,154.5,99.0,109.0,122.5,90.0,112.5,100.0,85.0,138.5,162.0,115.5,94.5,139.0,136.5,91.5,177.0,110.5,73.0,80.0,68.5,85.5,113.0,109.0,102.5,65.0,97.0,60.5,118.5,58.5,105.5,83.0,95.5,81.0,103.0,87.5],\"type\":\"box\",\"xaxis\":\"x6\",\"yaxis\":\"y6\"},{\"boxpoints\":\"all\",\"x\":[0,0,0,0,0,0,0,0,0,0,0,0,0,0,0,0,0,0,0,0,0,0,0,0,0,0,0,0,0,0,0,0,0,0,0,0,0,0,0,0,0,0,0,0,0,0,0,0,0,0,0,0,0,0,0,0,0,0,0,0,0,0,0,0,0,0,0,0,0,0,0,0,0,0,0],\"y\":[146.0,106.0,98.5,87.0,95.5,78.0,108.0,95.0,134.0,122.0,92.5,132.5,100.0,87.0,87.0,106.5,84.5,107.0,71.5,70.5,205.0,98.0,107.5,88.0,100.0,93.0,101.0,77.5,75.5,102.5,92.0,162.5,90.5,92.0,109.0,149.5,65.5,114.0,94.5,64.5,154.5,99.0,109.0,122.5,90.0,112.5,100.0,85.0,138.5,162.0,115.5,94.5,139.0,136.5,91.5,177.0,110.5,73.0,80.0,68.5,85.5,113.0,109.0,102.5,65.0,97.0,60.5,118.5,58.5,105.5,83.0,95.5,81.0,103.0,87.5],\"type\":\"box\",\"xaxis\":\"x7\",\"yaxis\":\"y7\"},{\"boxpoints\":\"all\",\"x\":[0,0,0,0,0,0,0,0,0,0,0,0,0,0,0,0,0,0,0,0,0,0,0,0,0,0,0,0,0,0,0,0,0,0,0,0,0,0,0,0,0,0,0,0,0,0,0,0,0,0,0,0,0,0,0,0,0,0,0,0,0,0,0,0,0,0,0,0,0,0,0,0,0,0,0],\"y\":[146.0,106.0,98.5,87.0,95.5,78.0,108.0,95.0,134.0,122.0,92.5,132.5,100.0,87.0,87.0,106.5,84.5,107.0,71.5,70.5,205.0,98.0,107.5,88.0,100.0,93.0,101.0,77.5,75.5,102.5,92.0,162.5,90.5,92.0,109.0,149.5,65.5,114.0,94.5,64.5,154.5,99.0,109.0,122.5,90.0,112.5,100.0,85.0,138.5,162.0,115.5,94.5,139.0,136.5,91.5,177.0,110.5,73.0,80.0,68.5,85.5,113.0,109.0,102.5,65.0,97.0,60.5,118.5,58.5,105.5,83.0,95.5,81.0,103.0,87.5],\"type\":\"box\",\"xaxis\":\"x8\",\"yaxis\":\"y8\"},{\"boxpoints\":\"all\",\"x\":[0,0,0,0,0,0,0,0,0,0,0,0,0,0,0,0,0,0,0,0,0,0,0,0,0,0,0,0,0,0,0,0,0,0,0,0,0,0,0,0,0,0,0,0,0,0,0,0,0,0,0,0,0,0,0,0,0,0,0,0,0,0,0,0,0,0,0,0,0,0,0,0,0,0,0],\"y\":[146.0,106.0,98.5,87.0,95.5,78.0,108.0,95.0,134.0,122.0,92.5,132.5,100.0,87.0,87.0,106.5,84.5,107.0,71.5,70.5,205.0,98.0,107.5,88.0,100.0,93.0,101.0,77.5,75.5,102.5,92.0,162.5,90.5,92.0,109.0,149.5,65.5,114.0,94.5,64.5,154.5,99.0,109.0,122.5,90.0,112.5,100.0,85.0,138.5,162.0,115.5,94.5,139.0,136.5,91.5,177.0,110.5,73.0,80.0,68.5,85.5,113.0,109.0,102.5,65.0,97.0,60.5,118.5,58.5,105.5,83.0,95.5,81.0,103.0,87.5],\"type\":\"box\",\"xaxis\":\"x9\",\"yaxis\":\"y9\"},{\"boxpoints\":\"all\",\"x\":[0,0,0,0,0,0,0,0,0,0,0,0,0,0,0,0,0,0,0,0,0,0,0,0,0,0,0,0,0,0,0,0,0,0,0,0,0,0,0,0,0,0,0,0,0,0,0,0,1,0,0,0,0,0,0,0,0,0,0,0,0,0,0,0,0,0,0,0,0,0,0,0,0,0,0],\"y\":[146.0,106.0,98.5,87.0,95.5,78.0,108.0,95.0,134.0,122.0,92.5,132.5,100.0,87.0,87.0,106.5,84.5,107.0,71.5,70.5,205.0,98.0,107.5,88.0,100.0,93.0,101.0,77.5,75.5,102.5,92.0,162.5,90.5,92.0,109.0,149.5,65.5,114.0,94.5,64.5,154.5,99.0,109.0,122.5,90.0,112.5,100.0,85.0,138.5,162.0,115.5,94.5,139.0,136.5,91.5,177.0,110.5,73.0,80.0,68.5,85.5,113.0,109.0,102.5,65.0,97.0,60.5,118.5,58.5,105.5,83.0,95.5,81.0,103.0,87.5],\"type\":\"box\",\"xaxis\":\"x10\",\"yaxis\":\"y10\"},{\"boxpoints\":\"all\",\"x\":[0,0,0,0,0,0,1,1,0,0,1,0,0,0,0,0,0,0,1,0,0,0,0,1,1,1,0,1,1,1,1,0,1,0,1,0,0,0,1,0,1,0,0,1,1,1,1,1,0,1,0,0,0,0,1,1,0,0,1,0,1,0,1,1,0,1,0,1,1,1,0,0,0,1,0],\"y\":[146.0,106.0,98.5,87.0,95.5,78.0,108.0,95.0,134.0,122.0,92.5,132.5,100.0,87.0,87.0,106.5,84.5,107.0,71.5,70.5,205.0,98.0,107.5,88.0,100.0,93.0,101.0,77.5,75.5,102.5,92.0,162.5,90.5,92.0,109.0,149.5,65.5,114.0,94.5,64.5,154.5,99.0,109.0,122.5,90.0,112.5,100.0,85.0,138.5,162.0,115.5,94.5,139.0,136.5,91.5,177.0,110.5,73.0,80.0,68.5,85.5,113.0,109.0,102.5,65.0,97.0,60.5,118.5,58.5,105.5,83.0,95.5,81.0,103.0,87.5],\"type\":\"box\",\"xaxis\":\"x11\",\"yaxis\":\"y11\"},{\"boxpoints\":\"all\",\"x\":[0,0,0,0,1,0,0,0,0,0,0,0,0,0,0,1,0,0,0,0,0,0,0,0,0,1,1,0,1,1,0,0,0,0,0,0,0,1,0,0,0,0,0,0,0,0,0,0,0,0,1,0,0,0,0,0,0,0,0,0,0,0,0,0,0,0,0,0,0,0,1,0,0,0,0],\"y\":[146.0,106.0,98.5,87.0,95.5,78.0,108.0,95.0,134.0,122.0,92.5,132.5,100.0,87.0,87.0,106.5,84.5,107.0,71.5,70.5,205.0,98.0,107.5,88.0,100.0,93.0,101.0,77.5,75.5,102.5,92.0,162.5,90.5,92.0,109.0,149.5,65.5,114.0,94.5,64.5,154.5,99.0,109.0,122.5,90.0,112.5,100.0,85.0,138.5,162.0,115.5,94.5,139.0,136.5,91.5,177.0,110.5,73.0,80.0,68.5,85.5,113.0,109.0,102.5,65.0,97.0,60.5,118.5,58.5,105.5,83.0,95.5,81.0,103.0,87.5],\"type\":\"box\",\"xaxis\":\"x12\",\"yaxis\":\"y12\"},{\"boxpoints\":\"all\",\"x\":[0,0,0,0,0,0,0,0,0,0,0,0,0,0,0,0,0,0,0,0,0,0,0,0,0,1,0,0,1,0,0,0,0,0,0,0,0,0,0,0,0,0,0,0,0,0,0,0,0,0,0,0,0,0,0,0,0,0,0,0,0,0,0,0,0,0,0,0,0,0,1,0,0,0,0],\"y\":[146.0,106.0,98.5,87.0,95.5,78.0,108.0,95.0,134.0,122.0,92.5,132.5,100.0,87.0,87.0,106.5,84.5,107.0,71.5,70.5,205.0,98.0,107.5,88.0,100.0,93.0,101.0,77.5,75.5,102.5,92.0,162.5,90.5,92.0,109.0,149.5,65.5,114.0,94.5,64.5,154.5,99.0,109.0,122.5,90.0,112.5,100.0,85.0,138.5,162.0,115.5,94.5,139.0,136.5,91.5,177.0,110.5,73.0,80.0,68.5,85.5,113.0,109.0,102.5,65.0,97.0,60.5,118.5,58.5,105.5,83.0,95.5,81.0,103.0,87.5],\"type\":\"box\",\"xaxis\":\"x13\",\"yaxis\":\"y13\"},{\"boxpoints\":\"all\",\"x\":[0,0,0,0,0,0,0,0,0,0,1,0,0,0,0,1,0,0,0,0,0,0,0,0,0,0,0,0,0,1,0,0,0,0,0,0,0,0,0,0,1,0,0,1,0,0,0,0,0,0,0,0,0,0,0,1,0,0,0,0,0,1,0,0,0,0,1,0,0,0,0,0,0,0,0],\"y\":[146.0,106.0,98.5,87.0,95.5,78.0,108.0,95.0,134.0,122.0,92.5,132.5,100.0,87.0,87.0,106.5,84.5,107.0,71.5,70.5,205.0,98.0,107.5,88.0,100.0,93.0,101.0,77.5,75.5,102.5,92.0,162.5,90.5,92.0,109.0,149.5,65.5,114.0,94.5,64.5,154.5,99.0,109.0,122.5,90.0,112.5,100.0,85.0,138.5,162.0,115.5,94.5,139.0,136.5,91.5,177.0,110.5,73.0,80.0,68.5,85.5,113.0,109.0,102.5,65.0,97.0,60.5,118.5,58.5,105.5,83.0,95.5,81.0,103.0,87.5],\"type\":\"box\",\"xaxis\":\"x14\",\"yaxis\":\"y14\"}],                        {\"template\":{\"data\":{\"histogram2dcontour\":[{\"type\":\"histogram2dcontour\",\"colorbar\":{\"outlinewidth\":0,\"ticks\":\"\"},\"colorscale\":[[0.0,\"#0d0887\"],[0.1111111111111111,\"#46039f\"],[0.2222222222222222,\"#7201a8\"],[0.3333333333333333,\"#9c179e\"],[0.4444444444444444,\"#bd3786\"],[0.5555555555555556,\"#d8576b\"],[0.6666666666666666,\"#ed7953\"],[0.7777777777777778,\"#fb9f3a\"],[0.8888888888888888,\"#fdca26\"],[1.0,\"#f0f921\"]]}],\"choropleth\":[{\"type\":\"choropleth\",\"colorbar\":{\"outlinewidth\":0,\"ticks\":\"\"}}],\"histogram2d\":[{\"type\":\"histogram2d\",\"colorbar\":{\"outlinewidth\":0,\"ticks\":\"\"},\"colorscale\":[[0.0,\"#0d0887\"],[0.1111111111111111,\"#46039f\"],[0.2222222222222222,\"#7201a8\"],[0.3333333333333333,\"#9c179e\"],[0.4444444444444444,\"#bd3786\"],[0.5555555555555556,\"#d8576b\"],[0.6666666666666666,\"#ed7953\"],[0.7777777777777778,\"#fb9f3a\"],[0.8888888888888888,\"#fdca26\"],[1.0,\"#f0f921\"]]}],\"heatmap\":[{\"type\":\"heatmap\",\"colorbar\":{\"outlinewidth\":0,\"ticks\":\"\"},\"colorscale\":[[0.0,\"#0d0887\"],[0.1111111111111111,\"#46039f\"],[0.2222222222222222,\"#7201a8\"],[0.3333333333333333,\"#9c179e\"],[0.4444444444444444,\"#bd3786\"],[0.5555555555555556,\"#d8576b\"],[0.6666666666666666,\"#ed7953\"],[0.7777777777777778,\"#fb9f3a\"],[0.8888888888888888,\"#fdca26\"],[1.0,\"#f0f921\"]]}],\"heatmapgl\":[{\"type\":\"heatmapgl\",\"colorbar\":{\"outlinewidth\":0,\"ticks\":\"\"},\"colorscale\":[[0.0,\"#0d0887\"],[0.1111111111111111,\"#46039f\"],[0.2222222222222222,\"#7201a8\"],[0.3333333333333333,\"#9c179e\"],[0.4444444444444444,\"#bd3786\"],[0.5555555555555556,\"#d8576b\"],[0.6666666666666666,\"#ed7953\"],[0.7777777777777778,\"#fb9f3a\"],[0.8888888888888888,\"#fdca26\"],[1.0,\"#f0f921\"]]}],\"contourcarpet\":[{\"type\":\"contourcarpet\",\"colorbar\":{\"outlinewidth\":0,\"ticks\":\"\"}}],\"contour\":[{\"type\":\"contour\",\"colorbar\":{\"outlinewidth\":0,\"ticks\":\"\"},\"colorscale\":[[0.0,\"#0d0887\"],[0.1111111111111111,\"#46039f\"],[0.2222222222222222,\"#7201a8\"],[0.3333333333333333,\"#9c179e\"],[0.4444444444444444,\"#bd3786\"],[0.5555555555555556,\"#d8576b\"],[0.6666666666666666,\"#ed7953\"],[0.7777777777777778,\"#fb9f3a\"],[0.8888888888888888,\"#fdca26\"],[1.0,\"#f0f921\"]]}],\"surface\":[{\"type\":\"surface\",\"colorbar\":{\"outlinewidth\":0,\"ticks\":\"\"},\"colorscale\":[[0.0,\"#0d0887\"],[0.1111111111111111,\"#46039f\"],[0.2222222222222222,\"#7201a8\"],[0.3333333333333333,\"#9c179e\"],[0.4444444444444444,\"#bd3786\"],[0.5555555555555556,\"#d8576b\"],[0.6666666666666666,\"#ed7953\"],[0.7777777777777778,\"#fb9f3a\"],[0.8888888888888888,\"#fdca26\"],[1.0,\"#f0f921\"]]}],\"mesh3d\":[{\"type\":\"mesh3d\",\"colorbar\":{\"outlinewidth\":0,\"ticks\":\"\"}}],\"scatter\":[{\"fillpattern\":{\"fillmode\":\"overlay\",\"size\":10,\"solidity\":0.2},\"type\":\"scatter\"}],\"parcoords\":[{\"type\":\"parcoords\",\"line\":{\"colorbar\":{\"outlinewidth\":0,\"ticks\":\"\"}}}],\"scatterpolargl\":[{\"type\":\"scatterpolargl\",\"marker\":{\"colorbar\":{\"outlinewidth\":0,\"ticks\":\"\"}}}],\"bar\":[{\"error_x\":{\"color\":\"#2a3f5f\"},\"error_y\":{\"color\":\"#2a3f5f\"},\"marker\":{\"line\":{\"color\":\"#E5ECF6\",\"width\":0.5},\"pattern\":{\"fillmode\":\"overlay\",\"size\":10,\"solidity\":0.2}},\"type\":\"bar\"}],\"scattergeo\":[{\"type\":\"scattergeo\",\"marker\":{\"colorbar\":{\"outlinewidth\":0,\"ticks\":\"\"}}}],\"scatterpolar\":[{\"type\":\"scatterpolar\",\"marker\":{\"colorbar\":{\"outlinewidth\":0,\"ticks\":\"\"}}}],\"histogram\":[{\"marker\":{\"pattern\":{\"fillmode\":\"overlay\",\"size\":10,\"solidity\":0.2}},\"type\":\"histogram\"}],\"scattergl\":[{\"type\":\"scattergl\",\"marker\":{\"colorbar\":{\"outlinewidth\":0,\"ticks\":\"\"}}}],\"scatter3d\":[{\"type\":\"scatter3d\",\"line\":{\"colorbar\":{\"outlinewidth\":0,\"ticks\":\"\"}},\"marker\":{\"colorbar\":{\"outlinewidth\":0,\"ticks\":\"\"}}}],\"scattermapbox\":[{\"type\":\"scattermapbox\",\"marker\":{\"colorbar\":{\"outlinewidth\":0,\"ticks\":\"\"}}}],\"scatterternary\":[{\"type\":\"scatterternary\",\"marker\":{\"colorbar\":{\"outlinewidth\":0,\"ticks\":\"\"}}}],\"scattercarpet\":[{\"type\":\"scattercarpet\",\"marker\":{\"colorbar\":{\"outlinewidth\":0,\"ticks\":\"\"}}}],\"carpet\":[{\"aaxis\":{\"endlinecolor\":\"#2a3f5f\",\"gridcolor\":\"white\",\"linecolor\":\"white\",\"minorgridcolor\":\"white\",\"startlinecolor\":\"#2a3f5f\"},\"baxis\":{\"endlinecolor\":\"#2a3f5f\",\"gridcolor\":\"white\",\"linecolor\":\"white\",\"minorgridcolor\":\"white\",\"startlinecolor\":\"#2a3f5f\"},\"type\":\"carpet\"}],\"table\":[{\"cells\":{\"fill\":{\"color\":\"#EBF0F8\"},\"line\":{\"color\":\"white\"}},\"header\":{\"fill\":{\"color\":\"#C8D4E3\"},\"line\":{\"color\":\"white\"}},\"type\":\"table\"}],\"barpolar\":[{\"marker\":{\"line\":{\"color\":\"#E5ECF6\",\"width\":0.5},\"pattern\":{\"fillmode\":\"overlay\",\"size\":10,\"solidity\":0.2}},\"type\":\"barpolar\"}],\"pie\":[{\"automargin\":true,\"type\":\"pie\"}]},\"layout\":{\"autotypenumbers\":\"strict\",\"colorway\":[\"#636efa\",\"#EF553B\",\"#00cc96\",\"#ab63fa\",\"#FFA15A\",\"#19d3f3\",\"#FF6692\",\"#B6E880\",\"#FF97FF\",\"#FECB52\"],\"font\":{\"color\":\"#2a3f5f\"},\"hovermode\":\"closest\",\"hoverlabel\":{\"align\":\"left\"},\"paper_bgcolor\":\"white\",\"plot_bgcolor\":\"#E5ECF6\",\"polar\":{\"bgcolor\":\"#E5ECF6\",\"angularaxis\":{\"gridcolor\":\"white\",\"linecolor\":\"white\",\"ticks\":\"\"},\"radialaxis\":{\"gridcolor\":\"white\",\"linecolor\":\"white\",\"ticks\":\"\"}},\"ternary\":{\"bgcolor\":\"#E5ECF6\",\"aaxis\":{\"gridcolor\":\"white\",\"linecolor\":\"white\",\"ticks\":\"\"},\"baxis\":{\"gridcolor\":\"white\",\"linecolor\":\"white\",\"ticks\":\"\"},\"caxis\":{\"gridcolor\":\"white\",\"linecolor\":\"white\",\"ticks\":\"\"}},\"coloraxis\":{\"colorbar\":{\"outlinewidth\":0,\"ticks\":\"\"}},\"colorscale\":{\"sequential\":[[0.0,\"#0d0887\"],[0.1111111111111111,\"#46039f\"],[0.2222222222222222,\"#7201a8\"],[0.3333333333333333,\"#9c179e\"],[0.4444444444444444,\"#bd3786\"],[0.5555555555555556,\"#d8576b\"],[0.6666666666666666,\"#ed7953\"],[0.7777777777777778,\"#fb9f3a\"],[0.8888888888888888,\"#fdca26\"],[1.0,\"#f0f921\"]],\"sequentialminus\":[[0.0,\"#0d0887\"],[0.1111111111111111,\"#46039f\"],[0.2222222222222222,\"#7201a8\"],[0.3333333333333333,\"#9c179e\"],[0.4444444444444444,\"#bd3786\"],[0.5555555555555556,\"#d8576b\"],[0.6666666666666666,\"#ed7953\"],[0.7777777777777778,\"#fb9f3a\"],[0.8888888888888888,\"#fdca26\"],[1.0,\"#f0f921\"]],\"diverging\":[[0,\"#8e0152\"],[0.1,\"#c51b7d\"],[0.2,\"#de77ae\"],[0.3,\"#f1b6da\"],[0.4,\"#fde0ef\"],[0.5,\"#f7f7f7\"],[0.6,\"#e6f5d0\"],[0.7,\"#b8e186\"],[0.8,\"#7fbc41\"],[0.9,\"#4d9221\"],[1,\"#276419\"]]},\"xaxis\":{\"gridcolor\":\"white\",\"linecolor\":\"white\",\"ticks\":\"\",\"title\":{\"standoff\":15},\"zerolinecolor\":\"white\",\"automargin\":true,\"zerolinewidth\":2},\"yaxis\":{\"gridcolor\":\"white\",\"linecolor\":\"white\",\"ticks\":\"\",\"title\":{\"standoff\":15},\"zerolinecolor\":\"white\",\"automargin\":true,\"zerolinewidth\":2},\"scene\":{\"xaxis\":{\"backgroundcolor\":\"#E5ECF6\",\"gridcolor\":\"white\",\"linecolor\":\"white\",\"showbackground\":true,\"ticks\":\"\",\"zerolinecolor\":\"white\",\"gridwidth\":2},\"yaxis\":{\"backgroundcolor\":\"#E5ECF6\",\"gridcolor\":\"white\",\"linecolor\":\"white\",\"showbackground\":true,\"ticks\":\"\",\"zerolinecolor\":\"white\",\"gridwidth\":2},\"zaxis\":{\"backgroundcolor\":\"#E5ECF6\",\"gridcolor\":\"white\",\"linecolor\":\"white\",\"showbackground\":true,\"ticks\":\"\",\"zerolinecolor\":\"white\",\"gridwidth\":2}},\"shapedefaults\":{\"line\":{\"color\":\"#2a3f5f\"}},\"annotationdefaults\":{\"arrowcolor\":\"#2a3f5f\",\"arrowhead\":0,\"arrowwidth\":1},\"geo\":{\"bgcolor\":\"white\",\"landcolor\":\"#E5ECF6\",\"subunitcolor\":\"white\",\"showland\":true,\"showlakes\":true,\"lakecolor\":\"white\"},\"title\":{\"x\":0.05},\"mapbox\":{\"style\":\"light\"}}},\"xaxis\":{\"anchor\":\"y\",\"domain\":[0.0,0.2125],\"title\":{\"text\":\"Python-Avg Salary\"}},\"yaxis\":{\"anchor\":\"x\",\"domain\":[0.80625,1.0]},\"xaxis2\":{\"anchor\":\"y2\",\"domain\":[0.2625,0.475],\"title\":{\"text\":\"spark-Avg Salary\"}},\"yaxis2\":{\"anchor\":\"x2\",\"domain\":[0.80625,1.0],\"matches\":\"y\",\"showticklabels\":false},\"xaxis3\":{\"anchor\":\"y3\",\"domain\":[0.525,0.7375],\"title\":{\"text\":\"aws-Avg Salary\"}},\"yaxis3\":{\"anchor\":\"x3\",\"domain\":[0.80625,1.0],\"matches\":\"y\",\"showticklabels\":false},\"xaxis4\":{\"anchor\":\"y4\",\"domain\":[0.7875,1.0],\"title\":{\"text\":\"excel-Avg Salary\"}},\"yaxis4\":{\"anchor\":\"x4\",\"domain\":[0.80625,1.0],\"matches\":\"y\",\"showticklabels\":false},\"xaxis5\":{\"anchor\":\"y5\",\"domain\":[0.0,0.2125],\"title\":{\"text\":\"sql-Avg Salary\"}},\"yaxis5\":{\"anchor\":\"x5\",\"domain\":[0.5375,0.73125]},\"xaxis6\":{\"anchor\":\"y6\",\"domain\":[0.2625,0.475],\"title\":{\"text\":\"sas-Avg Salary\"}},\"yaxis6\":{\"anchor\":\"x6\",\"domain\":[0.5375,0.73125],\"matches\":\"y5\",\"showticklabels\":false},\"xaxis7\":{\"anchor\":\"y7\",\"domain\":[0.525,0.7375],\"title\":{\"text\":\"keras-Avg Salary\"}},\"yaxis7\":{\"anchor\":\"x7\",\"domain\":[0.5375,0.73125],\"matches\":\"y5\",\"showticklabels\":false},\"xaxis8\":{\"anchor\":\"y8\",\"domain\":[0.7875,1.0],\"title\":{\"text\":\"pytorch-Avg Salary\"}},\"yaxis8\":{\"anchor\":\"x8\",\"domain\":[0.5375,0.73125],\"matches\":\"y5\",\"showticklabels\":false},\"xaxis9\":{\"anchor\":\"y9\",\"domain\":[0.0,0.2125],\"title\":{\"text\":\"scikit-Avg Salary\"}},\"yaxis9\":{\"anchor\":\"x9\",\"domain\":[0.26875,0.4625]},\"xaxis10\":{\"anchor\":\"y10\",\"domain\":[0.2625,0.475],\"title\":{\"text\":\"tensor-Avg Salary\"}},\"yaxis10\":{\"anchor\":\"x10\",\"domain\":[0.26875,0.4625],\"matches\":\"y9\",\"showticklabels\":false},\"xaxis11\":{\"anchor\":\"y11\",\"domain\":[0.525,0.7375],\"title\":{\"text\":\"hadoop-Avg Salary\"}},\"yaxis11\":{\"anchor\":\"x11\",\"domain\":[0.26875,0.4625],\"matches\":\"y9\",\"showticklabels\":false},\"xaxis12\":{\"anchor\":\"y12\",\"domain\":[0.7875,1.0],\"title\":{\"text\":\"tableau-Avg Salary\"}},\"yaxis12\":{\"anchor\":\"x12\",\"domain\":[0.26875,0.4625],\"matches\":\"y9\",\"showticklabels\":false},\"xaxis13\":{\"anchor\":\"y13\",\"domain\":[0.0,0.2125],\"title\":{\"text\":\"bi-Avg Salary\"}},\"yaxis13\":{\"anchor\":\"x13\",\"domain\":[0.0,0.19375]},\"xaxis14\":{\"anchor\":\"y14\",\"domain\":[0.2625,0.475],\"title\":{\"text\":\"mongo-Avg Salary\"}},\"yaxis14\":{\"anchor\":\"x14\",\"domain\":[0.0,0.19375],\"matches\":\"y13\",\"showticklabels\":false},\"xaxis15\":{\"anchor\":\"y15\",\"domain\":[0.525,0.7375]},\"yaxis15\":{\"anchor\":\"x15\",\"domain\":[0.0,0.19375],\"matches\":\"y13\",\"showticklabels\":false},\"xaxis16\":{\"anchor\":\"y16\",\"domain\":[0.7875,1.0]},\"yaxis16\":{\"anchor\":\"x16\",\"domain\":[0.0,0.19375],\"matches\":\"y13\",\"showticklabels\":false},\"height\":1200,\"width\":800},                        {\"responsive\": true}                    ).then(function(){\n",
       "                            \n",
       "var gd = document.getElementById('4cf620f6-5964-4149-9733-2568a1533169');\n",
       "var x = new MutationObserver(function (mutations, observer) {{\n",
       "        var display = window.getComputedStyle(gd).display;\n",
       "        if (!display || display === 'none') {{\n",
       "            console.log([gd, 'removed!']);\n",
       "            Plotly.purge(gd);\n",
       "            observer.disconnect();\n",
       "        }}\n",
       "}});\n",
       "\n",
       "// Listen for the removal of the full notebook cells\n",
       "var notebookContainer = gd.closest('#notebook-container');\n",
       "if (notebookContainer) {{\n",
       "    x.observe(notebookContainer, {childList: true});\n",
       "}}\n",
       "\n",
       "// Listen for the clearing of the current output cell\n",
       "var outputEl = gd.closest('.output');\n",
       "if (outputEl) {{\n",
       "    x.observe(outputEl, {childList: true});\n",
       "}}\n",
       "\n",
       "                        })                };                });            </script>        </div>"
      ]
     },
     "metadata": {},
     "output_type": "display_data"
    }
   ],
   "source": [
    "# fig1 = px.violin(df_pysal, y='Avg Salary(K)', color='Python', violinmode='overlay', title='Python-Avg Salary', width=500)\n",
    "# fig1.show()\n",
    "\n",
    "fig = make_subplots(rows=4, cols=4, shared_yaxes=True)\n",
    "df_de = df_sub[df_sub['Job']=='data engineer']\n",
    "\n",
    "fig.add_trace(\n",
    "    go.Box(x=df_de['Python'], y=df_de['Avg Salary(K)'], boxpoints='all'),\n",
    "    row=1, col=1\n",
    ")\n",
    "fig.update_xaxes(title_text=\"Python-Avg Salary\", row=1, col=1)\n",
    "\n",
    "fig.add_trace(\n",
    "    go.Box(x=df_de['spark'], y=df_de['Avg Salary(K)'], boxpoints='all'),\n",
    "    row=1, col=2\n",
    ")\n",
    "fig.update_xaxes(title_text=\"spark-Avg Salary\", row=1, col=2)\n",
    "\n",
    "fig.add_trace(\n",
    "    go.Box(x=df_de['aws'], y=df_de['Avg Salary(K)'], boxpoints='all'),\n",
    "    row=1, col=3\n",
    ")\n",
    "fig.update_xaxes(title_text=\"aws-Avg Salary\", row=1, col=3)\n",
    "\n",
    "fig.add_trace(\n",
    "    go.Box(x=df_de['excel'], y=df_de['Avg Salary(K)'], boxpoints='all'),\n",
    "    row=1, col=4\n",
    ")\n",
    "fig.update_xaxes(title_text=\"excel-Avg Salary\", row=1, col=4)\n",
    "\n",
    "fig.add_trace(\n",
    "    go.Box(x=df_de['sql'], y=df_de['Avg Salary(K)'], boxpoints='all'),\n",
    "    row=2, col=1\n",
    ")\n",
    "fig.update_xaxes(title_text=\"sql-Avg Salary\", row=2, col=1)\n",
    "\n",
    "fig.add_trace(\n",
    "    go.Box(x=df_de['sas'], y=df_de['Avg Salary(K)'], boxpoints='all'),\n",
    "    row=2, col=2\n",
    ")\n",
    "fig.update_xaxes(title_text=\"sas-Avg Salary\", row=2, col=2)\n",
    "\n",
    "fig.add_trace(\n",
    "    go.Box(x=df_de['keras'], y=df_de['Avg Salary(K)'], boxpoints='all'),\n",
    "    row=2, col=3\n",
    ")\n",
    "fig.update_xaxes(title_text=\"keras-Avg Salary\", row=2, col=3)\n",
    "\n",
    "fig.add_trace(\n",
    "    go.Box(x=df_de['pytorch'], y=df_de['Avg Salary(K)'], boxpoints='all'),\n",
    "    row=2, col=4\n",
    ")\n",
    "fig.update_xaxes(title_text=\"pytorch-Avg Salary\", row=2, col=4)\n",
    "\n",
    "fig.add_trace(\n",
    "    go.Box(x=df_de['scikit'], y=df_de['Avg Salary(K)'], boxpoints='all'),\n",
    "    row=3, col=1\n",
    ")\n",
    "fig.update_xaxes(title_text=\"scikit-Avg Salary\", row=3, col=1)\n",
    "\n",
    "fig.add_trace(\n",
    "    go.Box(x=df_de['tensor'], y=df_de['Avg Salary(K)'], boxpoints='all'),\n",
    "    row=3, col=2\n",
    ")\n",
    "fig.update_xaxes(title_text=\"tensor-Avg Salary\", row=3, col=2)\n",
    "\n",
    "fig.add_trace(\n",
    "    go.Box(x=df_de['hadoop'], y=df_de['Avg Salary(K)'], boxpoints='all'),\n",
    "    row=3, col=3\n",
    ")\n",
    "fig.update_xaxes(title_text=\"hadoop-Avg Salary\", row=3, col=3)\n",
    "\n",
    "fig.add_trace(\n",
    "    go.Box(x=df_de['tableau'], y=df_de['Avg Salary(K)'], boxpoints='all'),\n",
    "    row=3, col=4\n",
    ")\n",
    "fig.update_xaxes(title_text=\"tableau-Avg Salary\", row=3, col=4)\n",
    "\n",
    "fig.add_trace(\n",
    "    go.Box(x=df_de['bi'], y=df_de['Avg Salary(K)'], boxpoints='all'),\n",
    "    row=4, col=1\n",
    ")\n",
    "fig.update_xaxes(title_text=\"bi-Avg Salary\", row=4, col=1)\n",
    "\n",
    "\n",
    "fig.add_trace(\n",
    "    go.Box(x=df_de['mongo'], y=df_de['Avg Salary(K)'], boxpoints='all'),\n",
    "    row=4, col=2\n",
    ")\n",
    "fig.update_xaxes(title_text=\"mongo-Avg Salary\", row=4, col=2)\n",
    "\n",
    "\n",
    "fig.update_layout(height=1200, width=800)\n",
    "\n",
    "fig.show()"
   ]
  },
  {
   "cell_type": "markdown",
   "id": "5f2545e9-4a4c-401b-b859-2093919630dd",
   "metadata": {
    "tags": []
   },
   "source": [
    "---\n",
    "## PART 4. Design Proposal of Data Storytelling"
   ]
  },
  {
   "cell_type": "markdown",
   "id": "0f0debea-c300-43e6-a429-0783202a63fd",
   "metadata": {},
   "source": [
    "## Instruction (You may delete this cell before submission)\n",
    "In this section you propose a data story based on your findings from EDA. You may choose one of the following types:\n",
    "\n",
    "- Infographics\n",
    "    - You can create an illustrative poster of any size (preferrable larger than A3) that contains multiple static charts. Those charts do not need to be directly drawn with Plotly. Instead, you might want to redraw them with graphic tools (e.g. Illustrator, Figma) A good infographic should communicate not only factual findings but also a specific message for a specific group of people.  \n",
    "- Dashboard\n",
    "    - Since interactivity is the key element of dashboard, your proposal should be clear about target user (who will use it), and task (types of findings they will get from your dashboard). \n",
    "- Data Video\n",
    "    - Like infographics, data videos might have clear communication goals. However, you may focus on animated chart elements and transitions between scenes.\n",
    "- Product\n",
    "    - You may propose a new product or a feature of an existing product(s) that employs charts that you create. To propose a product, you should design UI, which will be used by specific target users in a specific context.\n",
    "    \n",
    "You describe your design proposal in any form (e.g. text, hand-drawn sketch, Figma layout)"
   ]
  },
  {
   "cell_type": "markdown",
   "id": "cd7cfab8-3780-4e08-a9b6-e61274352442",
   "metadata": {},
   "source": [
    "## Title of your story (REPLACE ME)"
   ]
  },
  {
   "cell_type": "markdown",
   "id": "e53cb907-c8b2-43f2-b89b-21a66edd4aad",
   "metadata": {},
   "source": [
    "Introduce your data story here"
   ]
  },
  {
   "cell_type": "markdown",
   "id": "6288b17c-c493-4cdf-9e39-b726e0cdbc38",
   "metadata": {},
   "source": [
    "### Target User / Audience"
   ]
  },
  {
   "cell_type": "markdown",
   "id": "c18562ec-4864-4644-833d-3180c29680f1",
   "metadata": {},
   "source": [
    "Describe who will use / read / watch your story here"
   ]
  },
  {
   "cell_type": "markdown",
   "id": "8e5a4530-7bc5-4bf0-b207-bd946b76f504",
   "metadata": {},
   "source": [
    "### Design Goal"
   ]
  },
  {
   "cell_type": "markdown",
   "id": "6a4e26ae-093a-4da2-be7b-e0d7fdec9c98",
   "metadata": {},
   "source": [
    "Describe communication goals, intended messages, usecases, or any other form of goal that you want to achieve with your story here  "
   ]
  },
  {
   "cell_type": "markdown",
   "id": "09510377-2de6-4782-bd31-584c706bd093",
   "metadata": {},
   "source": [
    "### Rough Sketch"
   ]
  },
  {
   "cell_type": "markdown",
   "id": "c96bbac2-2d72-40be-9165-a3d6501802a1",
   "metadata": {},
   "source": [
    "Describe details; Add hand-drawn rough sketches or whatever materials here to preview details of your story here"
   ]
  },
  {
   "cell_type": "markdown",
   "id": "61587750-7ec0-40a0-95e1-36f7ae937d9f",
   "metadata": {},
   "source": [
    "---\n",
    "# Well done! Submit completed notebook on KLMS. You will be asked to present your notebook to other students during a class. "
   ]
  }
 ],
 "metadata": {
  "kernelspec": {
   "display_name": "Python 3 (ipykernel)",
   "language": "python",
   "name": "python3"
  },
  "language_info": {
   "codemirror_mode": {
    "name": "ipython",
    "version": 3
   },
   "file_extension": ".py",
   "mimetype": "text/x-python",
   "name": "python",
   "nbconvert_exporter": "python",
   "pygments_lexer": "ipython3",
   "version": "3.9.6"
  }
 },
 "nbformat": 4,
 "nbformat_minor": 5
}
